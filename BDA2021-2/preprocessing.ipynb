{
 "cells": [
  {
   "cell_type": "markdown",
   "id": "fe4aaee0",
   "metadata": {},
   "source": [
    "# 데이터 전처리"
   ]
  },
  {
   "cell_type": "markdown",
   "id": "8d490c9c",
   "metadata": {},
   "source": [
    "## 데이터 전처리의 주요 작업\n",
    "- 데이터 정제(cleaning)\n",
    "    - 결측치(missing values)의 파악과 채워 넣기\n",
    "    - 이상치(outliers)를 식별하여 필요한 경우 제거하기\n",
    "    - 불일치(discrepancies)를 해소하기\n",
    "        - 잘못된 대답 등\n",
    "- 데이터 통합(integration)\n",
    "    - 다수의 데이터베이스와 데이터 큐브, 혹은 파일들의 통합\n",
    "    - 개체 식별의 문제 : 스키마 통합시 메타데이터를 사용하여 객체 매칭 작업\n",
    "        - ex) A파일 x변수명 : 'sex' / B파일 x 변수명 : 'gender'\n",
    "- 데이터 변환(transformation)\n",
    "    - 연속형 변수 : 데이터가 일정 구간에 속하도록 정규화(normalization)\n",
    "    - 범주형 변수 : 문자열은 수치로 코딩, 원-핫-인코딩(one-hot-encoding)\n",
    "    - 훈련 데이터와 테스트 데이터 모두에 동일한 변환을 적용해야 함\n",
    "- 데이터 축소(reduction)\n",
    "    - 거의 동일한 분석 결과를 주는 범위 내에서 데이터 양을 추곳\n",
    "    - 차원 축소(dimension reduction)\n",
    "    - 데이터 이산화(discretization)"
   ]
  },
  {
   "cell_type": "markdown",
   "id": "b38823e5",
   "metadata": {},
   "source": [
    "# 범주형 데이터 다루기"
   ]
  },
  {
   "cell_type": "markdown",
   "id": "aa7f2679",
   "metadata": {},
   "source": [
    "## 범주형 변수의 유형\n",
    "- 학습 알고리즘의 입력으로 사용하기 위해서는 문자열을 정수로 변환하여야 함\n",
    "- 범주형 : 순서형(ordinal) vs 명목형(nomial)\n",
    "- sklearn 형태\n",
    "    - 추정기(estimator) : LogisticRegression, SVC, ......\n",
    "        - fit -> predict -> score 메서드\n",
    "    - 변환기(transtormer) : LabelEncoder, StandardScaler, ...\n",
    "        - fit -> fransform 메서드\n",
    "        - 아니면 fit_tramsform 메서드"
   ]
  },
  {
   "cell_type": "code",
   "execution_count": 1,
   "id": "3b051005",
   "metadata": {},
   "outputs": [
    {
     "data": {
      "text/html": [
       "<div>\n",
       "<style scoped>\n",
       "    .dataframe tbody tr th:only-of-type {\n",
       "        vertical-align: middle;\n",
       "    }\n",
       "\n",
       "    .dataframe tbody tr th {\n",
       "        vertical-align: top;\n",
       "    }\n",
       "\n",
       "    .dataframe thead th {\n",
       "        text-align: right;\n",
       "    }\n",
       "</style>\n",
       "<table border=\"1\" class=\"dataframe\">\n",
       "  <thead>\n",
       "    <tr style=\"text-align: right;\">\n",
       "      <th></th>\n",
       "      <th>color</th>\n",
       "      <th>size</th>\n",
       "      <th>price</th>\n",
       "      <th>label</th>\n",
       "    </tr>\n",
       "  </thead>\n",
       "  <tbody>\n",
       "    <tr>\n",
       "      <th>0</th>\n",
       "      <td>green</td>\n",
       "      <td>L</td>\n",
       "      <td>10.1</td>\n",
       "      <td>yes</td>\n",
       "    </tr>\n",
       "    <tr>\n",
       "      <th>1</th>\n",
       "      <td>green</td>\n",
       "      <td>M</td>\n",
       "      <td>13.5</td>\n",
       "      <td>no</td>\n",
       "    </tr>\n",
       "    <tr>\n",
       "      <th>2</th>\n",
       "      <td>red</td>\n",
       "      <td>XL</td>\n",
       "      <td>15.3</td>\n",
       "      <td>yes</td>\n",
       "    </tr>\n",
       "    <tr>\n",
       "      <th>3</th>\n",
       "      <td>blue</td>\n",
       "      <td>S</td>\n",
       "      <td>12.7</td>\n",
       "      <td>yes</td>\n",
       "    </tr>\n",
       "  </tbody>\n",
       "</table>\n",
       "</div>"
      ],
      "text/plain": [
       "   color size  price label\n",
       "0  green    L   10.1   yes\n",
       "1  green    M   13.5    no\n",
       "2    red   XL   15.3   yes\n",
       "3   blue    S   12.7   yes"
      ]
     },
     "execution_count": 1,
     "metadata": {},
     "output_type": "execute_result"
    }
   ],
   "source": [
    "import pandas as pd\n",
    "import numpy as np\n",
    "\n",
    "df = pd.DataFrame([\n",
    "    ['green', 'L', 10.1, 'yes'],\n",
    "    ['green', 'M', 13.5, 'no'],\n",
    "    ['red', 'XL', 15.3, 'yes'],\n",
    "    ['blue', 'S', 12.7, 'yes']\n",
    "])\n",
    "# 명목, 순서, 수치, 명목\n",
    "df.columns = ['color', 'size', 'price', 'label']\n",
    "df"
   ]
  },
  {
   "cell_type": "code",
   "execution_count": 2,
   "id": "0d6273d6",
   "metadata": {},
   "outputs": [
    {
     "data": {
      "text/html": [
       "<div>\n",
       "<style scoped>\n",
       "    .dataframe tbody tr th:only-of-type {\n",
       "        vertical-align: middle;\n",
       "    }\n",
       "\n",
       "    .dataframe tbody tr th {\n",
       "        vertical-align: top;\n",
       "    }\n",
       "\n",
       "    .dataframe thead th {\n",
       "        text-align: right;\n",
       "    }\n",
       "</style>\n",
       "<table border=\"1\" class=\"dataframe\">\n",
       "  <thead>\n",
       "    <tr style=\"text-align: right;\">\n",
       "      <th></th>\n",
       "      <th>color</th>\n",
       "      <th>size</th>\n",
       "      <th>price</th>\n",
       "    </tr>\n",
       "  </thead>\n",
       "  <tbody>\n",
       "    <tr>\n",
       "      <th>0</th>\n",
       "      <td>green</td>\n",
       "      <td>L</td>\n",
       "      <td>10.1</td>\n",
       "    </tr>\n",
       "    <tr>\n",
       "      <th>1</th>\n",
       "      <td>green</td>\n",
       "      <td>M</td>\n",
       "      <td>13.5</td>\n",
       "    </tr>\n",
       "    <tr>\n",
       "      <th>2</th>\n",
       "      <td>red</td>\n",
       "      <td>XL</td>\n",
       "      <td>15.3</td>\n",
       "    </tr>\n",
       "    <tr>\n",
       "      <th>3</th>\n",
       "      <td>blue</td>\n",
       "      <td>S</td>\n",
       "      <td>12.7</td>\n",
       "    </tr>\n",
       "  </tbody>\n",
       "</table>\n",
       "</div>"
      ],
      "text/plain": [
       "   color size  price\n",
       "0  green    L   10.1\n",
       "1  green    M   13.5\n",
       "2    red   XL   15.3\n",
       "3   blue    S   12.7"
      ]
     },
     "execution_count": 2,
     "metadata": {},
     "output_type": "execute_result"
    }
   ],
   "source": [
    "X = df.drop('label', axis = 1)\n",
    "X"
   ]
  },
  {
   "cell_type": "code",
   "execution_count": 20,
   "id": "016dc72d",
   "metadata": {},
   "outputs": [
    {
     "data": {
      "text/plain": [
       "0    yes\n",
       "1     no\n",
       "2    yes\n",
       "3    yes\n",
       "Name: label, dtype: object"
      ]
     },
     "execution_count": 20,
     "metadata": {},
     "output_type": "execute_result"
    }
   ],
   "source": [
    "y = df.label\n",
    "y"
   ]
  },
  {
   "cell_type": "markdown",
   "id": "abb5756e",
   "metadata": {},
   "source": [
    "#### 타겟이 명목형인 경우 인코딩"
   ]
  },
  {
   "cell_type": "code",
   "execution_count": 21,
   "id": "f628bec1",
   "metadata": {},
   "outputs": [
    {
     "data": {
      "text/plain": [
       "array(['no', 'yes'], dtype=object)"
      ]
     },
     "execution_count": 21,
     "metadata": {},
     "output_type": "execute_result"
    }
   ],
   "source": [
    "# 타겟이 명목형, 인코딩(1)\n",
    "from sklearn.preprocessing import LabelEncoder\n",
    "\n",
    "label_encoder = LabelEncoder()\n",
    "label_encoder.fit(y)\n",
    "label_encoder.classes_"
   ]
  },
  {
   "cell_type": "code",
   "execution_count": 23,
   "id": "619592b8",
   "metadata": {},
   "outputs": [
    {
     "data": {
      "text/plain": [
       "array([1, 0, 1, 1])"
      ]
     },
     "execution_count": 23,
     "metadata": {},
     "output_type": "execute_result"
    }
   ],
   "source": [
    "y = label_encoder.transform(y)  # 순서대로 0, 1 부여\n",
    "y"
   ]
  },
  {
   "cell_type": "code",
   "execution_count": 28,
   "id": "3e9ab961",
   "metadata": {},
   "outputs": [
    {
     "data": {
      "text/plain": [
       "array(['yes', 'no', 'yes', 'yes'], dtype=object)"
      ]
     },
     "execution_count": 28,
     "metadata": {},
     "output_type": "execute_result"
    }
   ],
   "source": [
    "# 정수 레이블을 원래 문자열로 돌려놓기\n",
    "y = label_encoder.inverse_transform(y)\n",
    "y"
   ]
  },
  {
   "cell_type": "code",
   "execution_count": 29,
   "id": "fd32d22c",
   "metadata": {},
   "outputs": [
    {
     "data": {
      "text/plain": [
       "array([1, 0, 1, 1])"
      ]
     },
     "execution_count": 29,
     "metadata": {},
     "output_type": "execute_result"
    }
   ],
   "source": [
    "# 타겟이 명목형, 인코딩(2)\n",
    "y = label_encoder.fit_transform(y)\n",
    "y"
   ]
  },
  {
   "cell_type": "markdown",
   "id": "e6316a48",
   "metadata": {},
   "source": [
    "#### 순서형 특성 매핑 : size 변환\n",
    "1. 딕셔너리를 이용한 mapping\n",
    "2. np.where를 이용\n",
    "3. LabelEncoder"
   ]
  },
  {
   "cell_type": "code",
   "execution_count": 30,
   "id": "10fcb9eb",
   "metadata": {},
   "outputs": [
    {
     "data": {
      "text/html": [
       "<div>\n",
       "<style scoped>\n",
       "    .dataframe tbody tr th:only-of-type {\n",
       "        vertical-align: middle;\n",
       "    }\n",
       "\n",
       "    .dataframe tbody tr th {\n",
       "        vertical-align: top;\n",
       "    }\n",
       "\n",
       "    .dataframe thead th {\n",
       "        text-align: right;\n",
       "    }\n",
       "</style>\n",
       "<table border=\"1\" class=\"dataframe\">\n",
       "  <thead>\n",
       "    <tr style=\"text-align: right;\">\n",
       "      <th></th>\n",
       "      <th>color</th>\n",
       "      <th>size</th>\n",
       "      <th>price</th>\n",
       "    </tr>\n",
       "  </thead>\n",
       "  <tbody>\n",
       "    <tr>\n",
       "      <th>0</th>\n",
       "      <td>green</td>\n",
       "      <td>L</td>\n",
       "      <td>10.1</td>\n",
       "    </tr>\n",
       "    <tr>\n",
       "      <th>1</th>\n",
       "      <td>green</td>\n",
       "      <td>M</td>\n",
       "      <td>13.5</td>\n",
       "    </tr>\n",
       "    <tr>\n",
       "      <th>2</th>\n",
       "      <td>red</td>\n",
       "      <td>XL</td>\n",
       "      <td>15.3</td>\n",
       "    </tr>\n",
       "    <tr>\n",
       "      <th>3</th>\n",
       "      <td>blue</td>\n",
       "      <td>S</td>\n",
       "      <td>12.7</td>\n",
       "    </tr>\n",
       "  </tbody>\n",
       "</table>\n",
       "</div>"
      ],
      "text/plain": [
       "   color size  price\n",
       "0  green    L   10.1\n",
       "1  green    M   13.5\n",
       "2    red   XL   15.3\n",
       "3   blue    S   12.7"
      ]
     },
     "execution_count": 30,
     "metadata": {},
     "output_type": "execute_result"
    }
   ],
   "source": [
    "X"
   ]
  },
  {
   "cell_type": "code",
   "execution_count": 53,
   "id": "ab86255a",
   "metadata": {},
   "outputs": [
    {
     "data": {
      "text/html": [
       "<div>\n",
       "<style scoped>\n",
       "    .dataframe tbody tr th:only-of-type {\n",
       "        vertical-align: middle;\n",
       "    }\n",
       "\n",
       "    .dataframe tbody tr th {\n",
       "        vertical-align: top;\n",
       "    }\n",
       "\n",
       "    .dataframe thead th {\n",
       "        text-align: right;\n",
       "    }\n",
       "</style>\n",
       "<table border=\"1\" class=\"dataframe\">\n",
       "  <thead>\n",
       "    <tr style=\"text-align: right;\">\n",
       "      <th></th>\n",
       "      <th>color</th>\n",
       "      <th>size</th>\n",
       "      <th>price</th>\n",
       "      <th>size_transformed1</th>\n",
       "    </tr>\n",
       "  </thead>\n",
       "  <tbody>\n",
       "    <tr>\n",
       "      <th>0</th>\n",
       "      <td>green</td>\n",
       "      <td>L</td>\n",
       "      <td>10.1</td>\n",
       "      <td>2</td>\n",
       "    </tr>\n",
       "    <tr>\n",
       "      <th>1</th>\n",
       "      <td>green</td>\n",
       "      <td>M</td>\n",
       "      <td>13.5</td>\n",
       "      <td>1</td>\n",
       "    </tr>\n",
       "    <tr>\n",
       "      <th>2</th>\n",
       "      <td>red</td>\n",
       "      <td>XL</td>\n",
       "      <td>15.3</td>\n",
       "      <td>3</td>\n",
       "    </tr>\n",
       "    <tr>\n",
       "      <th>3</th>\n",
       "      <td>blue</td>\n",
       "      <td>S</td>\n",
       "      <td>12.7</td>\n",
       "      <td>0</td>\n",
       "    </tr>\n",
       "  </tbody>\n",
       "</table>\n",
       "</div>"
      ],
      "text/plain": [
       "   color size  price  size_transformed1\n",
       "0  green    L   10.1                  2\n",
       "1  green    M   13.5                  1\n",
       "2    red   XL   15.3                  3\n",
       "3   blue    S   12.7                  0"
      ]
     },
     "execution_count": 53,
     "metadata": {},
     "output_type": "execute_result"
    }
   ],
   "source": [
    "# 1\n",
    "d = {'S' : 0, 'M' : 1, 'L' : 2, 'XL' : 3}\n",
    "X['size_transformed1'] = X['size'].map(d)\n",
    "X"
   ]
  },
  {
   "cell_type": "code",
   "execution_count": 54,
   "id": "3c30def0",
   "metadata": {},
   "outputs": [
    {
     "data": {
      "text/html": [
       "<div>\n",
       "<style scoped>\n",
       "    .dataframe tbody tr th:only-of-type {\n",
       "        vertical-align: middle;\n",
       "    }\n",
       "\n",
       "    .dataframe tbody tr th {\n",
       "        vertical-align: top;\n",
       "    }\n",
       "\n",
       "    .dataframe thead th {\n",
       "        text-align: right;\n",
       "    }\n",
       "</style>\n",
       "<table border=\"1\" class=\"dataframe\">\n",
       "  <thead>\n",
       "    <tr style=\"text-align: right;\">\n",
       "      <th></th>\n",
       "      <th>color</th>\n",
       "      <th>size</th>\n",
       "      <th>price</th>\n",
       "      <th>size_transformed2</th>\n",
       "    </tr>\n",
       "  </thead>\n",
       "  <tbody>\n",
       "    <tr>\n",
       "      <th>0</th>\n",
       "      <td>green</td>\n",
       "      <td>L</td>\n",
       "      <td>10.1</td>\n",
       "      <td>2</td>\n",
       "    </tr>\n",
       "    <tr>\n",
       "      <th>1</th>\n",
       "      <td>green</td>\n",
       "      <td>M</td>\n",
       "      <td>13.5</td>\n",
       "      <td>1</td>\n",
       "    </tr>\n",
       "    <tr>\n",
       "      <th>2</th>\n",
       "      <td>red</td>\n",
       "      <td>XL</td>\n",
       "      <td>15.3</td>\n",
       "      <td>3</td>\n",
       "    </tr>\n",
       "    <tr>\n",
       "      <th>3</th>\n",
       "      <td>blue</td>\n",
       "      <td>S</td>\n",
       "      <td>12.7</td>\n",
       "      <td>0</td>\n",
       "    </tr>\n",
       "  </tbody>\n",
       "</table>\n",
       "</div>"
      ],
      "text/plain": [
       "   color size  price size_transformed2\n",
       "0  green    L   10.1                 2\n",
       "1  green    M   13.5                 1\n",
       "2    red   XL   15.3                 3\n",
       "3   blue    S   12.7                 0"
      ]
     },
     "execution_count": 54,
     "metadata": {},
     "output_type": "execute_result"
    }
   ],
   "source": [
    "# 2\n",
    "X = X.drop('size_transformed1', axis = 1) \n",
    "\n",
    "X['size_transformed2'] = np.where(X['size'] == 'S', 0, \n",
    "                                  np.where(X['size'] == 'M', 1, \n",
    "                                           np.where(X['size'] == 'L', 2, \n",
    "                                                    np.where(X['size'] == 'XL', 3, 'np.nan'))))\n",
    "X"
   ]
  },
  {
   "cell_type": "code",
   "execution_count": 55,
   "id": "b35d4601",
   "metadata": {},
   "outputs": [
    {
     "data": {
      "text/html": [
       "<div>\n",
       "<style scoped>\n",
       "    .dataframe tbody tr th:only-of-type {\n",
       "        vertical-align: middle;\n",
       "    }\n",
       "\n",
       "    .dataframe tbody tr th {\n",
       "        vertical-align: top;\n",
       "    }\n",
       "\n",
       "    .dataframe thead th {\n",
       "        text-align: right;\n",
       "    }\n",
       "</style>\n",
       "<table border=\"1\" class=\"dataframe\">\n",
       "  <thead>\n",
       "    <tr style=\"text-align: right;\">\n",
       "      <th></th>\n",
       "      <th>color</th>\n",
       "      <th>size</th>\n",
       "      <th>price</th>\n",
       "      <th>size_transformed3</th>\n",
       "    </tr>\n",
       "  </thead>\n",
       "  <tbody>\n",
       "    <tr>\n",
       "      <th>0</th>\n",
       "      <td>green</td>\n",
       "      <td>L</td>\n",
       "      <td>10.1</td>\n",
       "      <td>0</td>\n",
       "    </tr>\n",
       "    <tr>\n",
       "      <th>1</th>\n",
       "      <td>green</td>\n",
       "      <td>M</td>\n",
       "      <td>13.5</td>\n",
       "      <td>1</td>\n",
       "    </tr>\n",
       "    <tr>\n",
       "      <th>2</th>\n",
       "      <td>red</td>\n",
       "      <td>XL</td>\n",
       "      <td>15.3</td>\n",
       "      <td>3</td>\n",
       "    </tr>\n",
       "    <tr>\n",
       "      <th>3</th>\n",
       "      <td>blue</td>\n",
       "      <td>S</td>\n",
       "      <td>12.7</td>\n",
       "      <td>2</td>\n",
       "    </tr>\n",
       "  </tbody>\n",
       "</table>\n",
       "</div>"
      ],
      "text/plain": [
       "   color size  price  size_transformed3\n",
       "0  green    L   10.1                  0\n",
       "1  green    M   13.5                  1\n",
       "2    red   XL   15.3                  3\n",
       "3   blue    S   12.7                  2"
      ]
     },
     "execution_count": 55,
     "metadata": {},
     "output_type": "execute_result"
    }
   ],
   "source": [
    "# 3\n",
    "X = X.drop('size_transformed2', axis = 1) \n",
    "\n",
    "from sklearn.preprocessing import LabelEncoder\n",
    "X_encoder = LabelEncoder()\n",
    "X['size_transformed3'] = X_encoder.fit_transform(X['size'])\n",
    "X"
   ]
  },
  {
   "cell_type": "markdown",
   "id": "0baac2bf",
   "metadata": {},
   "source": [
    "#### 명목형 특성에 대한 원-핫-인코딩(one-hot-encoding)\n",
    "- 명목형 범주형 데이터는 정수를 매핑하면 안 되고, 고유한 값(범주)마다 가변수(dummy: 0과 1만 가지는 변수) 특성을 만들어야 함\n",
    "- k개의 범주를 갖는 변수는 k개의 가변수(dummy)들이 필요\n",
    "- pd.get_dummies"
   ]
  },
  {
   "cell_type": "code",
   "execution_count": 66,
   "id": "28580acb",
   "metadata": {},
   "outputs": [
    {
     "data": {
      "text/html": [
       "<div>\n",
       "<style scoped>\n",
       "    .dataframe tbody tr th:only-of-type {\n",
       "        vertical-align: middle;\n",
       "    }\n",
       "\n",
       "    .dataframe tbody tr th {\n",
       "        vertical-align: top;\n",
       "    }\n",
       "\n",
       "    .dataframe thead th {\n",
       "        text-align: right;\n",
       "    }\n",
       "</style>\n",
       "<table border=\"1\" class=\"dataframe\">\n",
       "  <thead>\n",
       "    <tr style=\"text-align: right;\">\n",
       "      <th></th>\n",
       "      <th>color</th>\n",
       "      <th>price</th>\n",
       "      <th>size_transformed3</th>\n",
       "    </tr>\n",
       "  </thead>\n",
       "  <tbody>\n",
       "    <tr>\n",
       "      <th>0</th>\n",
       "      <td>green</td>\n",
       "      <td>10.1</td>\n",
       "      <td>0</td>\n",
       "    </tr>\n",
       "    <tr>\n",
       "      <th>1</th>\n",
       "      <td>green</td>\n",
       "      <td>13.5</td>\n",
       "      <td>1</td>\n",
       "    </tr>\n",
       "    <tr>\n",
       "      <th>2</th>\n",
       "      <td>red</td>\n",
       "      <td>15.3</td>\n",
       "      <td>3</td>\n",
       "    </tr>\n",
       "    <tr>\n",
       "      <th>3</th>\n",
       "      <td>blue</td>\n",
       "      <td>12.7</td>\n",
       "      <td>2</td>\n",
       "    </tr>\n",
       "  </tbody>\n",
       "</table>\n",
       "</div>"
      ],
      "text/plain": [
       "   color  price  size_transformed3\n",
       "0  green   10.1                  0\n",
       "1  green   13.5                  1\n",
       "2    red   15.3                  3\n",
       "3   blue   12.7                  2"
      ]
     },
     "execution_count": 66,
     "metadata": {},
     "output_type": "execute_result"
    }
   ],
   "source": [
    "X = X.drop('size', axis = 1)\n",
    "X"
   ]
  },
  {
   "cell_type": "code",
   "execution_count": 68,
   "id": "5f2379ef",
   "metadata": {},
   "outputs": [
    {
     "data": {
      "text/html": [
       "<div>\n",
       "<style scoped>\n",
       "    .dataframe tbody tr th:only-of-type {\n",
       "        vertical-align: middle;\n",
       "    }\n",
       "\n",
       "    .dataframe tbody tr th {\n",
       "        vertical-align: top;\n",
       "    }\n",
       "\n",
       "    .dataframe thead th {\n",
       "        text-align: right;\n",
       "    }\n",
       "</style>\n",
       "<table border=\"1\" class=\"dataframe\">\n",
       "  <thead>\n",
       "    <tr style=\"text-align: right;\">\n",
       "      <th></th>\n",
       "      <th>price</th>\n",
       "      <th>size_transformed3</th>\n",
       "      <th>color_blue</th>\n",
       "      <th>color_green</th>\n",
       "      <th>color_red</th>\n",
       "    </tr>\n",
       "  </thead>\n",
       "  <tbody>\n",
       "    <tr>\n",
       "      <th>0</th>\n",
       "      <td>10.1</td>\n",
       "      <td>0</td>\n",
       "      <td>0</td>\n",
       "      <td>1</td>\n",
       "      <td>0</td>\n",
       "    </tr>\n",
       "    <tr>\n",
       "      <th>1</th>\n",
       "      <td>13.5</td>\n",
       "      <td>1</td>\n",
       "      <td>0</td>\n",
       "      <td>1</td>\n",
       "      <td>0</td>\n",
       "    </tr>\n",
       "    <tr>\n",
       "      <th>2</th>\n",
       "      <td>15.3</td>\n",
       "      <td>3</td>\n",
       "      <td>0</td>\n",
       "      <td>0</td>\n",
       "      <td>1</td>\n",
       "    </tr>\n",
       "    <tr>\n",
       "      <th>3</th>\n",
       "      <td>12.7</td>\n",
       "      <td>2</td>\n",
       "      <td>1</td>\n",
       "      <td>0</td>\n",
       "      <td>0</td>\n",
       "    </tr>\n",
       "  </tbody>\n",
       "</table>\n",
       "</div>"
      ],
      "text/plain": [
       "   price  size_transformed3  color_blue  color_green  color_red\n",
       "0   10.1                  0           0            1          0\n",
       "1   13.5                  1           0            1          0\n",
       "2   15.3                  3           0            0          1\n",
       "3   12.7                  2           1            0          0"
      ]
     },
     "execution_count": 68,
     "metadata": {},
     "output_type": "execute_result"
    }
   ],
   "source": [
    "X_encorded = pd.get_dummies(X)\n",
    "X_encorded"
   ]
  },
  {
   "cell_type": "markdown",
   "id": "8a3d6d22",
   "metadata": {},
   "source": [
    "# 와인 데이터\n",
    "- 178개 와인 샘플에 대한 13개의 화학성분(특성)과 와인 포도 품종(클래스 레이블)"
   ]
  },
  {
   "cell_type": "code",
   "execution_count": 70,
   "id": "6ae705a1",
   "metadata": {},
   "outputs": [
    {
     "data": {
      "text/html": [
       "<div>\n",
       "<style scoped>\n",
       "    .dataframe tbody tr th:only-of-type {\n",
       "        vertical-align: middle;\n",
       "    }\n",
       "\n",
       "    .dataframe tbody tr th {\n",
       "        vertical-align: top;\n",
       "    }\n",
       "\n",
       "    .dataframe thead th {\n",
       "        text-align: right;\n",
       "    }\n",
       "</style>\n",
       "<table border=\"1\" class=\"dataframe\">\n",
       "  <thead>\n",
       "    <tr style=\"text-align: right;\">\n",
       "      <th></th>\n",
       "      <th>Class label</th>\n",
       "      <th>Alcohol</th>\n",
       "      <th>Malic acid</th>\n",
       "      <th>Ash</th>\n",
       "      <th>Alcalinity of ash</th>\n",
       "      <th>Magnesium</th>\n",
       "      <th>Total phenols</th>\n",
       "      <th>Flavanoids</th>\n",
       "      <th>Nonflavanoid phenols</th>\n",
       "      <th>Proanthocyanins</th>\n",
       "      <th>Color intensit</th>\n",
       "      <th>Hue</th>\n",
       "      <th>OD280/OD315 of diluted wines</th>\n",
       "      <th>Proline</th>\n",
       "    </tr>\n",
       "  </thead>\n",
       "  <tbody>\n",
       "    <tr>\n",
       "      <th>0</th>\n",
       "      <td>1</td>\n",
       "      <td>14.23</td>\n",
       "      <td>1.71</td>\n",
       "      <td>2.43</td>\n",
       "      <td>15.6</td>\n",
       "      <td>127</td>\n",
       "      <td>2.80</td>\n",
       "      <td>3.06</td>\n",
       "      <td>0.28</td>\n",
       "      <td>2.29</td>\n",
       "      <td>5.64</td>\n",
       "      <td>1.04</td>\n",
       "      <td>3.92</td>\n",
       "      <td>1065</td>\n",
       "    </tr>\n",
       "    <tr>\n",
       "      <th>1</th>\n",
       "      <td>1</td>\n",
       "      <td>13.20</td>\n",
       "      <td>1.78</td>\n",
       "      <td>2.14</td>\n",
       "      <td>11.2</td>\n",
       "      <td>100</td>\n",
       "      <td>2.65</td>\n",
       "      <td>2.76</td>\n",
       "      <td>0.26</td>\n",
       "      <td>1.28</td>\n",
       "      <td>4.38</td>\n",
       "      <td>1.05</td>\n",
       "      <td>3.40</td>\n",
       "      <td>1050</td>\n",
       "    </tr>\n",
       "  </tbody>\n",
       "</table>\n",
       "</div>"
      ],
      "text/plain": [
       "   Class label  Alcohol  Malic acid   Ash  Alcalinity of ash  Magnesium  \\\n",
       "0            1    14.23        1.71  2.43               15.6        127   \n",
       "1            1    13.20        1.78  2.14               11.2        100   \n",
       "\n",
       "   Total phenols  Flavanoids  Nonflavanoid phenols  Proanthocyanins  \\\n",
       "0           2.80        3.06                  0.28             2.29   \n",
       "1           2.65        2.76                  0.26             1.28   \n",
       "\n",
       "   Color intensit   Hue  OD280/OD315 of diluted wines  Proline  \n",
       "0            5.64  1.04                          3.92     1065  \n",
       "1            4.38  1.05                          3.40     1050  "
      ]
     },
     "execution_count": 70,
     "metadata": {},
     "output_type": "execute_result"
    }
   ],
   "source": [
    "path = 'https://archive.ics.uci.edu/ml/machine-learning-databases/wine/wine.data'\n",
    "wine = pd.read_csv(path, header=None)\n",
    "wine.columns = ['Class label', 'Alcohol', 'Malic acid', 'Ash',\n",
    " 'Alcalinity of ash', 'Magnesium',\n",
    " 'Total phenols', 'Flavanoids', 'Nonflavanoid phenols',\n",
    " 'Proanthocyanins', 'Color intensit', 'Hue',\n",
    " 'OD280/OD315 of diluted wines', 'Proline']\n",
    "wine.head(2)"
   ]
  },
  {
   "cell_type": "code",
   "execution_count": 71,
   "id": "1c4dfb3e",
   "metadata": {},
   "outputs": [],
   "source": [
    "X = wine.iloc[:, 1:].values  # to_numpy()\n",
    "y = wine.iloc[:, 0].values  # to_numpy()"
   ]
  },
  {
   "cell_type": "markdown",
   "id": "a6c22441",
   "metadata": {},
   "source": [
    "- 데이터 분할"
   ]
  },
  {
   "cell_type": "code",
   "execution_count": 73,
   "id": "7a0d2f74",
   "metadata": {},
   "outputs": [],
   "source": [
    "from sklearn.model_selection import train_test_split\n",
    "\n",
    "X_train, X_test, y_train, y_test = train_test_split(X, y, test_size = 0.3, stratify=y)"
   ]
  },
  {
   "cell_type": "markdown",
   "id": "5c8a1766",
   "metadata": {},
   "source": [
    "## 데이터 변환\n",
    "- 데이터 특성 스케일 조정하기\n",
    "    - 결정트리를 제외한 머신러닝 알고리즘은 특성의 스케일을 조정할 때 더 나은 성능을 보임\n",
    "    - **훈련 데이터에 대한 변환 공식과 동일한 공식**으로 테스트 데이터도 변환해주어야 함"
   ]
  },
  {
   "cell_type": "markdown",
   "id": "24f6cf23",
   "metadata": {},
   "source": [
    "#### 표준정규분포로 표준화\n",
    "- sklearn.preprocessing.StandardScaler\n",
    "- $z = \\frac{x-평균}{표준편차}$\n",
    "- 대략 -3 ~ 3 사이로 변환"
   ]
  },
  {
   "cell_type": "code",
   "execution_count": 76,
   "id": "7cad8332",
   "metadata": {},
   "outputs": [],
   "source": [
    "from sklearn.preprocessing import StandardScaler\n",
    "sc = StandardScaler()\n",
    "X_train_std = sc.fit_transform(X_train)\n",
    "X_test_std = sc.transform(X_test)  # 훈련 데이터에 대한 변환 공식과 동일한 공식 사용"
   ]
  },
  {
   "cell_type": "markdown",
   "id": "0aa55773",
   "metadata": {},
   "source": [
    "#### 0~1 사이로 정규화\n",
    "- sklearn.preprocessing.MinMaxScaler\n",
    "- $z = \\frac{(x-min)}{(max-min)}$"
   ]
  },
  {
   "cell_type": "code",
   "execution_count": 75,
   "id": "c3a71a43",
   "metadata": {},
   "outputs": [],
   "source": [
    "from sklearn.preprocessing import MinMaxScaler\n",
    "scaler = MinMaxScaler()\n",
    "X_train_std = sc.fit_transform(X_train)\n",
    "X_test_std = sc.transform(X_test)  # 훈련 데이터에 대한 변환 공식과 동일한 공식 사용"
   ]
  },
  {
   "cell_type": "markdown",
   "id": "c8a462a0",
   "metadata": {},
   "source": [
    "## 차원 축소\n"
   ]
  },
  {
   "cell_type": "markdown",
   "id": "1b29c339",
   "metadata": {},
   "source": [
    "- 차원 축소(dimensionality reduction) = 특성 추출(feature extraction)\n",
    "    - 특성들의 조합으로 새로운 특성을 생성\n",
    "    - 원래의 특성 공간 대신 새로운 저차원  특성 공간으로 데이터를 투영\n",
    "    - 대표적 차원 축소 알고리즘 : PCA, LDA, 커널 PCA"
   ]
  },
  {
   "cell_type": "markdown",
   "id": "bfae0865",
   "metadata": {},
   "source": [
    "- 주성분 분석(PCA : Princepal Component Anlysis)\n",
    "    - 특성들이 통계적으로 상관관계가 없도록 데이터를 회전시키는 기술\n",
    "    - 분산이 가장 큰(정보가 가장 큰) 방향을 첫 번째 성분으로, 첫 번째 성분과 직각인 방향 중에서 분산이 가장 큰 방향을 두 번째 성분으로 하는 과정을 반복\n",
    "    - <img src = 'https://miro.medium.com/max/1200/0*l5-imeQ9RfmaVWtL'/>  \n",
    "    \n",
    "    - 특성행렬의 공분산행렬에 대한 고유치(eigenvalues)와 고유벡터(eigenvector)를 사용\n",
    "        - 투영 행렬(projection matrix) $W$ : 고유치가 큰 상위 k개의 고유벡터로 이루어짐\n",
    "        - $X' = X W$ : 투영된 데이터\n",
    "    - sklearn.decomposition.PCA"
   ]
  },
  {
   "cell_type": "code",
   "execution_count": 80,
   "id": "334c06ea",
   "metadata": {},
   "outputs": [
    {
     "data": {
      "text/plain": [
       "(array([[ 0.10796674, -0.23528314, -0.02192287, -0.23758476,  0.09019433,\n",
       "          0.40354786,  0.42624578, -0.30309479,  0.31928845, -0.13425956,\n",
       "          0.30189274,  0.38711239,  0.26562025],\n",
       "        [-0.48311991, -0.19600038, -0.30092282, -0.01413707, -0.33933788,\n",
       "         -0.09541662, -0.0220313 ,  0.01217124, -0.07714306, -0.50391344,\n",
       "          0.27172291,  0.1503662 , -0.39523843]]),\n",
       " array([0.35049367, 0.19835018]))"
      ]
     },
     "execution_count": 80,
     "metadata": {},
     "output_type": "execute_result"
    }
   ],
   "source": [
    "from sklearn.decomposition import PCA\n",
    "pca = PCA(n_components=2)  # 주성분의 개수를 2개로 설정\n",
    "pca.fit(X_train_std)\n",
    "pca.components_, pca.explained_variance_ratio_ "
   ]
  },
  {
   "cell_type": "markdown",
   "id": "e01e2b63",
   "metadata": {},
   "source": [
    "components_ : 투영 행렬 $W$  \n",
    "explained_variance_ratio_ : 각 주성분으로 설명되는 분산의 비율(요소들의 합 = 설명되는 비율)\n",
    "    - 분산의 비율을 보면서 주성분 개수를 조절"
   ]
  },
  {
   "cell_type": "code",
   "execution_count": 81,
   "id": "18752a57",
   "metadata": {},
   "outputs": [],
   "source": [
    "X_train_pca = pca.transform(X_train_std)\n",
    "X_test_pca = pca.transform(X_test_std)"
   ]
  },
  {
   "cell_type": "markdown",
   "id": "b525e5f5",
   "metadata": {},
   "source": [
    "- 주성분에 대한 로지스틱 회귀(두 개의 주성분)"
   ]
  },
  {
   "cell_type": "code",
   "execution_count": 83,
   "id": "4967f68a",
   "metadata": {},
   "outputs": [
    {
     "data": {
      "text/plain": [
       "0.9259259259259259"
      ]
     },
     "execution_count": 83,
     "metadata": {},
     "output_type": "execute_result"
    }
   ],
   "source": [
    "from sklearn.linear_model import LogisticRegression\n",
    "logistic = LogisticRegression()\n",
    "logistic.fit(X_train_pca, y_train)\n",
    "logistic.score(X_test_pca,  y_test)"
   ]
  },
  {
   "cell_type": "code",
   "execution_count": null,
   "id": "a3d85047",
   "metadata": {},
   "outputs": [],
   "source": []
  }
 ],
 "metadata": {
  "kernelspec": {
   "display_name": "Python 3",
   "language": "python",
   "name": "python3"
  },
  "language_info": {
   "codemirror_mode": {
    "name": "ipython",
    "version": 3
   },
   "file_extension": ".py",
   "mimetype": "text/x-python",
   "name": "python",
   "nbconvert_exporter": "python",
   "pygments_lexer": "ipython3",
   "version": "3.8.8"
  },
  "toc": {
   "base_numbering": 1,
   "nav_menu": {},
   "number_sections": true,
   "sideBar": true,
   "skip_h1_title": false,
   "title_cell": "Table of Contents",
   "title_sidebar": "Contents",
   "toc_cell": false,
   "toc_position": {},
   "toc_section_display": true,
   "toc_window_display": true
  }
 },
 "nbformat": 4,
 "nbformat_minor": 5
}
