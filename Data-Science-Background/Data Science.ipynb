{
 "cells": [
  {
   "cell_type": "markdown",
   "id": "6662ebb0",
   "metadata": {},
   "source": [
    "# 데이터 과학"
   ]
  },
  {
   "cell_type": "markdown",
   "id": "6c8e01cf",
   "metadata": {},
   "source": [
    "### 데이터 과학\n",
    "- 데이터 과학이란 정형, 비정형 형태를 포함한 다양한 데이터로부터 지식과 인사이트를 추출하는데 과학적 방법론, 프로세스, 알고리즘, 시스템을 동원하는 융합분야\n",
    "<img src=\"https://s3.ap-southeast-1.amazonaws.com/datawow/uploader/blogs/a4.png\" width=\"450\" height=\"450\"/>"
   ]
  },
  {
   "cell_type": "markdown",
   "id": "e8b3c02f",
   "metadata": {},
   "source": [
    "# 데이터 과학 단계\n"
   ]
  },
  {
   "cell_type": "markdown",
   "id": "d337f82f",
   "metadata": {},
   "source": [
    "### 데이터 과학 단계\n",
    "1. 문제 정의 및 목표 설정\n",
    "2. 데이터 획득 및 수집\n",
    "3. 데이터 준비\n",
    "    - 데이터 정제\" 누락 데이터나 잡음 등을 교정하는 작업\n",
    "    - 데이터 통합: 여러 개의 데이터베이스, 데이터집합 등을 통합하는 작업\n",
    "    - 데이터 축소: 샘플링, 차원축소, 특징 선택 및 추출을 통해 데이터 크기를 줄이는 작업\n",
    "    - 데이터 변환: 데이터를 정규화, 이산화 또는 집계를 통해 변환하는 작업\n",
    "4. 데이터 탐색 및 분석\n",
    "    1. 데이터 분석 계획\n",
    "    2. 메타 데이터 분석\n",
    "    3. 통계 분석\n",
    "    4. 불확실성 정량화\n",
    "    5. 특징값 추출\n",
    "    6. 데이터 평가\n",
    "    7. 데이터 분석 리포트\n",
    "5. 테이터 표현 및 시각화\n",
    "    1. 데이터 분석(메타데이터, 데이터 차원 분석, 데이터 관계 분석)\n",
    "    2. 스토리텔링(스토리 계획, 유의미한 정보 정의)\n",
    "    3. 시각화 기법 선택\n",
    "    4. 디자인\n",
    "6. 모델 개발 및 학습\n",
    "    1. 데이터 준비(특징 추출, 데이터 분리-train, test, validation), 데이터 검증)\n",
    "    2. 모델 생성(모델 설계, 특징 엔지니어링, 모델 구조 정의, 목표 변수(함수) 정의)\n",
    "    3. 모델 학습(학습 알고리즘, 하이퍼파라미터, 학습 반복, 최적화)\n",
    "    4. 모델 평가(평가 지표, 성능 평가, 비교 분석)        \n",
    "7. 모델 구축 및 자동화"
   ]
  },
  {
   "cell_type": "code",
   "execution_count": null,
   "id": "5b3a5ec5",
   "metadata": {},
   "outputs": [],
   "source": []
  }
 ],
 "metadata": {
  "kernelspec": {
   "display_name": "Python 3",
   "language": "python",
   "name": "python3"
  },
  "language_info": {
   "codemirror_mode": {
    "name": "ipython",
    "version": 3
   },
   "file_extension": ".py",
   "mimetype": "text/x-python",
   "name": "python",
   "nbconvert_exporter": "python",
   "pygments_lexer": "ipython3",
   "version": "3.8.8"
  }
 },
 "nbformat": 4,
 "nbformat_minor": 5
}
