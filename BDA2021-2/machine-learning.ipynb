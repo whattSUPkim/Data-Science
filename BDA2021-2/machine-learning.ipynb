{
 "cells": [
  {
   "cell_type": "markdown",
   "id": "6dc88223",
   "metadata": {},
   "source": [
    "# 머신러닝"
   ]
  },
  {
   "cell_type": "markdown",
   "id": "0d8e5f8c",
   "metadata": {},
   "source": [
    "## 머신러닝(기계학습)\n",
    "- 데이터로부터 학습하도록 컴퓨터를 프로그래밍하는 과학\n",
    "- 훈련 데이터(training data)를 사용하여 스스로 학습하는 시스템\n",
    "- 머신러닝 시스템의 목적은 **일반화(generalization)**\n",
    "    - 새로운 데이터에 대한 예측이 최종 목표\n",
    "   "
   ]
  },
  {
   "cell_type": "markdown",
   "id": "8c4af23d",
   "metadata": {},
   "source": [
    "## 머신러닝 시스템의 종류: 지도 학습 vs 비지도 학습 (vs 강화 학습)\n",
    "- 지도학습(supervised learning)\n",
    "    - 훈련 데이터는 특성들(features)과 레이블(label)로 구성\n",
    "    - 특성들로 레이블을 예측하는 수학적 모형(model)을 구현\n",
    "    - 모델 훈련(training) = 학습(learning) = 적합(fitting)\n",
    "- 지도학습 종류\n",
    "    - 분류(classification)\n",
    "        - 레이블(=target 변수)이 범주형인 경우\n",
    "        - ex) 종양의 악성 여부, 스팸 메일 여부 등\n",
    "    - 회귀(regression)\n",
    "        - 레이블이 수치형인 경우\n",
    "        - ex) 신용평가, 자산 평가, 판매량, 강수량 예측 등\n",
    "- 주요 지도 학습 알고리즘\n",
    "    - 회귀모형: 선형 회귀(Linear Regression)(회귀), 로지스틱 회귀(Logistic Regression)(분류)\n",
    "    - 신경망(Neural Networks)(회귀, 분류)\n",
    "    - 서포트 벡터 머신(SVM)(회귀, 분류)\n",
    "    - 결정 트리(Decision Trees)(회귀, 분류)\n",
    "    - k-최근접 이웃(k-Nearest Neighbors)(회귀, 분류)\n",
    "        "
   ]
  },
  {
   "cell_type": "markdown",
   "id": "29531ba9",
   "metadata": {},
   "source": [
    "- 비지도 학습(unsupervised learning)\n",
    "    - 훈련데이터에 특성들만 있고 레이블이 없음\n",
    "- 주요 비지도 학습 알고리즘\n",
    "    - 군집화(clustering)(세분화): k-평균(k-means), 계층군집분석(HCA)\n",
    "    - 차원 축소(dimension reduction): 주성분 분석(PCA)\n",
    "    - 연관 규칙 학습(association rule learning): 장바구니 분석, Apriori 알고리즘\n",
    "    - 이상치 탐색(anomaly detection): 부정거래, 제조결함, 네트워크 침입 탐지"
   ]
  },
  {
   "cell_type": "markdown",
   "id": "bf3ee128",
   "metadata": {},
   "source": [
    "- 강화 학습(reinforcement learning)\n",
    "    - 에이전트(agent)라고 불리는 학습 시스템이 환경(environment)을 관찰해서 행동(action)을 실행하고 그 결과 보상(reward) 혹은 벌점(penalty)를 받음\n",
    "    - 시간이 지나면서 가장 큰 보상을 받기 위해 정책(policy)이라 불리는 최상의 전략을 스스로 학습\n",
    "    "
   ]
  },
  {
   "cell_type": "markdown",
   "id": "050c2ba8",
   "metadata": {},
   "source": [
    "## 머신러닝 시스템의 종류: 배치 학습 vs 온라인 학습\n",
    "- 배치 학습(batch learning): 오프라인 러닝\n",
    "    - 가용한 데이터를 모두 사용하여 오프라인으로 훈련\n",
    "    - 업데이트된 데이터로 훈련시키고 새 학습 시스템으로 교체하는 것을 정기적으로 반복\n",
    "- 온라인 학습(online learning)\n",
    "    - 데이터를 작은 묶음 단위(mini-batch)로 순차적으로 주입하여 시스템을 훈련\n",
    "    - 점진적 학습(빠른 변화에 스스로 적응해야 하는 시스템에 적합)\n",
    "    "
   ]
  },
  {
   "cell_type": "markdown",
   "id": "1ad908a5",
   "metadata": {},
   "source": [
    "## 머신러닝 시스템의 종류: 모형 기반 vs 사례 기반\n",
    "- 모형 기반: 훈련 샘플들로 모형을 만들어 일반화 -> 새로운 샘플에 적용하여 추론\n",
    "- 사례 기반: 사례들 간 유사도를 측정하여 새로운 데이터에 일반화시킴(k-nn: k-최근접)"
   ]
  },
  {
   "cell_type": "markdown",
   "id": "83d05c33",
   "metadata": {},
   "source": [
    "## 머신러닝의 주요 도전 과제\n",
    "- 낮은 품질의 데이터 문제: 에러, 이상치, 잡음 등이 있는 경우 데이터 정제가 필요\n",
    "- 관련 없는 특성 문제\n",
    "    - 특성 공학(feature engineering): 학습에 사용할 좋은 특성ㅇ르 찾는 것\n",
    "- 훈련 데이터 과대 적합(overfitting)\n",
    "    - 모형이 데이터의 패턴을 너무 과도하게 반영한 것\n",
    "    - 훈련 데이터에 대한 성능은 좋지만 샘플에서의 일반화 성능이 나빠짐\n",
    "- 훈련 데이터 과소 적합(underfitting)\n",
    "    - 모형이 너무 단순한 것\n",
    "    "
   ]
  },
  {
   "cell_type": "markdown",
   "id": "bd1d6242",
   "metadata": {},
   "source": [
    "# 파이썬 Scikit-Learn 패키지"
   ]
  },
  {
   "cell_type": "markdown",
   "id": "0e0ec780",
   "metadata": {},
   "source": [
    "- Numpy, SciPy 기반\n",
    "- Scikit-Learn의 입력 데이터\n",
    "    - 특성 행렬(feature matrix) : X\n",
    "        - Numpy 이차원 배열, pd.DataFrame(values), SciPy sparse 행렬\n",
    "    - 타겟(레이블) 백터: y\n",
    "        - Numpy 일차원 배열, pd.Series\n"
   ]
  },
  {
   "cell_type": "markdown",
   "id": "f283c242",
   "metadata": {},
   "source": [
    "- API 사용 단계\n",
    "    1. 필요한 사이킷런 추정기 클래스를 임포트\n",
    "    2. 모델 클래스를 인스턴스화(모델의 하이퍼파라미터(초모수 지정)\n",
    "    3. 데이터를 특징 행렬(X)과 타겟(y)으로 배치\n",
    "    4. 모델 인스턴스의 fit() 메서드로 모델을 학습(fitting, training, learning)\n",
    "    5. score() 메서드를 사용하여 모형의 성능(정확도) 평가\n",
    "    "
   ]
  },
  {
   "cell_type": "markdown",
   "id": "c2a57353",
   "metadata": {},
   "source": [
    "# 단순선형회귀 예제 - Scikit-Learn"
   ]
  },
  {
   "cell_type": "markdown",
   "id": "0c2b99c8",
   "metadata": {},
   "source": [
    "예제 데이터"
   ]
  },
  {
   "cell_type": "code",
   "execution_count": 2,
   "id": "5de54c9d",
   "metadata": {},
   "outputs": [],
   "source": [
    "import numpy as np\n",
    "import matplotlib.pyplot as plt"
   ]
  },
  {
   "cell_type": "code",
   "execution_count": 4,
   "id": "421e43b7",
   "metadata": {},
   "outputs": [
    {
     "data": {
      "image/png": "[encoded data removed]",
      "text/plain": [
       "<Figure size 432x288 with 1 Axes>"
      ]
     },
     "metadata": {
      "needs_background": "light"
     },
     "output_type": "display_data"
    }
   ],
   "source": [
    "X = np.arange(10).reshape(10, 1)\n",
    "y = np.array([-1, 2, 3, 5, 4, 7, 6, 6, 9, 9])\n",
    "plt.scatter(X, y);"
   ]
  },
  {
   "cell_type": "markdown",
   "id": "e6f956f4",
   "metadata": {},
   "source": [
    "사이킷런의 선형회귀\n",
    "- sklearn.linear_model.LinearRegression 클래스"
   ]
  },
  {
   "cell_type": "code",
   "execution_count": 6,
   "id": "f9408073",
   "metadata": {},
   "outputs": [
    {
     "name": "stdout",
     "output_type": "stream",
     "text": [
      "[0.96969697] 0.6363636363636376\n"
     ]
    }
   ],
   "source": [
    "from sklearn.linear_model import LinearRegression\n",
    "# 인스턴스화\n",
    "reg = LinearRegression()\n",
    "# 모델 fitting\n",
    "reg.fit(X, y) \n",
    "# 모델의 계수(coef)와 절편(intercept) \n",
    "print(reg.coef_, reg.intercept_)"
   ]
  },
  {
   "cell_type": "markdown",
   "id": "0b9eb929",
   "metadata": {},
   "source": [
    "절편이 없는 회귀(원점을 지나는 회귀)"
   ]
  },
  {
   "cell_type": "code",
   "execution_count": 9,
   "id": "8d7d9a89",
   "metadata": {},
   "outputs": [
    {
     "name": "stdout",
     "output_type": "stream",
     "text": [
      "[1.07017544] 0.0\n"
     ]
    }
   ],
   "source": [
    "# 인스턴스화\n",
    "# 모델의 하이퍼파라미터 지정(fit_intercept = False)으로 절편을 주지 않음\n",
    "reg2 = LinearRegression(fit_intercept = False)\n",
    "# fitting\n",
    "reg2.fit(X,y)\n",
    "\n",
    "print(reg2.coef_, reg2.intercept_) # intercept = 0"
   ]
  },
  {
   "cell_type": "code",
   "execution_count": 16,
   "id": "0dde081d",
   "metadata": {},
   "outputs": [
    {
     "data": {
      "text/plain": [
       "0.8815426997245179"
      ]
     },
     "execution_count": 16,
     "metadata": {},
     "output_type": "execute_result"
    }
   ],
   "source": [
    "# 레이블에 대한 모델 점수\n",
    "# 결정계수: 1에 가까울수록 좋음\n",
    "reg.score(X, y)"
   ]
  },
  {
   "cell_type": "code",
   "execution_count": 15,
   "id": "005bb3c8",
   "metadata": {},
   "outputs": [
    {
     "data": {
      "text/plain": [
       "0.8682216905901117"
      ]
     },
     "execution_count": 15,
     "metadata": {},
     "output_type": "execute_result"
    }
   ],
   "source": [
    "# 레이블에 대한 모델 점수\n",
    "reg2.score(X, y)"
   ]
  },
  {
   "cell_type": "markdown",
   "id": "3f85b387",
   "metadata": {},
   "source": [
    "회귀직선식 표시"
   ]
  },
  {
   "cell_type": "code",
   "execution_count": 13,
   "id": "cc9e5705",
   "metadata": {},
   "outputs": [
    {
     "data": {
      "image/png": "[encoded data removed]",
      "text/plain": [
       "<Figure size 432x288 with 1 Axes>"
      ]
     },
     "metadata": {
      "needs_background": "light"
     },
     "output_type": "display_data"
    }
   ],
   "source": [
    "# predict 값(X만 파라미터로)\n",
    "pred = reg.predict(X)\n",
    "plt.scatter(X, y)\n",
    "plt.plot(X, pred, c = 'red', label = 'Intercept o')\n",
    "# predict 값(X만 파라미터로)\n",
    "pred2 = reg2.predict(X)\n",
    "plt.plot(X, pred2, c = 'green', label = 'intercept x')\n",
    "plt.legend();"
   ]
  },
  {
   "cell_type": "code",
   "execution_count": null,
   "id": "1ac1beb8",
   "metadata": {},
   "outputs": [],
   "source": []
  }
 ],
 "metadata": {
  "kernelspec": {
   "display_name": "Python 3",
   "language": "python",
   "name": "python3"
  },
  "language_info": {
   "codemirror_mode": {
    "name": "ipython",
    "version": 3
   },
   "file_extension": ".py",
   "mimetype": "text/x-python",
   "name": "python",
   "nbconvert_exporter": "python",
   "pygments_lexer": "ipython3",
   "version": "3.8.8"
  },
  "toc": {
   "base_numbering": 1,
   "nav_menu": {},
   "number_sections": true,
   "sideBar": true,
   "skip_h1_title": false,
   "title_cell": "Table of Contents",
   "title_sidebar": "Contents",
   "toc_cell": false,
   "toc_position": {},
   "toc_section_display": true,
   "toc_window_display": false
  }
 },
 "nbformat": 4,
 "nbformat_minor": 5
}
