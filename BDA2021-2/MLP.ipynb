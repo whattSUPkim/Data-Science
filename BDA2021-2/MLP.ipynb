{
 "cells": [
  {
   "cell_type": "markdown",
   "id": "488af293",
   "metadata": {},
   "source": [
    "# 인공신경망"
   ]
  },
  {
   "cell_type": "markdown",
   "id": "ca05546c",
   "metadata": {},
   "source": [
    "## 인공신경망(ANN : Artificial Nural Network)\n",
    "- 초기 대표 인공신경망 : 다층 퍼셉트론(MLP)\n",
    "- 딥러닝 : 심층 신경망(DNN)을 효과적으로 훈련\n"
   ]
  },
  {
   "cell_type": "markdown",
   "id": "c430ebee",
   "metadata": {},
   "source": [
    "## 단순 퍼셉트론(perceptron)\n",
    "- 입력에 가중치를 곱한 가중의 합에 대해 계단함수를 사용하여 클래스 레이블을 예측하고, 이 때 발생하는 오차를 바탕으로 가중치를 수정하여 레이블을 더 잘 예측하도록 학습\n",
    "- ![그림](data:image/png;base64,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)    \n",
    "- 선형 경계를 가지는 분류 문제를 해결"
   ]
  },
  {
   "cell_type": "markdown",
   "id": "7b502054",
   "metadata": {},
   "source": [
    "## 향상된 퍼셉트론(Adaline : 적응형 선형 뉴런)\n",
    "- ![그림](https://sebastianraschka.com/images/faq/diff-perceptron-adaline-neuralnet/4.png)\n",
    "- 비용함수 : $SSE$\n",
    "    - $J(w) = \\frac{1}{2} \\sum (y^i - \\phi(z^i))^2$\n",
    "    - 비용함수를 최소화하도록 가중치를 학습\n",
    "- 활성화 함수 : $\\phi$\n",
    "    - 선형함수 : $\\phi(z) = z$\n",
    "    - 비선형함수 : $\\phi(z) = frac{1}{1+e^{- z}}$  (= 로지스틱)\n",
    "- 경사하강법(GD : Gradient Descent)\n",
    "    - 주어진 범위 내에서 최소를 구하는 최적화 알고리즘\n",
    "    - 비용함수의 미분값(기울기) $\\nabla J(w)$의 반대방향으로 조금씩 가중치를 업데이트\n",
    "    - <img src = 'https://2.bp.blogspot.com/-Ge7oGwnq5bI/XE62q3CFBFI/AAAAAAAAA4c/Z94QT-Pu554DdKe9ZyrBMxbJQ1iA7t2rgCEwYBhgL/s400/%25E1%2584%2589%25E1%2585%25B3%25E1%2584%258F%25E1%2585%25B3%25E1%2584%2585%25E1%2585%25B5%25E1%2586%25AB%25E1%2584%2589%25E1%2585%25A3%25E1%2586%25BA%2B2019-01-28%2B%25E1%2584%258B%25E1%2585%25A9%25E1%2584%2592%25E1%2585%25AE%2B5.00.10.png' width = '300' />\n",
    "    - <img src = 'https://ichi.pro/assets/images/max/724/1*HrFZV7pKPcc5dzLaWvngtQ.png' width = '300' />\n",
    "    - 에포크(epoch) : 전체 훈련 샘플이 네트워크를 한 번 통과하는 것\n",
    "    - 퍼셉트론의 하이퍼파라미터 : 훈련율, 에포크 횟수\n",
    "    - 경사하강법을 적용하는 방법\n",
    "        - 배치(batch) GD : 모든 훈련 샘플을 기반으로 가중치를 업데이터\n",
    "        - 확률적(stochastic) GD : 무작위로 선택된 훈련 샘플 1개에 대하여 가중치를 업데이트\n",
    "        - 미니 배치(mini-batch) GD : 무작위로 선택된 적은 수의 훈련 데이터를 기반으로 가중치 업데이트\n",
    "            "
   ]
  },
  {
   "cell_type": "markdown",
   "id": "24d6d9b5",
   "metadata": {},
   "source": [
    "# MLP"
   ]
  },
  {
   "cell_type": "markdown",
   "id": "9500de58",
   "metadata": {},
   "source": [
    "## 다층 퍼셉트론(Multi-Layer Perceptron : MLP)\n",
    "- 입력층과 출력층 사이에 은닉층(hidden layer)이 존재\n",
    "    - 은닉층이 하나 이상 존재하면 심층 인공신경망(Deep ANN)\n",
    "    - 은닉층을 추가하여 퍼셉트론의 선형경계 문제를 극복\n",
    "    - 층의 개수 = #은닉층 + 1(출력층)\n",
    "- 완전연결층(fully connected layer) == 밀집층(dense layer)\n",
    "    - 모든 층의 뉴런은 다음 층의 뉴런과 완전히 연결되어 있음\n",
    "- 피드포워드 신경망(feedfoward NN) (<-> 순환신경망)\n",
    "    - ![.](https://cs.stanford.edu/people/eroberts/courses/soco/projects/neural-networks/Architecture/images/feedforward.jpg)\n",
    "    - 신호가 입력에서 출력으로 한 방향으로만 흐름\n",
    "- 역전파(backpropagation)\n",
    "    - 그레디언트를 자동으로 계산하는 효율적 기법\n",
    "    - 연쇄법칙(chain rule)을 이용하여 자동 미분\n",
    "- 미니 배치를 처리하여 가중치를 업데이트\n",
    "- 활성함수(activation function)\n",
    "<img src = 'http://rasbt.github.io/mlxtend/user_guide/general_concepts/activation-functions_files/activation-functions.png' width = '625' />\n",
    "- 규제(regularization) : for Generalization\n",
    "    - Early stopping\n",
    "    - Parameter norm penalty -> (classification -> logistic 강의노트)\n",
    "        - 비용함수에 $L_2$ 규제를 추가\n",
    "        - 파라미터가 너무 커지지 않도록 하기 위해 파라미터를 제곱하여 더한 값을 cost function에 추가하여 같이 줄임\n",
    "    - Data Augmentation\n",
    "    - Noise Robustness\n",
    "    - Label Smoothing\n",
    "    - Dropcut\n",
    "    - Batch Normalization"
   ]
  },
  {
   "cell_type": "markdown",
   "id": "3187b962",
   "metadata": {},
   "source": [
    "## MLP 훈련 : 오차 역전파\n",
    "- 미니 배치에 대하여 다음 단계들을 반복\n",
    "    1. 입력\n",
    "    2. 층별 출력 계산\n",
    "    3. 층별 오차 계산\n",
    "    4. 그레디언트 계산\n",
    "    5. 가중치 업데이트\n",
    "- <img src = 'https://thebook.io/img/080246/147_1.jpg' width = '500' />"
   ]
  },
  {
   "cell_type": "markdown",
   "id": "69e65a9c",
   "metadata": {},
   "source": [
    "## MLP 주의사항\n",
    "- 특성들은 반드시 표준화하여야 함\n",
    "- 가중치는 랜덤하게 초기화해야 함 : 다양한 알고리즘\n",
    "- 은닉층의 개수와 뉴런의 수\n",
    "    - 은닉층 수 : 1 ~ 5\n",
    "    - 은닉층의 유닛(뉴런)의 수 : 10 ~ 100\n",
    "    "
   ]
  },
  {
   "cell_type": "markdown",
   "id": "bf0b9be1",
   "metadata": {},
   "source": [
    "## 회귀를 위한 MLP  \n",
    "|하이퍼파라미터|제안 값|\n",
    "|--|--|\n",
    "|입력 유닛의 수|특성의 수와 같아야 함|\n",
    "|출력 유닛의 수|예측 변수의 개수와 같아야 함|\n",
    "|은닉층의 활성화 함수|ReLU 추천|\n",
    "|출력층의 활성화 함수|없음(범위 제한을 위해선 사용 가능)|\n",
    "|비용(손실)함수|MSE(평균제곱합)|"
   ]
  },
  {
   "cell_type": "markdown",
   "id": "9a260322",
   "metadata": {},
   "source": [
    "## 분류를 위한 MLP\n",
    "- 분류의 종류\n",
    "    - 이진 분류 : 2개의 클래스 레이블\n",
    "    - 다중 레이블 분류 : ex) 스팸 여부와 긴급성 여부\n",
    "    - 다진 분류 : 3개 이상의 클래스 레이블  \n",
    "|하이퍼파라미터|이진 분류|다중 레이블 분류|다진 분류|\n",
    "|--|--|--|--|\n",
    "|입력층과 은닉층|회귀와 동일|회귀와 동일|회귀와 동일|\n",
    "|출력 유닛의 수|1개|레이블마다 1개|클래스마다 1개|\n",
    "|출력층의 활성화 함수|로지스틱 함수|로지스틱 함수|소프트맥스 함수|\n",
    "|손실 함수|크로스 엔트로피|크로스 엔트로피|크로스 엔트로피|\n",
    "- 손실 vs 지표\n",
    "    - 손실(loss) : Optimizer가 최소화하는 대상\n",
    "        - <img src = 'https://img1.daumcdn.net/thumb/R1280x0/?scode=mtistory2&fname=https%3A%2F%2Fblog.kakaocdn.net%2Fdn%2FHrQMb%2FbtrlqNAu9Rb%2Fxglqdzb1DHXw0Dsy5hodI0%2Fimg.png' width = 600/>\n",
    "    - 지표(metric) : 모형의 성능을 평가\n",
    "        - ex) accuracy, precision, recall\n",
    "        "
   ]
  },
  {
   "cell_type": "markdown",
   "id": "9c6c1598",
   "metadata": {},
   "source": [
    "# 케라스로 MLP 구현하기"
   ]
  },
  {
   "cell_type": "markdown",
   "id": "68cf2d25",
   "metadata": {},
   "source": [
    "## 케라스(Keras)\n",
    "- 모드느 종류의 신경망을 손쉽게 만들고 훈련, 평가, 실행할 수 있는 고수준 딥러닝 API\n",
    "- 멀티백앤드 케라스 : TensorFlow, CNTK, theano 등\n",
    "- 텐서플로 : 머신러닝 알고리즘을 구현하고 실행하기 위한 프로그래밍 인터페이스\n",
    "- `tf.keras`"
   ]
  },
  {
   "cell_type": "markdown",
   "id": "b5a5b5fe",
   "metadata": {},
   "source": [
    "## 아이리스 데이터를 위한 분류 MLP 만들기(feat. `keras.Sequential`)"
   ]
  },
  {
   "cell_type": "markdown",
   "id": "4c086d1e",
   "metadata": {},
   "source": [
    "### Iris 데이터 로드"
   ]
  },
  {
   "cell_type": "code",
   "execution_count": 1,
   "id": "0650dbbf",
   "metadata": {},
   "outputs": [],
   "source": [
    "from sklearn import datasets\n",
    "iris = datasets.load_iris()\n",
    "X, y = iris.data, iris.target\n",
    "\n",
    "from sklearn.model_selection import train_test_split\n",
    "X_train, X_test, y_train, y_test = train_test_split(X, y, train_size = 100, stratify = y)"
   ]
  },
  {
   "cell_type": "markdown",
   "id": "d7905032",
   "metadata": {},
   "source": [
    "### 모델 구성 : `tf.keras.Sequential`클래스로 모델 만들기\n",
    "- `add()` 메서드를 사용하여 Dense층(완전연결층)을 추가"
   ]
  },
  {
   "cell_type": "code",
   "execution_count": 2,
   "id": "90919103",
   "metadata": {},
   "outputs": [],
   "source": [
    "import tensorflow as tf\n",
    "\n",
    "model = tf.keras.Sequential()\n",
    "# Dense층 추가\n",
    "model.add(tf.keras.layers.Dense(16, input_shape = (4,), activation = 'sigmoid'))  # 처음 은닉층이기 때문에 input_shape 추가(특성의 수)\n",
    "# 출력층 추가\n",
    "model.add(tf.keras.layers.Dense(3, activation = 'softmax'))  # 출력층의 활성화 함수 : 다진분류, softmax"
   ]
  },
  {
   "cell_type": "markdown",
   "id": "f0129677",
   "metadata": {},
   "source": [
    "- Dense 층은 연결 가중치를 무작위로 초기화 : kernel_initializer 인수 설정 가능\n",
    "- 각 층의 뉴런의 개수(units), 활성함수(activation)를 설정\n",
    "    - 은닉층 : 사용자 지정 뉴런의 개수, 활성함수(분류 : logistics(sigmoid) or ReLU)\n",
    "        - 첫 번째 층인 경우 `input_shape`로 입력층 설정이 필요\n",
    "        - `activation = 'sigmoid'`\n",
    "    - 출력층 : 3개 뉴런(클래스 레이블의 개수)\n",
    "    - 다진분류(3개 품종)이므로 출력층의 활성화함수는 소프트맥스(softmax)"
   ]
  },
  {
   "cell_type": "code",
   "execution_count": 3,
   "id": "ccbcff01",
   "metadata": {},
   "outputs": [],
   "source": [
    "## ^동일한 코드\n",
    "model = tf.keras.Sequential([\n",
    "    tf.keras.layers.Dense(16, input_shape = (4,), activation = 'sigmoid'),  # 처음 은닉층이기 때문에 input_shape 추가(특성의 수)\n",
    "    tf.keras.layers.Dense(3, activation = 'softmax')  # 출력층의 활성화 함수 : 다진분류, softmax\n",
    "])"
   ]
  },
  {
   "cell_type": "code",
   "execution_count": null,
   "id": "e44443a1",
   "metadata": {},
   "outputs": [],
   "source": []
  },
  {
   "cell_type": "markdown",
   "id": "45dce03b",
   "metadata": {},
   "source": [
    "`tf.summary()` 메서드 : 모델에 있는 모든 층의 이름, 출력 크기, 파라미터 개수를 출력\n",
    "- Param #\n",
    "    - 입력 -> 은닉 : (4 + 1) * 16\n",
    "        - 특성의 수 : 4, bias(눈에 보이지 않음) : 1, 은닉층 개수 : 16"
   ]
  },
  {
   "cell_type": "code",
   "execution_count": 4,
   "id": "f0330748",
   "metadata": {},
   "outputs": [
    {
     "name": "stdout",
     "output_type": "stream",
     "text": [
      "Model: \"sequential_1\"\n",
      "_________________________________________________________________\n",
      " Layer (type)                Output Shape              Param #   \n",
      "=================================================================\n",
      " dense_2 (Dense)             (None, 16)                80        \n",
      "                                                                 \n",
      " dense_3 (Dense)             (None, 3)                 51        \n",
      "                                                                 \n",
      "=================================================================\n",
      "Total params: 131\n",
      "Trainable params: 131\n",
      "Non-trainable params: 0\n",
      "_________________________________________________________________\n"
     ]
    }
   ],
   "source": [
    "model.summary()"
   ]
  },
  {
   "cell_type": "markdown",
   "id": "ee3cbed6",
   "metadata": {},
   "source": [
    "### 모델 컴파일\n",
    "- `compile()` 메서드 : 비용(loss), 옵티마이저(optimizer, 최적화 알고리즘), 지표(metric)을 지정"
   ]
  },
  {
   "cell_type": "code",
   "execution_count": 5,
   "id": "faa86f63",
   "metadata": {},
   "outputs": [],
   "source": [
    "model.compile(loss = 'sparse_categorical_crossentropy',\n",
    "             optimizer = 'sgd', metrics = ['accuracy'])"
   ]
  },
  {
   "cell_type": "markdown",
   "id": "5fb96641",
   "metadata": {},
   "source": [
    "- 비용(손실)\n",
    "|분류의 종류|비용(손실|\n",
    "|--|--|\n",
    "|이진(binary) 분류|binary_crossentropy|\n",
    "|다진(multi-class) 분류 : 희소 레이블(클래스 인덱스 : 0, 1, 2, ..)|sparse_categorical_crossentropy|\n",
    "|다진(multi-class) 분류 : 원-핫 인코딩|categorical_crossentropy|\n",
    "    - 희소 레이블을 원-핫 벡터로 변환 : `tf.keras.utils.to_categorical()`함수 사용\n",
    "- 옵티마이저 : 훈련(최적화) 알고리즘 종류\n",
    "    - sgd : 확률적 경사하강법\n",
    "- 지표 : 훈련과 평가에 사용할 평가지표\n",
    "    - accurary(정분류율), precision(정밀도), recall(재현율)"
   ]
  },
  {
   "cell_type": "markdown",
   "id": "066ac66d",
   "metadata": {},
   "source": [
    "### 모델 훈련\n",
    "- `fit()` 메서드 : 입력 특성과 타겟 클래스. 에포크 횟수, 배치 크기 지정"
   ]
  },
  {
   "cell_type": "code",
   "execution_count": 6,
   "id": "e71c9658",
   "metadata": {},
   "outputs": [
    {
     "name": "stdout",
     "output_type": "stream",
     "text": [
      "Epoch 1/100\n",
      "50/50 [==============================] - 0s 881us/step - loss: 1.0551 - accuracy: 0.4000\n",
      "Epoch 2/100\n",
      "50/50 [==============================] - 0s 874us/step - loss: 0.9994 - accuracy: 0.5300\n",
      "Epoch 3/100\n",
      "50/50 [==============================] - 0s 848us/step - loss: 0.9600 - accuracy: 0.5700\n",
      "Epoch 4/100\n",
      "50/50 [==============================] - 0s 886us/step - loss: 0.9312 - accuracy: 0.7100\n",
      "Epoch 5/100\n",
      "50/50 [==============================] - 0s 851us/step - loss: 0.8956 - accuracy: 0.6800\n",
      "Epoch 6/100\n",
      "50/50 [==============================] - 0s 822us/step - loss: 0.8654 - accuracy: 0.7400\n",
      "Epoch 7/100\n",
      "50/50 [==============================] - 0s 870us/step - loss: 0.8285 - accuracy: 0.7600\n",
      "Epoch 8/100\n",
      "50/50 [==============================] - 0s 899us/step - loss: 0.7931 - accuracy: 0.8000\n",
      "Epoch 9/100\n",
      "50/50 [==============================] - 0s 896us/step - loss: 0.7597 - accuracy: 0.7200\n",
      "Epoch 10/100\n",
      "50/50 [==============================] - 0s 935us/step - loss: 0.7297 - accuracy: 0.6800\n",
      "Epoch 11/100\n",
      "50/50 [==============================] - 0s 901us/step - loss: 0.7036 - accuracy: 0.8100\n",
      "Epoch 12/100\n",
      "50/50 [==============================] - 0s 931us/step - loss: 0.6805 - accuracy: 0.7800\n",
      "Epoch 13/100\n",
      "50/50 [==============================] - 0s 949us/step - loss: 0.6598 - accuracy: 0.7600\n",
      "Epoch 14/100\n",
      "50/50 [==============================] - 0s 905us/step - loss: 0.6403 - accuracy: 0.8600\n",
      "Epoch 15/100\n",
      "50/50 [==============================] - 0s 895us/step - loss: 0.6258 - accuracy: 0.8000\n",
      "Epoch 16/100\n",
      "50/50 [==============================] - 0s 937us/step - loss: 0.6088 - accuracy: 0.8300\n",
      "Epoch 17/100\n",
      "50/50 [==============================] - 0s 897us/step - loss: 0.5929 - accuracy: 0.7600\n",
      "Epoch 18/100\n",
      "50/50 [==============================] - 0s 893us/step - loss: 0.5799 - accuracy: 0.8700\n",
      "Epoch 19/100\n",
      "50/50 [==============================] - 0s 931us/step - loss: 0.5666 - accuracy: 0.8100\n",
      "Epoch 20/100\n",
      "50/50 [==============================] - 0s 906us/step - loss: 0.5546 - accuracy: 0.8900\n",
      "Epoch 21/100\n",
      "50/50 [==============================] - 0s 916us/step - loss: 0.5443 - accuracy: 0.7500\n",
      "Epoch 22/100\n",
      "50/50 [==============================] - 0s 919us/step - loss: 0.5362 - accuracy: 0.8600\n",
      "Epoch 23/100\n",
      "50/50 [==============================] - 0s 952us/step - loss: 0.5245 - accuracy: 0.9400\n",
      "Epoch 24/100\n",
      "50/50 [==============================] - 0s 867us/step - loss: 0.5189 - accuracy: 0.8200\n",
      "Epoch 25/100\n",
      "50/50 [==============================] - 0s 900us/step - loss: 0.5106 - accuracy: 0.9400\n",
      "Epoch 26/100\n",
      "50/50 [==============================] - 0s 1ms/step - loss: 0.5014 - accuracy: 0.8300\n",
      "Epoch 27/100\n",
      "50/50 [==============================] - 0s 887us/step - loss: 0.4957 - accuracy: 0.9200\n",
      "Epoch 28/100\n",
      "50/50 [==============================] - 0s 832us/step - loss: 0.4897 - accuracy: 0.8900\n",
      "Epoch 29/100\n",
      "50/50 [==============================] - 0s 820us/step - loss: 0.4780 - accuracy: 0.8200\n",
      "Epoch 30/100\n",
      "50/50 [==============================] - 0s 833us/step - loss: 0.4747 - accuracy: 0.9200\n",
      "Epoch 31/100\n",
      "50/50 [==============================] - 0s 826us/step - loss: 0.4695 - accuracy: 0.9100\n",
      "Epoch 32/100\n",
      "50/50 [==============================] - 0s 847us/step - loss: 0.4635 - accuracy: 0.9400\n",
      "Epoch 33/100\n",
      "50/50 [==============================] - 0s 814us/step - loss: 0.4604 - accuracy: 0.8700\n",
      "Epoch 34/100\n",
      "50/50 [==============================] - 0s 818us/step - loss: 0.4523 - accuracy: 0.8800\n",
      "Epoch 35/100\n",
      "50/50 [==============================] - 0s 799us/step - loss: 0.4494 - accuracy: 0.9300\n",
      "Epoch 36/100\n",
      "50/50 [==============================] - 0s 826us/step - loss: 0.4422 - accuracy: 0.9200\n",
      "Epoch 37/100\n",
      "50/50 [==============================] - ETA: 0s - loss: 0.6687 - accuracy: 1.00 - 0s 830us/step - loss: 0.4409 - accuracy: 0.9600\n",
      "Epoch 38/100\n",
      "50/50 [==============================] - 0s 908us/step - loss: 0.4331 - accuracy: 0.9200\n",
      "Epoch 39/100\n",
      "50/50 [==============================] - 0s 857us/step - loss: 0.4271 - accuracy: 0.9400\n",
      "Epoch 40/100\n",
      "50/50 [==============================] - 0s 850us/step - loss: 0.4226 - accuracy: 0.9400\n",
      "Epoch 41/100\n",
      "50/50 [==============================] - 0s 797us/step - loss: 0.4206 - accuracy: 0.8800\n",
      "Epoch 42/100\n",
      "50/50 [==============================] - 0s 831us/step - loss: 0.4170 - accuracy: 0.9300\n",
      "Epoch 43/100\n",
      "50/50 [==============================] - 0s 812us/step - loss: 0.4111 - accuracy: 0.9300\n",
      "Epoch 44/100\n",
      "50/50 [==============================] - 0s 869us/step - loss: 0.4061 - accuracy: 0.9500\n",
      "Epoch 45/100\n",
      "50/50 [==============================] - 0s 856us/step - loss: 0.4048 - accuracy: 0.9200\n",
      "Epoch 46/100\n",
      "50/50 [==============================] - 0s 918us/step - loss: 0.3980 - accuracy: 0.9400\n",
      "Epoch 47/100\n",
      "50/50 [==============================] - 0s 984us/step - loss: 0.3968 - accuracy: 0.9300\n",
      "Epoch 48/100\n",
      "50/50 [==============================] - 0s 952us/step - loss: 0.3888 - accuracy: 0.9200\n",
      "Epoch 49/100\n",
      "50/50 [==============================] - ETA: 0s - loss: 0.4719 - accuracy: 1.00 - 0s 901us/step - loss: 0.3856 - accuracy: 0.9200\n",
      "Epoch 50/100\n",
      "50/50 [==============================] - 0s 937us/step - loss: 0.3831 - accuracy: 0.9400\n",
      "Epoch 51/100\n",
      "50/50 [==============================] - 0s 852us/step - loss: 0.3781 - accuracy: 0.9100\n",
      "Epoch 52/100\n",
      "50/50 [==============================] - 0s 895us/step - loss: 0.3745 - accuracy: 0.9500\n",
      "Epoch 53/100\n",
      "50/50 [==============================] - 0s 891us/step - loss: 0.3709 - accuracy: 0.9300\n",
      "Epoch 54/100\n",
      "50/50 [==============================] - 0s 884us/step - loss: 0.3676 - accuracy: 0.9500\n",
      "Epoch 55/100\n",
      "50/50 [==============================] - 0s 883us/step - loss: 0.3641 - accuracy: 0.9500\n",
      "Epoch 56/100\n",
      "50/50 [==============================] - 0s 818us/step - loss: 0.3595 - accuracy: 0.9600\n",
      "Epoch 57/100\n",
      "50/50 [==============================] - 0s 887us/step - loss: 0.3557 - accuracy: 0.9200\n",
      "Epoch 58/100\n",
      "50/50 [==============================] - 0s 877us/step - loss: 0.3529 - accuracy: 0.9200\n",
      "Epoch 59/100\n",
      "50/50 [==============================] - 0s 914us/step - loss: 0.3504 - accuracy: 0.9800\n",
      "Epoch 60/100\n",
      "50/50 [==============================] - 0s 900us/step - loss: 0.3456 - accuracy: 0.9600\n",
      "Epoch 61/100\n",
      "50/50 [==============================] - 0s 896us/step - loss: 0.3380 - accuracy: 0.9500\n",
      "Epoch 62/100\n",
      "50/50 [==============================] - 0s 878us/step - loss: 0.3411 - accuracy: 0.9500\n",
      "Epoch 63/100\n",
      "50/50 [==============================] - 0s 908us/step - loss: 0.3358 - accuracy: 0.9600\n",
      "Epoch 64/100\n",
      "50/50 [==============================] - 0s 823us/step - loss: 0.3309 - accuracy: 0.9500\n",
      "Epoch 65/100\n",
      "50/50 [==============================] - 0s 846us/step - loss: 0.3295 - accuracy: 0.9600\n",
      "Epoch 66/100\n",
      "50/50 [==============================] - 0s 949us/step - loss: 0.3254 - accuracy: 0.9600\n",
      "Epoch 67/100\n",
      "50/50 [==============================] - 0s 815us/step - loss: 0.3256 - accuracy: 0.9600\n",
      "Epoch 68/100\n",
      "50/50 [==============================] - 0s 813us/step - loss: 0.3234 - accuracy: 0.9700\n",
      "Epoch 69/100\n",
      "50/50 [==============================] - 0s 813us/step - loss: 0.3173 - accuracy: 0.9600\n",
      "Epoch 70/100\n",
      "50/50 [==============================] - 0s 828us/step - loss: 0.3138 - accuracy: 0.9600\n",
      "Epoch 71/100\n",
      "50/50 [==============================] - 0s 893us/step - loss: 0.3120 - accuracy: 0.9800\n",
      "Epoch 72/100\n",
      "50/50 [==============================] - 0s 887us/step - loss: 0.3075 - accuracy: 0.9600\n",
      "Epoch 73/100\n",
      "50/50 [==============================] - 0s 934us/step - loss: 0.3068 - accuracy: 0.9600\n",
      "Epoch 74/100\n",
      "50/50 [==============================] - 0s 832us/step - loss: 0.3035 - accuracy: 0.9600\n",
      "Epoch 75/100\n",
      "50/50 [==============================] - 0s 940us/step - loss: 0.2980 - accuracy: 0.9500\n",
      "Epoch 76/100\n",
      "50/50 [==============================] - 0s 872us/step - loss: 0.2967 - accuracy: 0.9700\n",
      "Epoch 77/100\n",
      "50/50 [==============================] - 0s 892us/step - loss: 0.2960 - accuracy: 0.9600\n",
      "Epoch 78/100\n",
      "50/50 [==============================] - 0s 904us/step - loss: 0.2915 - accuracy: 0.9800\n",
      "Epoch 79/100\n",
      "50/50 [==============================] - 0s 845us/step - loss: 0.2863 - accuracy: 0.9500\n",
      "Epoch 80/100\n"
     ]
    },
    {
     "name": "stdout",
     "output_type": "stream",
     "text": [
      "50/50 [==============================] - 0s 855us/step - loss: 0.2847 - accuracy: 0.9600\n",
      "Epoch 81/100\n",
      "50/50 [==============================] - 0s 871us/step - loss: 0.2833 - accuracy: 0.9700\n",
      "Epoch 82/100\n",
      "50/50 [==============================] - 0s 869us/step - loss: 0.2793 - accuracy: 0.9800\n",
      "Epoch 83/100\n",
      "50/50 [==============================] - 0s 815us/step - loss: 0.2753 - accuracy: 0.9500\n",
      "Epoch 84/100\n",
      "50/50 [==============================] - 0s 813us/step - loss: 0.2747 - accuracy: 0.9800\n",
      "Epoch 85/100\n",
      "50/50 [==============================] - 0s 791us/step - loss: 0.2736 - accuracy: 0.9500\n",
      "Epoch 86/100\n",
      "50/50 [==============================] - 0s 823us/step - loss: 0.2713 - accuracy: 0.9800\n",
      "Epoch 87/100\n",
      "50/50 [==============================] - 0s 845us/step - loss: 0.2675 - accuracy: 0.9700\n",
      "Epoch 88/100\n",
      "50/50 [==============================] - 0s 831us/step - loss: 0.2657 - accuracy: 0.9700\n",
      "Epoch 89/100\n",
      "50/50 [==============================] - 0s 849us/step - loss: 0.2606 - accuracy: 0.9700\n",
      "Epoch 90/100\n",
      "50/50 [==============================] - 0s 814us/step - loss: 0.2614 - accuracy: 0.9700\n",
      "Epoch 91/100\n",
      "50/50 [==============================] - 0s 925us/step - loss: 0.2608 - accuracy: 0.9700\n",
      "Epoch 92/100\n",
      "50/50 [==============================] - 0s 785us/step - loss: 0.2579 - accuracy: 0.9600\n",
      "Epoch 93/100\n",
      "50/50 [==============================] - 0s 776us/step - loss: 0.2540 - accuracy: 0.9600\n",
      "Epoch 94/100\n",
      "50/50 [==============================] - 0s 854us/step - loss: 0.2524 - accuracy: 0.9700\n",
      "Epoch 95/100\n",
      "50/50 [==============================] - 0s 770us/step - loss: 0.2501 - accuracy: 0.9800\n",
      "Epoch 96/100\n",
      "50/50 [==============================] - ETA: 0s - loss: 0.0697 - accuracy: 1.00 - 0s 894us/step - loss: 0.2458 - accuracy: 0.9600\n",
      "Epoch 97/100\n",
      "50/50 [==============================] - 0s 842us/step - loss: 0.2508 - accuracy: 0.9600\n",
      "Epoch 98/100\n",
      "50/50 [==============================] - 0s 828us/step - loss: 0.2407 - accuracy: 0.9700\n",
      "Epoch 99/100\n",
      "50/50 [==============================] - 0s 842us/step - loss: 0.2444 - accuracy: 0.9600\n",
      "Epoch 100/100\n",
      "50/50 [==============================] - 0s 813us/step - loss: 0.2359 - accuracy: 0.9700\n"
     ]
    }
   ],
   "source": [
    "history = model.fit(X_train, y_train, epochs = 100, batch_size = 2)"
   ]
  },
  {
   "cell_type": "code",
   "execution_count": 8,
   "id": "88306db3",
   "metadata": {},
   "outputs": [
    {
     "data": {
      "image/png": "[encoded data removed]",
      "text/plain": [
       "<Figure size 432x288 with 1 Axes>"
      ]
     },
     "metadata": {
      "needs_background": "light"
     },
     "output_type": "display_data"
    }
   ],
   "source": [
    "# 학습 곡선 그래프\n",
    "import pandas as pd\n",
    "import matplotlib.pyplot as plt\n",
    "pd.DataFrame(history. history).plot();"
   ]
  },
  {
   "cell_type": "markdown",
   "id": "d08573f1",
   "metadata": {},
   "source": [
    "- `fit()`가 반환하는 history 객체의 history 속성은 손실과 지표 결과임(딕셔너리)\n",
    "    - 이를 이용하여 학습곡선을 그릴 수 있음\n",
    "    \n",
    "    \n",
    "- **주의 : 케라스에서는 fit을 다시 호출하면 중지되었던 곳에서 훈련을 이어 감**"
   ]
  },
  {
   "cell_type": "markdown",
   "id": "972c8963",
   "metadata": {},
   "source": [
    "### 모델을 사용한 예측\n",
    "- `predict()` 메서드"
   ]
  },
  {
   "cell_type": "code",
   "execution_count": 12,
   "id": "369c842e",
   "metadata": {},
   "outputs": [
    {
     "data": {
      "text/plain": [
       "array([[9.35398638e-01, 6.44174442e-02, 1.84030156e-04],\n",
       "       [9.56699491e-01, 4.32001762e-02, 1.00361875e-04],\n",
       "       [9.57000256e-01, 4.29054610e-02, 9.42487604e-05]], dtype=float32)"
      ]
     },
     "execution_count": 12,
     "metadata": {},
     "output_type": "execute_result"
    }
   ],
   "source": [
    "# predict()\n",
    "p = model.predict(X_test[:3])\n",
    "p"
   ]
  },
  {
   "cell_type": "code",
   "execution_count": 13,
   "id": "fea01ed1",
   "metadata": {},
   "outputs": [
    {
     "data": {
      "text/plain": [
       "array([0, 0, 0], dtype=int64)"
      ]
     },
     "execution_count": 13,
     "metadata": {},
     "output_type": "execute_result"
    }
   ],
   "source": [
    "import numpy as np\n",
    "np.argmax(p, axis = 1)"
   ]
  },
  {
   "cell_type": "code",
   "execution_count": 14,
   "id": "f5e9f0e2",
   "metadata": {},
   "outputs": [
    {
     "data": {
      "text/plain": [
       "array([0, 0, 0])"
      ]
     },
     "execution_count": 14,
     "metadata": {},
     "output_type": "execute_result"
    }
   ],
   "source": [
    "y_test[:3]"
   ]
  },
  {
   "cell_type": "markdown",
   "id": "3d4026b8",
   "metadata": {},
   "source": [
    "### 모델 평가\n",
    "- `evaluate()` 메서드"
   ]
  },
  {
   "cell_type": "code",
   "execution_count": 16,
   "id": "db444e3d",
   "metadata": {},
   "outputs": [
    {
     "name": "stdout",
     "output_type": "stream",
     "text": [
      "2/2 [==============================] - 0s 2ms/step - loss: 0.2112 - accuracy: 0.9400\n"
     ]
    },
    {
     "data": {
      "text/plain": [
       "[0.21123751997947693, 0.9399999976158142]"
      ]
     },
     "execution_count": 16,
     "metadata": {},
     "output_type": "execute_result"
    }
   ],
   "source": [
    "model.evaluate(X_test, y_test, batch_size = 32)  # print[loss, accuracy]  # batch_size = 32 가 디폴트임"
   ]
  },
  {
   "cell_type": "markdown",
   "id": "dcdad165",
   "metadata": {},
   "source": [
    "### 모델 저장 및 복원"
   ]
  },
  {
   "cell_type": "markdown",
   "id": "5a92c901",
   "metadata": {},
   "source": [
    "#### 모델 저장\n",
    "- 훈련된 모델을 나중에 사용하기 위해 디스크에 저장\n",
    "    - HDF5 포멧"
   ]
  },
  {
   "cell_type": "code",
   "execution_count": 22,
   "id": "a4d65ddc",
   "metadata": {},
   "outputs": [],
   "source": [
    "model.save('iris_classifier.h5', overwrite = True, include_optimizer = True, save_format = 'h5')"
   ]
  },
  {
   "cell_type": "markdown",
   "id": "6c859929",
   "metadata": {},
   "source": [
    "#### 모델 복원"
   ]
  },
  {
   "cell_type": "code",
   "execution_count": 23,
   "id": "de213229",
   "metadata": {},
   "outputs": [
    {
     "ename": "NameError",
     "evalue": "name 'model' is not defined",
     "output_type": "error",
     "traceback": [
      "\u001b[1;31m---------------------------------------------------------------------------\u001b[0m",
      "\u001b[1;31mNameError\u001b[0m                                 Traceback (most recent call last)",
      "\u001b[1;32m<ipython-input-23-d516a8cacbd8>\u001b[0m in \u001b[0;36m<module>\u001b[1;34m\u001b[0m\n\u001b[0;32m      1\u001b[0m \u001b[1;32mdel\u001b[0m \u001b[0mmodel\u001b[0m\u001b[1;33m\u001b[0m\u001b[1;33m\u001b[0m\u001b[0m\n\u001b[1;32m----> 2\u001b[1;33m \u001b[0mprint\u001b[0m\u001b[1;33m(\u001b[0m\u001b[0mmodel\u001b[0m\u001b[1;33m)\u001b[0m\u001b[1;33m\u001b[0m\u001b[1;33m\u001b[0m\u001b[0m\n\u001b[0m",
      "\u001b[1;31mNameError\u001b[0m: name 'model' is not defined"
     ]
    }
   ],
   "source": [
    "del model\n",
    "print(model)"
   ]
  },
  {
   "cell_type": "code",
   "execution_count": 24,
   "id": "4e7ec100",
   "metadata": {},
   "outputs": [
    {
     "name": "stdout",
     "output_type": "stream",
     "text": [
      "Model: \"sequential_1\"\n",
      "_________________________________________________________________\n",
      " Layer (type)                Output Shape              Param #   \n",
      "=================================================================\n",
      " dense_2 (Dense)             (None, 16)                80        \n",
      "                                                                 \n",
      " dense_3 (Dense)             (None, 3)                 51        \n",
      "                                                                 \n",
      "=================================================================\n",
      "Total params: 131\n",
      "Trainable params: 131\n",
      "Non-trainable params: 0\n",
      "_________________________________________________________________\n"
     ]
    }
   ],
   "source": [
    "model = tf.keras.models.load_model('iris_classifier.h5')\n",
    "model.summary()"
   ]
  },
  {
   "cell_type": "markdown",
   "id": "7c80756c",
   "metadata": {},
   "source": [
    "## 이미지 분류기 만들기(feat. `tf.keras.Sequential`, MNIST)"
   ]
  },
  {
   "cell_type": "code",
   "execution_count": 32,
   "id": "09e37886",
   "metadata": {},
   "outputs": [],
   "source": [
    "(X_train, y_train), (X_test, y_test) = tf.keras.datasets.fashion_mnist.load_data()\n",
    "class_names = ['T-shirt/top', 'Trouser', 'Pullover' 'Dress', 'Coat',\n",
    "               'Sandal', 'Shirt', 'Sneaker', 'Bag', 'Ankleboot']"
   ]
  },
  {
   "cell_type": "code",
   "execution_count": 30,
   "id": "ca2eb0e9",
   "metadata": {},
   "outputs": [
    {
     "data": {
      "image/png": "[encoded data removed]",
      "text/plain": [
       "<Figure size 432x288 with 1 Axes>"
      ]
     },
     "metadata": {
      "needs_background": "light"
     },
     "output_type": "display_data"
    }
   ],
   "source": [
    "plt.imshow(X_train[0,:,:], cmap = 'Greys');  # class_names[9]"
   ]
  },
  {
   "cell_type": "code",
   "execution_count": 33,
   "id": "1951ee54",
   "metadata": {},
   "outputs": [],
   "source": [
    "# 표준화\n",
    "X_train, X_test = X_train / 255.0, X_test / 255.0"
   ]
  },
  {
   "cell_type": "code",
   "execution_count": 37,
   "id": "8277982e",
   "metadata": {},
   "outputs": [
    {
     "name": "stdout",
     "output_type": "stream",
     "text": [
      "Model: \"sequential_3\"\n",
      "_________________________________________________________________\n",
      " Layer (type)                Output Shape              Param #   \n",
      "=================================================================\n",
      " flatten_1 (Flatten)         (None, 784)               0         \n",
      "                                                                 \n",
      " dense_7 (Dense)             (None, 300)               235500    \n",
      "                                                                 \n",
      " dense_8 (Dense)             (None, 100)               30100     \n",
      "                                                                 \n",
      " dense_9 (Dense)             (None, 10)                1010      \n",
      "                                                                 \n",
      "=================================================================\n",
      "Total params: 266,610\n",
      "Trainable params: 266,610\n",
      "Non-trainable params: 0\n",
      "_________________________________________________________________\n"
     ]
    }
   ],
   "source": [
    "# 모델 구축\n",
    "model = tf.keras.Sequential([\n",
    "    tf.keras.layers.Flatten(input_shape = [28, 28]),  # 입력 평탄화(3차원 -> 1차원으로 변경)\n",
    "    tf.keras.layers.Dense(300, activation = 'relu'),  # hidden1\n",
    "    tf.keras.layers.Dense(100, activation = 'relu'),  # hidden2\n",
    "    tf.keras.layers.Dense(10, activation = 'softmax')  # output\n",
    "])\n",
    "model.summary()"
   ]
  },
  {
   "cell_type": "code",
   "execution_count": 38,
   "id": "713985c2",
   "metadata": {},
   "outputs": [],
   "source": [
    "# 모델 컴파일\n",
    "model.compile(loss = 'sparse_categorical_crossentropy',\n",
    "              optimizer = 'sgd', metrics = ['accuracy'])"
   ]
  },
  {
   "cell_type": "code",
   "execution_count": 39,
   "id": "cbfd6719",
   "metadata": {},
   "outputs": [
    {
     "name": "stdout",
     "output_type": "stream",
     "text": [
      "Epoch 1/30\n",
      "1688/1688 [==============================] - 3s 2ms/step - loss: 0.7258 - accuracy: 0.7631 - val_loss: 0.5495 - val_accuracy: 0.8018\n",
      "Epoch 2/30\n",
      "1688/1688 [==============================] - 3s 2ms/step - loss: 0.4922 - accuracy: 0.8307 - val_loss: 0.5182 - val_accuracy: 0.8077\n",
      "Epoch 3/30\n",
      "1688/1688 [==============================] - 3s 2ms/step - loss: 0.4459 - accuracy: 0.8453 - val_loss: 0.4453 - val_accuracy: 0.8422\n",
      "Epoch 4/30\n",
      "1688/1688 [==============================] - 3s 2ms/step - loss: 0.4189 - accuracy: 0.8544 - val_loss: 0.4488 - val_accuracy: 0.8408\n",
      "Epoch 5/30\n",
      "1688/1688 [==============================] - 3s 2ms/step - loss: 0.3993 - accuracy: 0.8595 - val_loss: 0.4056 - val_accuracy: 0.8580\n",
      "Epoch 6/30\n",
      "1688/1688 [==============================] - 3s 2ms/step - loss: 0.3825 - accuracy: 0.8657 - val_loss: 0.4081 - val_accuracy: 0.8568\n",
      "Epoch 7/30\n",
      "1688/1688 [==============================] - 3s 2ms/step - loss: 0.3693 - accuracy: 0.8696 - val_loss: 0.3942 - val_accuracy: 0.8578\n",
      "Epoch 8/30\n",
      "1688/1688 [==============================] - 3s 2ms/step - loss: 0.3572 - accuracy: 0.8735 - val_loss: 0.4019 - val_accuracy: 0.8560\n",
      "Epoch 9/30\n",
      "1688/1688 [==============================] - 3s 2ms/step - loss: 0.3480 - accuracy: 0.8765 - val_loss: 0.3831 - val_accuracy: 0.8653\n",
      "Epoch 10/30\n",
      "1688/1688 [==============================] - 3s 2ms/step - loss: 0.3379 - accuracy: 0.8809 - val_loss: 0.3497 - val_accuracy: 0.8743\n",
      "Epoch 11/30\n",
      "1688/1688 [==============================] - 3s 2ms/step - loss: 0.3293 - accuracy: 0.8832 - val_loss: 0.3533 - val_accuracy: 0.8763\n",
      "Epoch 12/30\n",
      "1688/1688 [==============================] - 3s 2ms/step - loss: 0.3215 - accuracy: 0.8867 - val_loss: 0.3555 - val_accuracy: 0.8707\n",
      "Epoch 13/30\n",
      "1688/1688 [==============================] - 3s 2ms/step - loss: 0.3132 - accuracy: 0.8881 - val_loss: 0.3679 - val_accuracy: 0.8740\n",
      "Epoch 14/30\n",
      "1688/1688 [==============================] - 3s 2ms/step - loss: 0.3078 - accuracy: 0.8897 - val_loss: 0.3391 - val_accuracy: 0.8798\n",
      "Epoch 15/30\n",
      "1688/1688 [==============================] - 3s 2ms/step - loss: 0.3003 - accuracy: 0.8926 - val_loss: 0.3557 - val_accuracy: 0.8713\n",
      "Epoch 16/30\n",
      "1688/1688 [==============================] - 3s 2ms/step - loss: 0.2947 - accuracy: 0.8952 - val_loss: 0.3261 - val_accuracy: 0.8828\n",
      "Epoch 17/30\n",
      "1688/1688 [==============================] - 3s 2ms/step - loss: 0.2887 - accuracy: 0.8975 - val_loss: 0.3327 - val_accuracy: 0.8820\n",
      "Epoch 18/30\n",
      "1688/1688 [==============================] - 3s 2ms/step - loss: 0.2827 - accuracy: 0.8983 - val_loss: 0.3274 - val_accuracy: 0.8823\n",
      "Epoch 19/30\n",
      "1688/1688 [==============================] - 3s 2ms/step - loss: 0.2775 - accuracy: 0.9012 - val_loss: 0.3487 - val_accuracy: 0.8730\n",
      "Epoch 20/30\n",
      "1688/1688 [==============================] - 3s 2ms/step - loss: 0.2717 - accuracy: 0.9023 - val_loss: 0.3221 - val_accuracy: 0.8813\n",
      "Epoch 21/30\n",
      "1688/1688 [==============================] - 3s 2ms/step - loss: 0.2671 - accuracy: 0.9048 - val_loss: 0.3170 - val_accuracy: 0.8848\n",
      "Epoch 22/30\n",
      "1688/1688 [==============================] - 3s 2ms/step - loss: 0.2616 - accuracy: 0.9061 - val_loss: 0.3602 - val_accuracy: 0.8670\n",
      "Epoch 23/30\n",
      "1688/1688 [==============================] - 3s 2ms/step - loss: 0.2580 - accuracy: 0.9065 - val_loss: 0.3161 - val_accuracy: 0.8857\n",
      "Epoch 24/30\n",
      "1688/1688 [==============================] - 3s 2ms/step - loss: 0.2531 - accuracy: 0.9099 - val_loss: 0.3279 - val_accuracy: 0.8835\n",
      "Epoch 25/30\n",
      "1688/1688 [==============================] - 3s 2ms/step - loss: 0.2483 - accuracy: 0.9108 - val_loss: 0.3122 - val_accuracy: 0.8832\n",
      "Epoch 26/30\n",
      "1688/1688 [==============================] - 3s 2ms/step - loss: 0.2444 - accuracy: 0.9130 - val_loss: 0.3189 - val_accuracy: 0.8842\n",
      "Epoch 27/30\n",
      "1688/1688 [==============================] - 3s 2ms/step - loss: 0.2396 - accuracy: 0.9144 - val_loss: 0.3174 - val_accuracy: 0.8888\n",
      "Epoch 28/30\n",
      "1688/1688 [==============================] - 3s 2ms/step - loss: 0.2358 - accuracy: 0.9157 - val_loss: 0.3152 - val_accuracy: 0.8857\n",
      "Epoch 29/30\n",
      "1688/1688 [==============================] - 3s 2ms/step - loss: 0.2323 - accuracy: 0.9176 - val_loss: 0.3087 - val_accuracy: 0.8892\n",
      "Epoch 30/30\n",
      "1688/1688 [==============================] - 3s 2ms/step - loss: 0.2288 - accuracy: 0.9180 - val_loss: 0.3101 - val_accuracy: 0.8873\n"
     ]
    }
   ],
   "source": [
    "# 모델 훈련\n",
    "history = model.fit(X_train, y_train, epochs = 30, validation_split = 0.1)  # validation set에 10%를 줌\n"
   ]
  },
  {
   "cell_type": "code",
   "execution_count": 42,
   "id": "e03a40ed",
   "metadata": {},
   "outputs": [
    {
     "data": {
      "image/png": "[encoded data removed]",
      "text/plain": [
       "<Figure size 432x288 with 1 Axes>"
      ]
     },
     "metadata": {
      "needs_background": "light"
     },
     "output_type": "display_data"
    }
   ],
   "source": [
    "pd.DataFrame(history.history).plot();"
   ]
  },
  {
   "cell_type": "code",
   "execution_count": 44,
   "id": "6478eff9",
   "metadata": {},
   "outputs": [
    {
     "data": {
      "text/plain": [
       "array([9, 2, 1], dtype=uint8)"
      ]
     },
     "execution_count": 44,
     "metadata": {},
     "output_type": "execute_result"
    }
   ],
   "source": [
    "# predict\n",
    "np.argmax(model.predict(X_test), axis = 1)\n",
    "y_test[:3]"
   ]
  },
  {
   "cell_type": "code",
   "execution_count": 45,
   "id": "356aea54",
   "metadata": {},
   "outputs": [
    {
     "name": "stdout",
     "output_type": "stream",
     "text": [
      "313/313 [==============================] - 0s 1ms/step - loss: 0.3333 - accuracy: 0.8828\n"
     ]
    },
    {
     "data": {
      "text/plain": [
       "[0.33327147364616394, 0.8827999830245972]"
      ]
     },
     "execution_count": 45,
     "metadata": {},
     "output_type": "execute_result"
    }
   ],
   "source": [
    "# score\n",
    "model.evaluate(X_test, y_test)"
   ]
  },
  {
   "cell_type": "code",
   "execution_count": 47,
   "id": "94ae9395",
   "metadata": {},
   "outputs": [
    {
     "data": {
      "text/plain": [
       "array([[867,   2,  25,  19,   3,   3,  74,   0,   7,   0],\n",
       "       [  1, 972,   1,  22,   2,   0,   2,   0,   0,   0],\n",
       "       [ 15,   0, 859,  14,  66,   1,  44,   0,   1,   0],\n",
       "       [ 28,   8,  22, 885,  34,   1,  18,   0,   4,   0],\n",
       "       [  0,   1, 132,  25, 803,   0,  37,   0,   2,   0],\n",
       "       [  0,   0,   0,   0,   0, 970,   0,  16,   2,  12],\n",
       "       [152,   2, 109,  25,  85,   0, 620,   0,   7,   0],\n",
       "       [  0,   0,   0,   0,   0,  32,   0, 949,   0,  19],\n",
       "       [  8,   0,   9,   5,   5,   2,   7,   6, 958,   0],\n",
       "       [  0,   0,   0,   0,   0,  12,   1,  42,   0, 945]], dtype=int64)"
      ]
     },
     "execution_count": 47,
     "metadata": {},
     "output_type": "execute_result"
    }
   ],
   "source": [
    "# confision matrix\n",
    "from sklearn.metrics import confusion_matrix\n",
    "\n",
    "p = np.argmax(model.predict(X_test), axis = 1)\n",
    "confusion_matrix(y_test, p)"
   ]
  },
  {
   "cell_type": "markdown",
   "id": "62517a5d",
   "metadata": {},
   "source": [
    "## 신경망 하이퍼파라미터 튜닝하기\n",
    "- 신경망은 유연하지만, 조정할 하이퍼파라미터가 너무 많음\n",
    "    - 층의 개수, 각 층의 뉴런의 개수, 활성화 함수. 가중치 초기화, 학습률, 옵티마이저\n",
    "- 케라스 모형을 사이킷런 추정기로 바꾼 후, RandomizedSearchCV를 사용하여 최적 하이퍼파라미터 선택"
   ]
  },
  {
   "cell_type": "code",
   "execution_count": null,
   "id": "257c46e9",
   "metadata": {},
   "outputs": [],
   "source": []
  }
 ],
 "metadata": {
  "kernelspec": {
   "display_name": "Python 3",
   "language": "python",
   "name": "python3"
  },
  "language_info": {
   "codemirror_mode": {
    "name": "ipython",
    "version": 3
   },
   "file_extension": ".py",
   "mimetype": "text/x-python",
   "name": "python",
   "nbconvert_exporter": "python",
   "pygments_lexer": "ipython3",
   "version": "3.8.8"
  },
  "toc": {
   "base_numbering": 1,
   "nav_menu": {},
   "number_sections": true,
   "sideBar": true,
   "skip_h1_title": false,
   "title_cell": "Table of Contents",
   "title_sidebar": "Contents",
   "toc_cell": false,
   "toc_position": {},
   "toc_section_display": true,
   "toc_window_display": true
  }
 },
 "nbformat": 4,
 "nbformat_minor": 5
}
