{
 "cells": [
  {
   "cell_type": "markdown",
   "id": "2fea1e66",
   "metadata": {},
   "source": [
    "### 1\n",
    "<img src='https://github.com/whattSUPkim/Data-Science/blob/main/etc/image/stats/%ED%99%95%EB%A5%A0%EB%B6%84%ED%8F%AC%EA%B0%84%20%EA%B4%80%EA%B3%84%EB%8F%84.jpg?raw=true' width = '600'/>"
   ]
  },
  {
   "cell_type": "markdown",
   "id": "4e184716",
   "metadata": {},
   "source": [
    "#### 2\n",
    "![](https://github.com/whattSUPkim/Data-Science/blob/main/etc/image/stats/%ED%99%95%EB%A5%A0%EB%B6%84%ED%8F%AC%EA%B0%84%20%EC%97%AD%ED%95%99%EA%B4%80%EA%B3%84%EB%8F%84.png?raw=true)"
   ]
  },
  {
   "cell_type": "code",
   "execution_count": null,
   "id": "b122c269",
   "metadata": {},
   "outputs": [],
   "source": []
  }
 ],
 "metadata": {
  "kernelspec": {
   "display_name": "Python 3",
   "language": "python",
   "name": "python3"
  },
  "language_info": {
   "codemirror_mode": {
    "name": "ipython",
    "version": 3
   },
   "file_extension": ".py",
   "mimetype": "text/x-python",
   "name": "python",
   "nbconvert_exporter": "python",
   "pygments_lexer": "ipython3",
   "version": "3.8.8"
  },
  "toc": {
   "base_numbering": 1,
   "nav_menu": {},
   "number_sections": true,
   "sideBar": true,
   "skip_h1_title": false,
   "title_cell": "Table of Contents",
   "title_sidebar": "Contents",
   "toc_cell": false,
   "toc_position": {},
   "toc_section_display": true,
   "toc_window_display": false
  }
 },
 "nbformat": 4,
 "nbformat_minor": 5
}
