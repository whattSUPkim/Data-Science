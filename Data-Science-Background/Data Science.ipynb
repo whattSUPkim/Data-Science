{
 "cells": [
  {
   "cell_type": "markdown",
   "id": "751aed76",
   "metadata": {
    "toc-hr-collapsed": true
   },
   "source": [
    "# 데이터의 개념(Concept of Data)"
   ]
  },
  {
   "cell_type": "markdown",
   "id": "fb7823fd",
   "metadata": {},
   "source": [
    "## 데이터 단어 유래\n",
    "- 데이터는 라틴어 Datum의 복수형인 Data에서 유래\n",
    "- 라틴어에서 Datum의 뜻은 'present/gift, that which is given, debit'\n"
   ]
  },
  {
   "cell_type": "markdown",
   "id": "e50f6000-01d9-438c-8f56-1bfbdec7df7f",
   "metadata": {},
   "source": [
    "## DIKW Pyramid\n",
    "- Data -> Information -> Knowledge -> Wisdom            "
   ]
  },
  {
   "cell_type": "markdown",
   "id": "5b61576b-5042-47d8-9d97-9199b65703e2",
   "metadata": {},
   "source": [
    "## 자료 수집 방법\n",
    "- 질문지법\n",
    "    - 장: 통계 처리 쉽고 자료 분석 용이\n",
    "    - 단: 문맹자에게 실시 곤란\n",
    "- 실험법\n",
    "    - 장: 과학적 연구 가능\n",
    "    - 단: 윤리적 문제 발생\n",
    "- 면접법\n",
    "    - 장: 깊이 있는 자료 수집\n",
    "    - 단: 비용이 많이 들고 표본을 구하기 어려움\n",
    "- 참여관찰법\n",
    "    - 장: 현장감 있는 생생한 자료 수집\n",
    "    - 단: 예쌍치 못했던 변수의 통제 곤란\n",
    "- 문헌 연구법\n",
    "    - 장: 시간과 공간의 제약 극복\n",
    "    - 단: 문헌의 신뢰성이 낮으면 연구의 신뢰성이 떨어짐  "
   ]
  },
  {
   "cell_type": "markdown",
   "id": "35fd80e4-2f8a-4427-83b8-d931060b4883",
   "metadata": {},
   "source": [
    "## 데이터 종류 LOTS \n",
    "- L자료: 생애 데이터\n",
    "    - 생활기록부, 범죄이력, 신용정보 등 한 대상의 통사적 정보를 알 수 있는 자료\n",
    "- O자료: 관찰 데이터\n",
    "    - 숙련된 관찰자 혹은 대상을 잘 아는 관계자 등이 제공하는 자료\n",
    "- T자료: 검사 데이터\n",
    "    - 실험적 절차를 거치거나 표준화된 검사를 통해 얻어진 데이터\n",
    "- S자료: 자기보고 데이터\n",
    "    - 어떤 대상에 대한 정보를 얻을 때 그 대상에게 직접 물어봐 얻은 자료 "
   ]
  },
  {
   "cell_type": "markdown",
   "id": "9844515f-db63-4c4a-9fe8-bc6acc520809",
   "metadata": {},
   "source": [
    "## 데이터 유형과 형식\n",
    "- 관측 및 관찰 데이터\n",
    "    - 현장에서 캡쳐\n",
    "    - 다시 캐쳐하거나 재생산 및 교체 불가\n",
    "    - 센서, 인간 관찰, 설문 등\n",
    "- 실험 데이터\n",
    "    - 현장 또는 실험실 기반의 통제된 조건 속에서 수집된 데이터\n",
    "    - 통제 및 재현 가능하지만 비쌈\n",
    "- 파생 또는 컴파일 데이터\n",
    "    - 재현 가능하지만 비쌈\n",
    "    - 텍스트 및 데이터 마이닝, 파생 변수 등\n",
    "- 시뮬레이션\n",
    "    - 모델을 사용하여 실제 또는 이론적 시스템의 동작 및 성능을 연구한 결과\n",
    "    - 모델 및 메타데이터는 입력 데이터가 출력 데이터보다 더 중요\n",
    "    - 기후 모델, 경제 모델 등\n",
    "- 참조 또는 표준\n",
    "    - 정적 또는 유기적 컬렉션 데이터 세트\n",
    "    - 유전자 서열 데이터 뱅크 등    "
   ]
  },
  {
   "cell_type": "markdown",
   "id": "9193c46c-3d68-462b-8063-680b130600e5",
   "metadata": {},
   "source": [
    "## 데이터 집합 특성\n",
    "- Dimensionality\n",
    "    - 데이터 집합의 차원은 각 데이터 개체가 가지는 속성의 개수를 의미(ex. 이름, 전화번호, 이메일 -> 3개의 속성)\n",
    "    - 속성의 수가 너무 많아 분석의 어려움을 겪는 것 = 차원의 저주(Curse of Dimensionality)\n",
    "- Sparsity\n",
    "    - 어떤 데이터 집합은 대부분의 데이터 개체에서 속성들이 0의 값을 가지며, 1% 미만의 데이터 개체에서만 0이 아닌 값을 가지는 경우가 있음\n",
    "    - 실제 많은 경우에서 데이터들은 sparse 함\n",
    "    - 일반적으로 0이 아닌 값만을 사용\n",
    "- Resolution\n",
    "    - resolution에 따라서 획득되는 데이터의 특성이 달라질 수 있음\n",
    "    - resolution이 너무 높은 경우에는 잡음과 같은 간섭 요인에 영향을 받을 수 있으며,  \n",
    "    반대로 너무 낮은 경우에는 정보가 사라질 수 있음\n",
    "    - ex. 해수 온도 측정에 있어 1년마다 측정을 한다면 계절별 온도 변화 패턴을 찾기는 어려움 "
   ]
  },
  {
   "cell_type": "markdown",
   "id": "a9b2a773-41eb-49e5-a3a3-f8a9bc88cd39",
   "metadata": {
    "toc-hr-collapsed": true
   },
   "source": [
    "# 데이터 구조와 종류(Data Structure and Type)"
   ]
  },
  {
   "cell_type": "markdown",
   "id": "7c49268a-1fc7-4fae-a9a0-70b42f7a2fff",
   "metadata": {},
   "source": [
    "## 정형 데이터 vs 비정형 데이터"
   ]
  },
  {
   "cell_type": "markdown",
   "id": "9db57644-608a-43ed-950f-cdc40887e24f",
   "metadata": {},
   "source": [
    "### 1. 정형데이터 종류\n",
    "- 레코드 데이터(Record data)\n",
    "    - 데이터 마이닝에서 가장 많이 사용되는 데이터 형태로 대개 flat 파일 형태로 저장된 데이터 세트\n",
    "    - 레코드의 모음으로 구성\n",
    "    - 각 레코드는 고정된 수의 속성으로 구성\n",
    "    1. 트랜잭션 데이터(Transaction Data)\n",
    "        - 구매자와 구매 물품목록 형태로 이루어진 데이터세트(장바구니 데이터라고도 불림)\n",
    "        |id|items|\n",
    "        |--|----------|\n",
    "        |1|bread, coke, milk|\n",
    "        |2|beer, bread|\n",
    "        |3|beer, coke, milk, diaper|\n",
    "    2. 데이터 행렬(Data matrix)\n",
    "        - 모든 속성이 수치 형태의 값을 가지는 행렬 형태의 데이터 세트\n",
    "        |a|b|c|d|\n",
    "        |--|--|--|--|\n",
    "        |1.0|2.0|3.0|4.0|\n",
    "        |3.0|2.0|2.0|1.0|\n",
    "    3. 희박한 데이터 행렬(Sparse Data Matrix)\n",
    "        - 데이터 행렬의 특별한 경우\n",
    "        - ex. 각 문서에서 용어가 출현하는 빈도 수\n",
    "        | |team|coach|play|\n",
    "        |--|--|--|--|\n",
    "        |Doc1|3|0|4|\n",
    "        |Doc2|0|0|1|\n",
    "- 그래프 데이터(Graph-based data)\n",
    "    - 데이터 개체 간의 관계나 데이터 자체를 그래프로 표현하는 경우\n",
    "    - ex. 웹 문서의 연결 관계, sns 등(노드 --(엣지)-- 노드 --(엣지)-- 노드 의 구조)\n",
    "- 순서 데이터(Ordered data)\n",
    "    - 데이터 개체의 속성이 시간 또는 공간적인 순서와 연관되는 데이터세트\n",
    "    - 순서 데이터의 종류\n",
    "        1. 연속 데이터(Sequential)\n",
    "            - 트랜잭션 데이터에서 시간 성분을 추가적으로 고려한 것\n",
    "            |time|id|items|\n",
    "            |----|--|----------|\n",
    "            |t1|1|bread, coke, milk|\n",
    "            |t2|2|beer, bread|\n",
    "            |t3|3|beer, coke, milk, diaper|\n",
    "        2. 서열 데이터(Sequence)\n",
    "            - 데이터 개체들 사이에 순서가 존재하는 데이터\n",
    "            - ex. DNA 서열(A, T, G, C)\n",
    "        3. 시계열 데이터(Time series)\n",
    "            - 연속 데이터의 특수한 경우\n",
    "            - 시간에 따른 속성의 변화를 관찰한 데이터 집합\n",
    "            - ex. 주가 지수, 시간별 기온 변화\n",
    "        4. 공간 데이터(Spatial)\n",
    "            - 위성 사진 분석 데이터와 같이 공간 상의 위치 정보와 연관이 되는 데이터 집합"
   ]
  },
  {
   "cell_type": "markdown",
   "id": "79386f58-a625-4caf-962a-795ce6ac8770",
   "metadata": {},
   "source": [
    "### 2. 비정형 데이터 종류\n",
    "- 텍스트 데이터\n",
    "- 로그 데이터\n",
    "    - 웹 서버 로그, 네트워크 로그, 이벤트 로그 등\n",
    "- 센서 데이터\n",
    "- 오디오 데이터\n",
    "- 이미지 데이터\n",
    "- 비디오 데이터 등"
   ]
  },
  {
   "cell_type": "markdown",
   "id": "7f1e3932-a4e9-4697-a226-1a3de172653a",
   "metadata": {},
   "source": [
    "## 데이터 세트\n",
    "- 데이터 모음\n",
    "- 하나의 데이터베이스 테이블의 내용이나 하나의 통계적 자료 행렬과 일치\n",
    "- 칼럼(column): 특정한 변수를 대표\n",
    "- 로우(row): 주어진 맴버와 일치\n",
    "- 데이터 세트: 데이터 개체들의 집합\n",
    "    - 데이터 개체(data object): 레코드(record), 점(point), 벡터(vector), 패턴(pattern), 사례(case), 사건(event), 샘플(sample), 관찰(observation), 개체(entity)\n",
    "    - 데이터 개체는 여러 개의 속성(attribute)로 기술\n",
    "        - 속성: 데이터 개체들 사이의 차이를 규정할 수 있는 특성이나 특징(ex. 눈동자의 색, 피부색, 키, 몸무게 등)\n",
    "        - 속성은 변수(variable), 특성(characteristic), 필드(field), 특징(feature), 차원(dimension) 등으로 불림"
   ]
  },
  {
   "cell_type": "markdown",
   "id": "e70aa8ce-9dba-49eb-8970-aa1c9301b39a",
   "metadata": {},
   "source": [
    "## 데이터 형태\n",
    "- 질적자료(정성적 자료, Qualitative or Categorical): 범주 또는 순서 형태의 속성을 가지는 자료\n",
    "    - 범주형(명목형, nominal) 자료: 사람의 피부색, 성별\n",
    "    - 순서형(서수형, ordinal) 자료: 제품의 품질, 등급, 순위  (서로 간 계층이 존재)\n",
    "- 양적자료(정량적 자료, Quantitative or Numeric): 관측된 값이 수치 형태의 속성을 가지는 자료\n",
    "    - 범위형(interval) 자료: 화씨, 섭씨와 같이 수치 간에 차이가 의미를 가지는 자료\n",
    "    > 학생 A, B 의 점수가 10점, 40점일 때 B 학생이 더 뛰어난 것은 맞으나, 4배 더 뛰어난 것은 아님\n",
    "    - 비율(ratio) 자료: 무게와 같이 수치의 차이 뿐만 아니라 비율 또한 의미를 가지는 자료(절대점이 있음)\n",
    "    > 아빠 몸무게가 70KG이고 아이 몸무게가 35KG일 때 아빠는 아이보다 몸무게가 4배 더 많이 나감"
   ]
  },
  {
   "cell_type": "markdown",
   "id": "6fc56a85-1b9e-4c62-ab2f-1fef45705929",
   "metadata": {
    "toc-hr-collapsed": true
   },
   "source": [
    "# 오픈데이터(Open Data)"
   ]
  },
  {
   "cell_type": "markdown",
   "id": "e07efb7d-ca26-4b9a-b369-e21fb9be76a5",
   "metadata": {},
   "source": [
    "## 스프레드시트\n",
    "- 많은 정부 기관이 엑셀과 같은 스프레드시트로 정보 관리\n",
    "- 계산 공식과 매크로 등이 포함되어 있음"
   ]
  },
  {
   "cell_type": "markdown",
   "id": "310a053b-df40-4103-94cb-f94dd3655b18",
   "metadata": {},
   "source": [
    "## CSV(Comma-Separated Values)\n",
    "- csv 파일은 간결하고 동일한 구조로 대용량 데이터 집합을 전송하기에 적합함\n",
    "- 별도의 메타데이터 문서가 없을 경우 서로 다른 컬럼의 중요성을 추측하기 어려움"
   ]
  },
  {
   "cell_type": "markdown",
   "id": "9e40b6a3-6abb-4eff-8738-068ceaf22b2b",
   "metadata": {},
   "source": [
    "## HTML(HyperText Markup Language)\n",
    "- 웹 페이지를 위한 마크업 언어\n",
    "- 제목, 단락, 목록 등과 같은 본문을 위한 구조적 의미를 나타낼 수 있음\n",
    "- 웹 페이지 콘텐츠 안의 < > 괄호에 둘러싸인 '태그'로 되어있는 html요소 형태로 작성\n",
    "- HTML은 자바스크립트와 CSS 같은 스크립트를 포함하거나 불러올 수 있음"
   ]
  },
  {
   "cell_type": "markdown",
   "id": "1062412c-1ecc-462b-90cb-cd4610eb830a",
   "metadata": {},
   "source": [
    "## XML(Extensible Markup Language)\n",
    "- 다른 특수한 목적을 갖는 마크업 언어를 만드는데 사용하도록 권장하는 다목적 마크업 언어\n",
    "- 다른 많은 종류의 데이터를 기술하는 데 사용할 수 있음(데이터 상호교환을 위해 폭넓게 사용되는 포멧)"
   ]
  },
  {
   "cell_type": "markdown",
   "id": "739eba71-ed7c-4105-80ac-468a7c4f65b2",
   "metadata": {},
   "source": [
    "## JSON(JavaScript Object Notation)\n",
    "- 속성-값 쌍 또는 키-값 쌍으로 이루어진 데이터 오브젝트를 전달하기 위한 개방형 표준 포멧\n",
    "- 비동기 브라우저/서버 통신 등을 위해, 넓게는 XML을 대체하는 주요 데이터 포멧\n",
    "- 인터넷에서 자료를 주고 받을 때 그 자료를 표현하는 방법으로 알려져 있음\n",
    "- 어떤 프로그래밍 언어로도 읽을 수 있는 단순한 파일 포멧\n",
    "- XML 같은 포멧에 비해 컴퓨터가 처리하기 쉬움"
   ]
  },
  {
   "cell_type": "markdown",
   "id": "d8e89935-4bf9-4f19-9bc2-f96ce62c4af1",
   "metadata": {},
   "source": [
    "## RDF(Resource Description Framework)\n",
    "- 다수의 자료원으로부터 데이터를 쉽게 조합할 수 있는 형식으로 데이터 표현 가능\n",
    "- RDF 데이터는 여러 가지 직렬화 방법이 있으며, XML과 JSON으로 편리하게 저장 가능\n",
    "- RDF는 웹에 있는 오픈 데이터를 서로 연결하는데 편리한 방법을 제공(식별자로 URL 사용을 장려)"
   ]
  },
  {
   "cell_type": "markdown",
   "id": "5139cdf1-645e-4618-8a9a-19d4e552a954",
   "metadata": {},
   "source": [
    "## 일반 텍스트(Plain Text)\n",
    "- .txt는 컴퓨터가 읽기 매우 쉬움\n",
    "- 운영체제 사이에서 전환할 때 문제가 생길 수 있음"
   ]
  },
  {
   "cell_type": "markdown",
   "id": "6588e4bf-2c61-4076-86d1-edd901479bd0",
   "metadata": {
    "tags": [],
    "toc-hr-collapsed": true
   },
   "source": [
    "# 데이터 과학(Data Science)"
   ]
  },
  {
   "cell_type": "markdown",
   "id": "d12604ff-511e-456c-91d6-17ea737eeb1e",
   "metadata": {},
   "source": [
    "## 데이터 과학\n",
    "- 데이터 과학이란 정형, 비정형 형태를 포함한 다양한 데이터로부터 지식과 인사이트를 추출하는데 과학적 방법론, 프로세스, 알고리즘, 시스템을 동원하는 융합분야\n",
    "<img src=\"https://s3.ap-southeast-1.amazonaws.com/datawow/uploader/blogs/a4.png\" width=\"450\" height=\"450\"/>"
   ]
  },
  {
   "cell_type": "markdown",
   "id": "a9578181-7715-4096-a187-799147c55492",
   "metadata": {},
   "source": [
    "## 데이터 과학 단계\n",
    "1. 문제 정의 및 목표 설정\n",
    "2. 데이터 획득 및 수집\n",
    "3. 데이터 준비\n",
    "    - 데이터 정제\" 누락 데이터나 잡음 등을 교정하는 작업\n",
    "    - 데이터 통합: 여러 개의 데이터베이스, 데이터집합 등을 통합하는 작업\n",
    "    - 데이터 축소: 샘플링, 차원축소, 특징 선택 및 추출을 통해 데이터 크기를 줄이는 작업\n",
    "    - 데이터 변환: 데이터를 정규화, 이산화 또는 집계를 통해 변환하는 작업\n",
    "4. 데이터 탐색 및 분석\n",
    "    1. 데이터 분석 계획\n",
    "    2. 메타 데이터 분석\n",
    "    3. 통계 분석\n",
    "    4. 불확실성 정량화\n",
    "    5. 특징값 추출\n",
    "    6. 데이터 평가\n",
    "    7. 데이터 분석 리포트\n",
    "5. 테이터 표현 및 시각화\n",
    "    1. 데이터 분석(메타데이터, 데이터 차원 분석, 데이터 관계 분석)\n",
    "    2. 스토리텔링(스토리 계획, 유의미한 정보 정의)\n",
    "    3. 시각화 기법 선택\n",
    "    4. 디자인\n",
    "6. 모델 개발 및 학습\n",
    "    1. 데이터 준비(특징 추출, 데이터 분리-train, test, validation), 데이터 검증)\n",
    "    2. 모델 생성(모델 설계, 특징 엔지니어링, 모델 구조 정의, 목표 변수(함수) 정의)\n",
    "    3. 모델 학습(학습 알고리즘, 하이퍼파라미터, 학습 반복, 최적화)\n",
    "    4. 모델 평가(평가 지표, 성능 평가, 비교 분석)        \n",
    "7. 모델 구축 및 자동화"
   ]
  },
  {
   "cell_type": "code",
   "execution_count": null,
   "id": "78bfec96-db3e-47b0-b1d5-fe0db48e00b5",
   "metadata": {},
   "outputs": [],
   "source": []
  }
 ],
 "metadata": {
  "kernelspec": {
   "display_name": "Python 3",
   "language": "python",
   "name": "python3"
  },
  "language_info": {
   "codemirror_mode": {
    "name": "ipython",
    "version": 3
   },
   "file_extension": ".py",
   "mimetype": "text/x-python",
   "name": "python",
   "nbconvert_exporter": "python",
   "pygments_lexer": "ipython3",
   "version": "3.8.8"
  }
 },
 "nbformat": 4,
 "nbformat_minor": 5
}
