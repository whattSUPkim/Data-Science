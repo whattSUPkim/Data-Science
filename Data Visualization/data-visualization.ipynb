{
 "cells": [
  {
   "cell_type": "markdown",
   "id": "049e018e",
   "metadata": {},
   "source": [
    "# 데이터 시각화(Data Visualization)"
   ]
  },
  {
   "cell_type": "markdown",
   "id": "2278da8f",
   "metadata": {},
   "source": [
    "## 데이터 시각화 7단계(Ben Fry)"
   ]
  },
  {
   "cell_type": "markdown",
   "id": "99d3fe82",
   "metadata": {},
   "source": [
    "1. 획득(Acquire) : 다양한 소스로부터 데이터 얻기\n",
    "2. 분석(Parse) : 데이터의 의미에 대한 구조를 제공하고 카테고리별로 정렬\n",
    "3. 필터(Filter) : 관심 있는 데이터를 제외한 모든 데이터 제거\n",
    "4. 마이닝(Mine) : 패턴을 식별하거나 수학적 문맥에 데이터를 배치하는 방법으로 통계 또는 데이터 마이닝 방법 적용\n",
    "5. 표현(Represent) : 막대 그래프, 목록 또는 트리 같은 기본 시각적 모델 선택\n",
    "6. 정제(Refine) : 기본 표현을 개선하여 보다 선명하고 시각적으로 매력적이게 보이도록 함\n",
    "7. 소통(Interact) : 데이터를 조작하거나 볼 수 있는 기능을 제어하는 방법을 추가"
   ]
  },
  {
   "cell_type": "markdown",
   "id": "551f8e04",
   "metadata": {},
   "source": [
    "# 데이터 시각화 기법(Data Visualization Technique)\n",
    "- 참고) Fundamentals of Data Visualization : Claus O.Wilke  \n",
    "https://clauswilke.com/dataviz/"
   ]
  },
  {
   "cell_type": "markdown",
   "id": "45604b44",
   "metadata": {},
   "source": [
    "### 미학\n",
    "- <img src='https://clauswilke.com/dataviz/aesthetic_mapping_files/figure-html/common-aesthetics-1.png' width = '600' />"
   ]
  },
  {
   "cell_type": "markdown",
   "id": "ba41e2bd",
   "metadata": {},
   "source": [
    "### 데이터 유형"
   ]
  },
  {
   "cell_type": "markdown",
   "id": "b707db28",
   "metadata": {},
   "source": [
    "|유형|예제|형태|설명|\n",
    "|--|--|--|--|\n",
    "|quantitative / numerical continuous|1.3, 5.7, 83|continuous|임의의 숫자(정수, 유리수, 실수값 등)|\n",
    "|quantitative / numerical discrete|1, 2, 3, 4|discrete|이산형 단위의 숫자로 가장 흔하고 꼭 정수일 필요는 없음. 예를 들어, 주어진 데이터 집합에 중간값이 존재하지 않는 경우인 숫자 0.5, 1.0, 1.5도 이산형으로 취급 가능|\n",
    "|quantitative / categorical unordered|dog, cat, fish|discrete|순서가 없는 범주들로, 고유 순서가 없는 이산적이고 고유한 범주들. 이러한 변수를 요인(인자)이라고 함.|\n",
    "|qualitative / categorical ordered|good, fair, poor|discrete|순서가 있는 범주들로 순서가 있는 이산적이고 고유한 범주들. 예를 들어 'fair'는 항상 'good'과 'poor' 사이에 있음. 이러한 변수를 순서 요인이라고 함.|\n",
    "|date 또는 time|Jan.5 2018, 18:00|continuous 또는 discrete|특정 날짜 및 시간. 예를 들어, 7월 4일 또는 12월 25일과 같은 일반적인 날짜|\n",
    "|text|Hello world|none 또는 discrete|자유 형식 텍스트. 필요한 경우 범주형으로 취급 가능.|\n"
   ]
  },
  {
   "cell_type": "markdown",
   "id": "f1c31090",
   "metadata": {},
   "source": [
    "### 2D 직교 좌표계"
   ]
  },
  {
   "cell_type": "markdown",
   "id": "38598efa",
   "metadata": {},
   "source": [
    "- 같은 데이터일지라도 비율에 따라 달라 보일 수 있음  \n",
    "<img src = 'https://clauswilke.com/dataviz/coordinate_systems_axes_files/figure-html/temperature-normals-Houston-1.png' width = '600'/>"
   ]
  },
  {
   "cell_type": "markdown",
   "id": "20205ad2",
   "metadata": {},
   "source": [
    "### 선형 척도와 로그 척도 사이의 관계"
   ]
  },
  {
   "cell_type": "markdown",
   "id": "cb9180de",
   "metadata": {},
   "source": [
    "1. \n",
    "<img src = 'https://clauswilke.com/dataviz/coordinate_systems_axes_files/figure-html/linear-log-scales-1.png' width = '600'/>"
   ]
  },
  {
   "cell_type": "markdown",
   "id": "5ae09f7c",
   "metadata": {},
   "source": [
    "2. \n",
    "- 로그 척도\n",
    "<img src = 'https://clauswilke.com/dataviz/coordinate_systems_axes_files/figure-html/texas-counties-pop-ratio-log-1.png' width = 600/>\n",
    "- 선형 척도\n",
    "<img src = 'https://clauswilke.com/dataviz/coordinate_systems_axes_files/figure-html/texas-counties-pop-ratio-lin-1.png' width = 600/>"
   ]
  },
  {
   "cell_type": "markdown",
   "id": "808a6072",
   "metadata": {},
   "source": [
    "### 선형 및 제곱근 척도 사이의 관계"
   ]
  },
  {
   "cell_type": "markdown",
   "id": "7a8bde7c",
   "metadata": {},
   "source": [
    "1. \n",
    "<img src='https://clauswilke.com/dataviz/coordinate_systems_axes_files/figure-html/sqrt-scales-1.png' width ='600'/>\n",
    "2.\n",
    "- 선형 척도 vs 제곱근 척도\n",
    "<img src='https://clauswilke.com/dataviz/coordinate_systems_axes_files/figure-html/northeast-state-areas-1.png' width = '700'/>"
   ]
  },
  {
   "cell_type": "markdown",
   "id": "ff1adcc1",
   "metadata": {},
   "source": [
    "### 직교 좌표계 극좌표계 변환\n",
    "<img src='https://clauswilke.com/dataviz/coordinate_systems_axes_files/figure-html/polar-coord-1.png' width = '600'/>"
   ]
  },
  {
   "cell_type": "markdown",
   "id": "17a6915e",
   "metadata": {},
   "source": [
    "### 시각화 차트 선택\n",
    "- 시각화 차트 선택  \n",
    "<img src='https://www.techprevue.com/wp-content/uploads/2016/12/abela-chart-chooser.jpg' width = '2000'/>\n",
    "- The Data Visualization Catalogue\n",
    "    - www.datavizcatalogue.com\n",
    "    - www.datavizproject.com (examples)"
   ]
  },
  {
   "cell_type": "markdown",
   "id": "b0ac339f",
   "metadata": {},
   "source": [
    "#### 차트들\n",
    "- Visualizing amounts\n",
    "    - 막대 그래프 https://clauswilke.com/dataviz/visualizing-amounts.html#bar-plots\n",
    "    - 스택 막대 그래프 https://clauswilke.com/dataviz/visualizing-amounts.html#grouped-and-stacked-bars\n",
    "    - 도트(dot) 플롯, 히트맵 https://clauswilke.com/dataviz/visualizing-amounts.html#dot-plots-and-heatmaps\n",
    "- Visualizing distributions\n",
    "    - histogram and density plot\n",
    "        - 단일 분포 시각화(히스토그램, 밀도) https://clauswilke.com/dataviz/histograms-density-plots.html#visualizing-a-single-distribution\n",
    "            - 커널 밀도 추정 등\n",
    "        - 다중 분포 시각화(히스토그램, 밀도, 개별히스토그램(연령피라미드 등)) https://clauswilke.com/dataviz/histograms-density-plots.html#multiple-histograms-densities\n",
    "    - Empirical cumulative distribution functions and q-q plots\n",
    "        - 경험적 누적 분포 함수 https://clauswilke.com/dataviz/ecdf-qq.html#empirical-cumulative-distribution-functions\n",
    "        - 높은 왜곡 분포 https://clauswilke.com/dataviz/ecdf-qq.html#skewed-distributions\n",
    "            - 첨도, 왜도, 분포차이 등\n",
    "        - Quantile–quantile plots(분포를 보기 위한)\n",
    "-  Visualizing many distributions at once\n",
    "    - 수직 축을 따라 분포 시각화 https://clauswilke.com/dataviz/boxplots-violins.html#boxplots-violins-vertical\n",
    "        - 박스 플롯, 바이올린 플롯(박스 플롯의 보완된 형태), 스트립 차트 등\n",
    "    - 수평 축을 따라 분포 시각화 https://clauswilke.com/dataviz/boxplots-violins.html#boxplots-violins-horizontal\n",
    "        - 능선 플롯 등\n",
    "- Visualizing proportions https://clauswilke.com/dataviz/visualizing-proportions.html#a-case-for-pie-charts\n",
    "    - 파이 차트, 스택 막대 차트, 사이드 바이 사이드 바, 적층 밀도 플롯 등\n",
    "- Visualizing nested proportions(중첩 비율을 시각화) https://clauswilke.com/dataviz/nested-proportions.html\n",
    "    - 모자이크 플롯, 트리맵, 중첩 파이차트, 생키 다이어그램 등\n",
    "- Visualizing associations among two or more quantitative variables\n",
    "    - 산포도(Scatter) https://clauswilke.com/dataviz/visualizing-associations.html#associations-scatterplots\n",
    "    - 상관관계 통계차트(다변수) https://clauswilke.com/dataviz/visualizing-associations.html#associations-correlograms\n",
    "    - 차원 축소 https://clauswilke.com/dataviz/visualizing-associations.html#dimension-reduction\n",
    "    - 쌍 데이터, 경사 도표 https://clauswilke.com/dataviz/visualizing-associations.html#associations-paired-data\n",
    "- 시계열 시각화 https://clauswilke.com/dataviz/time-series.html\n",
    "- 추세 시각화 https://clauswilke.com/dataviz/visualizing-trends.html\n",
    "- 지리공간 데이터 시각화 https://clauswilke.com/dataviz/geospatial-data.html\n",
    "- 불확실성 시각화 https://clauswilke.com/dataviz/visualizing-uncertainty.html"
   ]
  },
  {
   "cell_type": "markdown",
   "id": "45a53f4b",
   "metadata": {},
   "source": [
    "# 시각화 디자인 원칙(Visualization Design Principles)\n",
    "- 참고) Gestalt principles in UI design  \n",
    "https://medium.muz.li/gestalt-principles-in-ui-design-6b75a41e9965\n",
    "- 참고) Fundamentals of Data Visualization : Claus O.Wilke  \n",
    "https://clauswilke.com/dataviz/"
   ]
  },
  {
   "cell_type": "markdown",
   "id": "36ac5b92",
   "metadata": {},
   "source": [
    "## 게슈탈트(Gestalt)  \n",
    "- 1920년대 독일 심리학파가 제시한 심리학 용어로 형태를 지각하는 방법을 담은 원칙\n",
    "- \"전체는 독립적으로 조냊하느 부분의 합보다 더 큰 것으로 인식된다\"는 이론에 기반"
   ]
  },
  {
   "cell_type": "markdown",
   "id": "194884d9",
   "metadata": {},
   "source": [
    "### 출현(Emergence)\n",
    "- 사람들은 일반적인 윤곽의 형태로 요소들을 먼저 식별하는 경향이 있음\n",
    "- 뇌는 복잡한 물체보다 단순하고 잘 정의된 물체를 더 빨리 인식"
   ]
  },
  {
   "cell_type": "markdown",
   "id": "ff0aeb59",
   "metadata": {},
   "source": [
    "### 구상화(Reification)\n",
    "- 사람들은 전체 중에 일부가 없을 때에도 사물로 인식이 가능함\n",
    "- 우리 뇌는 기존의 지식을 토대로 완성되지 않은 형태를 완성시켜 인지 가능"
   ]
  },
  {
   "cell_type": "markdown",
   "id": "6ab749b4",
   "metadata": {},
   "source": [
    "### 다중 안정성(Multi-Stability)\n",
    "- 사람들은 모호한 물체를 여러 가지 방식으로 해석\n",
    "- 우리 뇌는 확실한 것을 좋아하기 때문에 인식한 여러 관점 중 한가지만 인식\n",
    "- 따라서 다른 관점은 인지하기 어려움"
   ]
  },
  {
   "cell_type": "markdown",
   "id": "f7c45f4f",
   "metadata": {},
   "source": [
    "### 불변성(Invariance)\n",
    "- 사람들은 회전하거나 크기를 변화해도 하나의 개체로 인식\n",
    "- 우리 뇌는 관점, 조명, 색상, 크기 등의 변화에도 불구하고 사물들이 일정하고 불변하다고 인지하는 경향이 있음#\n"
   ]
  },
  {
   "cell_type": "markdown",
   "id": "fb1197e8",
   "metadata": {},
   "source": [
    "### 근접성(Proximity)\n",
    "- 서로 가깝게 배치된 요소는 더 멀리 떨어진 요소보다 관련성이 높은 것으로 인식\n",
    "- 이러한 방식으로 다른 요소는 주로 개별 요소가 아닌 그룹으로 간주\n"
   ]
  },
  {
   "cell_type": "markdown",
   "id": "3277eb02",
   "metadata": {},
   "source": [
    "### 공통영역(Common Region)\n",
    "- 근접성 원리와 비슷하게, 동일한 영역 내에 배치되는 요소는 하나의 그룹으로 인식"
   ]
  },
  {
   "cell_type": "markdown",
   "id": "b5f3db24",
   "metadata": {},
   "source": [
    "### 유사성(Similarity)\n",
    "- 비슷한 시각 특성을 공유하는 요소는 그렇지 않은 요소보다 더 관련이 있다고 인식"
   ]
  },
  {
   "cell_type": "markdown",
   "id": "a4847801",
   "metadata": {},
   "source": [
    "### 폐합(Closure)\n",
    "- 완성되지 않은 형태는 종종 인식 할 수 있는 패턴 또는 그림으로 인식\n",
    "- 폐합의 원칙은 형태가 불완전하거나 일부가 포함되지 않은 경우에도 발생"
   ]
  },
  {
   "cell_type": "markdown",
   "id": "9362dc4c",
   "metadata": {},
   "source": [
    "### 대칭(Symmetry)\n",
    "- 대칭요소는 거리에 관계없이 소속되어 있는 것으로 인식되어 견고함과 질서를 느끼게 함"
   ]
  },
  {
   "cell_type": "markdown",
   "id": "4c5f3b0f",
   "metadata": {},
   "source": [
    "### 연속성(Continuation)\n",
    "- 선 또는 부드러운 곡선으로 배열된 요소는 무작위로 또는 거친 선으로 배열된 요소보다 관련된다고 인식"
   ]
  },
  {
   "cell_type": "markdown",
   "id": "e310ca42",
   "metadata": {},
   "source": [
    "### 공동운명(Common Fate)\n",
    "- 같은 방향으로 움직이는 요소는 관련이 있다고 인식하는 반면\n",
    "- 다른 방향으로 움직이는 요소는 관련이 없는 별개의 존재로 인식"
   ]
  },
  {
   "cell_type": "markdown",
   "id": "48cedd5b",
   "metadata": {},
   "source": [
    "## 비례 잉크의 원리\n",
    "- 시각화에서 음영 처리된 영역의 크기는 해당 영역이 나타내는 데이터 값에 비례해야 함\n",
    "- 예를 들어, 0과 다른 값으로 시작하는 막대를 그리면 막대 길이와 막대 끝 점의 길이가 모순되는 정보를 전달하며, 동일한 그래픽 요소를 가진 서로 다른 두 값을 보여주기 때문에 내부적으로 일관성이 없어짐\n",
    "- 막대, 사각형, 임의 형상의 음영 영역 또는 표시된 데이터 값과 일관되거나 일치하지 않을 수 있는 가시적 범위가 분명한 기타 요소를 사용할 때마다 유사한 문제 발생 가능하며, 모든 경우에 모순이 없도록 해야함\n",
    "  \n",
    "  \n",
    "- Ex) 두 통계는 같은 내용을 말하고 있지만, 첫 번째 시각화는 처음 시작이 $50,000부터 시작하기 때문에 두 번째 그림에 비해 더 큰 차이가 나는 것처럼 보임(통계적 왜곡)\n",
    "    - <img src='https://clauswilke.com/dataviz/proportional_ink_files/figure-html/hawaii-income-bars-bad-1.png' width = '300'/>\n",
    "    - <img src='https://clauswilke.com/dataviz/proportional_ink_files/figure-html/hawaii-income-bars-good-1.png' width = '300'/>\n",
    "\n",
    "\n",
    "- Ex) 직접 영역 시각화(Direct area visualizations) : 두 통계는 같은 내용을 말하고 있지만, 파이차트보다는 막대그래프로 표현될 때 더 큰 차이가 나는 것처럼 보임\n",
    "    - <img src='https://clauswilke.com/dataviz/proportional_ink_files/figure-html/RI-pop-pie-1.png' width = '300'/>\n",
    "    - <img src='https://clauswilke.com/dataviz/proportional_ink_files/figure-html/RI-pop-bars-1.png' width = '300'/>"
   ]
  },
  {
   "cell_type": "markdown",
   "id": "266b5b95",
   "metadata": {},
   "source": [
    "## Handling overlapping points  \n",
    "https://clauswilke.com/dataviz/overlapping-points.html\n",
    "- 부분 투명도 및 지터링\n",
    "- 2D 히스토그램\n",
    "- 윤곽선(Contour lines)"
   ]
  },
  {
   "cell_type": "markdown",
   "id": "42c10069",
   "metadata": {},
   "source": [
    "## 색 사용의 일반적인 함정(Common pitfalls of color use)\n",
    "https://clauswilke.com/dataviz/color-pitfalls.html\n",
    "- 너무 많은 색(너무 많은 범주)은 구분이 어렵고, 혼란을 야기할 수 있음"
   ]
  },
  {
   "cell_type": "markdown",
   "id": "d07bb18a",
   "metadata": {},
   "source": [
    "## 중복 코딩 범례 설계(Redundant coding)  \n",
    "https://clauswilke.com/dataviz/redundant-coding.html\n",
    "- 범주에 따라 적절한 색, 모양 등을 사용해야 함\n",
    "- 범례도 sorting 되어야 함\n",
    "- 범례 없는 그림 설계"
   ]
  },
  {
   "cell_type": "code",
   "execution_count": null,
   "id": "337a14bd",
   "metadata": {},
   "outputs": [],
   "source": []
  }
 ],
 "metadata": {
  "kernelspec": {
   "display_name": "Python 3",
   "language": "python",
   "name": "python3"
  },
  "language_info": {
   "codemirror_mode": {
    "name": "ipython",
    "version": 3
   },
   "file_extension": ".py",
   "mimetype": "text/x-python",
   "name": "python",
   "nbconvert_exporter": "python",
   "pygments_lexer": "ipython3",
   "version": "3.8.8"
  },
  "toc": {
   "base_numbering": 1,
   "nav_menu": {},
   "number_sections": true,
   "sideBar": true,
   "skip_h1_title": false,
   "title_cell": "Table of Contents",
   "title_sidebar": "Contents",
   "toc_cell": false,
   "toc_position": {},
   "toc_section_display": true,
   "toc_window_display": true
  }
 },
 "nbformat": 4,
 "nbformat_minor": 5
}
