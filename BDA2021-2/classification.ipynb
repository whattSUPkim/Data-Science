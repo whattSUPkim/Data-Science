{
 "cells": [
  {
   "cell_type": "markdown",
   "id": "7d5ef4cf",
   "metadata": {},
   "source": [
    "# 지도 학습"
   ]
  },
  {
   "cell_type": "markdown",
   "id": "6f0e82c4",
   "metadata": {},
   "source": [
    "## 지도 학습\n",
    "- 모형(model)\n",
    "    - 데이터에 나타나는 특성들과 타켓 사이의 관계를 표현하는 수학적 구조\n",
    "    - 모수(parameter): 데이터를 사용하여 추정(계산)하는 파라미터\n",
    "    - 초모수(hyperparameter): 추정 모수 이외에 분석자가 지정하거나, 최적값을 찾아 주어야 하는 다른 모든 모수\n",
    "- 학습: 데이터를 사용하여 모형에 포함된 조정 가능한 모수의 값을 추정하는 과정"
   ]
  },
  {
   "cell_type": "markdown",
   "id": "245d6d21",
   "metadata": {},
   "source": [
    "## 지도 학습에서의 데이터 분할(partition)\n",
    "- 학습(훈련)은 일반화를 목적으로 하므로 훈려에 사용되는 데이터와 모형 평가에 사용되는 데이터로 나눠야 함\n",
    "- 데이터의 분할\n",
    "    - **훈련 데이터(training data): 모델 구축용 데이터**\n",
    "        - 훈련 오차를 최소로 하도록 모형의 모수(parameter) 추정\n",
    "    - 검증 데이터(validation data): 모델 검증용 데이터\n",
    "        - 모형의 초모수(hyperparameter)를 추정(훈련 데이터를 검증 데이터에 재사용)\n",
    "    - **테스트 데이터(test data): 평가용 데이터**\n",
    "        - 훈련 데이터와 독립적으로 따로 떼어놓은(hold-out) 데이터\n",
    "        - 훈련되고 튜닝된 모형을 적용하여 평가할 대상 데이터\n",
    "    "
   ]
  },
  {
   "cell_type": "markdown",
   "id": "f73551d5",
   "metadata": {},
   "source": [
    "## 과대적합 vs 과소적합\n",
    "- 훈련 데이터 과대 적합(overfitting): 고분산(high-variance) 문제\n",
    "    - 모형이 데이터의 패턴을 너무 과도하게 반영한 것\n",
    "    - 훈련 데이터에 대한 성능은 좋지만 샘플에서의 일반화 성능이 나빠짐\n",
    "- 훈련 데이터 과소 적합(underfitting): 고편향(high-bias) 문제\n",
    "    - 모형이 너무 단순한 것\n",
    "- trade-off 관계\n",
    "    - 저편향과 저분산을 동시에 지향하지만, 이 둘은 상충관계임\n",
    "    "
   ]
  },
  {
   "cell_type": "markdown",
   "id": "82ff0850",
   "metadata": {},
   "source": [
    "## 지도학습의 전형적 단계\n",
    "1. 데이터 읽기(적재)\n",
    "2. 데이터 전처리 및 준비: 데이터 특성 추출, 데이터 분할 등\n",
    "3. 훈련용 데이터로 다수의 모델 훈련시키기(모형의 모수 추정)\n",
    "    - 가능성 있는 몇 개의 모형 선정\n",
    "4. 검증 데이터를 사용하여 모델 튜닝(하이퍼파라미터 추정)\n",
    "5. 테스트 데이터로 베스트 모델 평가\n",
    "6. 모델 디플로이(deploy): 의사결정에 모델 활용"
   ]
  },
  {
   "cell_type": "markdown",
   "id": "00bd507b",
   "metadata": {},
   "source": [
    "## 사이킷런 API 사용 단계(복습)\n",
    "- API 사용 단계\n",
    "    1. 필요한 사이킷런 추정기 클래스를 임포트\n",
    "    2. 모델 클래스를 인스턴스화(모델의 하이퍼파라미터(초모수 지정)\n",
    "    3. 데이터를 특징 행렬(X)과 타겟(y)으로 배치\n",
    "    4. 모델 인스턴스의 fit() 메서드로 모델을 학습(fitting, training, learning)\n",
    "    5. score() 메서드를 사용하여 모형의 성능(정확도) 평가\n",
    "    "
   ]
  },
  {
   "cell_type": "markdown",
   "id": "3e42fc92",
   "metadata": {},
   "source": [
    "# 분류"
   ]
  },
  {
   "cell_type": "markdown",
   "id": "43ecf793",
   "metadata": {},
   "source": [
    "## 분류의 종류\n",
    "- 이진(binary) 분류 vs 다진(multi-class) 분류\n",
    "- 이진 분류의 클래스 레이블\n",
    "    - 긍정 클래스: 상대적으로 더 유의미한 범주(ex. 악성종양, 스팸메일), 보통 1로 표시\n",
    "    - 부정 클래스: 보통 0 혹은 -1로 표시\n"
   ]
  },
  {
   "cell_type": "markdown",
   "id": "25aaf6fe",
   "metadata": {},
   "source": [
    "## 대표적 분류 알고리즘\n",
    "- 로지스틱 회귀\n",
    "- SVM\n",
    "- 결정트리\n",
    "- K-최근접 이웃: 게으른 분류기"
   ]
  },
  {
   "cell_type": "markdown",
   "id": "e9d5b253",
   "metadata": {},
   "source": [
    "## 분류의 성능평가 측도\n",
    "- 이진 분류 정오분류표(confusion matrix)\n",
    "![그림](https://miro.medium.com/max/625/1*fxiTNIgOyvAombPJx5KGeA.png)"
   ]
  },
  {
   "cell_type": "markdown",
   "id": "84948ff6",
   "metadata": {},
   "source": [
    "- 정분류율(정확도, accuracy) vs 오분류율(error)\n",
    "    - accuracy = $\\frac{TP + TN}{TP+FN+FP+TN}$\n",
    "        - +를 +로 맞추고, -를 -로 맞춘 것\n",
    "    - error = 1 - accuracy\n",
    "- 정밀도(precision)\n",
    "    - 결과의 질(quality)를 측정\n",
    "    - precision = $\\frac{TP}{TP+FP}$ = $\\frac{실제 양성}{양성이라고 판정나온 사람}$\n",
    "- 재현율(recall)\n",
    "    - 결과의 완벽성(completeness) 측도\n",
    "    - recall = $\\frac{TP}{TP+FN}$ = $\\frac{실제 양성}{맞춘 값}$\n",
    "- F-측도(F-measure)\n",
    "    - 정밀도와 재현율은 서로 trade-off 관계\n",
    "    - 두 측도를 통합(정밀도와 재현율의 조화평균)\n",
    "        - F-measure = $2 \\frac{precision * recall}{precision + recall}$  "
   ]
  },
  {
   "cell_type": "markdown",
   "id": "b8fc9f17",
   "metadata": {},
   "source": [
    "# 붓꽃(Iris) 데이터를 활용한 분류"
   ]
  },
  {
   "cell_type": "markdown",
   "id": "0a08d24e",
   "metadata": {},
   "source": [
    "## 데이터 전처리"
   ]
  },
  {
   "cell_type": "markdown",
   "id": "894dbf17",
   "metadata": {},
   "source": [
    "### 데이터 로드"
   ]
  },
  {
   "cell_type": "markdown",
   "id": "a4e2db2a",
   "metadata": {},
   "source": [
    "- Iris 데이터\n",
    "    - 4개의 수치형 특성\n",
    "        - sepal length(cm) : 꽃받침 길이\n",
    "        - sepal width(cm) : 꽃받침 너비\n",
    "        - sepal length(cm) : 꽃잎 길이\n",
    "        - sepal width(cm) : 꽃잎 너비\n",
    "    - 레이블 : 붓꽃의 종류\n",
    "        - setosa(0)\n",
    "        - versicolor(1)\n",
    "        - virginica(2)"
   ]
  },
  {
   "cell_type": "markdown",
   "id": "3fbc0f83",
   "metadata": {},
   "source": [
    "locad_iris 모듈 : scikit-learn Bunch 객체 로드"
   ]
  },
  {
   "cell_type": "code",
   "execution_count": 2,
   "id": "ae6657e0",
   "metadata": {},
   "outputs": [],
   "source": [
    "from sklearn import datasets\n",
    "\n",
    "iris = datasets.load_iris()"
   ]
  },
  {
   "cell_type": "code",
   "execution_count": 3,
   "id": "f07557da",
   "metadata": {},
   "outputs": [
    {
     "data": {
      "text/plain": [
       "dict_keys(['data', 'target', 'frame', 'target_names', 'DESCR', 'feature_names', 'filename'])"
      ]
     },
     "execution_count": 3,
     "metadata": {},
     "output_type": "execute_result"
    }
   ],
   "source": [
    "iris.keys()"
   ]
  },
  {
   "cell_type": "code",
   "execution_count": 4,
   "id": "0712a2ab",
   "metadata": {},
   "outputs": [
    {
     "data": {
      "text/plain": [
       "array([[5.1, 3.5, 1.4, 0.2],\n",
       "       [4.9, 3. , 1.4, 0.2],\n",
       "       [4.7, 3.2, 1.3, 0.2],\n",
       "       [4.6, 3.1, 1.5, 0.2],\n",
       "       [5. , 3.6, 1.4, 0.2],\n",
       "       [5.4, 3.9, 1.7, 0.4],\n",
       "       [4.6, 3.4, 1.4, 0.3]])"
      ]
     },
     "execution_count": 4,
     "metadata": {},
     "output_type": "execute_result"
    }
   ],
   "source": [
    "iris.data[:7, :] # numpy.ndarray"
   ]
  },
  {
   "cell_type": "code",
   "execution_count": 5,
   "id": "568ddf62",
   "metadata": {},
   "outputs": [
    {
     "data": {
      "text/plain": [
       "['sepal length (cm)',\n",
       " 'sepal width (cm)',\n",
       " 'petal length (cm)',\n",
       " 'petal width (cm)']"
      ]
     },
     "execution_count": 5,
     "metadata": {},
     "output_type": "execute_result"
    }
   ],
   "source": [
    "iris['feature_names']"
   ]
  },
  {
   "cell_type": "code",
   "execution_count": 6,
   "id": "916c997f",
   "metadata": {},
   "outputs": [
    {
     "data": {
      "text/plain": [
       "array([0, 0, 0, 0, 0, 0, 0, 0, 0, 0, 0, 0, 0, 0, 0, 0, 0, 0, 0, 0, 0, 0,\n",
       "       0, 0, 0, 0, 0, 0, 0, 0, 0, 0, 0, 0, 0, 0, 0, 0, 0, 0, 0, 0, 0, 0,\n",
       "       0, 0, 0, 0, 0, 0, 1, 1, 1, 1, 1, 1, 1, 1, 1, 1, 1, 1, 1, 1, 1, 1,\n",
       "       1, 1, 1, 1, 1, 1, 1, 1, 1, 1, 1, 1, 1, 1, 1, 1, 1, 1, 1, 1, 1, 1,\n",
       "       1, 1, 1, 1, 1, 1, 1, 1, 1, 1, 1, 1, 2, 2, 2, 2, 2, 2, 2, 2, 2, 2,\n",
       "       2, 2, 2, 2, 2, 2, 2, 2, 2, 2, 2, 2, 2, 2, 2, 2, 2, 2, 2, 2, 2, 2,\n",
       "       2, 2, 2, 2, 2, 2, 2, 2, 2, 2, 2, 2, 2, 2, 2, 2, 2, 2])"
      ]
     },
     "execution_count": 6,
     "metadata": {},
     "output_type": "execute_result"
    }
   ],
   "source": [
    "iris.target # 변환된 타겟"
   ]
  },
  {
   "cell_type": "code",
   "execution_count": 7,
   "id": "233b7473",
   "metadata": {},
   "outputs": [
    {
     "data": {
      "text/plain": [
       "array(['setosa', 'versicolor', 'virginica'], dtype='<U10')"
      ]
     },
     "execution_count": 7,
     "metadata": {},
     "output_type": "execute_result"
    }
   ],
   "source": [
    "iris.target_names # 0, 1, 2"
   ]
  },
  {
   "cell_type": "markdown",
   "id": "f17bde83",
   "metadata": {},
   "source": [
    "> 분석의 편의와 시각화를 위해 꽃잎 길이(2)와 꽃잎 너비(3) 특성만 이용하겠음"
   ]
  },
  {
   "cell_type": "code",
   "execution_count": 8,
   "id": "78016275",
   "metadata": {
    "scrolled": true
   },
   "outputs": [
    {
     "data": {
      "text/plain": [
       "(150, 2)"
      ]
     },
     "execution_count": 8,
     "metadata": {},
     "output_type": "execute_result"
    }
   ],
   "source": [
    "X = iris.data.copy()\n",
    "X = X[:, 2:]\n",
    "X.shape"
   ]
  },
  {
   "cell_type": "code",
   "execution_count": 24,
   "id": "ef1c481c",
   "metadata": {},
   "outputs": [
    {
     "data": {
      "text/plain": [
       "array([0, 0, 0, 0, 0, 0, 0, 0, 0, 0, 0, 0, 0, 0, 0, 0, 0, 0, 0, 0, 0, 0,\n",
       "       0, 0, 0, 0, 0, 0, 0, 0, 0, 0, 0, 0, 0, 0, 0, 0, 0, 0, 0, 0, 0, 0,\n",
       "       0, 0, 0, 0, 0, 0, 1, 1, 1, 1, 1, 1, 1, 1, 1, 1, 1, 1, 1, 1, 1, 1,\n",
       "       1, 1, 1, 1, 1, 1, 1, 1, 1, 1, 1, 1, 1, 1, 1, 1, 1, 1, 1, 1, 1, 1,\n",
       "       1, 1, 1, 1, 1, 1, 1, 1, 1, 1, 1, 1, 2, 2, 2, 2, 2, 2, 2, 2, 2, 2,\n",
       "       2, 2, 2, 2, 2, 2, 2, 2, 2, 2, 2, 2, 2, 2, 2, 2, 2, 2, 2, 2, 2, 2,\n",
       "       2, 2, 2, 2, 2, 2, 2, 2, 2, 2, 2, 2, 2, 2, 2, 2, 2, 2])"
      ]
     },
     "execution_count": 24,
     "metadata": {},
     "output_type": "execute_result"
    }
   ],
   "source": [
    "y = iris.target.copy()\n",
    "y"
   ]
  },
  {
   "cell_type": "markdown",
   "id": "15cbb9af",
   "metadata": {},
   "source": [
    "### 데이터 분할"
   ]
  },
  {
   "cell_type": "code",
   "execution_count": 29,
   "id": "ab320a99",
   "metadata": {},
   "outputs": [
    {
     "data": {
      "text/plain": [
       "((150, 2), (150,))"
      ]
     },
     "execution_count": 29,
     "metadata": {},
     "output_type": "execute_result"
    }
   ],
   "source": [
    "X.shape, y.shape"
   ]
  },
  {
   "cell_type": "code",
   "execution_count": 30,
   "id": "72742cce",
   "metadata": {},
   "outputs": [
    {
     "data": {
      "text/plain": [
       "((105, 2), (105,))"
      ]
     },
     "execution_count": 30,
     "metadata": {},
     "output_type": "execute_result"
    }
   ],
   "source": [
    "from sklearn.model_selection import train_test_split # 데이터 분할 모듈\n",
    "\n",
    "X_train, X_test, y_train, y_test = train_test_split(X, y,\n",
    "                                                    train_size = 0.7,  # train : test = 7 : 3\n",
    "                                                    stratify = y)  # y의 분포대로 샘플링(계층화)\n",
    "\n",
    "X_train.shape, y_train.shape"
   ]
  },
  {
   "cell_type": "markdown",
   "id": "e485bd85",
   "metadata": {},
   "source": [
    "### 훈련 데이터 시각화"
   ]
  },
  {
   "cell_type": "code",
   "execution_count": 43,
   "id": "1f4354e4",
   "metadata": {},
   "outputs": [
    {
     "data": {
      "image/png": "[encoded data removed]",
      "text/plain": [
       "<Figure size 432x288 with 1 Axes>"
      ]
     },
     "metadata": {
      "needs_background": "light"
     },
     "output_type": "display_data"
    }
   ],
   "source": [
    "import matplotlib.pyplot as plt\n",
    "\n",
    "plt.scatter(X_train[y_train == 0][:, 0], X_train[y_train == 0][:, 1], c = 'r', alpha = 0.5, label = 'setosa')\n",
    "plt.scatter(X_train[y_train == 1][:, 0], X_train[y_train == 1][:, 1], c = 'g', alpha = 0.5, label = 'versicolor')\n",
    "plt.scatter(X_train[y_train == 2][:, 0], X_train[y_train == 2][:, 1], c = 'b', alpha = 0.5, label = 'virginia')\n",
    "plt.xlabel('Petal Length')\n",
    "plt.ylabel('Petal Width')\n",
    "plt.legend();"
   ]
  },
  {
   "cell_type": "markdown",
   "id": "2318433d",
   "metadata": {},
   "source": [
    "--> 두 개의 특성만 사용했는데도, 눈으로 보기에 분류 가능해보임(= 연구 마저 진행)"
   ]
  },
  {
   "cell_type": "markdown",
   "id": "6afeee38",
   "metadata": {},
   "source": [
    "### 특성 스케일 조정\n",
    "- 대부분의 머신러닝 알고리즘의 특성의 스케일을 조정할 때 최상의 성능을 보임\n",
    "    - raw 데이터는 특성마다 최소값, 최대값이 다름\n",
    "- sklearn.preprocessing.StandardScaler : 표준정규분포로 표준화\n",
    "- 훈련데이터 스케일과 동일한 공식으로 테스트 데이터도 변환해주어야 함"
   ]
  },
  {
   "cell_type": "code",
   "execution_count": 46,
   "id": "892e1aa6",
   "metadata": {},
   "outputs": [],
   "source": [
    "from sklearn.preprocessing import StandardScaler\n",
    "sc = StandardScaler()  # 인스턴스와\n",
    "sc.fit(X_train)  # 각 특성별로 평균, 표준편차 계싼\n",
    "X_train_std = sc.transform(X_train)  # transform() : 구해놨던 평균, 표준편차 구하는 ㅠ공식으로 표준화시킴\n",
    "X_test_std = sc.transform(X_test) # 같은 공식으로 test 데이터도 스케일 조정"
   ]
  },
  {
   "cell_type": "code",
   "execution_count": 49,
   "id": "1ec706fc",
   "metadata": {},
   "outputs": [
    {
     "data": {
      "image/png": "[encoded data removed]",
      "text/plain": [
       "<Figure size 432x288 with 1 Axes>"
      ]
     },
     "metadata": {
      "needs_background": "light"
     },
     "output_type": "display_data"
    }
   ],
   "source": [
    "# 스케일 조정 후 시각화\n",
    "import matplotlib.pyplot as plt\n",
    "\n",
    "plt.scatter(X_train_std[y_train == 0][:, 0], X_train_std[y_train == 0][:, 1], c = 'r', alpha = 0.5, label = 'setosa')\n",
    "plt.scatter(X_train_std[y_train == 1][:, 0], X_train_std[y_train == 1][:, 1], c = 'g', alpha = 0.5, label = 'versicolor')\n",
    "plt.scatter(X_train_std[y_train == 2][:, 0], X_train_std[y_train == 2][:, 1], c = 'b', alpha = 0.5, label = 'virginia')\n",
    "plt.xlabel('Petal Length')\n",
    "plt.ylabel('Petal Width')\n",
    "plt.legend();"
   ]
  },
  {
   "cell_type": "markdown",
   "id": "47198226",
   "metadata": {},
   "source": [
    "## 로지스틱 회귀(Logistic regression)를 사용한 분류"
   ]
  },
  {
   "cell_type": "markdown",
   "id": "455c9793",
   "metadata": {},
   "source": [
    "### 로지스틱 회귀 모형(Logistic regression)\n",
    "- 회귀라는 이름이지만 범주형 레이블 예측하는 분류 학습 알고리즘\n",
    "- 1:N, 종속(명목)\n",
    "- 이진 분류\n",
    "    - 주어진 x들에 대하여 긍정(positive) 클래스에 속할 확률 = $p = P[y=1]$\n",
    "    - 로지스틱 회귀 모형\n",
    "        - logit(p) = $ln[\\frac{p}{1 - p}] = \\beta_0 + \\beta_1X_1 + \\beta_2X_2 + ... + \\beta_1p_p$\n",
    "            - 이때, p는 클래스일 확률\n",
    "    - 분류 규칙\n",
    "    - $\\hat p_i > 0.5 (<->$logit$(\\hat p_i) > 0)$이면, i번째 객체를 '1'로 분류\n",
    "    - $\\hat p_i $<=$ 0.5 (<->$logit$(\\hat p_i) $<=$ 0)$이면, i번째 객체를 '0'으로 분류\n",
    "- 다진 분류로도 확장 가능"
   ]
  },
  {
   "cell_type": "markdown",
   "id": "3c5ad62f",
   "metadata": {},
   "source": [
    "### Scikit-Learn 로지스틱 회귀\n",
    "- sklearn.linear_model.LogisticRegression\n",
    "    - 로지스틱 비용함수를 최소화하는 $\\beta$들을 계산\n",
    "        - 경사하강법과 같은 최적화 알고리즘 사용\n",
    "- 소프트맥스(softmax)함수를 사용하여 다진분류도 가능"
   ]
  },
  {
   "cell_type": "code",
   "execution_count": 51,
   "id": "7ee08f8d",
   "metadata": {},
   "outputs": [],
   "source": [
    "from sklearn.linear_model import LogisticRegression"
   ]
  },
  {
   "cell_type": "markdown",
   "id": "68d7ad23",
   "metadata": {},
   "source": [
    "예측"
   ]
  },
  {
   "cell_type": "code",
   "execution_count": 57,
   "id": "62449c95",
   "metadata": {},
   "outputs": [
    {
     "name": "stdout",
     "output_type": "stream",
     "text": [
      "[2 2 0 0 2 0 1 0 1 2]\n",
      "[2 2 0 0 2 0 1 0 1 1]\n"
     ]
    }
   ],
   "source": [
    "logistic = LogisticRegression()\n",
    "logistic.fit(X_train_std, y_train)\n",
    "print(logistic.predict(X_train_std[:10, :])) # ~ 10번째 까지 데이터 예측\n",
    "print(y_train[:10]) # 정답"
   ]
  },
  {
   "cell_type": "markdown",
   "id": "faa91a17",
   "metadata": {},
   "source": [
    "클래스별 확률 예측(예측 도출 과정)"
   ]
  },
  {
   "cell_type": "code",
   "execution_count": 80,
   "id": "5973bd0b",
   "metadata": {},
   "outputs": [
    {
     "name": "stdout",
     "output_type": "stream",
     "text": [
      "[[0.00213344 0.3960029  0.60186366]]   <- [0, 1, 2]의 각 가능성 출력\n",
      "[2]   <- 그중 가장 높은 값의 인덱스 반환\n",
      "\n",
      "[[9.81809511e-06 2.64414679e-02 9.73548714e-01]]   <- [0, 1, 2]의 각 가능성 출력\n",
      "[2]   <- 그중 가장 높은 값의 인덱스 반환\n",
      "\n",
      "[[9.53835070e-01 4.61615409e-02 3.38928481e-06]]   <- [0, 1, 2]의 각 가능성 출력\n",
      "[0]   <- 그중 가장 높은 값의 인덱스 반환\n"
     ]
    }
   ],
   "source": [
    "print(logistic.predict_proba(X_train_std[:1, :]), \"  <- [0, 1, 2]의 각 가능성 출력\")\n",
    "print(logistic.predict_proba(X_train_std[:1, :]).argmax(axis = 1), \"  <- 그중 가장 높은 값의 인덱스 반환\")\n",
    "print()\n",
    "print(logistic.predict_proba(X_train_std[1:2, :]), \"  <- [0, 1, 2]의 각 가능성 출력\")\n",
    "print(logistic.predict_proba(X_train_std[1:2, :]).argmax(axis = 1), \"  <- 그중 가장 높은 값의 인덱스 반환\")\n",
    "print()\n",
    "print(logistic.predict_proba(X_train_std[2:3, :]), \"  <- [0, 1, 2]의 각 가능성 출력\")\n",
    "print(logistic.predict_proba(X_train_std[2:3, :]).argmax(axis = 1), \"  <- 그중 가장 높은 값의 인덱스 반환\")"
   ]
  },
  {
   "cell_type": "markdown",
   "id": "522235bd",
   "metadata": {},
   "source": [
    "로지스틱 회귀 성능평가  \n",
    "- score() : 모형의 정확도(accurary)를 계산"
   ]
  },
  {
   "cell_type": "code",
   "execution_count": 81,
   "id": "c27fec47",
   "metadata": {},
   "outputs": [
    {
     "data": {
      "text/plain": [
       "0.9523809523809523"
      ]
     },
     "execution_count": 81,
     "metadata": {},
     "output_type": "execute_result"
    }
   ],
   "source": [
    "logistic.score(X_train_std, y_train)"
   ]
  },
  {
   "cell_type": "code",
   "execution_count": 82,
   "id": "2f124113",
   "metadata": {},
   "outputs": [
    {
     "data": {
      "text/plain": [
       "0.9555555555555556"
      ]
     },
     "execution_count": 82,
     "metadata": {},
     "output_type": "execute_result"
    }
   ],
   "source": [
    "logistic.score(X_test_std, y_test)"
   ]
  },
  {
   "cell_type": "markdown",
   "id": "0c9439cb",
   "metadata": {},
   "source": [
    "테스트데이터에 대한 정오분류표(confusion matrix) 작성"
   ]
  },
  {
   "cell_type": "code",
   "execution_count": 83,
   "id": "38d96be8",
   "metadata": {},
   "outputs": [
    {
     "data": {
      "text/plain": [
       "array([[15,  0,  0],\n",
       "       [ 0, 14,  1],\n",
       "       [ 0,  1, 14]], dtype=int64)"
      ]
     },
     "execution_count": 83,
     "metadata": {},
     "output_type": "execute_result"
    }
   ],
   "source": [
    "from sklearn.metrics import confusion_matrix\n",
    "y_pred = logistic.predict(X_test_std)\n",
    "confusion_matrix(y_test, y_pred) # 실제 값, 예상 값으로 정오분류표 작성"
   ]
  },
  {
   "cell_type": "markdown",
   "id": "33c20efd",
   "metadata": {},
   "source": [
    "--> 정분류율, 정밀도, 재현율"
   ]
  },
  {
   "cell_type": "markdown",
   "id": "69133cff",
   "metadata": {},
   "source": [
    "## 서포트 벡터 머신"
   ]
  },
  {
   "cell_type": "markdown",
   "id": "364cb4cd",
   "metadata": {},
   "source": [
    "### SVM(Surpport Vector Machine)\n",
    "- 매우 강력한 머신러닝 모델\n",
    "    - 분류와 예측 모두 사용 가능하지만 주로 분류에 많이 사용\n",
    "    - 선형, 비선형 모형을 사용하여 분류의 성능이 뛰어남\n",
    "- SVM의 단점과 주의사항\n",
    "    - 모든 특성 값을 표준화 하여야 성능이 향상\n",
    "    - 최적 하이퍼파라미터 찾기"
   ]
  },
  {
   "cell_type": "markdown",
   "id": "ca608d88",
   "metadata": {},
   "source": [
    "### 선형 SVC(Linear Support Vector Classifier)\n",
    "- 클래스 분류 경계가 선형식\n",
    "    - $w_0 + w_1x_1 + w_2x_2 + ... + w_px_p = 0$\n",
    "    - 경계를 중심으로 $w^x = \\pm1$\n",
    "- 최대 마진 분류기\n",
    "    - 마진(의 폭)이 가장 큰 분류기를 선택\n",
    "    - 마진: 샘플과 경계선까지의 거리의 최소값\n",
    "    - 서포트 벡터: 마진에 위치한 관측치(샘플)\n",
    "    ![그림](https://img1.daumcdn.net/thumb/R1280x0/?scode=mtistory2&fname=https%3A%2F%2Fblog.kakaocdn.net%2Fdn%2FDlGyf%2FbtqBHyUcpnh%2FNdeKoqKnLe6urHfTxSsJC0%2Fimg.png)"
   ]
  },
  {
   "cell_type": "markdown",
   "id": "c13937b0",
   "metadata": {},
   "source": [
    "### 소프트 마진 분류\n",
    "- 데이터가 선형적으로 완전히 구별되는 경우는 극히 드묾(몇 개의 관측치는 오분류되는 것을 허용하면서 일반적인 선형 경계를 구하는 분류)\n",
    "- 하이퍼파라미터 $C$를 사용하여 모델의 과대적합 정도를 규제\n",
    "    - $C$값이 작으면 분류 오차에 덜 민감\n",
    "    - $C$가 클수록 마진 폭이 작아짐(엄격해짐)"
   ]
  },
  {
   "cell_type": "code",
   "execution_count": 1,
   "id": "eee85c3e",
   "metadata": {},
   "outputs": [],
   "source": [
    "# SCV\n",
    "import numpy as np\n",
    "import pandas as pd\n",
    "import matplotlib.pyplot as plt\n",
    "\n",
    "# X, y 데이터 준비\n",
    "path = 'https://archive.ics.uci.edu/ml/machine-learning-databases/iris/iris.data'\n",
    "df = pd.read_csv(path, header=None)\n",
    "df.columns =  ['sepal length', 'sepal width', 'petal length', 'petal width', 'species'] \n",
    "X = df.drop('species', axis=1).to_numpy()\n",
    "y = df['species'].to_numpy()\n",
    "y = np.where(y == 'Iris-setosa', 0, np.where(y == 'Iris-versicolor', 1, 2))\n",
    "X = X[:, [2,3]]"
   ]
  },
  {
   "cell_type": "code",
   "execution_count": 3,
   "id": "6d6f5375",
   "metadata": {},
   "outputs": [
    {
     "data": {
      "text/plain": [
       "((105, 2), (105,))"
      ]
     },
     "execution_count": 3,
     "metadata": {},
     "output_type": "execute_result"
    }
   ],
   "source": [
    "# 데이터 분할\n",
    "from sklearn.model_selection import train_test_split # 데이터 분할 모듈\n",
    "\n",
    "X_train, X_test, y_train, y_test = train_test_split(X, y,\n",
    "                                                    train_size = 0.7,  # train : test = 7 : 3\n",
    "                                                    stratify = y)  # y의 분포대로 샘플링(계층화)\n",
    "X_train.shape, y_train.shape"
   ]
  },
  {
   "cell_type": "code",
   "execution_count": 4,
   "id": "e5186254",
   "metadata": {},
   "outputs": [],
   "source": [
    "# X데이터 표준화\n",
    "from sklearn.preprocessing import StandardScaler\n",
    "\n",
    "sc = StandardScaler()  # 인스턴스와\n",
    "sc.fit(X_train)  # 각 특성별로 평균, 표준편차 계산\n",
    "X_train_std = sc.transform(X_train)  # transform() : 구해놨던 평균, 표준편차 구하는 ㅠ공식으로 표준화시킴\n",
    "X_test_std = sc.transform(X_test) # 같은 공식으로 test 데이터도 스케일 조정"
   ]
  },
  {
   "cell_type": "code",
   "execution_count": 12,
   "id": "ca83d313",
   "metadata": {},
   "outputs": [
    {
     "name": "stdout",
     "output_type": "stream",
     "text": [
      "0.9714285714285714 0.9555555555555556\n"
     ]
    }
   ],
   "source": [
    "# fit & score\n",
    "from sklearn.svm import SVC\n",
    "\n",
    "svc_linear = SVC(kernel = 'linear', C = 1.0)\n",
    "svc_linear.fit(X_train_std, y_train)\n",
    "\n",
    "print(svc_linear.score(X_train_std, y_train), svc_linear.score(X_test_std, y_test))"
   ]
  },
  {
   "cell_type": "markdown",
   "id": "b9d665f9",
   "metadata": {},
   "source": [
    "### 커널 서포트 벡터 분류기\n",
    "- 결정(분류) 경계에 비선형인 경우\n",
    "- 특성끼리 곱하거나 특성을 거듭제곱하는 식으로 새로운 특성을 추가\n",
    "    - 특성이 너무 많아져서 모델이 복잡해질 수 있음(차원의 저주)\n",
    "- 커널(kernel) 기법\n",
    "    - 실제로 데이터를 확장하지 않고 확장된 특성에 대한 내적을 이용\n",
    "    - 커널 함수: 'linear', 'poly', 'rbf', 'sigmoid'\n",
    "    - 대표적 커널: 가우시안 rbf 커널\n",
    "        - 가우시안 -> 정규분포"
   ]
  },
  {
   "cell_type": "code",
   "execution_count": 16,
   "id": "2e5fff49",
   "metadata": {},
   "outputs": [
    {
     "data": {
      "text/plain": [
       "(0.9714285714285714, 0.9555555555555556)"
      ]
     },
     "execution_count": 16,
     "metadata": {},
     "output_type": "execute_result"
    }
   ],
   "source": [
    "svc_rbf = SVC(kernel = 'rbf', random_state = 1)\n",
    "svc_rbf.fit(X_train_std, y_train)\n",
    "svc_rbf.score(X_train_std, y_train), svc_rbf.score(X_test_std, y_test)"
   ]
  },
  {
   "cell_type": "markdown",
   "id": "3a7a281c",
   "metadata": {},
   "source": [
    "### SVM에서의 초모수\n",
    "- $C$ = penalty parameter(C값이 작을수록 마진의 폭이 넓아짐\n",
    "- gamma = 가우시안 커널 폭의 역수 $\\gamma = 1/2\\sigma^2$\n",
    "- SVM 모델에서는 gamma와 C를 동시에 조절해야 함"
   ]
  },
  {
   "cell_type": "markdown",
   "id": "b840406c",
   "metadata": {},
   "source": [
    "### XOR 데이터셋\n",
    "- XOR: 하나만 참일 때 참\n",
    "- 비선형 경계를 갖는 대표적 예제"
   ]
  },
  {
   "cell_type": "code",
   "execution_count": 21,
   "id": "f6b56e7d",
   "metadata": {},
   "outputs": [
    {
     "name": "stdout",
     "output_type": "stream",
     "text": [
      "0.91\n",
      "0.98\n"
     ]
    }
   ],
   "source": [
    "# 데이터 생성\n",
    "np.random.seed(1)\n",
    "X_xor = np.random.randn(200, 2)  # 정규분포 난수 200*2\n",
    "y_xor = np.logical_xor(X_xor[:, 0] > 0, X_xor[:, 1] > 0)\n",
    "y_xor = np.where(y_xor, 1, -1)\n",
    "\n",
    "# gamma 0.1 / C 10.0\n",
    "svc_xor = SVC(kernel = 'rbf', gamma = 0.1, C = 10.0)\n",
    "svc_xor.fit(X_xor, y_xor)\n",
    "print(svc_xor.score(X_xor, y_xor))\n",
    "\n",
    "# gamma 10 / C 1\n",
    "svc_xor = SVC(kernel = 'rbf', gamma = 10, C = 1)\n",
    "svc_xor.fit(X_xor, y_xor)\n",
    "print(svc_xor.score(X_xor, y_xor))  # overfitted"
   ]
  },
  {
   "cell_type": "markdown",
   "id": "df2baa72",
   "metadata": {},
   "source": [
    "## 결정 트리"
   ]
  },
  {
   "cell_type": "markdown",
   "id": "89680e66",
   "metadata": {},
   "source": [
    "### 결정 트리(Decision Tree)\n",
    "- 일련의 질문들(내부노드)를 거쳐 결정(잎노드)에 다다르는 구조\n",
    "- 예측과 분류에 모두 사용\n",
    "    - Classification tree vs Regression tree\n",
    "- 결정 트리의 특징\n",
    "    - 데이터 전처리가 거의 필요하지 않음\n",
    "        - 각 특성이 개별적으로 처리되어 데이터를 분할하기 때문에, 데이터 스케일의 영향을 받지 않음\n",
    "    - 결정에 이른 과정에 대한 설명이 가능 : 화이트 박스(<-> 블랙박스)\n",
    "    - 결정 트리의 성능은 다른 기법들보다 낮을 수 있음 \n",
    "        - 대안: 앙상블 기법 - 트리를 여러개 만들고 이들을 다 합쳐서 결과를 만들어내는 것\n",
    "            - Random forest, 부스팅, 배깅 등"
   ]
  },
  {
   "cell_type": "markdown",
   "id": "e3544e80",
   "metadata": {},
   "source": [
    "### 분류 나무(Classification tree)\n",
    "- 트리의 학습(훈련)\n",
    "    - 주어진 데이터(특성 공간)를 일련의 질문에 따라 순차적으로 분할하는데, 되도록 같은 클래스의 훈련 데이터가 동일한 분할 공간에 보이도록 함\n",
    "    - 질문(분리 규칙, splitting rule): 특성 <= 값? 형태\n",
    "    - 결정 경계가 박스(사각격자) 형태\n",
    "- 분류 나무를 이용한 분류\n",
    "    - 훈련된 트리의 노드를 따라 내려가 잎노드에 도달하면 해당 노드에 속하는 훈련 데이터 클래스 중 **다수인 클래스**를 예측 클래스로 함"
   ]
  },
  {
   "cell_type": "markdown",
   "id": "55f54200",
   "metadata": {},
   "source": [
    "### 분류 나무의 분류 규칙\n",
    "- 불순도(impurity) 측도\n",
    "    - 같은 클래스가 모일수록(homogeneous) 불순도는 0에 가까워짐\n",
    "    - 특정 노드에서 $k$번째 클래스의 비율이 $p_k$일 때\n",
    "        - 지니(Gini)계수: $G = \\sum_{k=1}^k p_k(1-p_k) = 1 - \\sum_{k=1}^k p^2_k$\n",
    "        - 엔트로피(entropy) : $D = - \\sum_{k=1}^k p_k$ $log$ $p_k$  \n",
    "        - 지니 계수, 엔트로피 모두 비슷한 성질을 가짐: 단일 클래스인 경우 불순도 0 (0.5 = 불순도가 가장 높음)\n",
    "    - ex) <img src=\"https://lucy-the-marketer.kr/wp-content/uploads/2020/12/gini-index-example-1.png\" width=\"500\" height=\"500\"/>\n",
    "    - 분리규칙을 정할 땐 $\\Delta$지니, $\\Delta$엔트로피가 가장 큰 분리 규칙을 선택\n",
    "        - $\\Delta$지니 = 부모G와 자식G(자식들의 가중평균)의 차이\n",
    "        "
   ]
  },
  {
   "cell_type": "markdown",
   "id": "8e358453",
   "metadata": {},
   "source": [
    "### Iris 데이터에 대한 결정 나무 모형\n"
   ]
  },
  {
   "cell_type": "code",
   "execution_count": 2,
   "id": "7d01e0e5",
   "metadata": {},
   "outputs": [],
   "source": [
    "import numpy as np\n",
    "import pandas as pd\n",
    "import matplotlib.pyplot as plt\n",
    "\n",
    "# X, y 데이터 준비\n",
    "path = 'https://archive.ics.uci.edu/ml/machine-learning-databases/iris/iris.data'\n",
    "df = pd.read_csv(path, header=None)\n",
    "df.columns =  ['sepal length', 'sepal width', 'petal length', 'petal width', 'species'] \n",
    "X = df.drop('species', axis=1).to_numpy()\n",
    "y = df['species'].to_numpy()\n",
    "y = np.where(y == 'Iris-setosa', 0, np.where(y == 'Iris-versicolor', 1, 2))\n",
    "X = X[:, [2,3]]\n",
    "\n",
    "# 데이터 분할\n",
    "from sklearn.model_selection import train_test_split # 데이터 분할 모듈\n",
    "X_train, X_test, y_train, y_test = train_test_split(X, y,\n",
    "                                                    train_size = 0.7,  # train : test = 7 : 3\n",
    "                                                    stratify = y)  # y의 분포대로 샘플링(계층화)"
   ]
  },
  {
   "cell_type": "markdown",
   "id": "107bbebc",
   "metadata": {},
   "source": [
    "#### 복잡한 트리(full-tree)\n",
    "- 트리가 커질수록 훈련 데이터에 대한 정분류율은 증가하지만, 테스트 데이터에 대해서는 그 값이 감소(과대적합)\n",
    "- Scikit-Learn의 과대 적합 방지 전략\n",
    "    - 사전 가지치기: 트리 생성을 일찍 중단하는 전략\n",
    "    - 사후 가지치기: 트리를 만든 후, leaf를 걷어내는 것\n",
    "    - 초모수(hyperparameter) 설정\n",
    "        - 트리의 최대 깊이: max_depth = None  (# default)\n",
    "        - leaf의 최대 개수: max_leaf_nodes = None  (# default)\n",
    "        - 분할을 위한 포인트의 최소 개수: min_samples_leaf = 1  (# default)"
   ]
  },
  {
   "cell_type": "code",
   "execution_count": 6,
   "id": "53c7af7a",
   "metadata": {},
   "outputs": [
    {
     "data": {
      "text/plain": [
       "(1.0, 0.9555555555555556)"
      ]
     },
     "execution_count": 6,
     "metadata": {},
     "output_type": "execute_result"
    }
   ],
   "source": [
    "# full-tree\n",
    "from sklearn.tree import DecisionTreeClassifier\n",
    "full_tree = DecisionTreeClassifier()\n",
    "full_tree.fit(X_train, y_train)\n",
    "full_tree.score(X_train, y_train), full_tree.score(X_test, y_test)"
   ]
  },
  {
   "cell_type": "code",
   "execution_count": 8,
   "id": "818355ef",
   "metadata": {},
   "outputs": [
    {
     "data": {
      "text/plain": [
       "(0.9904761904761905, 0.9555555555555556)"
      ]
     },
     "execution_count": 8,
     "metadata": {},
     "output_type": "execute_result"
    }
   ],
   "source": [
    "# 최대 깊이가 4인 트리\n",
    "tree4 = DecisionTreeClassifier(max_depth=4) # 초모수 설정\n",
    "tree4.fit(X_train, y_train)\n",
    "tree4.score(X_train, y_train), tree4.score(X_test, y_test)"
   ]
  },
  {
   "cell_type": "markdown",
   "id": "45ddd3f6",
   "metadata": {},
   "source": [
    "- 결정 트리 그리기(기본)"
   ]
  },
  {
   "cell_type": "code",
   "execution_count": 16,
   "id": "31777208",
   "metadata": {},
   "outputs": [
    {
     "data": {
      "image/png": "[encoded data removed]",
      "text/plain": [
       "<Figure size 576x576 with 1 Axes>"
      ]
     },
     "metadata": {
      "needs_background": "light"
     },
     "output_type": "display_data"
    }
   ],
   "source": [
    "from sklearn.tree import plot_tree\n",
    "plt.figure(figsize=(8, 8))\n",
    "plot_tree(tree4);"
   ]
  },
  {
   "cell_type": "markdown",
   "id": "95d0a241",
   "metadata": {},
   "source": [
    "#### 특성 중요도(feature importances)\n",
    "- 분류 트리에서 각 특성이 얼마나 중요한지를 평가\n",
    "- 0~1사이의 값(전체 합은 1)\n",
    "- 1에 가까울수록 분류에 대한 기여도가 높음"
   ]
  },
  {
   "cell_type": "code",
   "execution_count": 17,
   "id": "fb6ff05e",
   "metadata": {},
   "outputs": [
    {
     "data": {
      "text/plain": [
       "array([0.57542942, 0.42457058])"
      ]
     },
     "execution_count": 17,
     "metadata": {},
     "output_type": "execute_result"
    }
   ],
   "source": [
    "tree4.feature_importances_"
   ]
  },
  {
   "cell_type": "markdown",
   "id": "9d927996",
   "metadata": {},
   "source": [
    "### k-최근접 이웃"
   ]
  },
  {
   "cell_type": "markdown",
   "id": "834bba0b",
   "metadata": {},
   "source": [
    "### k-최근접 이웃(k-NN, k-Nearest Neighbors) 알고리즘\n",
    "- 새로운 데이터 포인트에 대해 훈련 데이터셋에서 가장 성격이 유사한(가까운) 데이터 포인트를 k개를 찾아 다수(majority)를 차지하는 클래스 레이블로 예측\n",
    "    - k값: 초모수(주로 홀수(3, 5, ...) 사용)\n",
    "    - 모델 구축을 하지 않는 게으른 학습법(lazy learning\n",
    "        - 아무것도 안 하다가 데이터가 들어오면 그때 바로 처리하기 때문에 여러 문제가 발생할 수 있음"
   ]
  },
  {
   "cell_type": "code",
   "execution_count": 18,
   "id": "fda1a3de",
   "metadata": {},
   "outputs": [],
   "source": [
    "import numpy as np\n",
    "import pandas as pd\n",
    "import matplotlib.pyplot as plt\n",
    "\n",
    "# X, y 데이터 준비\n",
    "path = 'https://archive.ics.uci.edu/ml/machine-learning-databases/iris/iris.data'\n",
    "df = pd.read_csv(path, header=None)\n",
    "df.columns =  ['sepal length', 'sepal width', 'petal length', 'petal width', 'species'] \n",
    "X = df.drop('species', axis=1).to_numpy()\n",
    "y = df['species'].to_numpy()\n",
    "y = np.where(y == 'Iris-setosa', 0, np.where(y == 'Iris-versicolor', 1, 2))\n",
    "X = X[:, [2,3]]\n",
    "\n",
    "# 데이터 분할\n",
    "from sklearn.model_selection import train_test_split # 데이터 분할 모듈\n",
    "X_train, X_test, y_train, y_test = train_test_split(X, y,\n",
    "                                                    train_size = 0.7,  # train : test = 7 : 3\n",
    "                                                    stratify = y)  # y의 분포대로 샘플링(계층화)\n",
    "# X데이터 표준화\n",
    "from sklearn.preprocessing import StandardScaler\n",
    "sc = StandardScaler()  # 인스턴스와\n",
    "sc.fit(X_train)  # 각 특성별로 평균, 표준편차 계산\n",
    "X_train_std = sc.transform(X_train)  # transform() : 구해놨던 평균, 표준편차 구하는 ㅠ공식으로 표준화시킴\n",
    "X_test_std = sc.transform(X_test) # 같은 공식으로 test 데이터도 스케일 조정"
   ]
  },
  {
   "cell_type": "code",
   "execution_count": 19,
   "id": "ce09e6b4",
   "metadata": {},
   "outputs": [
    {
     "data": {
      "text/plain": [
       "0.9777777777777777"
      ]
     },
     "execution_count": 19,
     "metadata": {},
     "output_type": "execute_result"
    }
   ],
   "source": [
    "from sklearn.neighbors import KNeighborsClassifier\n",
    "knn5 = KNeighborsClassifier(n_neighbors = 5) # k값 설정\n",
    "knn5.fit(X_train_std, y_train)\n",
    "knn5.score(X_test_std, y_test)"
   ]
  },
  {
   "cell_type": "code",
   "execution_count": 20,
   "id": "76413598",
   "metadata": {},
   "outputs": [
    {
     "data": {
      "text/plain": [
       "array([1])"
      ]
     },
     "execution_count": 20,
     "metadata": {},
     "output_type": "execute_result"
    }
   ],
   "source": [
    "new_data = [[4, 1.0]]\n",
    "new_data_std = sc.transform(new_data)\n",
    "\n",
    "knn5.predict(new_data_std)"
   ]
  },
  {
   "cell_type": "code",
   "execution_count": null,
   "id": "820bbd4a",
   "metadata": {},
   "outputs": [],
   "source": []
  }
 ],
 "metadata": {
  "kernelspec": {
   "display_name": "Python 3",
   "language": "python",
   "name": "python3"
  },
  "language_info": {
   "codemirror_mode": {
    "name": "ipython",
    "version": 3
   },
   "file_extension": ".py",
   "mimetype": "text/x-python",
   "name": "python",
   "nbconvert_exporter": "python",
   "pygments_lexer": "ipython3",
   "version": "3.8.8"
  },
  "toc": {
   "base_numbering": 1,
   "nav_menu": {},
   "number_sections": true,
   "sideBar": true,
   "skip_h1_title": false,
   "title_cell": "Table of Contents",
   "title_sidebar": "Contents",
   "toc_cell": false,
   "toc_position": {},
   "toc_section_display": true,
   "toc_window_display": true
  }
 },
 "nbformat": 4,
 "nbformat_minor": 5
}
