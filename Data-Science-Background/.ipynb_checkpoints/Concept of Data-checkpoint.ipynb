{
 "cells": [
  {
   "cell_type": "markdown",
   "id": "751aed76",
   "metadata": {},
   "source": [
    "# 데이터의 개념"
   ]
  },
  {
   "cell_type": "markdown",
   "id": "fb7823fd",
   "metadata": {},
   "source": [
    "### DIKW Pyramid\n",
    "- Data -> Information -> Knowledge -> Wisdom\n",
    "            \n",
    "### 자료 수집 방법\n",
    "- 질문지법\n",
    "    - 장: 통계 처리 쉽고 자료 분석 용이\n",
    "    - 단: 문맹자에게 실시 곤란\n",
    "- 실험법\n",
    "    - 장: 과학적 연구 가능\n",
    "    - 단: 윤리적 문제 발생\n",
    "- 면접법\n",
    "    - 장: 깊이 있는 자료 수집\n",
    "    - 단: 비용이 많이 들고 표본을 구하기 어려움\n",
    "- 참여관찰법\n",
    "    - 장: 현장감 있는 생생한 자료 수집\n",
    "    - 단: 예쌍치 못했던 변수의 통제 곤란\n",
    "- 문헌 연구법\n",
    "    - 장: 시간과 공간의 제약 극복\n",
    "    - 단: 문헌의 신뢰성이 낮으면 연구의 신뢰성이 떨어짐\n",
    "  \n",
    "### 데이터 종류 LOTS \n",
    "- L자료: 생애 데이터\n",
    "    - 생활기록부, 범죄이력, 신용정보 등 한 대상의 통사적 정보를 알 수 있는 자료\n",
    "- O자료: 관찰 데이터\n",
    "    - 숙련된 관찰자 혹은 대상을 잘 아는 관계자 등이 제공하는 자료\n",
    "- T자료: 검사 데이터\n",
    "    - 실험적 절차를 거치거나 표준화된 검사를 통해 얻어진 데이터\n",
    "- S자료: 자기보고 데이터\n",
    "    - 어떤 대상에 대한 정보를 얻을 때 그 대상에게 직접 물어봐 얻은 자료\n",
    "\n",
    "\n",
    "   "
   ]
  },
  {
   "cell_type": "code",
   "execution_count": null,
   "id": "7c2486da",
   "metadata": {},
   "outputs": [],
   "source": []
  }
 ],
 "metadata": {
  "kernelspec": {
   "display_name": "Python 3",
   "language": "python",
   "name": "python3"
  },
  "language_info": {
   "codemirror_mode": {
    "name": "ipython",
    "version": 3
   },
   "file_extension": ".py",
   "mimetype": "text/x-python",
   "name": "python",
   "nbconvert_exporter": "python",
   "pygments_lexer": "ipython3",
   "version": "3.8.8"
  }
 },
 "nbformat": 4,
 "nbformat_minor": 5
}
