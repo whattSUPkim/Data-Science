{
 "cells": [
  {
   "cell_type": "markdown",
   "id": "12f52275",
   "metadata": {},
   "source": [
    "# 오픈데이터\n",
    "\n",
    "### 스프레드시트\n",
    "- 많은 정부 기관이 엑셀과 같은 스프레드시트로 정보 관리\n",
    "- 계산 공식과 매크로 등이 포함되어 있음\n",
    "\n",
    "### CSV(Comma-Separated Values)\n",
    "- csv 파일은 간결하고 동일한 구조로 대용량 데이터 집합을 전송하기에 적합함\n",
    "- 별도의 메타데이터 문서가 없을 경우 서로 다른 컬럼의 중요성을 추측하기 어려움\n",
    "\n",
    "### HTML(HyperText Markup Language)\n",
    "- 웹 페이지를 위한 마크업 언어\n",
    "- 제목, 단락, 목록 등과 같은 본문을 위한 구조적 의미를 나타낼 수 있음\n",
    "- 웹 페이지 콘텐츠 안의 < > 괄호에 둘러싸인 '태그'로 되어있는 html요소 형태로 작성\n",
    "- HTML은 자바스크립트와 CSS 같은 스크립트를 포함하거나 불러올 수 있음\n",
    "\n",
    "### XML(Extensible Markup Language)\n",
    "- 다른 특수한 목적을 갖는 마크업 언어를 만드는데 사용하도록 권장하는 다목적 마크업 언어\n",
    "- 다른 많은 종류의 데이터를 기술하는 데 사용할 수 있음(데이터 상호교환을 위해 폭넓게 사용되는 포멧)\n",
    "\n",
    "### JSON(JavaScript Object Notation)\n",
    "- 속성-값 쌍 또는 키-값 쌍으로 이루어진 데이터 오브젝트를 전달하기 위한 개방형 표준 포멧\n",
    "- 비동기 브라우저/서버 통신 등을 위해, 넓게는 XML을 대체하는 주요 데이터 포멧\n",
    "- 인터넷에서 자료를 주고 받을 때 그 자료를 표현하는 방법으로 알려져 있음\n",
    "- 어떤 프로그래밍 언어로도 읽을 수 있는 단순한 파일 포멧\n",
    "- XML 같은 포멧에 비해 컴퓨터가 처리하기 쉬움\n",
    "\n",
    "### RDF(Resource Description Framework)\n",
    "- 다수의 자료원으로부터 데이터를 쉽게 조합할 수 있는 형식으로 데이터 표현 가능\n",
    "- RDF 데이터는 여러 가지 직렬화 방법이 있으며, XML과 JSON으로 편리하게 저장 가능\n",
    "- RDF는 웹에 있는 오픈 데이터를 서로 연결하는데 편리한 방법을 제공(식별자로 URL 사용을 장려)\n",
    "\n",
    "### 일반 텍스트(Plain Text)\n",
    "- .txt는 컴퓨터가 읽기 매우 쉬움\n",
    "- 운영체제 사이에서 전환할 때 문제가 생길 수 있음\n"
   ]
  },
  {
   "cell_type": "code",
   "execution_count": null,
   "id": "43151cf0",
   "metadata": {},
   "outputs": [],
   "source": []
  }
 ],
 "metadata": {
  "kernelspec": {
   "display_name": "Python 3",
   "language": "python",
   "name": "python3"
  },
  "language_info": {
   "codemirror_mode": {
    "name": "ipython",
    "version": 3
   },
   "file_extension": ".py",
   "mimetype": "text/x-python",
   "name": "python",
   "nbconvert_exporter": "python",
   "pygments_lexer": "ipython3",
   "version": "3.8.8"
  }
 },
 "nbformat": 4,
 "nbformat_minor": 5
}
