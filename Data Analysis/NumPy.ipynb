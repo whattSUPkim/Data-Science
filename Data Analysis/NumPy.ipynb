{
 "cells": [
  {
   "cell_type": "markdown",
   "metadata": {
    "id": "J_FfQuu2Tb30"
   },
   "source": [
    "# NumPy 한번에 제대로 배우기\n",
    "> by 이수안 컴퓨터 연구소 https://mangastorytelling.tistory.com/entry/%EC%9D%B4%EC%88%98%EC%95%88%EC%BB%B4%ED%93%A8%ED%84%B0%EC%97%B0%EA%B5%AC%EC%86%8C-NumPy-%ED%95%9C%EB%B2%88%EC%97%90-%EC%A0%9C%EB%8C%80%EB%A1%9C-%EB%B0%B0%EC%9A%B0%EA%B8%B0"
   ]
  },
  {
   "cell_type": "markdown",
   "metadata": {
    "id": "Zgrrh9T2vs8u"
   },
   "source": [
    "\n",
    "\n",
    "---\n",
    "\n"
   ]
  },
  {
   "cell_type": "markdown",
   "metadata": {
    "id": "oR5hNBH-Retd"
   },
   "source": [
    "## NumPy 특징\n",
    "\n",
    "* Numerical Python의 약자\n",
    "* 고성능 과학 계산용 패키지로 강력한 N차원 배열 객체\n",
    "* 범용적 데이터 처리에 사용 가능한 다차원 컨테이너\n",
    "* 정교한 브로드캐스팅(broadcasting) 기능\n",
    "* 파이썬의 자료형 list와 비슷하지만, 더 빠르고 메모리를 효율적으로 관리\n",
    "* 반복문 없이 데이터 배열에 대한 처리를 지원하여 빠르고 편리\n",
    "* 데이터 과학 도구에 대한 생태계의 핵심을 이루고 있음"
   ]
  },
  {
   "cell_type": "code",
   "execution_count": 1,
   "metadata": {
    "id": "R9klTdhLQ564"
   },
   "outputs": [],
   "source": [
    "import numpy as np"
   ]
  },
  {
   "cell_type": "code",
   "execution_count": 2,
   "metadata": {},
   "outputs": [
    {
     "data": {
      "text/plain": [
       "'1.20.1'"
      ]
     },
     "execution_count": 2,
     "metadata": {},
     "output_type": "execute_result"
    }
   ],
   "source": [
    "np.__version__"
   ]
  },
  {
   "cell_type": "markdown",
   "metadata": {
    "id": "2hSWC5ptGyWP"
   },
   "source": [
    "\n",
    "\n",
    "---\n",
    "\n"
   ]
  },
  {
   "cell_type": "markdown",
   "metadata": {
    "id": "1kgkJZFlVUqk"
   },
   "source": [
    "## 배열 생성"
   ]
  },
  {
   "cell_type": "markdown",
   "metadata": {
    "id": "5eQ4sAkMbzm0"
   },
   "source": [
    "### 리스트로 배열 만들기\n"
   ]
  },
  {
   "cell_type": "code",
   "execution_count": 23,
   "metadata": {
    "id": "Mtod2jcPWVvV"
   },
   "outputs": [
    {
     "name": "stdout",
     "output_type": "stream",
     "text": [
      "[1 2 3 4 5]\n",
      "(5,)\n",
      "[3 2 3 4 5]\n"
     ]
    }
   ],
   "source": [
    "a1 = np.array([1, 2, 3, 4, 5])\n",
    "print(a1)\n",
    "print(a1.shape)\n",
    "a1[0] = 3\n",
    "print(a1)"
   ]
  },
  {
   "cell_type": "code",
   "execution_count": 24,
   "metadata": {
    "id": "vp9tkHH8esXT"
   },
   "outputs": [
    {
     "name": "stdout",
     "output_type": "stream",
     "text": [
      "[[1 2 3]\n",
      " [4 5 6]\n",
      " [7 8 9]]\n",
      "(3, 3)\n",
      "1 4 7\n"
     ]
    }
   ],
   "source": [
    "a2 = np.array([[1, 2, 3],[ 4, 5, 6], [7, 8, 9]])\n",
    "print(a2)\n",
    "print(a2.shape)\n",
    "print(a2[0, 0], a2[1, 0], a2[2, 0])"
   ]
  },
  {
   "cell_type": "code",
   "execution_count": 27,
   "metadata": {
    "id": "Baj4gZ2meuJu"
   },
   "outputs": [
    {
     "name": "stdout",
     "output_type": "stream",
     "text": [
      "[[[1 2 3]\n",
      "  [4 5 6]\n",
      "  [7 8 9]]\n",
      "\n",
      " [[1 2 3]\n",
      "  [4 5 6]\n",
      "  [7 8 9]]\n",
      "\n",
      " [[1 2 3]\n",
      "  [4 5 6]\n",
      "  [7 8 9]]]\n",
      "(3, 3, 3)\n"
     ]
    }
   ],
   "source": [
    "a3 = np.array([[ [1, 2, 3], [4, 5, 6], [7, 8, 9] ], \n",
    "               [ [1, 2, 3], [4, 5, 6], [7, 8, 9] ], \n",
    "               [ [1, 2, 3], [4, 5, 6], [7, 8, 9] ]])\n",
    "print(a3)\n",
    "print(a3.shape)"
   ]
  },
  {
   "cell_type": "markdown",
   "metadata": {
    "id": "PNkKtw4CoSDB"
   },
   "source": [
    "### 배열 생성 및 초기화"
   ]
  },
  {
   "cell_type": "markdown",
   "metadata": {
    "id": "mJVii5p_VfgM"
   },
   "source": [
    "* `zeros()`: 모든 요소를 0으로 초기화"
   ]
  },
  {
   "cell_type": "code",
   "execution_count": 28,
   "metadata": {
    "id": "W_SF1tVoVTf1"
   },
   "outputs": [
    {
     "data": {
      "text/plain": [
       "array([0., 0., 0., 0., 0., 0., 0., 0., 0., 0.])"
      ]
     },
     "execution_count": 28,
     "metadata": {},
     "output_type": "execute_result"
    }
   ],
   "source": [
    "np.zeros(10)"
   ]
  },
  {
   "cell_type": "markdown",
   "metadata": {
    "id": "LjYFQrODVqhX"
   },
   "source": [
    "* `ones()`: 모든 요소를 1로 초기화"
   ]
  },
  {
   "cell_type": "code",
   "execution_count": 30,
   "metadata": {
    "id": "MURoqsMsVeUw"
   },
   "outputs": [
    {
     "data": {
      "text/plain": [
       "array([[1., 1., 1.],\n",
       "       [1., 1., 1.],\n",
       "       [1., 1., 1.]])"
      ]
     },
     "execution_count": 30,
     "metadata": {},
     "output_type": "execute_result"
    }
   ],
   "source": [
    "np.ones((3, 3))"
   ]
  },
  {
   "cell_type": "markdown",
   "metadata": {
    "id": "jnmm3Cj-cGtx"
   },
   "source": [
    "* `full()`: 모든 요소를 지정한 값으로 초기화"
   ]
  },
  {
   "cell_type": "code",
   "execution_count": 33,
   "metadata": {
    "id": "oscabrdcV7Ny"
   },
   "outputs": [
    {
     "data": {
      "text/plain": [
       "array([[10, 10, 10],\n",
       "       [10, 10, 10],\n",
       "       [10, 10, 10]])"
      ]
     },
     "execution_count": 33,
     "metadata": {},
     "output_type": "execute_result"
    }
   ],
   "source": [
    "np.full((3,3), 10)"
   ]
  },
  {
   "cell_type": "markdown",
   "metadata": {
    "id": "0SRI4jbmlIKc"
   },
   "source": [
    "* `eye()`: 단위행렬(identity matrix) 생성\n",
    "  + 주대각선의 원소가 모두 1이고 나머지 원소는 모두 0인 정사각 행렬"
   ]
  },
  {
   "cell_type": "code",
   "execution_count": 34,
   "metadata": {
    "id": "VceBVLLjk9o5"
   },
   "outputs": [
    {
     "data": {
      "text/plain": [
       "array([[1., 0., 0.],\n",
       "       [0., 1., 0.],\n",
       "       [0., 0., 1.]])"
      ]
     },
     "execution_count": 34,
     "metadata": {},
     "output_type": "execute_result"
    }
   ],
   "source": [
    "np.eye(3)"
   ]
  },
  {
   "cell_type": "markdown",
   "metadata": {
    "id": "7CCH1ZMT5R02"
   },
   "source": [
    "* `tri()`: 삼각행렬 생성"
   ]
  },
  {
   "cell_type": "code",
   "execution_count": 35,
   "metadata": {
    "id": "mLe2Bhj05VYu"
   },
   "outputs": [
    {
     "data": {
      "text/plain": [
       "array([[1., 0., 0.],\n",
       "       [1., 1., 0.],\n",
       "       [1., 1., 1.]])"
      ]
     },
     "execution_count": 35,
     "metadata": {},
     "output_type": "execute_result"
    }
   ],
   "source": [
    "np.tri(3)"
   ]
  },
  {
   "cell_type": "markdown",
   "metadata": {
    "id": "ObZRA4HclZlO"
   },
   "source": [
    "* `empty()`: 초기화되지 않은 배열 생성\n",
    "  + 초기화가 없어서 배열 생성비용 저렴하고 빠름\n",
    "  + 초기화되지 않아서 기존 메모리 위치에 존재하는 값이 있음"
   ]
  },
  {
   "cell_type": "code",
   "execution_count": 36,
   "metadata": {
    "id": "I3SoFgiglAkz"
   },
   "outputs": [
    {
     "data": {
      "text/plain": [
       "array([1., 1., 1., 1., 1., 1., 1., 1., 1., 1.])"
      ]
     },
     "execution_count": 36,
     "metadata": {},
     "output_type": "execute_result"
    }
   ],
   "source": [
    "np.empty(10)"
   ]
  },
  {
   "cell_type": "markdown",
   "metadata": {
    "id": "p3uSl1Ccmi5_"
   },
   "source": [
    "* `_like()`: 지정된 배열과 shape가 같은 행렬 생성\n",
    "  + `np.zeros_like()`\n",
    "  + `np.ones_like()`\n",
    "  + `np.full_like()`\n",
    "  + `np.empty_like()`"
   ]
  },
  {
   "cell_type": "code",
   "execution_count": 40,
   "metadata": {
    "id": "Ad5RskRRlZLs"
   },
   "outputs": [
    {
     "data": {
      "text/plain": [
       "array([0, 0, 0, 0, 0])"
      ]
     },
     "execution_count": 40,
     "metadata": {},
     "output_type": "execute_result"
    }
   ],
   "source": [
    "np.zeros_like(a1)"
   ]
  },
  {
   "cell_type": "code",
   "execution_count": 42,
   "metadata": {
    "id": "KChUHsG003Nf"
   },
   "outputs": [
    {
     "data": {
      "text/plain": [
       "array([[[3, 3, 3],\n",
       "        [3, 3, 3],\n",
       "        [3, 3, 3]],\n",
       "\n",
       "       [[3, 3, 3],\n",
       "        [3, 3, 3],\n",
       "        [3, 3, 3]],\n",
       "\n",
       "       [[3, 3, 3],\n",
       "        [3, 3, 3],\n",
       "        [3, 3, 3]]])"
      ]
     },
     "execution_count": 42,
     "metadata": {},
     "output_type": "execute_result"
    }
   ],
   "source": [
    "np.full_like(a3, 3)"
   ]
  },
  {
   "cell_type": "code",
   "execution_count": null,
   "metadata": {
    "id": "PUnDz6b305Gg"
   },
   "outputs": [],
   "source": []
  },
  {
   "cell_type": "markdown",
   "metadata": {
    "id": "apoksGJNrn1z"
   },
   "source": [
    "### 생성한 값으로 배열 생성"
   ]
  },
  {
   "cell_type": "markdown",
   "metadata": {
    "id": "H3nmLct8cnV8"
   },
   "source": [
    "* `arange()`: 정수 범위로 배열 생성"
   ]
  },
  {
   "cell_type": "code",
   "execution_count": 43,
   "metadata": {
    "id": "mANy4WY4cDKa"
   },
   "outputs": [
    {
     "data": {
      "text/plain": [
       "array([ 0,  2,  4,  6,  8, 10, 12, 14, 16, 18, 20, 22, 24, 26, 28])"
      ]
     },
     "execution_count": 43,
     "metadata": {},
     "output_type": "execute_result"
    }
   ],
   "source": [
    "np.arange(0, 30, 2)"
   ]
  },
  {
   "cell_type": "markdown",
   "metadata": {
    "id": "s5kET1e6itlo"
   },
   "source": [
    "* `linspace()`: 범위 내에서 균등 간격의 배열 생성"
   ]
  },
  {
   "cell_type": "code",
   "execution_count": 44,
   "metadata": {
    "id": "u4q9gI7Zcltz"
   },
   "outputs": [
    {
     "data": {
      "text/plain": [
       "array([0.  , 0.25, 0.5 , 0.75, 1.  ])"
      ]
     },
     "execution_count": 44,
     "metadata": {},
     "output_type": "execute_result"
    }
   ],
   "source": [
    "np.linspace(0, 1, 5)"
   ]
  },
  {
   "cell_type": "markdown",
   "metadata": {
    "id": "Eq26d7T3nnAH"
   },
   "source": [
    "* `logspace()`: 범위 내에서 균등간격으로 로그 스케일로 배열 생성"
   ]
  },
  {
   "cell_type": "code",
   "execution_count": 47,
   "metadata": {
    "id": "-O29WBVEnyXX"
   },
   "outputs": [
    {
     "data": {
      "text/plain": [
       "array([ 1.25892541,  1.40400425,  1.565802  ,  1.74624535,  1.94748304,\n",
       "        2.1719114 ,  2.42220294,  2.70133812,  3.0126409 ,  3.35981829,\n",
       "        3.74700446,  4.17881006,  4.66037703,  5.19743987,  5.79639395,\n",
       "        6.46437163,  7.2093272 ,  8.04013161,  8.9666781 , 10.        ])"
      ]
     },
     "execution_count": 47,
     "metadata": {},
     "output_type": "execute_result"
    }
   ],
   "source": [
    "np.logspace(0.1, 1, 20)"
   ]
  },
  {
   "cell_type": "markdown",
   "metadata": {
    "id": "6_88s4_Jr7fO"
   },
   "source": [
    "### 랜덤값으로 배열 생성\n"
   ]
  },
  {
   "cell_type": "markdown",
   "metadata": {
    "id": "CoK1cVUkjNMg"
   },
   "source": [
    "* `random.random()`: 랜덤한 수의 배열 생성"
   ]
  },
  {
   "cell_type": "code",
   "execution_count": 49,
   "metadata": {
    "id": "qJwccKEnjMze"
   },
   "outputs": [
    {
     "data": {
      "text/plain": [
       "array([[0.35639316, 0.43237147, 0.61325922],\n",
       "       [0.54051065, 0.76553902, 0.2378899 ],\n",
       "       [0.6355741 , 0.68936709, 0.04369241]])"
      ]
     },
     "execution_count": 49,
     "metadata": {},
     "output_type": "execute_result"
    }
   ],
   "source": [
    "np.random.random((3, 3))"
   ]
  },
  {
   "cell_type": "markdown",
   "metadata": {
    "id": "BYsAVwA1kvDI"
   },
   "source": [
    "* `random.randint()`: 일정 구간의 랜덤 정수의 배열 생성"
   ]
  },
  {
   "cell_type": "code",
   "execution_count": 52,
   "metadata": {
    "id": "oR-UszZ_jqfQ"
   },
   "outputs": [
    {
     "data": {
      "text/plain": [
       "array([[4, 8, 0],\n",
       "       [6, 2, 2],\n",
       "       [5, 3, 7]])"
      ]
     },
     "execution_count": 52,
     "metadata": {},
     "output_type": "execute_result"
    }
   ],
   "source": [
    "np.random.randint(0, 10, (3, 3))"
   ]
  },
  {
   "cell_type": "markdown",
   "metadata": {
    "id": "2r557WHsjrL3"
   },
   "source": [
    "* `random.normal()`: 정규분포(normal distribution)를 고려한 랜덤한 수의 배열 생성\n",
    "* 평균=0, 표준편차=1, 3 x 3 배열"
   ]
  },
  {
   "cell_type": "code",
   "execution_count": 53,
   "metadata": {
    "id": "Oan3bSpHi2Wq"
   },
   "outputs": [
    {
     "data": {
      "text/plain": [
       "array([[-2.57909045e+00, -7.59205649e-04, -2.13954147e+00],\n",
       "       [-7.32123862e-01,  2.93092014e+00, -3.58369871e-01],\n",
       "       [ 1.77654731e+00,  2.73996181e-01,  1.61438519e+00]])"
      ]
     },
     "execution_count": 53,
     "metadata": {},
     "output_type": "execute_result"
    }
   ],
   "source": [
    "np.random.normal(0, 2, (3, 3))"
   ]
  },
  {
   "cell_type": "markdown",
   "metadata": {
    "id": "fPO-D1rHsrFw"
   },
   "source": [
    "* `random.rand()`: 균등분포(uniform distribution)를 고려한 랜덤한 수의 배열 생성"
   ]
  },
  {
   "cell_type": "code",
   "execution_count": 57,
   "metadata": {
    "id": "DxiyEjnXnDUT"
   },
   "outputs": [
    {
     "data": {
      "text/plain": [
       "array([[0.84344411, 0.2626795 , 0.9744802 ],\n",
       "       [0.66779967, 0.89534945, 0.56671549],\n",
       "       [0.37541589, 0.34663024, 0.55893192]])"
      ]
     },
     "execution_count": 57,
     "metadata": {},
     "output_type": "execute_result"
    }
   ],
   "source": [
    "np.random.rand(3, 3)"
   ]
  },
  {
   "cell_type": "markdown",
   "metadata": {
    "id": "IegH2dsPLQgd"
   },
   "source": [
    "* `random.randn()`: 표준 정규 분포(standard normal distribution)를 고려한 랜덤한 수의 배열 생성"
   ]
  },
  {
   "cell_type": "code",
   "execution_count": 61,
   "metadata": {
    "id": "V61VHa-JLIma"
   },
   "outputs": [
    {
     "data": {
      "text/plain": [
       "array([[-0.36083994, -1.43089773,  1.1426903 ],\n",
       "       [ 0.48466606,  0.21106975,  0.80758568],\n",
       "       [ 0.77177719,  1.28001317,  0.93510955]])"
      ]
     },
     "execution_count": 61,
     "metadata": {},
     "output_type": "execute_result"
    }
   ],
   "source": [
    "np.random.randn(3, 3)"
   ]
  },
  {
   "cell_type": "markdown",
   "metadata": {
    "id": "5ts0cYLQL_pT"
   },
   "source": [
    "### 표준 데이터 타입"
   ]
  },
  {
   "cell_type": "code",
   "execution_count": 63,
   "metadata": {
    "id": "rxqTqAFKL73y"
   },
   "outputs": [
    {
     "data": {
      "text/plain": [
       "array([0, 0, 0, 0, 0, 0, 0, 0, 0, 0, 0, 0, 0, 0, 0, 0, 0, 0, 0, 0])"
      ]
     },
     "execution_count": 63,
     "metadata": {},
     "output_type": "execute_result"
    }
   ],
   "source": [
    "np.zeros(20, dtype = int)"
   ]
  },
  {
   "cell_type": "code",
   "execution_count": 65,
   "metadata": {
    "id": "o9TuSl6HIsXr"
   },
   "outputs": [
    {
     "data": {
      "text/plain": [
       "array([[ True,  True,  True],\n",
       "       [ True,  True,  True],\n",
       "       [ True,  True,  True]])"
      ]
     },
     "execution_count": 65,
     "metadata": {},
     "output_type": "execute_result"
    }
   ],
   "source": [
    "np.ones((3, 3), dtype = bool)"
   ]
  },
  {
   "cell_type": "code",
   "execution_count": 66,
   "metadata": {
    "id": "w-TciNfzEhY0"
   },
   "outputs": [
    {
     "data": {
      "text/plain": [
       "array([[1., 1., 1.],\n",
       "       [1., 1., 1.],\n",
       "       [1., 1., 1.]])"
      ]
     },
     "execution_count": 66,
     "metadata": {},
     "output_type": "execute_result"
    }
   ],
   "source": [
    "np.full((3, 3), 1.0, dtype = float)"
   ]
  },
  {
   "cell_type": "markdown",
   "metadata": {
    "id": "1qFumu-p-0mQ",
    "tags": []
   },
   "source": [
    "### 날짜/시간 배열 생성\n"
   ]
  },
  {
   "cell_type": "code",
   "execution_count": 68,
   "metadata": {
    "id": "D8ozvTUf-6Rr"
   },
   "outputs": [
    {
     "data": {
      "text/plain": [
       "array('2020-01-01', dtype='datetime64[D]')"
      ]
     },
     "execution_count": 68,
     "metadata": {},
     "output_type": "execute_result"
    }
   ],
   "source": [
    "date = np.array('2020-01-01', dtype = np.datetime64)\n",
    "date"
   ]
  },
  {
   "cell_type": "code",
   "execution_count": 70,
   "metadata": {
    "id": "XIjLUkn6_K3J"
   },
   "outputs": [
    {
     "data": {
      "text/plain": [
       "array(['2020-01-01', '2020-01-02', '2020-01-03', '2020-01-04',\n",
       "       '2020-01-05', '2020-01-06', '2020-01-07', '2020-01-08',\n",
       "       '2020-01-09', '2020-01-10', '2020-01-11', '2020-01-12'],\n",
       "      dtype='datetime64[D]')"
      ]
     },
     "execution_count": 70,
     "metadata": {},
     "output_type": "execute_result"
    }
   ],
   "source": [
    "date + np.arange(12)"
   ]
  },
  {
   "cell_type": "code",
   "execution_count": 71,
   "metadata": {
    "id": "EO7yE5VR_Wlh"
   },
   "outputs": [
    {
     "data": {
      "text/plain": [
       "numpy.datetime64('2021-09-29T20:00')"
      ]
     },
     "execution_count": 71,
     "metadata": {},
     "output_type": "execute_result"
    }
   ],
   "source": [
    "datetime = np.datetime64('2021-09-29 20:00')\n",
    "datetime"
   ]
  },
  {
   "cell_type": "code",
   "execution_count": 72,
   "metadata": {
    "id": "3dnOlf9i_kzX"
   },
   "outputs": [
    {
     "data": {
      "text/plain": [
       "numpy.datetime64('2021-09-29T20:00:12.340000000')"
      ]
     },
     "execution_count": 72,
     "metadata": {},
     "output_type": "execute_result"
    }
   ],
   "source": [
    "datetime = np.datetime64('2021-09-29 20:00:12.34', 'ns') # ns - 나노s\n",
    "datetime"
   ]
  },
  {
   "cell_type": "markdown",
   "metadata": {
    "id": "5AREIamhGxAr"
   },
   "source": [
    "\n",
    "\n",
    "---\n",
    "\n"
   ]
  },
  {
   "cell_type": "markdown",
   "metadata": {
    "id": "d88tkTqbBE5V"
   },
   "source": [
    "## 배열 조회"
   ]
  },
  {
   "cell_type": "markdown",
   "metadata": {
    "id": "vRqwfbjtFnPn"
   },
   "source": [
    "### 배열 속성 정보"
   ]
  },
  {
   "cell_type": "code",
   "execution_count": 73,
   "metadata": {
    "id": "R5Rlcll7GXrM"
   },
   "outputs": [],
   "source": [
    "def array_info(array):\n",
    "        print(array)\n",
    "        print('ndim: ', array.ndim)\n",
    "        print('shape: ', array.shape)\n",
    "        print('dtype: ', array.dtype)\n",
    "        print('size: ', array.size)\n",
    "        print('itemsize: ', array.itemsize) # 각 아이템의 사이즈(dtype에 의거)\n",
    "        print('nbytes: ', array.nbytes) # 아이템 사이즈 * 개수 = 총 크기\n",
    "        print('strides: ', array.strides) # 엘리먼트 간 간격"
   ]
  },
  {
   "cell_type": "code",
   "execution_count": 74,
   "metadata": {
    "id": "Na59LwA7KXZV"
   },
   "outputs": [
    {
     "name": "stdout",
     "output_type": "stream",
     "text": [
      "[3 2 3 4 5]\n",
      "ndim:  1\n",
      "shape:  (5,)\n",
      "dtype:  int32\n",
      "size:  5\n",
      "itemsize:  4\n",
      "nbytes:  20\n",
      "strides:  (4,)\n"
     ]
    }
   ],
   "source": [
    "array_info(a1)"
   ]
  },
  {
   "cell_type": "code",
   "execution_count": 75,
   "metadata": {
    "id": "Urzr_LsdLah0"
   },
   "outputs": [
    {
     "name": "stdout",
     "output_type": "stream",
     "text": [
      "[[1 2 3]\n",
      " [4 5 6]\n",
      " [7 8 9]]\n",
      "ndim:  2\n",
      "shape:  (3, 3)\n",
      "dtype:  int32\n",
      "size:  9\n",
      "itemsize:  4\n",
      "nbytes:  36\n",
      "strides:  (12, 4)\n"
     ]
    }
   ],
   "source": [
    "array_info(a2)"
   ]
  },
  {
   "cell_type": "code",
   "execution_count": 76,
   "metadata": {
    "id": "jktqh1lsLf4V"
   },
   "outputs": [
    {
     "name": "stdout",
     "output_type": "stream",
     "text": [
      "[[[1 2 3]\n",
      "  [4 5 6]\n",
      "  [7 8 9]]\n",
      "\n",
      " [[1 2 3]\n",
      "  [4 5 6]\n",
      "  [7 8 9]]\n",
      "\n",
      " [[1 2 3]\n",
      "  [4 5 6]\n",
      "  [7 8 9]]]\n",
      "ndim:  3\n",
      "shape:  (3, 3, 3)\n",
      "dtype:  int32\n",
      "size:  27\n",
      "itemsize:  4\n",
      "nbytes:  108\n",
      "strides:  (36, 12, 4)\n"
     ]
    }
   ],
   "source": [
    "array_info(a3)"
   ]
  },
  {
   "cell_type": "markdown",
   "metadata": {
    "id": "LV1WfdBWFqDu"
   },
   "source": [
    "### 인덱싱(Indexing)"
   ]
  },
  {
   "cell_type": "code",
   "execution_count": 79,
   "metadata": {
    "id": "Nyb7eDmGFr5m"
   },
   "outputs": [
    {
     "name": "stdout",
     "output_type": "stream",
     "text": [
      "[3 2 3 4 5]\n",
      "3\n",
      "4\n",
      "5\n"
     ]
    }
   ],
   "source": [
    "print(a1)\n",
    "print(a1[0])\n",
    "print(a1[3])\n",
    "print(a1[-1])"
   ]
  },
  {
   "cell_type": "code",
   "execution_count": 82,
   "metadata": {
    "id": "uHMNcQW3Kn-h"
   },
   "outputs": [
    {
     "name": "stdout",
     "output_type": "stream",
     "text": [
      "[[1 2 3]\n",
      " [4 5 6]\n",
      " [7 8 9]]\n",
      "1\n",
      "5\n",
      "9\n"
     ]
    }
   ],
   "source": [
    "print(a2)\n",
    "print(a2[0, 0])\n",
    "print(a2[1, 1])\n",
    "print(a2[2, -1])"
   ]
  },
  {
   "cell_type": "code",
   "execution_count": 84,
   "metadata": {
    "id": "IX5yDMGiMxYZ"
   },
   "outputs": [
    {
     "name": "stdout",
     "output_type": "stream",
     "text": [
      "[[[1 2 3]\n",
      "  [4 5 6]\n",
      "  [7 8 9]]\n",
      "\n",
      " [[1 2 3]\n",
      "  [4 5 6]\n",
      "  [7 8 9]]\n",
      "\n",
      " [[1 2 3]\n",
      "  [4 5 6]\n",
      "  [7 8 9]]]\n",
      "5\n"
     ]
    }
   ],
   "source": [
    "print(a3)\n",
    "print(a3[0, 1, 1])"
   ]
  },
  {
   "cell_type": "markdown",
   "metadata": {
    "id": "uSeXu2y_O4cu"
   },
   "source": [
    "### 슬라이싱(Slicing)"
   ]
  },
  {
   "cell_type": "markdown",
   "metadata": {
    "id": "1hikO_6ZPp5m"
   },
   "source": [
    "* 슬라이싱 구문: `a[start:stop:step]`\n",
    "* 기본값: start=0, stop=ndim, step=1"
   ]
  },
  {
   "cell_type": "code",
   "execution_count": 88,
   "metadata": {
    "id": "PYZOOCoVO7BF"
   },
   "outputs": [
    {
     "name": "stdout",
     "output_type": "stream",
     "text": [
      "[3 2 3 4 5]\n",
      "[3 2]\n",
      "[2 3 4 5]\n",
      "[3 3 5]\n",
      "[5 4 3 2 3]\n"
     ]
    }
   ],
   "source": [
    "print(a1)\n",
    "print(a1[0:2])\n",
    "print(a1[1:])\n",
    "print(a1[::2])\n",
    "print(a1[::-1])"
   ]
  },
  {
   "cell_type": "code",
   "execution_count": 92,
   "metadata": {
    "id": "oULOFrBQWs1G"
   },
   "outputs": [
    {
     "name": "stdout",
     "output_type": "stream",
     "text": [
      "[[1 2 3]\n",
      " [4 5 6]\n",
      " [7 8 9]]\n",
      "[4 5 6]\n",
      "[7 8 9]\n",
      "[[6 5 4]\n",
      " [9 8 7]]\n",
      "[[9 8 7]\n",
      " [6 5 4]\n",
      " [3 2 1]]\n"
     ]
    }
   ],
   "source": [
    "print(a2)\n",
    "print(a2[1])\n",
    "print(a2[2, :])\n",
    "print(a2[1:, ::-1])\n",
    "print(a2[::-1, ::-1])"
   ]
  },
  {
   "cell_type": "markdown",
   "metadata": {
    "id": "LD52bXAsBgbH"
   },
   "source": [
    "### 불리언 인덱싱(Boolean Indexing)\n",
    "\n",
    "* 배열 각 요소의 선택 여부를 불리언(True or False)로 지정\n",
    "* True 값인 인덱스의 값만 조회"
   ]
  },
  {
   "cell_type": "code",
   "execution_count": 101,
   "metadata": {
    "id": "pOvNsH2oBgz-"
   },
   "outputs": [
    {
     "name": "stdout",
     "output_type": "stream",
     "text": [
      "[3 2 3 4 5]\n",
      "[2 5]\n"
     ]
    }
   ],
   "source": [
    "print(a1)\n",
    "bi = [False, True, False, False, True]\n",
    "print(a1[bi])"
   ]
  },
  {
   "cell_type": "code",
   "execution_count": 106,
   "metadata": {
    "id": "EFfquM2kWHAU"
   },
   "outputs": [
    {
     "name": "stdout",
     "output_type": "stream",
     "text": [
      "[[1 2 3]\n",
      " [4 5 6]\n",
      " [7 8 9]]\n",
      "[[False  True False]\n",
      " [ True False  True]\n",
      " [False False  True]]\n",
      "[2 4 6 9]\n"
     ]
    }
   ],
   "source": [
    "print(a2)\n",
    "bi = np.random.randint(0, 2, (3, 3), dtype = bool)\n",
    "print(bi)\n",
    "print(a2[bi])"
   ]
  },
  {
   "cell_type": "markdown",
   "metadata": {
    "id": "R5hes-hdBujH"
   },
   "source": [
    "### 팬시 인덱싱(Fancy Indedxing)"
   ]
  },
  {
   "cell_type": "code",
   "execution_count": 113,
   "metadata": {
    "id": "z-Luw5fzBx30"
   },
   "outputs": [
    {
     "name": "stdout",
     "output_type": "stream",
     "text": [
      "[3 2 3 4 5]\n",
      "[3, 3]\n",
      "[3 3]\n",
      "\n",
      "[[3 2]\n",
      " [2 3]]\n"
     ]
    }
   ],
   "source": [
    "print(a1)\n",
    "print([a1[0], a1[2]])\n",
    "ind = [0, 2]\n",
    "print(a1[ind])\n",
    "print()\n",
    "ind = np.array([[0,1], [1, 2]])\n",
    "print(a1[ind])"
   ]
  },
  {
   "cell_type": "code",
   "execution_count": 118,
   "metadata": {
    "id": "p_Dd0oiJahgj"
   },
   "outputs": [
    {
     "name": "stdout",
     "output_type": "stream",
     "text": [
      "[[1 2 3]\n",
      " [4 5 6]\n",
      " [7 8 9]]\n",
      "\n",
      "[2 9]\n",
      "\n",
      "[[1 2 3]\n",
      " [7 8 9]]\n"
     ]
    }
   ],
   "source": [
    "print(a2)\n",
    "row = np.array([0, 2])\n",
    "col = np.array([1, 2])\n",
    "print()\n",
    "print(a2[row, col])\n",
    "print()\n",
    "print(a2[row, :])"
   ]
  },
  {
   "cell_type": "markdown",
   "metadata": {
    "id": "F71_PQF1GvTs"
   },
   "source": [
    "\n",
    "\n",
    "---\n",
    "\n"
   ]
  },
  {
   "cell_type": "markdown",
   "metadata": {
    "id": "zDI5yQ58O-IX"
   },
   "source": [
    "## 배열 값 삽입/수정/삭제/복사"
   ]
  },
  {
   "cell_type": "markdown",
   "metadata": {
    "id": "zajd1qpVOQYy"
   },
   "source": [
    "### 배열 값 삽입\n",
    "\n",
    "* `insert()`: 배열의 특정 위치에 값 삽입\n",
    "* axis를 지정하지 않으면 1차원 배열로 변환\n",
    "* 추가할 방향을 axis로 지정\n",
    "* 원본 배열 변경없이 새로운 배열 반환"
   ]
  },
  {
   "cell_type": "code",
   "execution_count": 123,
   "metadata": {
    "id": "sedRT54rP395"
   },
   "outputs": [
    {
     "name": "stdout",
     "output_type": "stream",
     "text": [
      "[3 2 3 4 5]\n",
      "[10  3  2  3  4  5]\n",
      "[3 2 3 4 5]\n"
     ]
    }
   ],
   "source": [
    "print(a1)\n",
    "b1 = np.insert(a1, 0, 10)\n",
    "print(b1)\n",
    "print(a1)"
   ]
  },
  {
   "cell_type": "code",
   "execution_count": 128,
   "metadata": {
    "id": "zNmu1E4iQ6h-"
   },
   "outputs": [
    {
     "name": "stdout",
     "output_type": "stream",
     "text": [
      "[[1 2 3]\n",
      " [4 5 6]\n",
      " [7 8 9]]\n",
      "[[ 1  2  3]\n",
      " [10 10 10]\n",
      " [ 4  5  6]\n",
      " [ 7  8  9]]\n",
      "[[ 1 10  2  3]\n",
      " [ 4 10  5  6]\n",
      " [ 7 10  8  9]]\n"
     ]
    }
   ],
   "source": [
    "print(a2)\n",
    "b2 = np.insert(a2, 1, 10, axis = 0)\n",
    "print(b2)\n",
    "c2 = np.insert(a2, 1, 10, axis = 1)\n",
    "print(c2)"
   ]
  },
  {
   "cell_type": "markdown",
   "metadata": {
    "id": "OlEzG4ffNjyL"
   },
   "source": [
    "### 배열 값 수정\n",
    "\n",
    "* 배열의 인덱싱으로 접근하여 값 수정"
   ]
  },
  {
   "cell_type": "code",
   "execution_count": 129,
   "metadata": {
    "id": "ec43i1KWNjeN"
   },
   "outputs": [
    {
     "name": "stdout",
     "output_type": "stream",
     "text": [
      "[3 2 3 4 5]\n",
      "[1 2 3 4 5]\n"
     ]
    }
   ],
   "source": [
    "print(a1)\n",
    "a1[0] = 1\n",
    "print(a1)"
   ]
  },
  {
   "cell_type": "code",
   "execution_count": 135,
   "metadata": {
    "id": "IApNNx3NOMQh"
   },
   "outputs": [
    {
     "name": "stdout",
     "output_type": "stream",
     "text": [
      "[[10  2  3]\n",
      " [ 4 10  3]\n",
      " [ 7  8  3]]\n",
      "[[2 2 3]\n",
      " [4 3 3]\n",
      " [7 8 3]]\n",
      "[[2 2 3]\n",
      " [4 3 5]\n",
      " [7 8 5]]\n"
     ]
    }
   ],
   "source": [
    "print(a2)\n",
    "a2[0, 0] = 2\n",
    "a2[1, 1] = 3\n",
    "print(a2)\n",
    "a2[1:, 2] = 5\n",
    "print(a2)"
   ]
  },
  {
   "cell_type": "markdown",
   "metadata": {
    "id": "emV7DgrITPcn"
   },
   "source": [
    "### 배열 값 삭제\n",
    "\n",
    "* `delete()`: 배열의 특정 위치에 값 삭제\n",
    "* axis를 지정하지 않으면 1차원 배열로 변환\n",
    "* 삭제할 방향을 axis로 지정\n",
    "* 원본 배열 변경없이 새로운 배열 반환"
   ]
  },
  {
   "cell_type": "code",
   "execution_count": 137,
   "metadata": {
    "id": "I3k_Yx8lTRJ2"
   },
   "outputs": [
    {
     "name": "stdout",
     "output_type": "stream",
     "text": [
      "[1 2 3 4 5]\n",
      "[1 3 4 5]\n",
      "[1 2 3 4 5]\n"
     ]
    }
   ],
   "source": [
    "print(a1)\n",
    "b1 = np.delete(a1, 1)\n",
    "print(b1)\n",
    "print(a1)"
   ]
  },
  {
   "cell_type": "code",
   "execution_count": 139,
   "metadata": {
    "id": "tRTwMIfJTq_y"
   },
   "outputs": [
    {
     "name": "stdout",
     "output_type": "stream",
     "text": [
      "[[2 2 3]\n",
      " [4 3 5]\n",
      " [7 8 5]]\n",
      "[[2 2 3]\n",
      " [7 8 5]]\n",
      "[[2 2 3]\n",
      " [4 3 5]\n",
      " [7 8 5]]\n"
     ]
    }
   ],
   "source": [
    "print(a2)\n",
    "b2 = np.delete(a2, 1, axis = 0)\n",
    "print(b2)\n",
    "print(a2)"
   ]
  },
  {
   "cell_type": "markdown",
   "metadata": {
    "id": "UydkYxV8Z6Fx"
   },
   "source": [
    "### 배열 복사\n",
    "\n",
    "* 리스트 자료형과 달리 배열의 슬라이스는 복사본이 아님"
   ]
  },
  {
   "cell_type": "code",
   "execution_count": 147,
   "metadata": {
    "id": "n2_0L8KWZ7wH"
   },
   "outputs": [
    {
     "name": "stdout",
     "output_type": "stream",
     "text": [
      "[[1 2 3]\n",
      " [4 3 5]\n",
      " [7 8 5]]\n",
      "[[1 2]\n",
      " [4 3]]\n",
      "[[3 2]\n",
      " [4 3]]\n",
      "[[3 2 3]\n",
      " [4 3 5]\n",
      " [7 8 5]]\n"
     ]
    }
   ],
   "source": [
    "print(a2)\n",
    "a2_sub = a2[:2, :2]\n",
    "print(a2_sub)\n",
    "a2_sub[0, 0] = 3\n",
    "print(a2_sub)\n",
    "print(a2) # 변경됨. "
   ]
  },
  {
   "cell_type": "markdown",
   "metadata": {
    "id": "UrQqOC1Eat5l"
   },
   "source": [
    "\n",
    "* `copy()`: 배열이나 하위 배열 내의 값을 명시적으로 복사"
   ]
  },
  {
   "cell_type": "code",
   "execution_count": 151,
   "metadata": {
    "id": "hLBZ7Qn6bAKO"
   },
   "outputs": [
    {
     "name": "stdout",
     "output_type": "stream",
     "text": [
      "[[2 2 3]\n",
      " [4 3 5]\n",
      " [7 8 5]]\n",
      "[[2 2]\n",
      " [4 3]]\n",
      "[[3 2]\n",
      " [4 3]]\n",
      "[[2 2 3]\n",
      " [4 3 5]\n",
      " [7 8 5]]\n"
     ]
    }
   ],
   "source": [
    "print(a2)\n",
    "a2_sub_copy = a2[:2, :2].copy()\n",
    "print(a2_sub_copy)\n",
    "a2_sub_copy[0, 0] = 3\n",
    "print(a2_sub_copy)\n",
    "print(a2) # 변경 안 됨"
   ]
  },
  {
   "cell_type": "markdown",
   "metadata": {
    "id": "4HTc9FXOGtA7"
   },
   "source": [
    "\n",
    "\n",
    "---\n",
    "\n"
   ]
  },
  {
   "cell_type": "markdown",
   "metadata": {
    "id": "XVZY082__yV6"
   },
   "source": [
    "## 배열 변환"
   ]
  },
  {
   "cell_type": "markdown",
   "metadata": {
    "id": "Ec09aPeBO58M"
   },
   "source": [
    "### 배열 전치 및 축 변경"
   ]
  },
  {
   "cell_type": "code",
   "execution_count": null,
   "metadata": {
    "id": "anYByBpoWZmj"
   },
   "outputs": [],
   "source": []
  },
  {
   "cell_type": "code",
   "execution_count": null,
   "metadata": {
    "id": "wg4XC6kiRnZo"
   },
   "outputs": [],
   "source": []
  },
  {
   "cell_type": "code",
   "execution_count": null,
   "metadata": {
    "id": "6lPwXL8rRTfI"
   },
   "outputs": [],
   "source": []
  },
  {
   "cell_type": "code",
   "execution_count": null,
   "metadata": {
    "id": "oLbEHtijRewH"
   },
   "outputs": [],
   "source": []
  },
  {
   "cell_type": "markdown",
   "metadata": {
    "id": "M7xN8WdOdb_S"
   },
   "source": [
    "### 배열 재구조화\n"
   ]
  },
  {
   "cell_type": "markdown",
   "metadata": {
    "id": "JwZJMpXGfY0V"
   },
   "source": [
    "* `reshape()`: 배열의 형상을 변경"
   ]
  },
  {
   "cell_type": "code",
   "execution_count": null,
   "metadata": {
    "id": "SlGQ17VQdd8i"
   },
   "outputs": [],
   "source": []
  },
  {
   "cell_type": "markdown",
   "metadata": {
    "id": "y_U1W-fQfuQY"
   },
   "source": [
    "* `newaxis()`: 새로운 축 추가"
   ]
  },
  {
   "cell_type": "code",
   "execution_count": null,
   "metadata": {
    "id": "COif_weCfkGo"
   },
   "outputs": [],
   "source": []
  },
  {
   "cell_type": "markdown",
   "metadata": {
    "id": "FR82RSDggbcJ"
   },
   "source": [
    "### 배열 크기 변경"
   ]
  },
  {
   "cell_type": "markdown",
   "metadata": {
    "id": "D1LuDMVFl4tc"
   },
   "source": [
    "* 배열 모양만 변경"
   ]
  },
  {
   "cell_type": "code",
   "execution_count": null,
   "metadata": {
    "id": "7B6pHlfxgdSJ"
   },
   "outputs": [],
   "source": []
  },
  {
   "cell_type": "markdown",
   "metadata": {
    "id": "s0adm-h9l6sv"
   },
   "source": [
    "* 배열 크기 증가\n",
    "* 남은 공간은 0으로 채워짐"
   ]
  },
  {
   "cell_type": "code",
   "execution_count": null,
   "metadata": {
    "id": "IrX0UcjrlWRV"
   },
   "outputs": [],
   "source": []
  },
  {
   "cell_type": "markdown",
   "metadata": {
    "id": "78hPDEzfl9JB"
   },
   "source": [
    "* 배열 크기 감소\n",
    "* 포함되지 않은 값은 삭제됨"
   ]
  },
  {
   "cell_type": "code",
   "execution_count": null,
   "metadata": {
    "id": "fJWrwhc6lmjW"
   },
   "outputs": [],
   "source": []
  },
  {
   "cell_type": "markdown",
   "metadata": {
    "id": "r9z2gD_pHyx9"
   },
   "source": [
    "### 배열 추가\n",
    "\n",
    "* `append()`: 배열의 끝에 값 추가"
   ]
  },
  {
   "cell_type": "code",
   "execution_count": null,
   "metadata": {
    "id": "fH4lpQKNH5s1"
   },
   "outputs": [],
   "source": []
  },
  {
   "cell_type": "markdown",
   "metadata": {
    "id": "n8SMl5VVIquk"
   },
   "source": [
    "* axis 지정이 없으면 1차원 배열 형태로 변형되어 결합"
   ]
  },
  {
   "cell_type": "code",
   "execution_count": null,
   "metadata": {
    "id": "LRltk3yFIVsV"
   },
   "outputs": [],
   "source": []
  },
  {
   "cell_type": "markdown",
   "metadata": {
    "id": "sVW2UFVZJfpR"
   },
   "source": [
    "* axis를 0으로 지정\n",
    "* shape[0]을 제외한 나머지 shape은 같아야 함"
   ]
  },
  {
   "cell_type": "code",
   "execution_count": null,
   "metadata": {
    "id": "nwJ4xLOeIbMg"
   },
   "outputs": [],
   "source": []
  },
  {
   "cell_type": "markdown",
   "metadata": {
    "id": "4YXxzygaJmj-"
   },
   "source": [
    "* axis를 1로 지정\n",
    "* shape[1]을 제외한 나머지 shape은 같아야 함"
   ]
  },
  {
   "cell_type": "code",
   "execution_count": null,
   "metadata": {
    "id": "JYE4_5gAJmYe"
   },
   "outputs": [],
   "source": []
  },
  {
   "cell_type": "markdown",
   "metadata": {
    "id": "9sTza3b2hoe4"
   },
   "source": [
    "### 배열 연결"
   ]
  },
  {
   "cell_type": "markdown",
   "metadata": {
    "id": "TRun2NPYj8Ct"
   },
   "source": [
    "* `concatenate()`: 튜플이나 배열의 리스트를 인수로 사용해 배열 연결"
   ]
  },
  {
   "cell_type": "code",
   "execution_count": null,
   "metadata": {
    "id": "lmEqdPifhrB_"
   },
   "outputs": [],
   "source": []
  },
  {
   "cell_type": "code",
   "execution_count": null,
   "metadata": {
    "id": "IkoTNIt2k0tp"
   },
   "outputs": [],
   "source": []
  },
  {
   "cell_type": "code",
   "execution_count": null,
   "metadata": {
    "id": "vX0SCYX3lEs2"
   },
   "outputs": [],
   "source": []
  },
  {
   "cell_type": "code",
   "execution_count": null,
   "metadata": {
    "id": "Rv6xGva7lxHP"
   },
   "outputs": [],
   "source": []
  },
  {
   "cell_type": "markdown",
   "metadata": {
    "id": "MbiBbx4nl2KD"
   },
   "source": [
    "* `vstack()`: 수직 스택(vertical stack), 1차원으로 연결"
   ]
  },
  {
   "cell_type": "code",
   "execution_count": null,
   "metadata": {
    "id": "HkHJwdBMl_qi"
   },
   "outputs": [],
   "source": []
  },
  {
   "cell_type": "markdown",
   "metadata": {
    "id": "-hTlAnWxmHA_"
   },
   "source": [
    "* `hstack()`: 수평 스택(horizontal stack), 2차원으로 연결"
   ]
  },
  {
   "cell_type": "code",
   "execution_count": null,
   "metadata": {
    "id": "-HsGlAytmNEz"
   },
   "outputs": [],
   "source": []
  },
  {
   "cell_type": "markdown",
   "metadata": {
    "id": "CshM6LURmUhV"
   },
   "source": [
    "* `dstack()`: 깊이 스택(depth stack), 3차원으로 연결"
   ]
  },
  {
   "cell_type": "code",
   "execution_count": null,
   "metadata": {
    "id": "TFBdRddpmU4m"
   },
   "outputs": [],
   "source": []
  },
  {
   "cell_type": "markdown",
   "metadata": {
    "id": "JUBtc4UnpaSz"
   },
   "source": [
    "* `stack()`: 새로운 차원으로 연결"
   ]
  },
  {
   "cell_type": "code",
   "execution_count": null,
   "metadata": {
    "id": "JzoujQ9_pHS5"
   },
   "outputs": [],
   "source": []
  },
  {
   "cell_type": "markdown",
   "metadata": {
    "id": "eYz74NYKo8iH"
   },
   "source": [
    "### 배열 분할"
   ]
  },
  {
   "cell_type": "markdown",
   "metadata": {
    "id": "wjt2zku5pBmF"
   },
   "source": [
    "* `split()`: 배열 분할"
   ]
  },
  {
   "cell_type": "code",
   "execution_count": null,
   "metadata": {
    "id": "H_2e71heo-Eq"
   },
   "outputs": [],
   "source": []
  },
  {
   "cell_type": "markdown",
   "metadata": {
    "id": "IvvdCQcKsCLn"
   },
   "source": [
    "* `vsplit()`: 수직 분할, 1차원으로 분할"
   ]
  },
  {
   "cell_type": "code",
   "execution_count": null,
   "metadata": {
    "id": "GdMYlsiLsCoe"
   },
   "outputs": [],
   "source": []
  },
  {
   "cell_type": "markdown",
   "metadata": {
    "id": "1aC0a034rSXi"
   },
   "source": [
    "* `hsplit()`: 수평 분할, 2차원으로 분할"
   ]
  },
  {
   "cell_type": "code",
   "execution_count": null,
   "metadata": {
    "id": "ShMnE_bnrSBJ"
   },
   "outputs": [],
   "source": []
  },
  {
   "cell_type": "markdown",
   "metadata": {
    "id": "Pz3BDD8qsQER"
   },
   "source": [
    "* `dsplit()`: 깊이 분할, 3차원으로 분할"
   ]
  },
  {
   "cell_type": "code",
   "execution_count": null,
   "metadata": {
    "id": "DqHFGd43sQYj"
   },
   "outputs": [],
   "source": []
  },
  {
   "cell_type": "markdown",
   "metadata": {
    "id": "rK-zrDZuGoVd"
   },
   "source": [
    "\n",
    "\n",
    "---\n",
    "\n"
   ]
  },
  {
   "cell_type": "markdown",
   "metadata": {
    "id": "Vc-iSWewJ3C1"
   },
   "source": [
    "## 배열 연산\n",
    "\n",
    "* NumPy의 배열 연산은 벡터화(vectorized) 연산을 사용\n",
    "* 일반적으로 NumPy의 범용 함수(universal functions)를 통해 구현\n",
    "* 배열 요소에 대한 반복적인 계산을 효율적으로 수행"
   ]
  },
  {
   "cell_type": "markdown",
   "metadata": {
    "id": "Pg2er1A2w3cz"
   },
   "source": [
    "### 브로드캐스팅(Broadcasting)"
   ]
  },
  {
   "cell_type": "code",
   "execution_count": null,
   "metadata": {
    "id": "IGU-HRgr20nj"
   },
   "outputs": [],
   "source": []
  },
  {
   "cell_type": "code",
   "execution_count": null,
   "metadata": {
    "id": "IAzsmIAn1HNt"
   },
   "outputs": [],
   "source": []
  },
  {
   "cell_type": "markdown",
   "metadata": {
    "id": "NZzLHHLmwl_b"
   },
   "source": [
    "### 산술 연산(Arithmetic Operators)"
   ]
  },
  {
   "cell_type": "code",
   "execution_count": null,
   "metadata": {
    "id": "jHrIjHGEi05k"
   },
   "outputs": [],
   "source": []
  },
  {
   "cell_type": "code",
   "execution_count": null,
   "metadata": {
    "id": "sMUYzXk3psgC"
   },
   "outputs": [],
   "source": []
  },
  {
   "cell_type": "code",
   "execution_count": null,
   "metadata": {
    "id": "ZkyjPmk5onPK"
   },
   "outputs": [],
   "source": []
  },
  {
   "cell_type": "markdown",
   "metadata": {
    "id": "hxG_aECas3a9"
   },
   "source": [
    "#### 절대값 함수(Absolute Function)\n",
    "\n",
    "* `absolute()`, `abs()`: 내장된 절대값 함수"
   ]
  },
  {
   "cell_type": "code",
   "execution_count": null,
   "metadata": {
    "id": "YmX-0LvWs7qM"
   },
   "outputs": [],
   "source": []
  },
  {
   "cell_type": "markdown",
   "metadata": {
    "id": "U5uE3sVtzRvA"
   },
   "source": [
    "#### 제곱/제곱근 함수\n",
    "\n",
    "* `square`, `sqrt`: 제곱, 제곱근 함수"
   ]
  },
  {
   "cell_type": "code",
   "execution_count": null,
   "metadata": {
    "id": "ggnIxDGzzTfX"
   },
   "outputs": [],
   "source": []
  },
  {
   "cell_type": "markdown",
   "metadata": {
    "id": "tWh1aQ50vRhB"
   },
   "source": [
    "#### 지수와 로그 함수 (Exponential and Log Function)"
   ]
  },
  {
   "cell_type": "code",
   "execution_count": null,
   "metadata": {
    "id": "Dygt3AyHvTZz"
   },
   "outputs": [],
   "source": []
  },
  {
   "cell_type": "code",
   "execution_count": null,
   "metadata": {
    "id": "YB0BzwxDvnkT"
   },
   "outputs": [],
   "source": []
  },
  {
   "cell_type": "markdown",
   "metadata": {
    "id": "wE_p9AxjtdJ9"
   },
   "source": [
    "#### 삼각 함수(Trigonometrical Function)\n"
   ]
  },
  {
   "cell_type": "code",
   "execution_count": null,
   "metadata": {
    "id": "6bOSPS81tuo5"
   },
   "outputs": [],
   "source": []
  },
  {
   "cell_type": "code",
   "execution_count": null,
   "metadata": {
    "id": "v7m-AQW9uJ9u"
   },
   "outputs": [],
   "source": []
  },
  {
   "cell_type": "markdown",
   "metadata": {
    "id": "hKJtYUVWwxQy"
   },
   "source": [
    "### 집계 함수(Aggregate Functions)"
   ]
  },
  {
   "cell_type": "markdown",
   "metadata": {
    "id": "GdxMrX5l9m6W"
   },
   "source": [
    "#### sum(): 합 계산"
   ]
  },
  {
   "cell_type": "code",
   "execution_count": null,
   "metadata": {
    "id": "AJQ3GjLI0cZU"
   },
   "outputs": [],
   "source": []
  },
  {
   "cell_type": "markdown",
   "metadata": {
    "id": "U4W4iIb9J4Zd"
   },
   "source": [
    "#### cumsum(): 누적합 계산"
   ]
  },
  {
   "cell_type": "code",
   "execution_count": null,
   "metadata": {
    "id": "SRZWZD3UJ4wo"
   },
   "outputs": [],
   "source": []
  },
  {
   "cell_type": "markdown",
   "metadata": {
    "id": "pVaJRWQ-LV0f"
   },
   "source": [
    "#### diff(): 차분 계산"
   ]
  },
  {
   "cell_type": "code",
   "execution_count": null,
   "metadata": {
    "id": "yKjnWtGVLWJj"
   },
   "outputs": [],
   "source": []
  },
  {
   "cell_type": "markdown",
   "metadata": {
    "id": "b6I38HfA9vGL"
   },
   "source": [
    "#### prod(): 곱 계산"
   ]
  },
  {
   "cell_type": "code",
   "execution_count": null,
   "metadata": {
    "id": "rGPMXGe89y0O"
   },
   "outputs": [],
   "source": []
  },
  {
   "cell_type": "markdown",
   "metadata": {
    "id": "RwaoVUGcKkkE"
   },
   "source": [
    "#### cumprod(): 누적곱 계산"
   ]
  },
  {
   "cell_type": "code",
   "execution_count": null,
   "metadata": {
    "id": "jwYoX9inKk4D"
   },
   "outputs": [],
   "source": []
  },
  {
   "cell_type": "markdown",
   "metadata": {
    "id": "_LMAbL9hMV7T"
   },
   "source": [
    "#### dot()/matmul(): 점곱/행렬곱 계산"
   ]
  },
  {
   "cell_type": "code",
   "execution_count": null,
   "metadata": {
    "id": "xC6FBzF0MWW1"
   },
   "outputs": [],
   "source": []
  },
  {
   "cell_type": "markdown",
   "metadata": {
    "id": "juVk3vnjPu31"
   },
   "source": [
    "#### tensordot(): 텐서곱 계산"
   ]
  },
  {
   "cell_type": "code",
   "execution_count": null,
   "metadata": {
    "id": "3LrcLOcjPvNI"
   },
   "outputs": [],
   "source": []
  },
  {
   "cell_type": "markdown",
   "metadata": {
    "id": "UzmZhB5TNRMX"
   },
   "source": [
    "#### cross(): 벡터곱"
   ]
  },
  {
   "cell_type": "code",
   "execution_count": null,
   "metadata": {
    "id": "xvT2hy1FNRkU"
   },
   "outputs": [],
   "source": []
  },
  {
   "cell_type": "markdown",
   "metadata": {
    "id": "SJVYmtrSO5YL"
   },
   "source": [
    "#### inner()/outer(): 내적/외적"
   ]
  },
  {
   "cell_type": "code",
   "execution_count": null,
   "metadata": {
    "id": "HJpomax7O5s6"
   },
   "outputs": [],
   "source": []
  },
  {
   "cell_type": "markdown",
   "metadata": {
    "id": "9CIotQgI_RQ-"
   },
   "source": [
    "#### mean(): 평균 계산"
   ]
  },
  {
   "cell_type": "code",
   "execution_count": null,
   "metadata": {
    "id": "g96wAEOT_bUk"
   },
   "outputs": [],
   "source": []
  },
  {
   "cell_type": "markdown",
   "metadata": {
    "id": "wAG_zijP_Z5o"
   },
   "source": [
    "#### std(): 표준 편차 계산"
   ]
  },
  {
   "cell_type": "code",
   "execution_count": null,
   "metadata": {
    "id": "hlpnuyug_TXA"
   },
   "outputs": [],
   "source": []
  },
  {
   "cell_type": "markdown",
   "metadata": {
    "id": "5FFTCCDaAEhx"
   },
   "source": [
    "#### var(): 분산 계산"
   ]
  },
  {
   "cell_type": "code",
   "execution_count": null,
   "metadata": {
    "id": "CRMNkSdzAGZG"
   },
   "outputs": [],
   "source": []
  },
  {
   "cell_type": "markdown",
   "metadata": {
    "id": "QFeh-4tmCCrU"
   },
   "source": [
    "#### min(): 최소값"
   ]
  },
  {
   "cell_type": "code",
   "execution_count": null,
   "metadata": {
    "id": "SMNCfYBQCEtf"
   },
   "outputs": [],
   "source": []
  },
  {
   "cell_type": "markdown",
   "metadata": {
    "id": "A3n_JBnBJ2bo"
   },
   "source": [
    "#### max(): 최대값"
   ]
  },
  {
   "cell_type": "code",
   "execution_count": null,
   "metadata": {
    "id": "FmuOFKGAJ6Pf"
   },
   "outputs": [],
   "source": []
  },
  {
   "cell_type": "markdown",
   "metadata": {
    "id": "PvGOKDP0J_5b"
   },
   "source": [
    "#### argmin(): 최소값 인덱스"
   ]
  },
  {
   "cell_type": "code",
   "execution_count": null,
   "metadata": {
    "id": "1ILP7L3yKCqA"
   },
   "outputs": [],
   "source": []
  },
  {
   "cell_type": "markdown",
   "metadata": {
    "id": "23IcSctIKbUa"
   },
   "source": [
    "#### argmax(): 최대값 인덱스"
   ]
  },
  {
   "cell_type": "code",
   "execution_count": null,
   "metadata": {
    "id": "2m21cfCFKd-Q"
   },
   "outputs": [],
   "source": []
  },
  {
   "cell_type": "markdown",
   "metadata": {
    "id": "3TjeNFQLKuZb"
   },
   "source": [
    "#### median(): 중앙값"
   ]
  },
  {
   "cell_type": "code",
   "execution_count": null,
   "metadata": {
    "id": "kSLN17bpKwv6"
   },
   "outputs": [],
   "source": []
  },
  {
   "cell_type": "markdown",
   "metadata": {
    "id": "df-Id-nhLs3L"
   },
   "source": [
    "#### percentile(): 백분위 수\n",
    "\n"
   ]
  },
  {
   "cell_type": "code",
   "execution_count": null,
   "metadata": {
    "id": "N-TCx9hnLvhK"
   },
   "outputs": [],
   "source": []
  },
  {
   "cell_type": "markdown",
   "metadata": {
    "id": "x0NnNsvvNDIs"
   },
   "source": [
    "#### any()"
   ]
  },
  {
   "cell_type": "code",
   "execution_count": null,
   "metadata": {
    "id": "I1XDqsFxOMvA"
   },
   "outputs": [],
   "source": []
  },
  {
   "cell_type": "markdown",
   "metadata": {
    "id": "Uw-wjYgyONBZ"
   },
   "source": [
    "#### all()"
   ]
  },
  {
   "cell_type": "code",
   "execution_count": null,
   "metadata": {
    "id": "sXi2AHOHONYq"
   },
   "outputs": [],
   "source": []
  },
  {
   "cell_type": "markdown",
   "metadata": {
    "id": "0n7lgzmUwqr1"
   },
   "source": [
    "### 비교 연산(Comparison Operators)\n"
   ]
  },
  {
   "cell_type": "code",
   "execution_count": null,
   "metadata": {
    "id": "E00V-nBTVnCu"
   },
   "outputs": [],
   "source": []
  },
  {
   "cell_type": "code",
   "execution_count": null,
   "metadata": {
    "id": "3MwV1CU1WsWS"
   },
   "outputs": [],
   "source": []
  },
  {
   "cell_type": "code",
   "execution_count": null,
   "metadata": {
    "id": "D4cuMoyEPn8R"
   },
   "outputs": [],
   "source": []
  },
  {
   "cell_type": "code",
   "execution_count": null,
   "metadata": {
    "id": "af9VSc6FyMBh"
   },
   "outputs": [],
   "source": []
  },
  {
   "cell_type": "markdown",
   "metadata": {
    "id": "4BHMetMlYmt-"
   },
   "source": [
    "#### 불리언 연산자(Boolean Operators)\n"
   ]
  },
  {
   "cell_type": "code",
   "execution_count": null,
   "metadata": {
    "id": "ZV1-8DkUHOZq"
   },
   "outputs": [],
   "source": []
  },
  {
   "cell_type": "markdown",
   "metadata": {
    "id": "FlQJVeGBxIFw"
   },
   "source": [
    "### 배열 정렬"
   ]
  },
  {
   "cell_type": "code",
   "execution_count": null,
   "metadata": {
    "id": "x0sodUMqLU37"
   },
   "outputs": [],
   "source": []
  },
  {
   "cell_type": "code",
   "execution_count": null,
   "metadata": {
    "id": "FO_sO5POzeMp"
   },
   "outputs": [],
   "source": []
  },
  {
   "cell_type": "markdown",
   "metadata": {
    "id": "yYSItPz_00sZ"
   },
   "source": [
    "#### 부분 정렬\n",
    "\n",
    "* `partition()`: 배열에서 k개의 작은 값을 반환"
   ]
  },
  {
   "cell_type": "code",
   "execution_count": null,
   "metadata": {
    "id": "QQwov4N00YFP"
   },
   "outputs": [],
   "source": []
  },
  {
   "cell_type": "markdown",
   "metadata": {
    "id": "77DSA72ML5cI"
   },
   "source": [
    "## 배열 입출력\n"
   ]
  },
  {
   "cell_type": "code",
   "execution_count": null,
   "metadata": {
    "id": "da-Mm_gzIs7U"
   },
   "outputs": [],
   "source": []
  },
  {
   "cell_type": "code",
   "execution_count": null,
   "metadata": {
    "colab": {
     "base_uri": "https://localhost:8080/",
     "height": 34
    },
    "id": "pFOWyDvAsf11",
    "outputId": "8be0a298-07ab-4526-e9d4-2796faadee9a"
   },
   "outputs": [
    {
     "name": "stdout",
     "output_type": "stream",
     "text": [
      "sample_data\n"
     ]
    }
   ],
   "source": []
  },
  {
   "cell_type": "code",
   "execution_count": null,
   "metadata": {
    "id": "Hvb_ilyisoIV"
   },
   "outputs": [],
   "source": []
  },
  {
   "cell_type": "code",
   "execution_count": null,
   "metadata": {
    "id": "ArWZfL31s1wU"
   },
   "outputs": [],
   "source": []
  },
  {
   "cell_type": "code",
   "execution_count": null,
   "metadata": {
    "id": "che4cEJEs2Tr"
   },
   "outputs": [],
   "source": []
  },
  {
   "cell_type": "code",
   "execution_count": null,
   "metadata": {
    "id": "X2yIUsYvtMj6"
   },
   "outputs": [],
   "source": []
  },
  {
   "cell_type": "code",
   "execution_count": null,
   "metadata": {
    "id": "Yj5ec-CYtaH1"
   },
   "outputs": [],
   "source": []
  },
  {
   "cell_type": "code",
   "execution_count": null,
   "metadata": {
    "id": "_NIDrc-VuPmv"
   },
   "outputs": [],
   "source": []
  },
  {
   "cell_type": "code",
   "execution_count": null,
   "metadata": {
    "id": "bPhmIoVBuQMf"
   },
   "outputs": [],
   "source": []
  },
  {
   "cell_type": "code",
   "execution_count": null,
   "metadata": {
    "id": "FeB2p4azuTDv"
   },
   "outputs": [],
   "source": []
  },
  {
   "cell_type": "code",
   "execution_count": null,
   "metadata": {
    "id": "IUg8Vg4fuxR5"
   },
   "outputs": [],
   "source": []
  },
  {
   "cell_type": "code",
   "execution_count": null,
   "metadata": {
    "id": "lIK5dSv6vtm2"
   },
   "outputs": [],
   "source": []
  },
  {
   "cell_type": "code",
   "execution_count": null,
   "metadata": {
    "id": "l4O-gVxdv8-d"
   },
   "outputs": [],
   "source": []
  },
  {
   "cell_type": "markdown",
   "metadata": {
    "id": "JM2Ghx2NGloN"
   },
   "source": [
    "\n",
    "\n",
    "---\n",
    "\n"
   ]
  }
 ],
 "metadata": {
  "colab": {
   "collapsed_sections": [],
   "name": "_NumPy 한번에 제대로 배우기.ipynb",
   "provenance": [],
   "toc_visible": true
  },
  "kernelspec": {
   "display_name": "Python 3",
   "language": "python",
   "name": "python3"
  },
  "language_info": {
   "codemirror_mode": {
    "name": "ipython",
    "version": 3
   },
   "file_extension": ".py",
   "mimetype": "text/x-python",
   "name": "python",
   "nbconvert_exporter": "python",
   "pygments_lexer": "ipython3",
   "version": "3.8.8"
  }
 },
 "nbformat": 4,
 "nbformat_minor": 4
}
