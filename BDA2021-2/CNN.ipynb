{
 "cells": [
  {
   "cell_type": "markdown",
   "id": "a13c9b7b",
   "metadata": {},
   "source": [
    "# 딥러닝"
   ]
  },
  {
   "cell_type": "markdown",
   "id": "a6fee6ac",
   "metadata": {},
   "source": [
    "## 대표적 심층 신경망의 종류와 용도\n",
    "- CNN(Convolutional Neural Network) : 합성곱 신경망\n",
    "    - 3차원 데이터의 공간적 정보를 유지한 채 다음 층으로 보냄\n",
    "    - 영상인식, 컴퓨터 비전\n",
    "- RNN(Recurrent Neural Network) : 순환 신경망\n",
    "    - 순차적 정보 : 음악, 텍스트, 작사, 작곡, 번역, 주가 등\n",
    "    - 음석인식\n",
    "- DBN(Deep Belief Network) : 딥비리프망\n",
    "    - 글씨와 음성인식\n",
    "- GAN(Generative Adversarial Network) : 적대적 신경망(유망)\n",
    "    - 영상과 음성의 복원\n",
    " "
   ]
  },
  {
   "cell_type": "markdown",
   "id": "28cbb1cc",
   "metadata": {},
   "source": [
    "# 합성곱 신경망"
   ]
  },
  {
   "cell_type": "markdown",
   "id": "ca52f1ba",
   "metadata": {},
   "source": [
    "## 합성곱 신경망(CNN : Convolutional Neural Network)\n",
    "- 이미지 분류에 주로 사용\n",
    "- 가장 유용한 특성을 자동으로 학습\n",
    "- 특성 계층 학습\n",
    "    - 입력층에 가까운 층은 저수준 특성(대략적 모양)을 추출\n",
    "    - 뒤로 갈수록 고수준의 특성(복잡한 모양과 패턴)을 추출\n",
    "    - 저수준 특성을 연결하여 고수준의 특성을 만들어 특성 계층을 구성\n",
    "    - 맨 뒤쪽 층은 완전연결층으로 분류나 예측\n",
    "- CNN의 특징\n",
    "    - 입력 이미지로부터 특성맵(feature map)을 생성\n",
    "    - 희소연결\n",
    "        - 특성맵의 각 원소는 이미지의 국부적 픽셀 패치에서 유도\n",
    "        - 모든 입력 이미지가 뉴런에 연결되지는 않음\n",
    "    - 파라미터 공유\n",
    "- 전형적인 CNN 아키텍처\n",
    "    - 여러 개의 합성곱(conv)층과 풀링(pooling)층(=서브샘플링층)으로 이루어짐\n",
    "        - 풀링층 : 가중치가 없음\n",
    "    - 마지막에는 하나 이상의 완전연결(FC)층  \n",
    "<img src = 'https://wikidocs.net/images/page/41039/3.gif' width = 400/>"
   ]
  },
  {
   "cell_type": "markdown",
   "id": "8de9be55",
   "metadata": {},
   "source": [
    "## 2D 합성곱(convolution)\n",
    "- 2D 이산 합성곱\n",
    "    - <img src = 'https://img1.daumcdn.net/thumb/R1280x0/?scode=mtistory2&fname=https%3A%2F%2Fblog.kakaocdn.net%2Fdn%2FbVThNn%2FbtrlyiUYH5x%2FKdE6JEcIiC5oGrw651Ieu0%2Fimg.png' width = 600/>  \n",
    "- <img src = 'https://wikidocs.net/images/page/41039/4.png' width = 800/>\n",
    "- 패딩(padding)\n",
    "    - 입력 데이터의 외곽에 지정된 픽셀만큼 특정 값(보통 0)으로 채워 넣은 것\n",
    "    - 필터와 스트라이드로 인해 특성맵의 크기가 입력데이터보다 줄어드는 것을 방지\n",
    "- 스트라이드(stride) : 필터를 순회하는 간격\n",
    "- <img src = 'https://wikidocs.net/images/page/41039/5.gif' width = 700/>"
   ]
  },
  {
   "cell_type": "markdown",
   "id": "19ee6a0c",
   "metadata": {},
   "source": [
    "## 서브샘플링(풀링)\n",
    "- 최대 풀링(max-pooling) vs 평균 풀링(average-pooling)\n",
    "- ex) 최대풀링\n",
    "<img src = 'https://wikidocs.net/images/page/41039/7.png' width = 500/>\n",
    "- 풀링의 장점\n",
    "    - 잡음(noise) 혹은 국부적 변화에 영향을 덜 받음\n",
    "    - 특성 크기를 줄여 계산 효율성을 높임\n",
    "    - 스트라이드와 비슷한 효과, 하지만 학습 가중치가 없음\n",
    "    "
   ]
  },
  {
   "cell_type": "markdown",
   "id": "f423c884",
   "metadata": {},
   "source": [
    "## 드롭아웃(dropout)\n",
    "- 네트워크의 크기 결정은 어려움 문제임\n",
    "    - 작은 네트워크는 과소적합, 너무 큰 네트워크는 과대적합ㅇ르 유발\n",
    "- 드롭아웃\n",
    "    - 훈련 시 정방향 계산에서 은닉 유닛의 일부를 정해진 확률(보통 .5)로 랜덤하게 드롭아웃(가중치의 비활성화)\n",
    "    - 평가(추론) 단계에서는 모든 은닉 유닛을 다시 활성화 함\n",
    "    - 과대적합 방지"
   ]
  },
  {
   "cell_type": "markdown",
   "id": "74604754",
   "metadata": {},
   "source": [
    "# MNIST 데이터를 위한 CNN"
   ]
  },
  {
   "cell_type": "markdown",
   "id": "14d4d014",
   "metadata": {},
   "source": [
    "## 데이터 적재와 전처리\n",
    "- tensorflow_datasets 모듈로 데이터셋 적재"
   ]
  },
  {
   "cell_type": "code",
   "execution_count": 2,
   "id": "bc8dcb13",
   "metadata": {},
   "outputs": [
    {
     "data": {
      "text/plain": [
       "{'train': <PrefetchDataset shapes: {image: (28, 28, 1), label: ()}, types: {image: tf.uint8, label: tf.int64}>,\n",
       " 'test': <PrefetchDataset shapes: {image: (28, 28, 1), label: ()}, types: {image: tf.uint8, label: tf.int64}>}"
      ]
     },
     "execution_count": 2,
     "metadata": {},
     "output_type": "execute_result"
    }
   ],
   "source": [
    "import tensorflow_datasets as tfds\n",
    "\n",
    "mnist_builder = tfds.builder('mnist')\n",
    "mnist_builder.download_and_prepare()\n",
    "datasets = mnist_builder.as_dataset(shuffle_files = False)\n",
    "datasets  # 28, 28, 1(1 = channel)  # 훈련/테스트 셋으로 분할되어 있음"
   ]
  },
  {
   "cell_type": "code",
   "execution_count": 4,
   "id": "d4305cbb",
   "metadata": {},
   "outputs": [],
   "source": [
    "mnist_train_orig = datasets['train']\n",
    "mnist_test_orig = datasets['test']"
   ]
  },
  {
   "cell_type": "markdown",
   "id": "413ca5ea",
   "metadata": {},
   "source": [
    "- 데이터셋 전처리 : 표준화"
   ]
  },
  {
   "cell_type": "code",
   "execution_count": 10,
   "id": "40d7e654",
   "metadata": {},
   "outputs": [],
   "source": [
    "import tensorflow as tf\n",
    "\n",
    "mnist_train = mnist_train_orig.map(lambda item : (tf.cast(item['image'], tf.float32)/255.0, \n",
    "                                                 tf.cast(item['label'], tf.int32)))\n",
    "mnist_test = mnist_test_orig.map(lambda item : (tf.cast(item['image'], tf.float32)/255.0, \n",
    "                                                 tf.cast(item['label'], tf.int32)))"
   ]
  },
  {
   "cell_type": "markdown",
   "id": "896628c7",
   "metadata": {},
   "source": [
    "- 훈련/검증 데이터셋 만들기"
   ]
  },
  {
   "cell_type": "code",
   "execution_count": 11,
   "id": "dfa7fff7",
   "metadata": {},
   "outputs": [],
   "source": [
    "BUFFER_SIZE = 10000\n",
    "BATCH_SIZE = 64\n",
    "tf.random.set_seed(1)\n",
    "mnist_train = mnist_train.shuffle(buffer_size = BUFFER_SIZE, reshuffle_each_iteration = False)\n",
    "mnist_valid = mnist_train.take(10000).batch(BATCH_SIZE)\n",
    "mnist_train = mnist_train.skip(10000).batch(BATCH_SIZE)"
   ]
  },
  {
   "cell_type": "markdown",
   "id": "85422035",
   "metadata": {},
   "source": [
    "## CNN 아키텍쳐\n",
    "- 합성곱1 -> 풀링1 -> 합성곱2 -> 풀링2 -> Flatten -> 완전연결1 -> 완전연결2  \n",
    "                                           -> 여기서부턴 MLP랑 비슷\n",
    "- 각 층의 텐서차원\n",
    "    - 입력 : [batch * 28 * 28 * 1] (흑백이므로 채널 수 = 1)\n",
    "    - 합성곱1 : [batch * 24 * 24 * 32] (필터(커널) 수 = 32)\n",
    "    - 풀링1 : [batch * 12 * 12 * 32] (풀 사이즈 = (2, 2))\n",
    "    - 합성곱2 : [batch * 8 * 8 * 64] (필터(커널) 수 = 64)\n",
    "    - 풀링2 : [batch * 4 * 4 * 64] (풀 사이즈 = (2, 2))\n",
    "    - 완전연걸1 : [batch * 1024] (뉴런의 수 = 1024)\n",
    "    - 완전연결과 소프트맥스 층 : [batch * 10] (클래스의 수 = 10]\n",
    "    - ![ㅡ](https://gaussian37.github.io/assets/img/dl/concept/what-is-cnn/Image-Architecture-of-Convolutional-Neural-Network.png)"
   ]
  },
  {
   "cell_type": "markdown",
   "id": "441c4e47",
   "metadata": {},
   "source": [
    "- CNN 구축"
   ]
  },
  {
   "cell_type": "code",
   "execution_count": 15,
   "id": "2ac27a97",
   "metadata": {},
   "outputs": [],
   "source": [
    "cnn = tf.keras.Sequential()\n",
    "# 특성계층학습\n",
    "cnn.add(tf.keras.layers.Conv2D(filters = 32, kernel_size = (5, 5),  # filters와 kernel은 같은 의미\n",
    "                               strides = (1, 1), padding = 'same',  # 28x28 -> 28x28(특성 맵의 크기를 유지)\n",
    "                               data_format = 'channels_last',\n",
    "                               name = 'conv_1', activation = 'relu'))\n",
    "cnn.add(tf.keras.layers.MaxPool2D(pool_size = (2, 2), name = 'pool_1'))\n",
    "cnn.add(tf.keras.layers.Conv2D(filters = 64, kernel_size = (5, 5),  # filters와 kernel은 같은 의미\n",
    "                               strides = (1, 1), padding = 'same',  # 28x28 -> 28x28\n",
    "                               data_format = 'channels_last',\n",
    "                               name = 'conv_2', activation = 'relu'))\n",
    "cnn.add(tf.keras.layers.MaxPool2D(pool_size = (2, 2), name = 'pool_2'))\n",
    "\n",
    "cnn.add(tf.keras.layers.Flatten())\n",
    "cnn.add(tf.keras.layers.Dense(units = 1024, name = 'fc_1', activation = 'relu'))\n",
    "cnn.add(tf.keras.layers.Dropout(rate = 0.5))  # dropout\n",
    "cnn.add(tf.keras.layers.Dense(units = 10, name = 'fc_2', activation = 'softmax'))"
   ]
  },
  {
   "cell_type": "markdown",
   "id": "830f1979",
   "metadata": {},
   "source": [
    "- CNN 훈련"
   ]
  },
  {
   "cell_type": "code",
   "execution_count": 16,
   "id": "55048d3e",
   "metadata": {},
   "outputs": [
    {
     "name": "stdout",
     "output_type": "stream",
     "text": [
      "Epoch 1/20\n",
      "782/782 [==============================] - 59s 73ms/step - loss: 0.1399 - accuracy: 0.9563 - val_loss: 0.0492 - val_accuracy: 0.9852\n",
      "Epoch 2/20\n",
      "782/782 [==============================] - 61s 77ms/step - loss: 0.0445 - accuracy: 0.9864 - val_loss: 0.0412 - val_accuracy: 0.9874\n",
      "Epoch 3/20\n",
      "782/782 [==============================] - 60s 77ms/step - loss: 0.0299 - accuracy: 0.9907 - val_loss: 0.0356 - val_accuracy: 0.9894\n",
      "Epoch 4/20\n",
      "782/782 [==============================] - 60s 76ms/step - loss: 0.0212 - accuracy: 0.9937 - val_loss: 0.0403 - val_accuracy: 0.9877\n",
      "Epoch 5/20\n",
      "782/782 [==============================] - 60s 76ms/step - loss: 0.0171 - accuracy: 0.9945 - val_loss: 0.0395 - val_accuracy: 0.9894\n",
      "Epoch 6/20\n",
      "782/782 [==============================] - 59s 75ms/step - loss: 0.0160 - accuracy: 0.9948 - val_loss: 0.0376 - val_accuracy: 0.9906\n",
      "Epoch 7/20\n",
      "782/782 [==============================] - 59s 75ms/step - loss: 0.0126 - accuracy: 0.9959 - val_loss: 0.0483 - val_accuracy: 0.9882\n",
      "Epoch 8/20\n",
      "782/782 [==============================] - 60s 76ms/step - loss: 0.0103 - accuracy: 0.9967 - val_loss: 0.0453 - val_accuracy: 0.9903\n",
      "Epoch 9/20\n",
      "782/782 [==============================] - 62s 78ms/step - loss: 0.0098 - accuracy: 0.9971 - val_loss: 0.0505 - val_accuracy: 0.9904\n",
      "Epoch 10/20\n",
      "782/782 [==============================] - 59s 76ms/step - loss: 0.0102 - accuracy: 0.9967 - val_loss: 0.0570 - val_accuracy: 0.9890\n",
      "Epoch 11/20\n",
      "782/782 [==============================] - 59s 75ms/step - loss: 0.0082 - accuracy: 0.9973 - val_loss: 0.0576 - val_accuracy: 0.9896\n",
      "Epoch 12/20\n",
      "782/782 [==============================] - 59s 75ms/step - loss: 0.0069 - accuracy: 0.9979 - val_loss: 0.0501 - val_accuracy: 0.9915\n",
      "Epoch 13/20\n",
      "782/782 [==============================] - 60s 77ms/step - loss: 0.0069 - accuracy: 0.9976 - val_loss: 0.0664 - val_accuracy: 0.9899\n",
      "Epoch 14/20\n",
      "782/782 [==============================] - 60s 76ms/step - loss: 0.0081 - accuracy: 0.9975 - val_loss: 0.0489 - val_accuracy: 0.9922\n",
      "Epoch 15/20\n",
      "782/782 [==============================] - 59s 75ms/step - loss: 0.0067 - accuracy: 0.9981 - val_loss: 0.0594 - val_accuracy: 0.9900\n",
      "Epoch 16/20\n",
      "782/782 [==============================] - 59s 76ms/step - loss: 0.0051 - accuracy: 0.9984 - val_loss: 0.0754 - val_accuracy: 0.9894\n",
      "Epoch 17/20\n",
      "782/782 [==============================] - 60s 76ms/step - loss: 0.0084 - accuracy: 0.9976 - val_loss: 0.0542 - val_accuracy: 0.9909\n",
      "Epoch 18/20\n",
      "782/782 [==============================] - 59s 76ms/step - loss: 0.0049 - accuracy: 0.9987 - val_loss: 0.0723 - val_accuracy: 0.9903\n",
      "Epoch 19/20\n",
      "782/782 [==============================] - 60s 76ms/step - loss: 0.0053 - accuracy: 0.9982 - val_loss: 0.0693 - val_accuracy: 0.9898\n",
      "Epoch 20/20\n",
      "782/782 [==============================] - 59s 76ms/step - loss: 0.0065 - accuracy: 0.9979 - val_loss: 0.0740 - val_accuracy: 0.9904\n"
     ]
    }
   ],
   "source": [
    "cnn.build(input_shape = (None, 28, 28, 1))  # 지연된 연산 : input_shape를 모델 구축할 때 넣는 것이 아니라 나중에 넣는 것\n",
    "cnn.compile(optimizer = tf.keras.optimizers.Adam(),\n",
    "            loss = tf.keras.losses.SparseCategoricalCrossentropy(),\n",
    "            metrics = ['accuracy'])\n",
    "NUM_EPOCHS = 20\n",
    "history = cnn.fit(mnist_train, epochs = NUM_EPOCHS, \n",
    "                 validation_data = mnist_valid, shuffle = True)"
   ]
  },
  {
   "cell_type": "markdown",
   "id": "f11cabd3",
   "metadata": {},
   "source": [
    "- 학습곡선"
   ]
  },
  {
   "cell_type": "code",
   "execution_count": 17,
   "id": "bea01c51",
   "metadata": {},
   "outputs": [
    {
     "data": {
      "text/plain": [
       "<matplotlib.legend.Legend at 0x1e781c175e0>"
      ]
     },
     "execution_count": 17,
     "metadata": {},
     "output_type": "execute_result"
    },
    {
     "data": {
      "image/png": "[encoded data removed]",
      "text/plain": [
       "<Figure size 432x288 with 1 Axes>"
      ]
     },
     "metadata": {
      "needs_background": "light"
     },
     "output_type": "display_data"
    }
   ],
   "source": [
    "import matplotlib.pyplot as plt\n",
    "\n",
    "plt.plot(history.history['accuracy'], 's', linestyle = '-', label = 'train')\n",
    "plt.plot(history.history['val_accuracy'], 'o', linestyle = '--', label = 'validation')\n",
    "plt.ylabel('accuracy')\n",
    "plt.xlabel('epoch')\n",
    "plt.legend()"
   ]
  },
  {
   "cell_type": "markdown",
   "id": "0281de55",
   "metadata": {},
   "source": [
    "- CNN 평가"
   ]
  },
  {
   "cell_type": "code",
   "execution_count": 18,
   "id": "746c7065",
   "metadata": {},
   "outputs": [
    {
     "name": "stdout",
     "output_type": "stream",
     "text": [
      "500/500 [==============================] - 4s 8ms/step - loss: 0.0441 - accuracy: 0.9921\n"
     ]
    },
    {
     "data": {
      "text/plain": [
       "[0.0440712571144104, 0.9921000003814697]"
      ]
     },
     "execution_count": 18,
     "metadata": {},
     "output_type": "execute_result"
    }
   ],
   "source": [
    "cnn.evaluate(mnist_test.batch(20))"
   ]
  },
  {
   "cell_type": "markdown",
   "id": "727a2436",
   "metadata": {},
   "source": [
    "- 예측"
   ]
  },
  {
   "cell_type": "code",
   "execution_count": 19,
   "id": "2eda7270",
   "metadata": {},
   "outputs": [
    {
     "data": {
      "image/png": "[encoded data removed]",
      "text/plain": [
       "<Figure size 864x360 with 5 Axes>"
      ]
     },
     "metadata": {
      "needs_background": "light"
     },
     "output_type": "display_data"
    }
   ],
   "source": [
    "batch_test = next(iter(mnist_test.batch(5)))\n",
    "plt.figure(figsize = (12, 5))\n",
    "for i in range(5):\n",
    "    plt.subplot(1, 5, i+1)\n",
    "    plt.imshow(batch_test[0][i, :, :, 0], cmap = 'Greys')"
   ]
  },
  {
   "cell_type": "code",
   "execution_count": 20,
   "id": "293383be",
   "metadata": {},
   "outputs": [
    {
     "data": {
      "text/plain": [
       "<tf.Tensor: shape=(5,), dtype=int64, numpy=array([2, 0, 4, 8, 7], dtype=int64)>"
      ]
     },
     "execution_count": 20,
     "metadata": {},
     "output_type": "execute_result"
    }
   ],
   "source": [
    "preds = cnn(batch_test[0])\n",
    "pred_classes = tf.argmax(preds, axis = 1)\n",
    "pred_classes"
   ]
  },
  {
   "cell_type": "code",
   "execution_count": null,
   "id": "9ad6f190",
   "metadata": {},
   "outputs": [],
   "source": []
  }
 ],
 "metadata": {
  "kernelspec": {
   "display_name": "Python 3",
   "language": "python",
   "name": "python3"
  },
  "language_info": {
   "codemirror_mode": {
    "name": "ipython",
    "version": 3
   },
   "file_extension": ".py",
   "mimetype": "text/x-python",
   "name": "python",
   "nbconvert_exporter": "python",
   "pygments_lexer": "ipython3",
   "version": "3.8.8"
  },
  "toc": {
   "base_numbering": 1,
   "nav_menu": {},
   "number_sections": true,
   "sideBar": true,
   "skip_h1_title": false,
   "title_cell": "Table of Contents",
   "title_sidebar": "Contents",
   "toc_cell": false,
   "toc_position": {},
   "toc_section_display": true,
   "toc_window_display": false
  }
 },
 "nbformat": 4,
 "nbformat_minor": 5
}
