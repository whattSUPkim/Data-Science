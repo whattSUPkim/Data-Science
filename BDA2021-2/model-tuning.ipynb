{
 "cells": [
  {
   "cell_type": "code",
   "execution_count": 35,
   "id": "8f227b67",
   "metadata": {},
   "outputs": [],
   "source": [
    "import pandas as pd\n",
    "import numpy as np\n",
    "import matplotlib.pyplot as plt"
   ]
  },
  {
   "cell_type": "markdown",
   "id": "f0c4f12c",
   "metadata": {},
   "source": [
    "# 유방암 데이터셋"
   ]
  },
  {
   "cell_type": "markdown",
   "id": "6a2d9361",
   "metadata": {},
   "source": [
    "## 유방암 진단 데이터"
   ]
  },
  {
   "cell_type": "code",
   "execution_count": 36,
   "id": "f28363fc",
   "metadata": {},
   "outputs": [
    {
     "data": {
      "text/html": [
       "<div>\n",
       "<style scoped>\n",
       "    .dataframe tbody tr th:only-of-type {\n",
       "        vertical-align: middle;\n",
       "    }\n",
       "\n",
       "    .dataframe tbody tr th {\n",
       "        vertical-align: top;\n",
       "    }\n",
       "\n",
       "    .dataframe thead th {\n",
       "        text-align: right;\n",
       "    }\n",
       "</style>\n",
       "<table border=\"1\" class=\"dataframe\">\n",
       "  <thead>\n",
       "    <tr style=\"text-align: right;\">\n",
       "      <th></th>\n",
       "      <th>0</th>\n",
       "      <th>1</th>\n",
       "      <th>2</th>\n",
       "      <th>3</th>\n",
       "      <th>4</th>\n",
       "      <th>5</th>\n",
       "      <th>6</th>\n",
       "      <th>7</th>\n",
       "      <th>8</th>\n",
       "      <th>9</th>\n",
       "      <th>...</th>\n",
       "      <th>22</th>\n",
       "      <th>23</th>\n",
       "      <th>24</th>\n",
       "      <th>25</th>\n",
       "      <th>26</th>\n",
       "      <th>27</th>\n",
       "      <th>28</th>\n",
       "      <th>29</th>\n",
       "      <th>30</th>\n",
       "      <th>31</th>\n",
       "    </tr>\n",
       "  </thead>\n",
       "  <tbody>\n",
       "    <tr>\n",
       "      <th>0</th>\n",
       "      <td>842302</td>\n",
       "      <td>M</td>\n",
       "      <td>17.99</td>\n",
       "      <td>10.38</td>\n",
       "      <td>122.80</td>\n",
       "      <td>1001.0</td>\n",
       "      <td>0.11840</td>\n",
       "      <td>0.27760</td>\n",
       "      <td>0.3001</td>\n",
       "      <td>0.14710</td>\n",
       "      <td>...</td>\n",
       "      <td>25.38</td>\n",
       "      <td>17.33</td>\n",
       "      <td>184.60</td>\n",
       "      <td>2019.0</td>\n",
       "      <td>0.1622</td>\n",
       "      <td>0.6656</td>\n",
       "      <td>0.7119</td>\n",
       "      <td>0.2654</td>\n",
       "      <td>0.4601</td>\n",
       "      <td>0.11890</td>\n",
       "    </tr>\n",
       "    <tr>\n",
       "      <th>1</th>\n",
       "      <td>842517</td>\n",
       "      <td>M</td>\n",
       "      <td>20.57</td>\n",
       "      <td>17.77</td>\n",
       "      <td>132.90</td>\n",
       "      <td>1326.0</td>\n",
       "      <td>0.08474</td>\n",
       "      <td>0.07864</td>\n",
       "      <td>0.0869</td>\n",
       "      <td>0.07017</td>\n",
       "      <td>...</td>\n",
       "      <td>24.99</td>\n",
       "      <td>23.41</td>\n",
       "      <td>158.80</td>\n",
       "      <td>1956.0</td>\n",
       "      <td>0.1238</td>\n",
       "      <td>0.1866</td>\n",
       "      <td>0.2416</td>\n",
       "      <td>0.1860</td>\n",
       "      <td>0.2750</td>\n",
       "      <td>0.08902</td>\n",
       "    </tr>\n",
       "    <tr>\n",
       "      <th>2</th>\n",
       "      <td>84300903</td>\n",
       "      <td>M</td>\n",
       "      <td>19.69</td>\n",
       "      <td>21.25</td>\n",
       "      <td>130.00</td>\n",
       "      <td>1203.0</td>\n",
       "      <td>0.10960</td>\n",
       "      <td>0.15990</td>\n",
       "      <td>0.1974</td>\n",
       "      <td>0.12790</td>\n",
       "      <td>...</td>\n",
       "      <td>23.57</td>\n",
       "      <td>25.53</td>\n",
       "      <td>152.50</td>\n",
       "      <td>1709.0</td>\n",
       "      <td>0.1444</td>\n",
       "      <td>0.4245</td>\n",
       "      <td>0.4504</td>\n",
       "      <td>0.2430</td>\n",
       "      <td>0.3613</td>\n",
       "      <td>0.08758</td>\n",
       "    </tr>\n",
       "    <tr>\n",
       "      <th>3</th>\n",
       "      <td>84348301</td>\n",
       "      <td>M</td>\n",
       "      <td>11.42</td>\n",
       "      <td>20.38</td>\n",
       "      <td>77.58</td>\n",
       "      <td>386.1</td>\n",
       "      <td>0.14250</td>\n",
       "      <td>0.28390</td>\n",
       "      <td>0.2414</td>\n",
       "      <td>0.10520</td>\n",
       "      <td>...</td>\n",
       "      <td>14.91</td>\n",
       "      <td>26.50</td>\n",
       "      <td>98.87</td>\n",
       "      <td>567.7</td>\n",
       "      <td>0.2098</td>\n",
       "      <td>0.8663</td>\n",
       "      <td>0.6869</td>\n",
       "      <td>0.2575</td>\n",
       "      <td>0.6638</td>\n",
       "      <td>0.17300</td>\n",
       "    </tr>\n",
       "    <tr>\n",
       "      <th>4</th>\n",
       "      <td>84358402</td>\n",
       "      <td>M</td>\n",
       "      <td>20.29</td>\n",
       "      <td>14.34</td>\n",
       "      <td>135.10</td>\n",
       "      <td>1297.0</td>\n",
       "      <td>0.10030</td>\n",
       "      <td>0.13280</td>\n",
       "      <td>0.1980</td>\n",
       "      <td>0.10430</td>\n",
       "      <td>...</td>\n",
       "      <td>22.54</td>\n",
       "      <td>16.67</td>\n",
       "      <td>152.20</td>\n",
       "      <td>1575.0</td>\n",
       "      <td>0.1374</td>\n",
       "      <td>0.2050</td>\n",
       "      <td>0.4000</td>\n",
       "      <td>0.1625</td>\n",
       "      <td>0.2364</td>\n",
       "      <td>0.07678</td>\n",
       "    </tr>\n",
       "  </tbody>\n",
       "</table>\n",
       "<p>5 rows × 32 columns</p>\n",
       "</div>"
      ],
      "text/plain": [
       "         0  1      2      3       4       5        6        7       8   \\\n",
       "0    842302  M  17.99  10.38  122.80  1001.0  0.11840  0.27760  0.3001   \n",
       "1    842517  M  20.57  17.77  132.90  1326.0  0.08474  0.07864  0.0869   \n",
       "2  84300903  M  19.69  21.25  130.00  1203.0  0.10960  0.15990  0.1974   \n",
       "3  84348301  M  11.42  20.38   77.58   386.1  0.14250  0.28390  0.2414   \n",
       "4  84358402  M  20.29  14.34  135.10  1297.0  0.10030  0.13280  0.1980   \n",
       "\n",
       "        9   ...     22     23      24      25      26      27      28      29  \\\n",
       "0  0.14710  ...  25.38  17.33  184.60  2019.0  0.1622  0.6656  0.7119  0.2654   \n",
       "1  0.07017  ...  24.99  23.41  158.80  1956.0  0.1238  0.1866  0.2416  0.1860   \n",
       "2  0.12790  ...  23.57  25.53  152.50  1709.0  0.1444  0.4245  0.4504  0.2430   \n",
       "3  0.10520  ...  14.91  26.50   98.87   567.7  0.2098  0.8663  0.6869  0.2575   \n",
       "4  0.10430  ...  22.54  16.67  152.20  1575.0  0.1374  0.2050  0.4000  0.1625   \n",
       "\n",
       "       30       31  \n",
       "0  0.4601  0.11890  \n",
       "1  0.2750  0.08902  \n",
       "2  0.3613  0.08758  \n",
       "3  0.6638  0.17300  \n",
       "4  0.2364  0.07678  \n",
       "\n",
       "[5 rows x 32 columns]"
      ]
     },
     "execution_count": 36,
     "metadata": {},
     "output_type": "execute_result"
    }
   ],
   "source": [
    "path = 'https://archive.ics.uci.edu/ml/machine-learning-databases/breast-cancer-wisconsin/wdbc.data'\n",
    "df = pd.read_csv(path, header=None)\n",
    "df.head() #32열(샘플ID, 진단결과, 특성1, 특성2, ....)"
   ]
  },
  {
   "cell_type": "markdown",
   "id": "9bc7e864",
   "metadata": {},
   "source": [
    "- 0번째 칼럼 : ID\n",
    "- 1번째 칼럼 : 타겟\n",
    "    - 악성 : M / 양성 : B\n",
    "- 2번째 칼럼~ : 특성"
   ]
  },
  {
   "cell_type": "code",
   "execution_count": 37,
   "id": "932db4a6",
   "metadata": {},
   "outputs": [],
   "source": [
    "# X, y\n",
    "X = df.iloc[:, 2:]\n",
    "y = df.iloc[:, 1]\n",
    "y = np.where(y == 'M', 1, 0)"
   ]
  },
  {
   "cell_type": "code",
   "execution_count": 38,
   "id": "68aef5a6",
   "metadata": {},
   "outputs": [],
   "source": [
    "# 데이터 분할\n",
    "from sklearn.model_selection import train_test_split\n",
    "\n",
    "X_train, X_test, y_train, y_test = train_test_split(X, y, test_size = 0.2, stratify = y)"
   ]
  },
  {
   "cell_type": "markdown",
   "id": "a65b9323",
   "metadata": {},
   "source": [
    "# 파이프 라인"
   ]
  },
  {
   "cell_type": "markdown",
   "id": "822612da",
   "metadata": {},
   "source": [
    "## 파이프라인을 사용한 워크플로\n",
    "- 전처리, 학습, 예측 단계를 연결하여 효율적으로 워크플로를 관리하는 방법\n",
    "- 여러 개의 사이킷런 변환기와 추정기를 연결\n",
    "    - 변환기 : transform 메서드를 가진\n",
    "    - 추정기 : predict 메서드를 가진\n",
    "- sklearn.pipeline.make_pipeline"
   ]
  },
  {
   "cell_type": "code",
   "execution_count": 39,
   "id": "41b789fc",
   "metadata": {},
   "outputs": [
    {
     "data": {
      "text/plain": [
       "Pipeline(steps=[('standardscaler', StandardScaler()),\n",
       "                ('pca', PCA(n_components=2)),\n",
       "                ('logisticregression', LogisticRegression())])"
      ]
     },
     "execution_count": 39,
     "metadata": {},
     "output_type": "execute_result"
    }
   ],
   "source": [
    "from sklearn.preprocessing import StandardScaler\n",
    "from sklearn.decomposition import PCA\n",
    "from sklearn.linear_model import LogisticRegression\n",
    "from sklearn.pipeline import make_pipeline\n",
    "\n",
    "pipeline = make_pipeline(StandardScaler(),\n",
    "                         PCA(n_components = 2),\n",
    "                         LogisticRegression())\n",
    "\n",
    "pipeline.fit(X_train, y_train)  # 변환기들의 fit & transform -> 추정기의 fit 호출"
   ]
  },
  {
   "cell_type": "code",
   "execution_count": 40,
   "id": "9cca87b2",
   "metadata": {},
   "outputs": [
    {
     "data": {
      "text/plain": [
       "array([1, 1, 0, 1, 1, 0, 0, 1, 0, 0, 1, 0, 0, 0, 0, 1, 0, 0, 0, 0, 0, 1,\n",
       "       0, 1, 1, 0, 0, 1, 0, 0, 0, 0, 1, 0, 0, 0, 1, 0, 0, 1, 1, 1, 0, 0,\n",
       "       0, 1, 1, 1, 1, 0, 0, 1, 0, 1, 0, 1, 1, 0, 0, 0, 0, 0, 1, 0, 0, 0,\n",
       "       0, 1, 1, 0, 1, 0, 1, 0, 0, 1, 0, 0, 1, 0, 0, 0, 0, 0, 1, 0, 1, 0,\n",
       "       1, 1, 0, 0, 1, 0, 0, 0, 0, 0, 0, 0, 1, 0, 0, 0, 1, 0, 1, 0, 0, 1,\n",
       "       1, 1, 1, 0])"
      ]
     },
     "execution_count": 40,
     "metadata": {},
     "output_type": "execute_result"
    }
   ],
   "source": [
    "pipeline.predict(X_test)  # 변환기들의 tranform -> 추정기의 predict 호출"
   ]
  },
  {
   "cell_type": "code",
   "execution_count": 41,
   "id": "2c07fb70",
   "metadata": {},
   "outputs": [
    {
     "data": {
      "text/plain": [
       "0.9736842105263158"
      ]
     },
     "execution_count": 41,
     "metadata": {},
     "output_type": "execute_result"
    }
   ],
   "source": [
    "pipeline.score(X_test, y_test)"
   ]
  },
  {
   "cell_type": "code",
   "execution_count": 42,
   "id": "688f9180",
   "metadata": {},
   "outputs": [
    {
     "data": {
      "text/plain": [
       "array([[70,  2],\n",
       "       [ 1, 41]], dtype=int64)"
      ]
     },
     "execution_count": 42,
     "metadata": {},
     "output_type": "execute_result"
    }
   ],
   "source": [
    "from sklearn.metrics import confusion_matrix\n",
    "\n",
    "confusion_matrix(y_test, pipeline.predict(X_test))"
   ]
  },
  {
   "cell_type": "markdown",
   "id": "6169e8a5",
   "metadata": {},
   "source": [
    "# 모델 튜닝과 교차검증"
   ]
  },
  {
   "cell_type": "markdown",
   "id": "9e6d569d",
   "metadata": {},
   "source": [
    "## 모델(모형) 튜닝\n",
    "- 모형의 성능은 데이터와 초모수(모형의 설정 인수)에 영향을 받음\n",
    "- 모델 훈련(학습) : 데이터로부터 모형의 모수(파라미터)를 추정하는 과정\n",
    "- 모델 튜닝(선택) : 모형의 초모수(하이퍼파라미터)를 조정하는 과정\n",
    "    - ex) SVC : c, gamma\n",
    "    - 여러 값을 시도해보고 가장 좋은 모형을 선택해야 함\n",
    "    - 별도의 검증용 데이터를 사용하거나 교차검증"
   ]
  },
  {
   "cell_type": "markdown",
   "id": "8484700c",
   "metadata": {},
   "source": [
    "## 교차검증(CV : Cross-Validation)\n",
    "- 데이터가 충분치 않아 검증용 데이터를 따로 할당하기 어려운 경우 사용\n",
    "- 훈련 데이터를 여러 번 반복해서 나누고 여러 모델을 학습하고 평가하는 방법\n",
    "- 대표적인 방법 : k-겹 교차검증(k-fold CV)\n",
    "    - 전체 데이터를 K등분하여 K-1개 그룹은 훈련용으로, 나머지 한 그룹을 검증용으로 사용하는 과정을 반복하며 평균을 구함(일반적으로 K = 10 사용)\n",
    "    - EX) <img src = 'https://img1.daumcdn.net/thumb/R1280x0/?scode=mtistory2&fname=https%3A%2F%2Fblog.kakaocdn.net%2Fdn%2F3gQO8%2FbtqF0ZOHja8%2FSUTbGTYwVndcUJ5qWusqa0%2Fimg.png' width = '600' />\n",
    "1. sklearn.model_selection.cross_val_score\n",
    "    - cv : k 값 설정\n",
    "    - n_jobs : 사용할 코어의 수(병렬), -1은 모든 코어를 사용함\n",
    "2. sklearn.model_selection.GridSearchCV\n",
    "    - 리스트로 지정된 여러 가지 하이퍼파라미터 값의 모든 가능한 조합에 대해 모델 성능을 평가하여 최적의 조합을 찾음"
   ]
  },
  {
   "cell_type": "code",
   "execution_count": 43,
   "id": "62670d97",
   "metadata": {},
   "outputs": [
    {
     "data": {
      "text/plain": [
       "0.9470531400966185"
      ]
     },
     "execution_count": 43,
     "metadata": {},
     "output_type": "execute_result"
    }
   ],
   "source": [
    "from sklearn.model_selection import cross_val_score\n",
    "score = cross_val_score(estimator = pipeline, X = X_train, y = y_train, \n",
    "                       cv = 10, n_jobs = -1)\n",
    "np.mean(score)"
   ]
  },
  {
   "cell_type": "markdown",
   "id": "dad8e195",
   "metadata": {},
   "source": [
    "유방암 데이터에 대한 결정트리 모형 튜닝 \n",
    "- cross_val_score 사용"
   ]
  },
  {
   "cell_type": "code",
   "execution_count": 44,
   "id": "67eac32a",
   "metadata": {},
   "outputs": [
    {
     "name": "stdout",
     "output_type": "stream",
     "text": [
      "depth =  1 accuracy =  0.9010628019323672\n",
      "depth =  2 accuracy =  0.9186473429951691\n",
      "depth =  3 accuracy =  0.9208212560386473\n",
      "depth =  4 accuracy =  0.9253140096618357\n",
      "depth =  5 accuracy =  0.9341545893719807\n",
      "depth =  6 accuracy =  0.927536231884058\n",
      "depth =  7 accuracy =  0.927536231884058\n",
      "depth =  8 accuracy =  0.9187439613526569\n",
      "depth =  9 accuracy =  0.9340579710144927\n",
      "depth =  10 accuracy =  0.9229951690821256\n",
      "\n",
      "0.9341545893719807\n",
      "{'max_depth': 5}\n"
     ]
    }
   ],
   "source": [
    "from sklearn.tree import DecisionTreeClassifier\n",
    "\n",
    "best_score = 0\n",
    "for k in range(1, 11):\n",
    "    scores_tree = cross_val_score(\n",
    "        estimator = DecisionTreeClassifier(max_depth = k),\n",
    "        X = X_train, y = y_train, cv = 10, n_jobs = -1)\n",
    "    score = np.mean(scores_tree)\n",
    "    \n",
    "    print('depth = ', k, 'accuracy = ', score)\n",
    "    if score > best_score:\n",
    "        best_score = score\n",
    "        best_parameters = {'max_depth' : k} \n",
    "\n",
    "print()\n",
    "print(best_score)\n",
    "print(best_parameters)"
   ]
  },
  {
   "cell_type": "code",
   "execution_count": 45,
   "id": "a218f729",
   "metadata": {},
   "outputs": [
    {
     "data": {
      "text/plain": [
       "0.9473684210526315"
      ]
     },
     "execution_count": 45,
     "metadata": {},
     "output_type": "execute_result"
    }
   ],
   "source": [
    "tree = DecisionTreeClassifier(**best_parameters)  # **kwargs : 키워드 인자(딕셔너리)\n",
    "tree.fit(X_train, y_train)\n",
    "tree.score(X_test, y_test)"
   ]
  },
  {
   "cell_type": "markdown",
   "id": "9dcf814f",
   "metadata": {},
   "source": [
    "유방암 데이터에 대한 결정트리 모형 튜닝 \n",
    "- GridSearchCV 사용"
   ]
  },
  {
   "cell_type": "code",
   "execution_count": 46,
   "id": "56c3f57e",
   "metadata": {},
   "outputs": [
    {
     "name": "stdout",
     "output_type": "stream",
     "text": [
      "0.9428985507246377\n",
      "{'max_depth': 5}\n"
     ]
    }
   ],
   "source": [
    "from sklearn.model_selection import GridSearchCV\n",
    "\n",
    "param_grid = {'max_depth' : range(1, 11)}  # 딕셔너리\n",
    "gscv = GridSearchCV(estimator = DecisionTreeClassifier(),  # 추정기 초모수에 넣는 것이 아니라 param_grid 파라미터에 넣어야 함\n",
    "                    param_grid = param_grid,  # 요기\n",
    "                    scoring = 'accuracy', cv = 10, n_jobs = -1)  \n",
    "\n",
    "gscv.fit(X_train, y_train)\n",
    "print(gscv.best_score_)\n",
    "print(gscv.best_params_)"
   ]
  },
  {
   "cell_type": "markdown",
   "id": "d07a7f11",
   "metadata": {},
   "source": [
    "유방암 데이터에 대한 SVC 모형 튜닝 \n",
    "- GridSearchCV 사용"
   ]
  },
  {
   "cell_type": "code",
   "execution_count": 47,
   "id": "61ef10ac",
   "metadata": {},
   "outputs": [
    {
     "name": "stdout",
     "output_type": "stream",
     "text": [
      "0.9801449275362317\n",
      "{'svc__C': 10.0, 'svc__gamma': 0.01}\n",
      "0.9912280701754386\n"
     ]
    }
   ],
   "source": [
    "from sklearn.svm import SVC\n",
    "\n",
    "pipe_svc = make_pipeline(StandardScaler(), SVC(kernel='rbf'))\n",
    "\n",
    "p_list = [0.001, 0.01, 0.1, 1.0, 10.0, 100.0]  # 로그 스케일\n",
    "param_grid = {'svc__C' : p_list, 'svc__gamma' : p_list}  # value는 리스트 형태\n",
    "gs = GridSearchCV(estimator = pipe_svc,  # estibator에 파이프라인\n",
    "                  param_grid=param_grid,\n",
    "                  scoring = 'accuracy', cv = 10, n_jobs = -1)\n",
    "\n",
    "gs.fit(X_train, y_train)\n",
    "print(gs.best_score_)\n",
    "print(gs.best_params_)\n",
    "print(gs.score(X_test, y_test))"
   ]
  },
  {
   "cell_type": "code",
   "execution_count": null,
   "id": "34a3480b",
   "metadata": {},
   "outputs": [],
   "source": []
  },
  {
   "cell_type": "code",
   "execution_count": null,
   "id": "ad09c078",
   "metadata": {},
   "outputs": [],
   "source": []
  }
 ],
 "metadata": {
  "kernelspec": {
   "display_name": "Python 3",
   "language": "python",
   "name": "python3"
  },
  "language_info": {
   "codemirror_mode": {
    "name": "ipython",
    "version": 3
   },
   "file_extension": ".py",
   "mimetype": "text/x-python",
   "name": "python",
   "nbconvert_exporter": "python",
   "pygments_lexer": "ipython3",
   "version": "3.8.8"
  },
  "toc": {
   "base_numbering": 1,
   "nav_menu": {},
   "number_sections": true,
   "sideBar": true,
   "skip_h1_title": false,
   "title_cell": "Table of Contents",
   "title_sidebar": "Contents",
   "toc_cell": false,
   "toc_position": {},
   "toc_section_display": true,
   "toc_window_display": true
  }
 },
 "nbformat": 4,
 "nbformat_minor": 5
}
