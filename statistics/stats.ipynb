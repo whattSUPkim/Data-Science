{
 "cells": [
  {
   "cell_type": "code",
   "execution_count": 2,
   "metadata": {},
   "outputs": [],
   "source": [
    "import math\n",
    "import pandas as pd\n",
    "import numpy as np\n",
    "from scipy import stats\n",
    "import matplotlib.pyplot as plt\n",
    "import seaborn as sns"
   ]
  },
  {
   "cell_type": "code",
   "execution_count": 3,
   "metadata": {},
   "outputs": [],
   "source": [
    "np.random.seed(0)\n",
    "a = np.random.randint(1, 100, 1000)\n",
    "b = np.random.randint(1, 100, 1000)\n",
    "c = np.random.randint(1, 100, 1000)\n",
    "d = np.random.randint(1, 100, 1000)"
   ]
  },
  {
   "cell_type": "markdown",
   "metadata": {},
   "source": [
    "# t-test"
   ]
  },
  {
   "cell_type": "markdown",
   "metadata": {},
   "source": [
    "## 일표본 t-검정\n",
    "- 그룹이 1"
   ]
  },
  {
   "cell_type": "code",
   "execution_count": 4,
   "metadata": {},
   "outputs": [
    {
     "data": {
      "text/plain": [
       "Ttest_1sampResult(statistic=0.0, pvalue=1.0)"
      ]
     },
     "execution_count": 4,
     "metadata": {},
     "output_type": "execute_result"
    }
   ],
   "source": [
    "from scipy import stats\n",
    "\n",
    "# 일표본 t-검정 시행\n",
    "stats.ttest_1samp(a, a.mean())"
   ]
  },
  {
   "cell_type": "markdown",
   "metadata": {},
   "source": [
    "## 독립표본 t-검정 \n",
    " - 그룹이 2"
   ]
  },
  {
   "cell_type": "code",
   "execution_count": 79,
   "metadata": {},
   "outputs": [
    {
     "data": {
      "text/html": [
       "<div>\n",
       "<style scoped>\n",
       "    .dataframe tbody tr th:only-of-type {\n",
       "        vertical-align: middle;\n",
       "    }\n",
       "\n",
       "    .dataframe tbody tr th {\n",
       "        vertical-align: top;\n",
       "    }\n",
       "\n",
       "    .dataframe thead th {\n",
       "        text-align: right;\n",
       "    }\n",
       "</style>\n",
       "<table border=\"1\" class=\"dataframe\">\n",
       "  <thead>\n",
       "    <tr style=\"text-align: right;\">\n",
       "      <th></th>\n",
       "      <th>t_group</th>\n",
       "      <th>t_time</th>\n",
       "    </tr>\n",
       "  </thead>\n",
       "  <tbody>\n",
       "    <tr>\n",
       "      <th>0</th>\n",
       "      <td>1</td>\n",
       "      <td>48187</td>\n",
       "    </tr>\n",
       "    <tr>\n",
       "      <th>1</th>\n",
       "      <td>1</td>\n",
       "      <td>47245</td>\n",
       "    </tr>\n",
       "    <tr>\n",
       "      <th>2</th>\n",
       "      <td>1</td>\n",
       "      <td>51020</td>\n",
       "    </tr>\n",
       "    <tr>\n",
       "      <th>3</th>\n",
       "      <td>1</td>\n",
       "      <td>50732</td>\n",
       "    </tr>\n",
       "    <tr>\n",
       "      <th>4</th>\n",
       "      <td>1</td>\n",
       "      <td>52416</td>\n",
       "    </tr>\n",
       "  </tbody>\n",
       "</table>\n",
       "</div>"
      ],
      "text/plain": [
       "   t_group  t_time\n",
       "0        1   48187\n",
       "1        1   47245\n",
       "2        1   51020\n",
       "3        1   50732\n",
       "4        1   52416"
      ]
     },
     "execution_count": 79,
     "metadata": {},
     "output_type": "execute_result"
    }
   ],
   "source": [
    "data = pd.read_csv('C:/Users/fkaus/Desktop/빅데이터 통계data/Ch08.t-검정(t-test)2/Ch0801.IST.csv', encoding = 'utf-8-sig')\n",
    "data.head()"
   ]
  },
  {
   "cell_type": "code",
   "execution_count": 80,
   "metadata": {},
   "outputs": [
    {
     "data": {
      "text/plain": [
       "LeveneResult(statistic=0.43289078232812456, pvalue=0.5131769222686233)"
      ]
     },
     "execution_count": 80,
     "metadata": {},
     "output_type": "execute_result"
    }
   ],
   "source": [
    "# 분산 동질성 검사(등분산 검정)\n",
    "stats.levene(data.t_time[data.t_group == 1], data.t_time[data.t_group == 2]) "
   ]
  },
  {
   "cell_type": "markdown",
   "metadata": {},
   "source": [
    "- p값이 통상적인 기준인 0.05보다 크므로 두 그룹의 분산이 동일하다는 가정을 받아들임"
   ]
  },
  {
   "cell_type": "code",
   "execution_count": 81,
   "metadata": {},
   "outputs": [
    {
     "data": {
      "text/plain": [
       "Ttest_indResult(statistic=-2.678999349105453, pvalue=0.009592682604064434)"
      ]
     },
     "execution_count": 81,
     "metadata": {},
     "output_type": "execute_result"
    }
   ],
   "source": [
    "# 독립표본 t-검정(등분산일 경우)\n",
    "stats.ttest_ind(data.t_time[data.t_group == 1], data.t_time[data.t_group == 2], equal_var = True) # 이분산은 equal_var = False"
   ]
  },
  {
   "cell_type": "code",
   "execution_count": 82,
   "metadata": {},
   "outputs": [
    {
     "data": {
      "text/html": [
       "<div>\n",
       "<style scoped>\n",
       "    .dataframe tbody tr th:only-of-type {\n",
       "        vertical-align: middle;\n",
       "    }\n",
       "\n",
       "    .dataframe tbody tr th {\n",
       "        vertical-align: top;\n",
       "    }\n",
       "\n",
       "    .dataframe thead th {\n",
       "        text-align: right;\n",
       "    }\n",
       "</style>\n",
       "<table border=\"1\" class=\"dataframe\">\n",
       "  <thead>\n",
       "    <tr style=\"text-align: right;\">\n",
       "      <th></th>\n",
       "      <th>t_time</th>\n",
       "    </tr>\n",
       "    <tr>\n",
       "      <th>t_group</th>\n",
       "      <th></th>\n",
       "    </tr>\n",
       "  </thead>\n",
       "  <tbody>\n",
       "    <tr>\n",
       "      <th>1</th>\n",
       "      <td>48670.566667</td>\n",
       "    </tr>\n",
       "    <tr>\n",
       "      <th>2</th>\n",
       "      <td>51377.600000</td>\n",
       "    </tr>\n",
       "  </tbody>\n",
       "</table>\n",
       "</div>"
      ],
      "text/plain": [
       "               t_time\n",
       "t_group              \n",
       "1        48670.566667\n",
       "2        51377.600000"
      ]
     },
     "execution_count": 82,
     "metadata": {},
     "output_type": "execute_result"
    }
   ],
   "source": [
    "data.groupby('t_group').mean()"
   ]
  },
  {
   "cell_type": "markdown",
   "metadata": {},
   "source": [
    "- p값이 유의수준 0.05보다 작으므로 귀무가설을 기각\n",
    "- '두 데이터는 유의미한 차이가 있다.'\n",
    "- 2그룹이 통계적으로 유의하게 더 높게 나왔음."
   ]
  },
  {
   "cell_type": "markdown",
   "metadata": {},
   "source": [
    "## 대응표본 t-검정(paired)\n",
    "- 한 사람을 두 번 측정"
   ]
  },
  {
   "cell_type": "code",
   "execution_count": 87,
   "metadata": {
    "scrolled": true
   },
   "outputs": [
    {
     "data": {
      "text/plain": [
       "Ttest_relResult(statistic=-0.5040247223776022, pvalue=0.6143551380591987)"
      ]
     },
     "execution_count": 87,
     "metadata": {},
     "output_type": "execute_result"
    }
   ],
   "source": [
    "# 대응표본 t-검정 시행\n",
    "stats.ttest_rel(a, b) # a-before, b-after"
   ]
  },
  {
   "cell_type": "markdown",
   "metadata": {},
   "source": [
    "# 분산분석(ANOVA)"
   ]
  },
  {
   "cell_type": "markdown",
   "metadata": {},
   "source": [
    "- 참고 : ANOVA 모형의 가정\n",
    "    - 정규성: 독립변수에 따른 종속변수는 정규분포를 만족해야 함.\n",
    "        - Shapiro-Wilk\n",
    "    - 독립성: 독립변수 그룹군은 서로 독립적이어야 함.\n",
    "        - 잔차검정\n",
    "    - 분산의 동질성: 독립변수에 따른 종속변수 분포의 분산은 각 군마다 동일해야 함.\n",
    "        - Hartley검정, Bartlett검정, Levene검정"
   ]
  },
  {
   "cell_type": "markdown",
   "metadata": {},
   "source": [
    "## 일원 분산분석(One-Way ANAVA)\n",
    "- 그룹이 3 이상"
   ]
  },
  {
   "cell_type": "code",
   "execution_count": 53,
   "metadata": {
    "scrolled": true
   },
   "outputs": [
    {
     "data": {
      "text/html": [
       "<div>\n",
       "<style scoped>\n",
       "    .dataframe tbody tr th:only-of-type {\n",
       "        vertical-align: middle;\n",
       "    }\n",
       "\n",
       "    .dataframe tbody tr th {\n",
       "        vertical-align: top;\n",
       "    }\n",
       "\n",
       "    .dataframe thead th {\n",
       "        text-align: right;\n",
       "    }\n",
       "</style>\n",
       "<table border=\"1\" class=\"dataframe\">\n",
       "  <thead>\n",
       "    <tr style=\"text-align: right;\">\n",
       "      <th></th>\n",
       "      <th>group</th>\n",
       "      <th>score</th>\n",
       "    </tr>\n",
       "  </thead>\n",
       "  <tbody>\n",
       "    <tr>\n",
       "      <th>0</th>\n",
       "      <td>1</td>\n",
       "      <td>85</td>\n",
       "    </tr>\n",
       "    <tr>\n",
       "      <th>1</th>\n",
       "      <td>2</td>\n",
       "      <td>78</td>\n",
       "    </tr>\n",
       "    <tr>\n",
       "      <th>2</th>\n",
       "      <td>3</td>\n",
       "      <td>63</td>\n",
       "    </tr>\n",
       "    <tr>\n",
       "      <th>3</th>\n",
       "      <td>4</td>\n",
       "      <td>88</td>\n",
       "    </tr>\n",
       "    <tr>\n",
       "      <th>4</th>\n",
       "      <td>1</td>\n",
       "      <td>93</td>\n",
       "    </tr>\n",
       "    <tr>\n",
       "      <th>5</th>\n",
       "      <td>2</td>\n",
       "      <td>83</td>\n",
       "    </tr>\n",
       "    <tr>\n",
       "      <th>6</th>\n",
       "      <td>3</td>\n",
       "      <td>56</td>\n",
       "    </tr>\n",
       "    <tr>\n",
       "      <th>7</th>\n",
       "      <td>4</td>\n",
       "      <td>53</td>\n",
       "    </tr>\n",
       "    <tr>\n",
       "      <th>8</th>\n",
       "      <td>1</td>\n",
       "      <td>94</td>\n",
       "    </tr>\n",
       "    <tr>\n",
       "      <th>9</th>\n",
       "      <td>2</td>\n",
       "      <td>97</td>\n",
       "    </tr>\n",
       "  </tbody>\n",
       "</table>\n",
       "</div>"
      ],
      "text/plain": [
       "   group  score\n",
       "0      1     85\n",
       "1      2     78\n",
       "2      3     63\n",
       "3      4     88\n",
       "4      1     93\n",
       "5      2     83\n",
       "6      3     56\n",
       "7      4     53\n",
       "8      1     94\n",
       "9      2     97"
      ]
     },
     "execution_count": 53,
     "metadata": {},
     "output_type": "execute_result"
    }
   ],
   "source": [
    "df = pd.read_csv('C:/Users/user/Desktop/stats_data/Ch09.분산분석(ANOVA)1/Ch0901.OWA.csv', encoding = 'utf-8-sig')\n",
    "df.head(10)"
   ]
  },
  {
   "cell_type": "code",
   "execution_count": 75,
   "metadata": {},
   "outputs": [
    {
     "data": {
      "text/plain": [
       "LeveneResult(statistic=1.5622032060443554, pvalue=0.2014879807833761)"
      ]
     },
     "execution_count": 75,
     "metadata": {},
     "output_type": "execute_result"
    }
   ],
   "source": [
    "# 분산 동질성 검사(등분산 검정) - Levene\n",
    "stats.levene(df.score[df.group == 1], df.score[df.group == 2], df.score[df.group == 3], df.score[df.group == 4]) "
   ]
  },
  {
   "cell_type": "code",
   "execution_count": 76,
   "metadata": {},
   "outputs": [
    {
     "data": {
      "text/plain": [
       "BartlettResult(statistic=6.0049371189812195, pvalue=0.11137027043376477)"
      ]
     },
     "execution_count": 76,
     "metadata": {},
     "output_type": "execute_result"
    }
   ],
   "source": [
    "# 분산 동질성 검사(등분산 검정) - bartlett\n",
    "stats.bartlett(df.score[df.group == 1], df.score[df.group == 2], df.score[df.group == 3], df.score[df.group == 4])"
   ]
  },
  {
   "cell_type": "markdown",
   "metadata": {},
   "source": [
    "- bartlett, levene 검정에서 모두 p-value가 0.05를 넘었으므로, 그룹들 간 분산이 동일하다는 귀무가설을 받아들임\n",
    "- bartlett는 정규분포에 민감하기 때문에 levene를 많이 사용"
   ]
  },
  {
   "cell_type": "code",
   "execution_count": 77,
   "metadata": {},
   "outputs": [],
   "source": [
    "# 분산이 동일하다는 가정하에 분산분석 실행\n",
    "# 참고 - 이분산일 경우 비모수분석 실시\n",
    "\n",
    "import statsmodels.formula.api as sm  # 회귀식 적합\n",
    "from statsmodels.stats.anova import anova_lm  # 분산분석\n",
    "\n",
    "# C(group)은 카테고리 타입 데이터임을 의미함. 필수로 넣어줘야 함\n",
    "model = sm.ols(formula = 'score ~ C(group)', data = df)\n",
    "model = model.fit()"
   ]
  },
  {
   "cell_type": "code",
   "execution_count": 78,
   "metadata": {
    "scrolled": true
   },
   "outputs": [
    {
     "data": {
      "text/html": [
       "<div>\n",
       "<style scoped>\n",
       "    .dataframe tbody tr th:only-of-type {\n",
       "        vertical-align: middle;\n",
       "    }\n",
       "\n",
       "    .dataframe tbody tr th {\n",
       "        vertical-align: top;\n",
       "    }\n",
       "\n",
       "    .dataframe thead th {\n",
       "        text-align: right;\n",
       "    }\n",
       "</style>\n",
       "<table border=\"1\" class=\"dataframe\">\n",
       "  <thead>\n",
       "    <tr style=\"text-align: right;\">\n",
       "      <th></th>\n",
       "      <th>df</th>\n",
       "      <th>sum_sq</th>\n",
       "      <th>mean_sq</th>\n",
       "      <th>F</th>\n",
       "      <th>PR(&gt;F)</th>\n",
       "    </tr>\n",
       "  </thead>\n",
       "  <tbody>\n",
       "    <tr>\n",
       "      <th>C(group)</th>\n",
       "      <td>3.0</td>\n",
       "      <td>919.115675</td>\n",
       "      <td>306.371892</td>\n",
       "      <td>3.54624</td>\n",
       "      <td>0.016346</td>\n",
       "    </tr>\n",
       "    <tr>\n",
       "      <th>Residual</th>\n",
       "      <td>135.0</td>\n",
       "      <td>11663.114541</td>\n",
       "      <td>86.393441</td>\n",
       "      <td>NaN</td>\n",
       "      <td>NaN</td>\n",
       "    </tr>\n",
       "  </tbody>\n",
       "</table>\n",
       "</div>"
      ],
      "text/plain": [
       "             df        sum_sq     mean_sq        F    PR(>F)\n",
       "C(group)    3.0    919.115675  306.371892  3.54624  0.016346\n",
       "Residual  135.0  11663.114541   86.393441      NaN       NaN"
      ]
     },
     "execution_count": 78,
     "metadata": {},
     "output_type": "execute_result"
    }
   ],
   "source": [
    "anova_lm(model) "
   ]
  },
  {
   "cell_type": "markdown",
   "metadata": {},
   "source": [
    "- 분산분석 결과, 매장별 서비스 점수의 차이는 차이가 있음(p < 0.05)"
   ]
  },
  {
   "cell_type": "code",
   "execution_count": 79,
   "metadata": {},
   "outputs": [
    {
     "name": "stdout",
     "output_type": "stream",
     "text": [
      " Multiple Comparison of Means - Tukey HSD, FWER=0.05 \n",
      "=====================================================\n",
      "group1 group2 meandiff p-adj   lower    upper  reject\n",
      "-----------------------------------------------------\n",
      "     1      2  -0.6809    0.9  -6.4825  5.1206  False\n",
      "     1      3  -6.8684 0.0156  -12.774 -0.9628   True\n",
      "     1      4  -2.8171 0.5405  -8.3288  2.6945  False\n",
      "     2      3  -6.1875 0.0478 -12.3325 -0.0425   True\n",
      "     2      4  -2.1362 0.7451  -7.9037  3.6312  False\n",
      "     3      4   4.0513 0.2805  -1.8208  9.9234  False\n",
      "-----------------------------------------------------\n"
     ]
    }
   ],
   "source": [
    "from statsmodels.stats.multicomp import pairwise_tukeyhsd # 사후분석 - 튜키\n",
    "\n",
    "posthoc = pairwise_tukeyhsd(df.score, df.group)\n",
    "print(posthoc)"
   ]
  },
  {
   "cell_type": "markdown",
   "metadata": {},
   "source": [
    "- 1, 3과 2, 3 데이터의 차이가 유의미함(p < 0.05)\n",
    "- 그룹1(a)과 그룹2(b)\n",
    "|~|지역1|지역2|지역3|지역4|\n",
    "|--|--|--|--|--|\n",
    "|Tukey|a|a, b|a, b| b|"
   ]
  },
  {
   "cell_type": "markdown",
   "metadata": {},
   "source": [
    "## 반복측정 분산분석(Repeated Measures ANOVA)\n",
    "- 그룹이 3이상, 반복측정"
   ]
  },
  {
   "cell_type": "markdown",
   "metadata": {},
   "source": [
    "## 이원 분산분석(Two-Way ANOVA)\n",
    "- 요인 + 요인"
   ]
  },
  {
   "cell_type": "code",
   "execution_count": 6,
   "metadata": {},
   "outputs": [
    {
     "data": {
      "text/html": [
       "<div>\n",
       "<style scoped>\n",
       "    .dataframe tbody tr th:only-of-type {\n",
       "        vertical-align: middle;\n",
       "    }\n",
       "\n",
       "    .dataframe tbody tr th {\n",
       "        vertical-align: top;\n",
       "    }\n",
       "\n",
       "    .dataframe thead th {\n",
       "        text-align: right;\n",
       "    }\n",
       "</style>\n",
       "<table border=\"1\" class=\"dataframe\">\n",
       "  <thead>\n",
       "    <tr style=\"text-align: right;\">\n",
       "      <th></th>\n",
       "      <th>meth</th>\n",
       "      <th>temp</th>\n",
       "      <th>taste</th>\n",
       "    </tr>\n",
       "  </thead>\n",
       "  <tbody>\n",
       "    <tr>\n",
       "      <th>0</th>\n",
       "      <td>1</td>\n",
       "      <td>2</td>\n",
       "      <td>95</td>\n",
       "    </tr>\n",
       "    <tr>\n",
       "      <th>1</th>\n",
       "      <td>1</td>\n",
       "      <td>2</td>\n",
       "      <td>93</td>\n",
       "    </tr>\n",
       "    <tr>\n",
       "      <th>2</th>\n",
       "      <td>1</td>\n",
       "      <td>2</td>\n",
       "      <td>94</td>\n",
       "    </tr>\n",
       "    <tr>\n",
       "      <th>3</th>\n",
       "      <td>1</td>\n",
       "      <td>2</td>\n",
       "      <td>98</td>\n",
       "    </tr>\n",
       "    <tr>\n",
       "      <th>4</th>\n",
       "      <td>1</td>\n",
       "      <td>2</td>\n",
       "      <td>97</td>\n",
       "    </tr>\n",
       "  </tbody>\n",
       "</table>\n",
       "</div>"
      ],
      "text/plain": [
       "   meth  temp  taste\n",
       "0     1     2     95\n",
       "1     1     2     93\n",
       "2     1     2     94\n",
       "3     1     2     98\n",
       "4     1     2     97"
      ]
     },
     "execution_count": 6,
     "metadata": {},
     "output_type": "execute_result"
    }
   ],
   "source": [
    "df = pd.read_csv('C:/Users/fkaus/Desktop/빅데이터 통계data/Ch10.분산분석(ANOVA)2/Ch1001.TWA.csv', encoding = 'utf-8-sig')\n",
    "df.head()"
   ]
  },
  {
   "cell_type": "code",
   "execution_count": 66,
   "metadata": {
    "scrolled": true
   },
   "outputs": [
    {
     "data": {
      "text/html": [
       "<div>\n",
       "<style scoped>\n",
       "    .dataframe tbody tr th:only-of-type {\n",
       "        vertical-align: middle;\n",
       "    }\n",
       "\n",
       "    .dataframe tbody tr th {\n",
       "        vertical-align: top;\n",
       "    }\n",
       "\n",
       "    .dataframe thead th {\n",
       "        text-align: right;\n",
       "    }\n",
       "</style>\n",
       "<table border=\"1\" class=\"dataframe\">\n",
       "  <thead>\n",
       "    <tr style=\"text-align: right;\">\n",
       "      <th></th>\n",
       "      <th>df</th>\n",
       "      <th>sum_sq</th>\n",
       "      <th>mean_sq</th>\n",
       "      <th>F</th>\n",
       "      <th>PR(&gt;F)</th>\n",
       "    </tr>\n",
       "  </thead>\n",
       "  <tbody>\n",
       "    <tr>\n",
       "      <th>C(meth)</th>\n",
       "      <td>1.0</td>\n",
       "      <td>8.066667</td>\n",
       "      <td>8.066667</td>\n",
       "      <td>1.733091</td>\n",
       "      <td>1.933794e-01</td>\n",
       "    </tr>\n",
       "    <tr>\n",
       "      <th>C(temp)</th>\n",
       "      <td>1.0</td>\n",
       "      <td>10.833259</td>\n",
       "      <td>10.833259</td>\n",
       "      <td>2.327483</td>\n",
       "      <td>1.327357e-01</td>\n",
       "    </tr>\n",
       "    <tr>\n",
       "      <th>C(meth):C(temp)</th>\n",
       "      <td>1.0</td>\n",
       "      <td>768.381622</td>\n",
       "      <td>768.381622</td>\n",
       "      <td>165.083737</td>\n",
       "      <td>2.446261e-18</td>\n",
       "    </tr>\n",
       "    <tr>\n",
       "      <th>Residual</th>\n",
       "      <td>56.0</td>\n",
       "      <td>260.651786</td>\n",
       "      <td>4.654496</td>\n",
       "      <td>NaN</td>\n",
       "      <td>NaN</td>\n",
       "    </tr>\n",
       "  </tbody>\n",
       "</table>\n",
       "</div>"
      ],
      "text/plain": [
       "                   df      sum_sq     mean_sq           F        PR(>F)\n",
       "C(meth)           1.0    8.066667    8.066667    1.733091  1.933794e-01\n",
       "C(temp)           1.0   10.833259   10.833259    2.327483  1.327357e-01\n",
       "C(meth):C(temp)   1.0  768.381622  768.381622  165.083737  2.446261e-18\n",
       "Residual         56.0  260.651786    4.654496         NaN           NaN"
      ]
     },
     "execution_count": 66,
     "metadata": {},
     "output_type": "execute_result"
    }
   ],
   "source": [
    "import statsmodels.formula.api as sm  # 회귀식 적합\n",
    "from statsmodels.stats.anova import anova_lm  # 분산분석\n",
    "\n",
    "# C(group)은 카테고리 타입 데이터임을 의미함. 필수로 넣어줘야 함\n",
    "model = sm.ols(formula = 'taste ~ C(meth)*C(temp)', data = df)\n",
    "model = model.fit()\n",
    "\n",
    "anova_lm(model) "
   ]
  },
  {
   "cell_type": "markdown",
   "metadata": {},
   "source": [
    "- 맛은 방법과 온도에 따라 유의한 차이가 없음\n",
    "- 방법과 온도의 상호작용 효과는 유의함"
   ]
  },
  {
   "cell_type": "code",
   "execution_count": 74,
   "metadata": {
    "scrolled": true
   },
   "outputs": [
    {
     "data": {
      "image/png": "[encoded data removed]",
      "text/plain": [
       "<Figure size 432x288 with 1 Axes>"
      ]
     },
     "execution_count": 74,
     "metadata": {},
     "output_type": "execute_result"
    },
    {
     "data": {
      "image/png": "[encoded data removed]",
      "text/plain": [
       "<Figure size 432x288 with 1 Axes>"
      ]
     },
     "metadata": {
      "needs_background": "light"
     },
     "output_type": "display_data"
    }
   ],
   "source": [
    "# 상호작용 그래프\n",
    "from statsmodels.graphics.factorplots import interaction_plot\n",
    "\n",
    "interaction_plot(df.meth, df.temp, df.taste)"
   ]
  },
  {
   "cell_type": "markdown",
   "metadata": {},
   "source": [
    "- 사후검정\n",
    "    - 상호작용이 있을 경우 : 그룹별로 나누어서 분석(사후검정)\n",
    "        - 위 예시에선, 방법(meth)별로, 혹은 온도(temp)별로 그룹을 나누어서 분석\n",
    "        - 방법1[meth == 1]에 대해 t.test(온도에 대한 차이를 분석) or tukey((온도들에 대한 차이를 분석)\n",
    "        - 방법2[meth == 1]에 대해 t.test(온도에 대한 차이를 분석) or tukey((온도들에 대한 차이를 분석)\n",
    "        \n",
    "    - 상호작용이 없을 경우 : 각 변수별 주효과 분석(t-test, ANOVA)한 것 보고(사후검정x)"
   ]
  },
  {
   "cell_type": "code",
   "execution_count": 77,
   "metadata": {},
   "outputs": [],
   "source": [
    "df1 = df[df.meth == 1].drop('meth', axis = 1)\n",
    "df2 = df[df.meth == 2].drop('meth', axis = 1)"
   ]
  },
  {
   "cell_type": "code",
   "execution_count": 86,
   "metadata": {},
   "outputs": [
    {
     "data": {
      "text/plain": [
       "Ttest_indResult(statistic=-7.0903165390541085, pvalue=1.029339189978074e-07)"
      ]
     },
     "execution_count": 86,
     "metadata": {},
     "output_type": "execute_result"
    }
   ],
   "source": [
    "# 방법1에 대한 독립표본 t-검정(등분산일 경우)\n",
    "stats.ttest_ind(df1.taste[df1.temp == 1], df1.taste[df1.temp == 2], equal_var = True) # 이분산은 equal_var = False"
   ]
  },
  {
   "cell_type": "code",
   "execution_count": 87,
   "metadata": {
    "scrolled": true
   },
   "outputs": [
    {
     "data": {
      "text/plain": [
       "Ttest_indResult(statistic=11.957371090848326, pvalue=1.6201293365382045e-12)"
      ]
     },
     "execution_count": 87,
     "metadata": {},
     "output_type": "execute_result"
    }
   ],
   "source": [
    "# 방법2에 대한 독립표본 t-검정(등분산일 경우)\n",
    "stats.ttest_ind(df2.taste[df2.temp == 1], df2.taste[df2.temp == 2], equal_var = True) # 이분산은 equal_var = False"
   ]
  },
  {
   "cell_type": "markdown",
   "metadata": {},
   "source": [
    "- 방법 1에 대한 t-검정 결과, 두 온도에 대한 차이가 있음을 알 수 있다.\n",
    "- 방법 2에 대한 t-검정 결과, 두 온도에 대한 차이가 있음을 알 수 있다."
   ]
  },
  {
   "cell_type": "code",
   "execution_count": 88,
   "metadata": {},
   "outputs": [
    {
     "data": {
      "text/plain": [
       "(          taste\n",
       " temp           \n",
       " 1     87.357143\n",
       " 2     93.687500,\n",
       "       taste\n",
       " temp       \n",
       " 1        94\n",
       " 2        86)"
      ]
     },
     "execution_count": 88,
     "metadata": {},
     "output_type": "execute_result"
    }
   ],
   "source": [
    "df1.groupby('temp').mean(), df2.groupby('temp').mean()"
   ]
  },
  {
   "cell_type": "markdown",
   "metadata": {},
   "source": [
    "- 방법 1에서 온도를 2로 하였을 때 맛이 통계적으로 유의미하게 좋아진다.\n",
    "- 방법 2에서 온도를 1로 하였을 때 맛이 통계적으로 유의미하게 좋아진다."
   ]
  },
  {
   "cell_type": "markdown",
   "metadata": {},
   "source": [
    "- 총 정리\n",
    "> 분석 결과, 시간과 방법에 따른 상호작용 효과가 존재했다(F = 165.08, p = 0.000). 방법 1에서는 온도를 2로 하였을 떄 맛이 가장 좋았으며, 방법 2에서는 온도를 1로 하였을 때 맛이 가장 좋았따."
   ]
  },
  {
   "cell_type": "markdown",
   "metadata": {},
   "source": [
    "## 이원 반복측정 분산분석(Two-Way Repeated Measures ANOVA)\n",
    "- 반복 + 요인"
   ]
  },
  {
   "cell_type": "markdown",
   "metadata": {},
   "source": [
    "# 회귀분석"
   ]
  },
  {
   "cell_type": "markdown",
   "metadata": {},
   "source": [
    "## 상관분석"
   ]
  },
  {
   "cell_type": "code",
   "execution_count": 38,
   "metadata": {},
   "outputs": [
    {
     "data": {
      "text/html": [
       "<div>\n",
       "<style scoped>\n",
       "    .dataframe tbody tr th:only-of-type {\n",
       "        vertical-align: middle;\n",
       "    }\n",
       "\n",
       "    .dataframe tbody tr th {\n",
       "        vertical-align: top;\n",
       "    }\n",
       "\n",
       "    .dataframe thead th {\n",
       "        text-align: right;\n",
       "    }\n",
       "</style>\n",
       "<table border=\"1\" class=\"dataframe\">\n",
       "  <thead>\n",
       "    <tr style=\"text-align: right;\">\n",
       "      <th></th>\n",
       "      <th>Weight</th>\n",
       "      <th>Height</th>\n",
       "    </tr>\n",
       "  </thead>\n",
       "  <tbody>\n",
       "    <tr>\n",
       "      <th>0</th>\n",
       "      <td>72</td>\n",
       "      <td>176</td>\n",
       "    </tr>\n",
       "    <tr>\n",
       "      <th>1</th>\n",
       "      <td>72</td>\n",
       "      <td>172</td>\n",
       "    </tr>\n",
       "    <tr>\n",
       "      <th>2</th>\n",
       "      <td>70</td>\n",
       "      <td>182</td>\n",
       "    </tr>\n",
       "    <tr>\n",
       "      <th>3</th>\n",
       "      <td>43</td>\n",
       "      <td>160</td>\n",
       "    </tr>\n",
       "    <tr>\n",
       "      <th>4</th>\n",
       "      <td>48</td>\n",
       "      <td>163</td>\n",
       "    </tr>\n",
       "  </tbody>\n",
       "</table>\n",
       "</div>"
      ],
      "text/plain": [
       "   Weight  Height\n",
       "0      72     176\n",
       "1      72     172\n",
       "2      70     182\n",
       "3      43     160\n",
       "4      48     163"
      ]
     },
     "execution_count": 38,
     "metadata": {},
     "output_type": "execute_result"
    }
   ],
   "source": [
    "df = pd.read_csv('C:/Users/fkaus/Desktop/빅데이터 통계data/Ch11.회귀분석(Regression)/Ch1101.상관분석(CORR).csv', encoding = 'cp949')\n",
    "df.columns = ['Weight', 'Height']\n",
    "df.head()"
   ]
  },
  {
   "cell_type": "code",
   "execution_count": 39,
   "metadata": {
    "scrolled": true
   },
   "outputs": [
    {
     "data": {
      "text/html": [
       "<div>\n",
       "<style scoped>\n",
       "    .dataframe tbody tr th:only-of-type {\n",
       "        vertical-align: middle;\n",
       "    }\n",
       "\n",
       "    .dataframe tbody tr th {\n",
       "        vertical-align: top;\n",
       "    }\n",
       "\n",
       "    .dataframe thead th {\n",
       "        text-align: right;\n",
       "    }\n",
       "</style>\n",
       "<table border=\"1\" class=\"dataframe\">\n",
       "  <thead>\n",
       "    <tr style=\"text-align: right;\">\n",
       "      <th></th>\n",
       "      <th>Weight</th>\n",
       "      <th>Height</th>\n",
       "    </tr>\n",
       "  </thead>\n",
       "  <tbody>\n",
       "    <tr>\n",
       "      <th>count</th>\n",
       "      <td>30.000000</td>\n",
       "      <td>30.000000</td>\n",
       "    </tr>\n",
       "    <tr>\n",
       "      <th>mean</th>\n",
       "      <td>62.700000</td>\n",
       "      <td>170.333333</td>\n",
       "    </tr>\n",
       "    <tr>\n",
       "      <th>std</th>\n",
       "      <td>11.519549</td>\n",
       "      <td>8.683450</td>\n",
       "    </tr>\n",
       "    <tr>\n",
       "      <th>min</th>\n",
       "      <td>43.000000</td>\n",
       "      <td>148.000000</td>\n",
       "    </tr>\n",
       "    <tr>\n",
       "      <th>25%</th>\n",
       "      <td>54.000000</td>\n",
       "      <td>164.250000</td>\n",
       "    </tr>\n",
       "    <tr>\n",
       "      <th>50%</th>\n",
       "      <td>63.000000</td>\n",
       "      <td>170.000000</td>\n",
       "    </tr>\n",
       "    <tr>\n",
       "      <th>75%</th>\n",
       "      <td>72.000000</td>\n",
       "      <td>175.750000</td>\n",
       "    </tr>\n",
       "    <tr>\n",
       "      <th>max</th>\n",
       "      <td>88.000000</td>\n",
       "      <td>188.000000</td>\n",
       "    </tr>\n",
       "  </tbody>\n",
       "</table>\n",
       "</div>"
      ],
      "text/plain": [
       "          Weight      Height\n",
       "count  30.000000   30.000000\n",
       "mean   62.700000  170.333333\n",
       "std    11.519549    8.683450\n",
       "min    43.000000  148.000000\n",
       "25%    54.000000  164.250000\n",
       "50%    63.000000  170.000000\n",
       "75%    72.000000  175.750000\n",
       "max    88.000000  188.000000"
      ]
     },
     "execution_count": 39,
     "metadata": {},
     "output_type": "execute_result"
    }
   ],
   "source": [
    "df.describe()"
   ]
  },
  {
   "cell_type": "code",
   "execution_count": 40,
   "metadata": {
    "scrolled": true
   },
   "outputs": [
    {
     "data": {
      "text/html": [
       "<div>\n",
       "<style scoped>\n",
       "    .dataframe tbody tr th:only-of-type {\n",
       "        vertical-align: middle;\n",
       "    }\n",
       "\n",
       "    .dataframe tbody tr th {\n",
       "        vertical-align: top;\n",
       "    }\n",
       "\n",
       "    .dataframe thead th {\n",
       "        text-align: right;\n",
       "    }\n",
       "</style>\n",
       "<table border=\"1\" class=\"dataframe\">\n",
       "  <thead>\n",
       "    <tr style=\"text-align: right;\">\n",
       "      <th></th>\n",
       "      <th>Weight</th>\n",
       "      <th>Height</th>\n",
       "    </tr>\n",
       "  </thead>\n",
       "  <tbody>\n",
       "    <tr>\n",
       "      <th>Weight</th>\n",
       "      <td>1.000000</td>\n",
       "      <td>0.856645</td>\n",
       "    </tr>\n",
       "    <tr>\n",
       "      <th>Height</th>\n",
       "      <td>0.856645</td>\n",
       "      <td>1.000000</td>\n",
       "    </tr>\n",
       "  </tbody>\n",
       "</table>\n",
       "</div>"
      ],
      "text/plain": [
       "          Weight    Height\n",
       "Weight  1.000000  0.856645\n",
       "Height  0.856645  1.000000"
      ]
     },
     "execution_count": 40,
     "metadata": {},
     "output_type": "execute_result"
    }
   ],
   "source": [
    "df.corr()"
   ]
  },
  {
   "cell_type": "code",
   "execution_count": 46,
   "metadata": {
    "scrolled": true
   },
   "outputs": [
    {
     "data": {
      "text/html": [
       "<style  type=\"text/css\" >\n",
       "#T_9d8ab879_3dd0_11ec_9bb4_e81b03340834row0_col0,#T_9d8ab879_3dd0_11ec_9bb4_e81b03340834row1_col0{\n",
       "            background-color:  #a4d266;\n",
       "            color:  #000000;\n",
       "        }#T_9d8ab879_3dd0_11ec_9bb4_e81b03340834row0_col1{\n",
       "            background-color:  #b3d966;\n",
       "            color:  #000000;\n",
       "        }#T_9d8ab879_3dd0_11ec_9bb4_e81b03340834row1_col1,#T_9d8ab879_3dd0_11ec_9bb4_e81b03340834row2_col0,#T_9d8ab879_3dd0_11ec_9bb4_e81b03340834row12_col1,#T_9d8ab879_3dd0_11ec_9bb4_e81b03340834row21_col0{\n",
       "            background-color:  #99cc66;\n",
       "            color:  #000000;\n",
       "        }#T_9d8ab879_3dd0_11ec_9bb4_e81b03340834row2_col1,#T_9d8ab879_3dd0_11ec_9bb4_e81b03340834row8_col1,#T_9d8ab879_3dd0_11ec_9bb4_e81b03340834row16_col1,#T_9d8ab879_3dd0_11ec_9bb4_e81b03340834row29_col1{\n",
       "            background-color:  #d9ec66;\n",
       "            color:  #000000;\n",
       "        }#T_9d8ab879_3dd0_11ec_9bb4_e81b03340834row3_col0,#T_9d8ab879_3dd0_11ec_9bb4_e81b03340834row9_col1{\n",
       "            background-color:  #008066;\n",
       "            color:  #f1f1f1;\n",
       "        }#T_9d8ab879_3dd0_11ec_9bb4_e81b03340834row3_col1,#T_9d8ab879_3dd0_11ec_9bb4_e81b03340834row13_col1,#T_9d8ab879_3dd0_11ec_9bb4_e81b03340834row19_col1{\n",
       "            background-color:  #4ca666;\n",
       "            color:  #000000;\n",
       "        }#T_9d8ab879_3dd0_11ec_9bb4_e81b03340834row4_col0{\n",
       "            background-color:  #1c8e66;\n",
       "            color:  #000000;\n",
       "        }#T_9d8ab879_3dd0_11ec_9bb4_e81b03340834row4_col1,#T_9d8ab879_3dd0_11ec_9bb4_e81b03340834row7_col1,#T_9d8ab879_3dd0_11ec_9bb4_e81b03340834row10_col0,#T_9d8ab879_3dd0_11ec_9bb4_e81b03340834row14_col1{\n",
       "            background-color:  #60b066;\n",
       "            color:  #000000;\n",
       "        }#T_9d8ab879_3dd0_11ec_9bb4_e81b03340834row5_col0,#T_9d8ab879_3dd0_11ec_9bb4_e81b03340834row28_col0{\n",
       "            background-color:  #3e9e66;\n",
       "            color:  #000000;\n",
       "        }#T_9d8ab879_3dd0_11ec_9bb4_e81b03340834row5_col1,#T_9d8ab879_3dd0_11ec_9bb4_e81b03340834row11_col0,#T_9d8ab879_3dd0_11ec_9bb4_e81b03340834row20_col0{\n",
       "            background-color:  #6cb666;\n",
       "            color:  #000000;\n",
       "        }#T_9d8ab879_3dd0_11ec_9bb4_e81b03340834row6_col0,#T_9d8ab879_3dd0_11ec_9bb4_e81b03340834row14_col0{\n",
       "            background-color:  #2d9666;\n",
       "            color:  #000000;\n",
       "        }#T_9d8ab879_3dd0_11ec_9bb4_e81b03340834row6_col1,#T_9d8ab879_3dd0_11ec_9bb4_e81b03340834row26_col1{\n",
       "            background-color:  #80c066;\n",
       "            color:  #000000;\n",
       "        }#T_9d8ab879_3dd0_11ec_9bb4_e81b03340834row7_col0{\n",
       "            background-color:  #339966;\n",
       "            color:  #000000;\n",
       "        }#T_9d8ab879_3dd0_11ec_9bb4_e81b03340834row8_col0,#T_9d8ab879_3dd0_11ec_9bb4_e81b03340834row22_col0{\n",
       "            background-color:  #aad466;\n",
       "            color:  #000000;\n",
       "        }#T_9d8ab879_3dd0_11ec_9bb4_e81b03340834row9_col0{\n",
       "            background-color:  #0b8566;\n",
       "            color:  #000000;\n",
       "        }#T_9d8ab879_3dd0_11ec_9bb4_e81b03340834row10_col1,#T_9d8ab879_3dd0_11ec_9bb4_e81b03340834row15_col1,#T_9d8ab879_3dd0_11ec_9bb4_e81b03340834row25_col1,#T_9d8ab879_3dd0_11ec_9bb4_e81b03340834row28_col1{\n",
       "            background-color:  #8cc666;\n",
       "            color:  #000000;\n",
       "        }#T_9d8ab879_3dd0_11ec_9bb4_e81b03340834row11_col1,#T_9d8ab879_3dd0_11ec_9bb4_e81b03340834row27_col1{\n",
       "            background-color:  #73b966;\n",
       "            color:  #000000;\n",
       "        }#T_9d8ab879_3dd0_11ec_9bb4_e81b03340834row12_col0,#T_9d8ab879_3dd0_11ec_9bb4_e81b03340834row17_col0{\n",
       "            background-color:  #77bb66;\n",
       "            color:  #000000;\n",
       "        }#T_9d8ab879_3dd0_11ec_9bb4_e81b03340834row13_col0{\n",
       "            background-color:  #168a66;\n",
       "            color:  #000000;\n",
       "        }#T_9d8ab879_3dd0_11ec_9bb4_e81b03340834row15_col0{\n",
       "            background-color:  #b0d866;\n",
       "            color:  #000000;\n",
       "        }#T_9d8ab879_3dd0_11ec_9bb4_e81b03340834row16_col0,#T_9d8ab879_3dd0_11ec_9bb4_e81b03340834row23_col1{\n",
       "            background-color:  #ffff66;\n",
       "            color:  #000000;\n",
       "        }#T_9d8ab879_3dd0_11ec_9bb4_e81b03340834row17_col1{\n",
       "            background-color:  #a6d266;\n",
       "            color:  #000000;\n",
       "        }#T_9d8ab879_3dd0_11ec_9bb4_e81b03340834row18_col0,#T_9d8ab879_3dd0_11ec_9bb4_e81b03340834row19_col0,#T_9d8ab879_3dd0_11ec_9bb4_e81b03340834row26_col0{\n",
       "            background-color:  #49a466;\n",
       "            color:  #000000;\n",
       "        }#T_9d8ab879_3dd0_11ec_9bb4_e81b03340834row18_col1{\n",
       "            background-color:  #66b266;\n",
       "            color:  #000000;\n",
       "        }#T_9d8ab879_3dd0_11ec_9bb4_e81b03340834row20_col1{\n",
       "            background-color:  #c0e066;\n",
       "            color:  #000000;\n",
       "        }#T_9d8ab879_3dd0_11ec_9bb4_e81b03340834row21_col1{\n",
       "            background-color:  #acd666;\n",
       "            color:  #000000;\n",
       "        }#T_9d8ab879_3dd0_11ec_9bb4_e81b03340834row22_col1{\n",
       "            background-color:  #a0d066;\n",
       "            color:  #000000;\n",
       "        }#T_9d8ab879_3dd0_11ec_9bb4_e81b03340834row23_col0{\n",
       "            background-color:  #ddee66;\n",
       "            color:  #000000;\n",
       "        }#T_9d8ab879_3dd0_11ec_9bb4_e81b03340834row24_col0{\n",
       "            background-color:  #b6db66;\n",
       "            color:  #000000;\n",
       "        }#T_9d8ab879_3dd0_11ec_9bb4_e81b03340834row24_col1{\n",
       "            background-color:  #cce666;\n",
       "            color:  #000000;\n",
       "        }#T_9d8ab879_3dd0_11ec_9bb4_e81b03340834row25_col0,#T_9d8ab879_3dd0_11ec_9bb4_e81b03340834row27_col0{\n",
       "            background-color:  #7dbe66;\n",
       "            color:  #000000;\n",
       "        }#T_9d8ab879_3dd0_11ec_9bb4_e81b03340834row29_col0{\n",
       "            background-color:  #c1e066;\n",
       "            color:  #000000;\n",
       "        }</style><table id=\"T_9d8ab879_3dd0_11ec_9bb4_e81b03340834\" ><thead>    <tr>        <th class=\"blank level0\" ></th>        <th class=\"col_heading level0 col0\" >Weight</th>        <th class=\"col_heading level0 col1\" >Height</th>    </tr></thead><tbody>\n",
       "                <tr>\n",
       "                        <th id=\"T_9d8ab879_3dd0_11ec_9bb4_e81b03340834level0_row0\" class=\"row_heading level0 row0\" >0</th>\n",
       "                        <td id=\"T_9d8ab879_3dd0_11ec_9bb4_e81b03340834row0_col0\" class=\"data row0 col0\" >72</td>\n",
       "                        <td id=\"T_9d8ab879_3dd0_11ec_9bb4_e81b03340834row0_col1\" class=\"data row0 col1\" >176</td>\n",
       "            </tr>\n",
       "            <tr>\n",
       "                        <th id=\"T_9d8ab879_3dd0_11ec_9bb4_e81b03340834level0_row1\" class=\"row_heading level0 row1\" >1</th>\n",
       "                        <td id=\"T_9d8ab879_3dd0_11ec_9bb4_e81b03340834row1_col0\" class=\"data row1 col0\" >72</td>\n",
       "                        <td id=\"T_9d8ab879_3dd0_11ec_9bb4_e81b03340834row1_col1\" class=\"data row1 col1\" >172</td>\n",
       "            </tr>\n",
       "            <tr>\n",
       "                        <th id=\"T_9d8ab879_3dd0_11ec_9bb4_e81b03340834level0_row2\" class=\"row_heading level0 row2\" >2</th>\n",
       "                        <td id=\"T_9d8ab879_3dd0_11ec_9bb4_e81b03340834row2_col0\" class=\"data row2 col0\" >70</td>\n",
       "                        <td id=\"T_9d8ab879_3dd0_11ec_9bb4_e81b03340834row2_col1\" class=\"data row2 col1\" >182</td>\n",
       "            </tr>\n",
       "            <tr>\n",
       "                        <th id=\"T_9d8ab879_3dd0_11ec_9bb4_e81b03340834level0_row3\" class=\"row_heading level0 row3\" >3</th>\n",
       "                        <td id=\"T_9d8ab879_3dd0_11ec_9bb4_e81b03340834row3_col0\" class=\"data row3 col0\" >43</td>\n",
       "                        <td id=\"T_9d8ab879_3dd0_11ec_9bb4_e81b03340834row3_col1\" class=\"data row3 col1\" >160</td>\n",
       "            </tr>\n",
       "            <tr>\n",
       "                        <th id=\"T_9d8ab879_3dd0_11ec_9bb4_e81b03340834level0_row4\" class=\"row_heading level0 row4\" >4</th>\n",
       "                        <td id=\"T_9d8ab879_3dd0_11ec_9bb4_e81b03340834row4_col0\" class=\"data row4 col0\" >48</td>\n",
       "                        <td id=\"T_9d8ab879_3dd0_11ec_9bb4_e81b03340834row4_col1\" class=\"data row4 col1\" >163</td>\n",
       "            </tr>\n",
       "            <tr>\n",
       "                        <th id=\"T_9d8ab879_3dd0_11ec_9bb4_e81b03340834level0_row5\" class=\"row_heading level0 row5\" >5</th>\n",
       "                        <td id=\"T_9d8ab879_3dd0_11ec_9bb4_e81b03340834row5_col0\" class=\"data row5 col0\" >54</td>\n",
       "                        <td id=\"T_9d8ab879_3dd0_11ec_9bb4_e81b03340834row5_col1\" class=\"data row5 col1\" >165</td>\n",
       "            </tr>\n",
       "            <tr>\n",
       "                        <th id=\"T_9d8ab879_3dd0_11ec_9bb4_e81b03340834level0_row6\" class=\"row_heading level0 row6\" >6</th>\n",
       "                        <td id=\"T_9d8ab879_3dd0_11ec_9bb4_e81b03340834row6_col0\" class=\"data row6 col0\" >51</td>\n",
       "                        <td id=\"T_9d8ab879_3dd0_11ec_9bb4_e81b03340834row6_col1\" class=\"data row6 col1\" >168</td>\n",
       "            </tr>\n",
       "            <tr>\n",
       "                        <th id=\"T_9d8ab879_3dd0_11ec_9bb4_e81b03340834level0_row7\" class=\"row_heading level0 row7\" >7</th>\n",
       "                        <td id=\"T_9d8ab879_3dd0_11ec_9bb4_e81b03340834row7_col0\" class=\"data row7 col0\" >52</td>\n",
       "                        <td id=\"T_9d8ab879_3dd0_11ec_9bb4_e81b03340834row7_col1\" class=\"data row7 col1\" >163</td>\n",
       "            </tr>\n",
       "            <tr>\n",
       "                        <th id=\"T_9d8ab879_3dd0_11ec_9bb4_e81b03340834level0_row8\" class=\"row_heading level0 row8\" >8</th>\n",
       "                        <td id=\"T_9d8ab879_3dd0_11ec_9bb4_e81b03340834row8_col0\" class=\"data row8 col0\" >73</td>\n",
       "                        <td id=\"T_9d8ab879_3dd0_11ec_9bb4_e81b03340834row8_col1\" class=\"data row8 col1\" >182</td>\n",
       "            </tr>\n",
       "            <tr>\n",
       "                        <th id=\"T_9d8ab879_3dd0_11ec_9bb4_e81b03340834level0_row9\" class=\"row_heading level0 row9\" >9</th>\n",
       "                        <td id=\"T_9d8ab879_3dd0_11ec_9bb4_e81b03340834row9_col0\" class=\"data row9 col0\" >45</td>\n",
       "                        <td id=\"T_9d8ab879_3dd0_11ec_9bb4_e81b03340834row9_col1\" class=\"data row9 col1\" >148</td>\n",
       "            </tr>\n",
       "            <tr>\n",
       "                        <th id=\"T_9d8ab879_3dd0_11ec_9bb4_e81b03340834level0_row10\" class=\"row_heading level0 row10\" >10</th>\n",
       "                        <td id=\"T_9d8ab879_3dd0_11ec_9bb4_e81b03340834row10_col0\" class=\"data row10 col0\" >60</td>\n",
       "                        <td id=\"T_9d8ab879_3dd0_11ec_9bb4_e81b03340834row10_col1\" class=\"data row10 col1\" >170</td>\n",
       "            </tr>\n",
       "            <tr>\n",
       "                        <th id=\"T_9d8ab879_3dd0_11ec_9bb4_e81b03340834level0_row11\" class=\"row_heading level0 row11\" >11</th>\n",
       "                        <td id=\"T_9d8ab879_3dd0_11ec_9bb4_e81b03340834row11_col0\" class=\"data row11 col0\" >62</td>\n",
       "                        <td id=\"T_9d8ab879_3dd0_11ec_9bb4_e81b03340834row11_col1\" class=\"data row11 col1\" >166</td>\n",
       "            </tr>\n",
       "            <tr>\n",
       "                        <th id=\"T_9d8ab879_3dd0_11ec_9bb4_e81b03340834level0_row12\" class=\"row_heading level0 row12\" >12</th>\n",
       "                        <td id=\"T_9d8ab879_3dd0_11ec_9bb4_e81b03340834row12_col0\" class=\"data row12 col0\" >64</td>\n",
       "                        <td id=\"T_9d8ab879_3dd0_11ec_9bb4_e81b03340834row12_col1\" class=\"data row12 col1\" >172</td>\n",
       "            </tr>\n",
       "            <tr>\n",
       "                        <th id=\"T_9d8ab879_3dd0_11ec_9bb4_e81b03340834level0_row13\" class=\"row_heading level0 row13\" >13</th>\n",
       "                        <td id=\"T_9d8ab879_3dd0_11ec_9bb4_e81b03340834row13_col0\" class=\"data row13 col0\" >47</td>\n",
       "                        <td id=\"T_9d8ab879_3dd0_11ec_9bb4_e81b03340834row13_col1\" class=\"data row13 col1\" >160</td>\n",
       "            </tr>\n",
       "            <tr>\n",
       "                        <th id=\"T_9d8ab879_3dd0_11ec_9bb4_e81b03340834level0_row14\" class=\"row_heading level0 row14\" >14</th>\n",
       "                        <td id=\"T_9d8ab879_3dd0_11ec_9bb4_e81b03340834row14_col0\" class=\"data row14 col0\" >51</td>\n",
       "                        <td id=\"T_9d8ab879_3dd0_11ec_9bb4_e81b03340834row14_col1\" class=\"data row14 col1\" >163</td>\n",
       "            </tr>\n",
       "            <tr>\n",
       "                        <th id=\"T_9d8ab879_3dd0_11ec_9bb4_e81b03340834level0_row15\" class=\"row_heading level0 row15\" >15</th>\n",
       "                        <td id=\"T_9d8ab879_3dd0_11ec_9bb4_e81b03340834row15_col0\" class=\"data row15 col0\" >74</td>\n",
       "                        <td id=\"T_9d8ab879_3dd0_11ec_9bb4_e81b03340834row15_col1\" class=\"data row15 col1\" >170</td>\n",
       "            </tr>\n",
       "            <tr>\n",
       "                        <th id=\"T_9d8ab879_3dd0_11ec_9bb4_e81b03340834level0_row16\" class=\"row_heading level0 row16\" >16</th>\n",
       "                        <td id=\"T_9d8ab879_3dd0_11ec_9bb4_e81b03340834row16_col0\" class=\"data row16 col0\" >88</td>\n",
       "                        <td id=\"T_9d8ab879_3dd0_11ec_9bb4_e81b03340834row16_col1\" class=\"data row16 col1\" >182</td>\n",
       "            </tr>\n",
       "            <tr>\n",
       "                        <th id=\"T_9d8ab879_3dd0_11ec_9bb4_e81b03340834level0_row17\" class=\"row_heading level0 row17\" >17</th>\n",
       "                        <td id=\"T_9d8ab879_3dd0_11ec_9bb4_e81b03340834row17_col0\" class=\"data row17 col0\" >64</td>\n",
       "                        <td id=\"T_9d8ab879_3dd0_11ec_9bb4_e81b03340834row17_col1\" class=\"data row17 col1\" >174</td>\n",
       "            </tr>\n",
       "            <tr>\n",
       "                        <th id=\"T_9d8ab879_3dd0_11ec_9bb4_e81b03340834level0_row18\" class=\"row_heading level0 row18\" >18</th>\n",
       "                        <td id=\"T_9d8ab879_3dd0_11ec_9bb4_e81b03340834row18_col0\" class=\"data row18 col0\" >56</td>\n",
       "                        <td id=\"T_9d8ab879_3dd0_11ec_9bb4_e81b03340834row18_col1\" class=\"data row18 col1\" >164</td>\n",
       "            </tr>\n",
       "            <tr>\n",
       "                        <th id=\"T_9d8ab879_3dd0_11ec_9bb4_e81b03340834level0_row19\" class=\"row_heading level0 row19\" >19</th>\n",
       "                        <td id=\"T_9d8ab879_3dd0_11ec_9bb4_e81b03340834row19_col0\" class=\"data row19 col0\" >56</td>\n",
       "                        <td id=\"T_9d8ab879_3dd0_11ec_9bb4_e81b03340834row19_col1\" class=\"data row19 col1\" >160</td>\n",
       "            </tr>\n",
       "            <tr>\n",
       "                        <th id=\"T_9d8ab879_3dd0_11ec_9bb4_e81b03340834level0_row20\" class=\"row_heading level0 row20\" >20</th>\n",
       "                        <td id=\"T_9d8ab879_3dd0_11ec_9bb4_e81b03340834row20_col0\" class=\"data row20 col0\" >62</td>\n",
       "                        <td id=\"T_9d8ab879_3dd0_11ec_9bb4_e81b03340834row20_col1\" class=\"data row20 col1\" >178</td>\n",
       "            </tr>\n",
       "            <tr>\n",
       "                        <th id=\"T_9d8ab879_3dd0_11ec_9bb4_e81b03340834level0_row21\" class=\"row_heading level0 row21\" >21</th>\n",
       "                        <td id=\"T_9d8ab879_3dd0_11ec_9bb4_e81b03340834row21_col0\" class=\"data row21 col0\" >70</td>\n",
       "                        <td id=\"T_9d8ab879_3dd0_11ec_9bb4_e81b03340834row21_col1\" class=\"data row21 col1\" >175</td>\n",
       "            </tr>\n",
       "            <tr>\n",
       "                        <th id=\"T_9d8ab879_3dd0_11ec_9bb4_e81b03340834level0_row22\" class=\"row_heading level0 row22\" >22</th>\n",
       "                        <td id=\"T_9d8ab879_3dd0_11ec_9bb4_e81b03340834row22_col0\" class=\"data row22 col0\" >73</td>\n",
       "                        <td id=\"T_9d8ab879_3dd0_11ec_9bb4_e81b03340834row22_col1\" class=\"data row22 col1\" >173</td>\n",
       "            </tr>\n",
       "            <tr>\n",
       "                        <th id=\"T_9d8ab879_3dd0_11ec_9bb4_e81b03340834level0_row23\" class=\"row_heading level0 row23\" >23</th>\n",
       "                        <td id=\"T_9d8ab879_3dd0_11ec_9bb4_e81b03340834row23_col0\" class=\"data row23 col0\" >82</td>\n",
       "                        <td id=\"T_9d8ab879_3dd0_11ec_9bb4_e81b03340834row23_col1\" class=\"data row23 col1\" >188</td>\n",
       "            </tr>\n",
       "            <tr>\n",
       "                        <th id=\"T_9d8ab879_3dd0_11ec_9bb4_e81b03340834level0_row24\" class=\"row_heading level0 row24\" >24</th>\n",
       "                        <td id=\"T_9d8ab879_3dd0_11ec_9bb4_e81b03340834row24_col0\" class=\"data row24 col0\" >75</td>\n",
       "                        <td id=\"T_9d8ab879_3dd0_11ec_9bb4_e81b03340834row24_col1\" class=\"data row24 col1\" >180</td>\n",
       "            </tr>\n",
       "            <tr>\n",
       "                        <th id=\"T_9d8ab879_3dd0_11ec_9bb4_e81b03340834level0_row25\" class=\"row_heading level0 row25\" >25</th>\n",
       "                        <td id=\"T_9d8ab879_3dd0_11ec_9bb4_e81b03340834row25_col0\" class=\"data row25 col0\" >65</td>\n",
       "                        <td id=\"T_9d8ab879_3dd0_11ec_9bb4_e81b03340834row25_col1\" class=\"data row25 col1\" >170</td>\n",
       "            </tr>\n",
       "            <tr>\n",
       "                        <th id=\"T_9d8ab879_3dd0_11ec_9bb4_e81b03340834level0_row26\" class=\"row_heading level0 row26\" >26</th>\n",
       "                        <td id=\"T_9d8ab879_3dd0_11ec_9bb4_e81b03340834row26_col0\" class=\"data row26 col0\" >56</td>\n",
       "                        <td id=\"T_9d8ab879_3dd0_11ec_9bb4_e81b03340834row26_col1\" class=\"data row26 col1\" >168</td>\n",
       "            </tr>\n",
       "            <tr>\n",
       "                        <th id=\"T_9d8ab879_3dd0_11ec_9bb4_e81b03340834level0_row27\" class=\"row_heading level0 row27\" >27</th>\n",
       "                        <td id=\"T_9d8ab879_3dd0_11ec_9bb4_e81b03340834row27_col0\" class=\"data row27 col0\" >65</td>\n",
       "                        <td id=\"T_9d8ab879_3dd0_11ec_9bb4_e81b03340834row27_col1\" class=\"data row27 col1\" >166</td>\n",
       "            </tr>\n",
       "            <tr>\n",
       "                        <th id=\"T_9d8ab879_3dd0_11ec_9bb4_e81b03340834level0_row28\" class=\"row_heading level0 row28\" >28</th>\n",
       "                        <td id=\"T_9d8ab879_3dd0_11ec_9bb4_e81b03340834row28_col0\" class=\"data row28 col0\" >54</td>\n",
       "                        <td id=\"T_9d8ab879_3dd0_11ec_9bb4_e81b03340834row28_col1\" class=\"data row28 col1\" >170</td>\n",
       "            </tr>\n",
       "            <tr>\n",
       "                        <th id=\"T_9d8ab879_3dd0_11ec_9bb4_e81b03340834level0_row29\" class=\"row_heading level0 row29\" >29</th>\n",
       "                        <td id=\"T_9d8ab879_3dd0_11ec_9bb4_e81b03340834row29_col0\" class=\"data row29 col0\" >77</td>\n",
       "                        <td id=\"T_9d8ab879_3dd0_11ec_9bb4_e81b03340834row29_col1\" class=\"data row29 col1\" >182</td>\n",
       "            </tr>\n",
       "    </tbody></table>"
      ],
      "text/plain": [
       "<pandas.io.formats.style.Styler at 0x25c12222d90>"
      ]
     },
     "execution_count": 46,
     "metadata": {},
     "output_type": "execute_result"
    }
   ],
   "source": [
    "# 판다스로 히트맵\n",
    "df.style.background_gradient(cmap='summer')"
   ]
  },
  {
   "cell_type": "code",
   "execution_count": 45,
   "metadata": {
    "scrolled": true
   },
   "outputs": [
    {
     "data": {
      "text/plain": [
       "<AxesSubplot:>"
      ]
     },
     "execution_count": 45,
     "metadata": {},
     "output_type": "execute_result"
    },
    {
     "data": {
      "image/png": "[encoded data removed]",
      "text/plain": [
       "<Figure size 432x288 with 2 Axes>"
      ]
     },
     "metadata": {
      "needs_background": "light"
     },
     "output_type": "display_data"
    }
   ],
   "source": [
    "# seaborn 히트맵\n",
    "sns.heatmap(df, annot=True, cmap='YlGnBu') "
   ]
  },
  {
   "cell_type": "code",
   "execution_count": 42,
   "metadata": {},
   "outputs": [
    {
     "data": {
      "text/plain": [
       "<AxesSubplot:xlabel='Weight', ylabel='Height'>"
      ]
     },
     "execution_count": 42,
     "metadata": {},
     "output_type": "execute_result"
    },
    {
     "data": {
      "image/png": "[encoded data removed]",
      "text/plain": [
       "<Figure size 432x288 with 1 Axes>"
      ]
     },
     "metadata": {
      "needs_background": "light"
     },
     "output_type": "display_data"
    }
   ],
   "source": [
    "sns.regplot(x = 'Weight', y = 'Height', data = df)"
   ]
  },
  {
   "cell_type": "markdown",
   "metadata": {},
   "source": [
    "## 단순 선형 회귀분석"
   ]
  },
  {
   "cell_type": "code",
   "execution_count": 68,
   "metadata": {},
   "outputs": [
    {
     "name": "stdout",
     "output_type": "stream",
     "text": [
      "<class 'pandas.core.frame.DataFrame'>\n",
      "RangeIndex: 62 entries, 0 to 61\n",
      "Data columns (total 2 columns):\n",
      " #   Column  Non-Null Count  Dtype  \n",
      "---  ------  --------------  -----  \n",
      " 0   col     62 non-null     float64\n",
      " 1   fat     62 non-null     float64\n",
      "dtypes: float64(2)\n",
      "memory usage: 1.1 KB\n"
     ]
    }
   ],
   "source": [
    "df = pd.read_csv('C:/Users/fkaus/Desktop/빅데이터 통계data/Ch11.회귀분석(Regression)/Ch1102.단순 선형회귀분석(REG).csv', encoding = 'cp949')\n",
    "df.info()"
   ]
  },
  {
   "cell_type": "code",
   "execution_count": 53,
   "metadata": {
    "scrolled": true
   },
   "outputs": [
    {
     "data": {
      "image/png": "[encoded data removed]",
      "text/plain": [
       "<Figure size 432x288 with 1 Axes>"
      ]
     },
     "metadata": {
      "needs_background": "light"
     },
     "output_type": "display_data"
    }
   ],
   "source": [
    "plt.scatter(df.iloc[:, 0], df.iloc[:, 1]);"
   ]
  },
  {
   "cell_type": "markdown",
   "metadata": {},
   "source": [
    "데이터 준비(X, y)"
   ]
  },
  {
   "cell_type": "code",
   "execution_count": 54,
   "metadata": {},
   "outputs": [
    {
     "data": {
      "text/plain": [
       "(62, 1)"
      ]
     },
     "execution_count": 54,
     "metadata": {},
     "output_type": "execute_result"
    }
   ],
   "source": [
    "X = df.col.to_numpy().reshape(len(df.col), 1)\n",
    "X.shape"
   ]
  },
  {
   "cell_type": "code",
   "execution_count": 56,
   "metadata": {
    "scrolled": true
   },
   "outputs": [
    {
     "data": {
      "text/plain": [
       "(62,)"
      ]
     },
     "execution_count": 56,
     "metadata": {},
     "output_type": "execute_result"
    }
   ],
   "source": [
    "y = df.fat.to_numpy()\n",
    "y.shape"
   ]
  },
  {
   "cell_type": "markdown",
   "metadata": {},
   "source": [
    "단순선형회귀모형"
   ]
  },
  {
   "cell_type": "code",
   "execution_count": 57,
   "metadata": {},
   "outputs": [
    {
     "data": {
      "text/plain": [
       "(array([1.95945699]), -218.19532653561242)"
      ]
     },
     "execution_count": 57,
     "metadata": {},
     "output_type": "execute_result"
    }
   ],
   "source": [
    "from sklearn.linear_model import LinearRegression\n",
    "reg = LinearRegression()\n",
    "reg.fit(X, y)\n",
    "# 계수, 절편\n",
    "reg.coef_, reg.intercept_"
   ]
  },
  {
   "cell_type": "code",
   "execution_count": 58,
   "metadata": {
    "scrolled": true
   },
   "outputs": [
    {
     "data": {
      "text/plain": [
       "0.45423672794089276"
      ]
     },
     "execution_count": 58,
     "metadata": {},
     "output_type": "execute_result"
    }
   ],
   "source": [
    "# 결정계수\n",
    "reg.score(X, y)"
   ]
  },
  {
   "cell_type": "code",
   "execution_count": 60,
   "metadata": {
    "scrolled": true
   },
   "outputs": [
    {
     "data": {
      "image/png": "[encoded data removed]",
      "text/plain": [
       "<Figure size 432x288 with 1 Axes>"
      ]
     },
     "metadata": {
      "needs_background": "light"
     },
     "output_type": "display_data"
    }
   ],
   "source": [
    "label = str(round(reg.intercept_, 2)) + '+' + str(round(reg.coef_[0], 2)) + 'x'\n",
    "plt.scatter(X, y);\n",
    "\n",
    "pred = reg.predict(X)\n",
    "plt.plot(X, pred, color = 'red', label = label)\n",
    "plt.legend()\n",
    "plt.title('col vs fat(R^2 = 45.42%)');"
   ]
  },
  {
   "cell_type": "code",
   "execution_count": 86,
   "metadata": {},
   "outputs": [
    {
     "data": {
      "text/plain": [
       "array([42.57525864])"
      ]
     },
     "execution_count": 86,
     "metadata": {},
     "output_type": "execute_result"
    }
   ],
   "source": [
    "new = [[120]]\n",
    "reg.predict(new)"
   ]
  },
  {
   "cell_type": "markdown",
   "metadata": {},
   "source": [
    "## 다중 선형 회귀분석\n",
    "- BDA2021-2"
   ]
  },
  {
   "cell_type": "markdown",
   "metadata": {},
   "source": [
    "## 로지스틱 회귀분석\n",
    "- BDA2021-2"
   ]
  },
  {
   "cell_type": "markdown",
   "metadata": {},
   "source": [
    "# 교차 분석(chi square)\n",
    "- 명목 + 명목"
   ]
  },
  {
   "cell_type": "markdown",
   "metadata": {},
   "source": [
    "## 동질성 검정\n",
    "- 집단간 분포의 동질성(Homogeneity of proportions)을 통해 두 집단간 차이를 검정\n",
    "- 사전실험설계\n",
    "- 코호트 연구: 상대적 위험율(RR, Relative Risk)"
   ]
  },
  {
   "cell_type": "code",
   "execution_count": 22,
   "metadata": {
    "scrolled": true
   },
   "outputs": [
    {
     "data": {
      "text/html": [
       "<div>\n",
       "<style scoped>\n",
       "    .dataframe tbody tr th:only-of-type {\n",
       "        vertical-align: middle;\n",
       "    }\n",
       "\n",
       "    .dataframe tbody tr th {\n",
       "        vertical-align: top;\n",
       "    }\n",
       "\n",
       "    .dataframe thead th {\n",
       "        text-align: right;\n",
       "    }\n",
       "</style>\n",
       "<table border=\"1\" class=\"dataframe\">\n",
       "  <thead>\n",
       "    <tr style=\"text-align: right;\">\n",
       "      <th></th>\n",
       "      <th>group</th>\n",
       "      <th>cold</th>\n",
       "    </tr>\n",
       "  </thead>\n",
       "  <tbody>\n",
       "    <tr>\n",
       "      <th>0</th>\n",
       "      <td>1</td>\n",
       "      <td>1</td>\n",
       "    </tr>\n",
       "    <tr>\n",
       "      <th>1</th>\n",
       "      <td>1</td>\n",
       "      <td>1</td>\n",
       "    </tr>\n",
       "    <tr>\n",
       "      <th>2</th>\n",
       "      <td>1</td>\n",
       "      <td>1</td>\n",
       "    </tr>\n",
       "    <tr>\n",
       "      <th>3</th>\n",
       "      <td>1</td>\n",
       "      <td>1</td>\n",
       "    </tr>\n",
       "    <tr>\n",
       "      <th>4</th>\n",
       "      <td>1</td>\n",
       "      <td>1</td>\n",
       "    </tr>\n",
       "  </tbody>\n",
       "</table>\n",
       "</div>"
      ],
      "text/plain": [
       "   group  cold\n",
       "0      1     1\n",
       "1      1     1\n",
       "2      1     1\n",
       "3      1     1\n",
       "4      1     1"
      ]
     },
     "execution_count": 22,
     "metadata": {},
     "output_type": "execute_result"
    }
   ],
   "source": [
    "df = pd.read_csv('C:/Users/user/Desktop/stats_data/Ch12.교차분석(chi square)/Ch1201.사전설계교차분석.csv', encoding = 'cp949')\n",
    "df.head()"
   ]
  },
  {
   "cell_type": "code",
   "execution_count": 27,
   "metadata": {},
   "outputs": [
    {
     "data": {
      "text/html": [
       "<div>\n",
       "<style scoped>\n",
       "    .dataframe tbody tr th:only-of-type {\n",
       "        vertical-align: middle;\n",
       "    }\n",
       "\n",
       "    .dataframe tbody tr th {\n",
       "        vertical-align: top;\n",
       "    }\n",
       "\n",
       "    .dataframe thead th {\n",
       "        text-align: right;\n",
       "    }\n",
       "</style>\n",
       "<table border=\"1\" class=\"dataframe\">\n",
       "  <thead>\n",
       "    <tr style=\"text-align: right;\">\n",
       "      <th>cold</th>\n",
       "      <th>1</th>\n",
       "      <th>2</th>\n",
       "    </tr>\n",
       "    <tr>\n",
       "      <th>group</th>\n",
       "      <th></th>\n",
       "      <th></th>\n",
       "    </tr>\n",
       "  </thead>\n",
       "  <tbody>\n",
       "    <tr>\n",
       "      <th>1</th>\n",
       "      <td>33</td>\n",
       "      <td>17</td>\n",
       "    </tr>\n",
       "    <tr>\n",
       "      <th>2</th>\n",
       "      <td>12</td>\n",
       "      <td>38</td>\n",
       "    </tr>\n",
       "  </tbody>\n",
       "</table>\n",
       "</div>"
      ],
      "text/plain": [
       "cold    1   2\n",
       "group        \n",
       "1      33  17\n",
       "2      12  38"
      ]
     },
     "execution_count": 27,
     "metadata": {},
     "output_type": "execute_result"
    }
   ],
   "source": [
    "df2 = pd.crosstab(df.group, df.cold)\n",
    "df2"
   ]
  },
  {
   "cell_type": "code",
   "execution_count": 35,
   "metadata": {
    "scrolled": true
   },
   "outputs": [
    {
     "data": {
      "text/plain": [
       "(16.161616161616163,\n",
       " 5.8160786416504276e-05,\n",
       " 1,\n",
       " array([[22.5, 27.5],\n",
       "        [22.5, 27.5]]))"
      ]
     },
     "execution_count": 35,
     "metadata": {},
     "output_type": "execute_result"
    }
   ],
   "source": [
    "# 교차분석 - 연속성을 위한 교정(vates's 연속성 교정 - 이항분포로 계싼한 정확한 확률에 더욱 근사하게 됨)\n",
    "\n",
    "chi = stats.chi2_contingency(observed = df2)\n",
    "chi"
   ]
  },
  {
   "cell_type": "code",
   "execution_count": 29,
   "metadata": {},
   "outputs": [
    {
     "data": {
      "text/plain": [
       "(17.81818181818182,\n",
       " 2.430496069477897e-05,\n",
       " 1,\n",
       " array([[22.5, 27.5],\n",
       "        [22.5, 27.5]]))"
      ]
     },
     "execution_count": 29,
     "metadata": {},
     "output_type": "execute_result"
    }
   ],
   "source": [
    "# 교차분석 - 연속성 교정 x \n",
    "chi = stats.chi2_contingency(observed = df2, correction = False)\n",
    "chi"
   ]
  },
  {
   "cell_type": "markdown",
   "metadata": {},
   "source": [
    "- 결과: 카이스퀘어 값. p-value, df(자유도), array(기대치)\n",
    "    - 기대치: (0,0)은 22.5까지 나오면 통계적으로 문제 없다는 의미)\n",
    "- 통계적으로 유의한 차이가 없음(yate's correction 반영 안 한 기준)\n",
    "- 상대 위험율 계산\n",
    "    - 비타민을 복용하면 감기에 안 걸릴 확률이 그렇지 않은 사람에 비해 2.75배 높게 나타남\n",
    "    - 상대위험율 : 33 / 12\n"
   ]
  },
  {
   "cell_type": "markdown",
   "metadata": {},
   "source": [
    "## 독립성 검정\n",
    "- 변수들 간 동립성(independence of variables) 또는 관련성을 건정\n",
    "- 사후사례대조(사후의 결과를 토대로 연구)\n",
    "- 사례 - 대조 연구: 오즈비(odds ratio)"
   ]
  },
  {
   "cell_type": "code",
   "execution_count": 90,
   "metadata": {
    "scrolled": false
   },
   "outputs": [
    {
     "data": {
      "text/html": [
       "<div>\n",
       "<style scoped>\n",
       "    .dataframe tbody tr th:only-of-type {\n",
       "        vertical-align: middle;\n",
       "    }\n",
       "\n",
       "    .dataframe tbody tr th {\n",
       "        vertical-align: top;\n",
       "    }\n",
       "\n",
       "    .dataframe thead th {\n",
       "        text-align: right;\n",
       "    }\n",
       "</style>\n",
       "<table border=\"1\" class=\"dataframe\">\n",
       "  <thead>\n",
       "    <tr style=\"text-align: right;\">\n",
       "      <th></th>\n",
       "      <th>cancer</th>\n",
       "      <th>smoking</th>\n",
       "      <th>count</th>\n",
       "    </tr>\n",
       "  </thead>\n",
       "  <tbody>\n",
       "    <tr>\n",
       "      <th>0</th>\n",
       "      <td>1</td>\n",
       "      <td>1</td>\n",
       "      <td>170867</td>\n",
       "    </tr>\n",
       "    <tr>\n",
       "      <th>1</th>\n",
       "      <td>1</td>\n",
       "      <td>2</td>\n",
       "      <td>51690</td>\n",
       "    </tr>\n",
       "    <tr>\n",
       "      <th>2</th>\n",
       "      <td>1</td>\n",
       "      <td>3</td>\n",
       "      <td>46598</td>\n",
       "    </tr>\n",
       "    <tr>\n",
       "      <th>3</th>\n",
       "      <td>1</td>\n",
       "      <td>4</td>\n",
       "      <td>29178</td>\n",
       "    </tr>\n",
       "    <tr>\n",
       "      <th>4</th>\n",
       "      <td>1</td>\n",
       "      <td>5</td>\n",
       "      <td>27784</td>\n",
       "    </tr>\n",
       "    <tr>\n",
       "      <th>5</th>\n",
       "      <td>2</td>\n",
       "      <td>1</td>\n",
       "      <td>723</td>\n",
       "    </tr>\n",
       "    <tr>\n",
       "      <th>6</th>\n",
       "      <td>2</td>\n",
       "      <td>2</td>\n",
       "      <td>370</td>\n",
       "    </tr>\n",
       "    <tr>\n",
       "      <th>7</th>\n",
       "      <td>2</td>\n",
       "      <td>3</td>\n",
       "      <td>497</td>\n",
       "    </tr>\n",
       "    <tr>\n",
       "      <th>8</th>\n",
       "      <td>2</td>\n",
       "      <td>4</td>\n",
       "      <td>319</td>\n",
       "    </tr>\n",
       "    <tr>\n",
       "      <th>9</th>\n",
       "      <td>2</td>\n",
       "      <td>5</td>\n",
       "      <td>504</td>\n",
       "    </tr>\n",
       "  </tbody>\n",
       "</table>\n",
       "</div>"
      ],
      "text/plain": [
       "   cancer  smoking   count\n",
       "0       1        1  170867\n",
       "1       1        2   51690\n",
       "2       1        3   46598\n",
       "3       1        4   29178\n",
       "4       1        5   27784\n",
       "5       2        1     723\n",
       "6       2        2     370\n",
       "7       2        3     497\n",
       "8       2        4     319\n",
       "9       2        5     504"
      ]
     },
     "execution_count": 90,
     "metadata": {},
     "output_type": "execute_result"
    }
   ],
   "source": [
    "df = pd.read_csv('C:/Users/user/Desktop/stats_data/Ch12.교차분석(chi square)/Ch1202.사후설계교차분석(PostCH).csv', encoding = 'cp949')\n",
    "df"
   ]
  },
  {
   "cell_type": "code",
   "execution_count": 91,
   "metadata": {},
   "outputs": [
    {
     "data": {
      "text/html": [
       "<div>\n",
       "<style scoped>\n",
       "    .dataframe tbody tr th:only-of-type {\n",
       "        vertical-align: middle;\n",
       "    }\n",
       "\n",
       "    .dataframe tbody tr th {\n",
       "        vertical-align: top;\n",
       "    }\n",
       "\n",
       "    .dataframe thead th {\n",
       "        text-align: right;\n",
       "    }\n",
       "</style>\n",
       "<table border=\"1\" class=\"dataframe\">\n",
       "  <thead>\n",
       "    <tr style=\"text-align: right;\">\n",
       "      <th></th>\n",
       "      <th>비흡연군</th>\n",
       "      <th>장기흡연군</th>\n",
       "      <th>단기흡연군</th>\n",
       "      <th>재흡연군</th>\n",
       "      <th>흡연군</th>\n",
       "    </tr>\n",
       "  </thead>\n",
       "  <tbody>\n",
       "    <tr>\n",
       "      <th>폐암 무</th>\n",
       "      <td>170867</td>\n",
       "      <td>51690</td>\n",
       "      <td>46598</td>\n",
       "      <td>29178</td>\n",
       "      <td>27784</td>\n",
       "    </tr>\n",
       "    <tr>\n",
       "      <th>폐암 유</th>\n",
       "      <td>723</td>\n",
       "      <td>370</td>\n",
       "      <td>497</td>\n",
       "      <td>319</td>\n",
       "      <td>504</td>\n",
       "    </tr>\n",
       "  </tbody>\n",
       "</table>\n",
       "</div>"
      ],
      "text/plain": [
       "        비흡연군  장기흡연군  단기흡연군   재흡연군    흡연군\n",
       "폐암 무  170867  51690  46598  29178  27784\n",
       "폐암 유     723    370    497    319    504"
      ]
     },
     "execution_count": 91,
     "metadata": {},
     "output_type": "execute_result"
    }
   ],
   "source": [
    "df2 = pd.pivot_table(df, index = 'cancer', columns = 'smoking', values = 'count')\n",
    "df2.columns = ['비흡연군', '장기흡연군', '단기흡연군', '재흡연군', '흡연군']\n",
    "df2.index = ['폐암 무', '폐암 유']\n",
    "df2"
   ]
  },
  {
   "cell_type": "code",
   "execution_count": null,
   "metadata": {},
   "outputs": [],
   "source": [
    "# 임시\n"
   ]
  },
  {
   "cell_type": "code",
   "execution_count": 86,
   "metadata": {},
   "outputs": [
    {
     "data": {
      "text/plain": [
       "(771.8353549032144,\n",
       " 9.676109758345301e-166,\n",
       " 4,\n",
       " array([[170329.69905336,  51677.62767479,  46749.09480108,\n",
       "          29280.34928013,  28080.22919064],\n",
       "        [  1260.30094664,    382.37232521,    345.90519892,\n",
       "            216.65071987,    207.77080936]]))"
      ]
     },
     "execution_count": 86,
     "metadata": {},
     "output_type": "execute_result"
    }
   ],
   "source": [
    "# 카이제곱 \n",
    "stats.chi2_contingency(observed = df2, correction = False)"
   ]
  },
  {
   "cell_type": "markdown",
   "metadata": {},
   "source": [
    "- 결과: 카이스퀘어 값. p-value, df(자유도), array(기대치)\n",
    "    - 기대치: (0,0)은 170329.7까지 나오면 통계적으로 문제 없다는 의미)\n",
    "- 통계적으로 유의한 차이가 있음(yate's correction 반영 안 한 기준)\n",
    "- 오즈비(odds ratio) 계산\n",
    "    - 흡연을 하면 폐암에 걸릴 확률이 몇 배나 높아질 것인가?\n",
    "        - 흡연군의 폐암(유)비 = 502/27784 = 0.018\n",
    "        - 비흡연군의 폐암(유)비 = 723 / 170867 = 0.004\n",
    "        - 비흡연폐암(유)비 대비 흡연폐얌(유)비 = 0.018~ / 0.004~ = 4.27\n",
    "        - 결론 = 흡연을 하면 폐암에 걸릴 확률이 비흡연자들의 폐암에 걸릴 확률보다 4.27배 높음\n"
   ]
  },
  {
   "cell_type": "code",
   "execution_count": 96,
   "metadata": {},
   "outputs": [
    {
     "data": {
      "text/plain": [
       "(0.0180679527785776, 0.004231361234176289, 4.270009526164895)"
      ]
     },
     "execution_count": 96,
     "metadata": {},
     "output_type": "execute_result"
    }
   ],
   "source": [
    "a = 502 / 27784\n",
    "b = 723 / 170867\n",
    "a, b, a/b"
   ]
  },
  {
   "cell_type": "markdown",
   "metadata": {},
   "source": [
    "-------\n",
    "-------"
   ]
  },
  {
   "cell_type": "code",
   "execution_count": null,
   "metadata": {},
   "outputs": [],
   "source": []
  }
 ],
 "metadata": {
  "kernelspec": {
   "display_name": "Python 3",
   "language": "python",
   "name": "python3"
  },
  "language_info": {
   "codemirror_mode": {
    "name": "ipython",
    "version": 3
   },
   "file_extension": ".py",
   "mimetype": "text/x-python",
   "name": "python",
   "nbconvert_exporter": "python",
   "pygments_lexer": "ipython3",
   "version": "3.8.8"
  },
  "toc": {
   "base_numbering": 1,
   "nav_menu": {},
   "number_sections": true,
   "sideBar": true,
   "skip_h1_title": false,
   "title_cell": "Table of Contents",
   "title_sidebar": "Contents",
   "toc_cell": false,
   "toc_position": {
    "height": "calc(100% - 180px)",
    "left": "10px",
    "top": "150px",
    "width": "173.182px"
   },
   "toc_section_display": true,
   "toc_window_display": true
  }
 },
 "nbformat": 4,
 "nbformat_minor": 4
}
