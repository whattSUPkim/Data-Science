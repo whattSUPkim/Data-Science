{
 "cells": [
  {
   "cell_type": "markdown",
   "id": "7d5ef4cf",
   "metadata": {},
   "source": [
    "# 지도 학습"
   ]
  },
  {
   "cell_type": "markdown",
   "id": "6f0e82c4",
   "metadata": {},
   "source": [
    "## 지도 학습\n",
    "- 모형(model)\n",
    "    - 데이터에 나타나는 특성들과 타켓 사이의 관계를 표현하는 수학적 구조\n",
    "    - 모수(parameter): 데이터를 사용하여 추정(계산)하는 파라미터\n",
    "    - 초모수(hyperparameter): 추정 모수 이외에 분석자가 지정하거나, 최적값을 찾아 주어야 하는 다른 모든 모수\n",
    "- 학습: 데이터를 사용하여 모형에 포함된 조정 가능한 모수의 값을 추정하는 과정"
   ]
  },
  {
   "cell_type": "markdown",
   "id": "245d6d21",
   "metadata": {},
   "source": [
    "## 지도 학습에서의 데이터 분할(partition)\n",
    "- 학습(훈련)은 일반화를 목적으로 하므로 훈려에 사용되는 데이터와 모형 평가에 사용되는 데이터로 나눠야 함\n",
    "- 데이터의 분할\n",
    "    - **훈련 데이터(training data): 모델 구축용 데이터**\n",
    "        - 훈련 오차를 최소로 하도록 모형의 모수(parameter) 추정\n",
    "    - 검증 데이터(validation data): 모델 검증용 데이터\n",
    "        - 모형의 초모수(hyperparameter)를 추정(훈련 데이터를 검증 데이터에 재사용)\n",
    "    - **테스트 데이터(test data): 평가용 데이터**\n",
    "        - 훈련 데이터와 독립적으로 따로 떼어놓은(hold-out) 데이터\n",
    "        - 훈련되고 튜닝된 모형을 적용하여 평가할 대상 데이터\n",
    "    "
   ]
  },
  {
   "cell_type": "markdown",
   "id": "f73551d5",
   "metadata": {},
   "source": [
    "## 과대적합 vs 과소적합\n",
    "- 훈련 데이터 과대 적합(overfitting): 고분산(high-variance) 문제\n",
    "    - 모형이 데이터의 패턴을 너무 과도하게 반영한 것\n",
    "    - 훈련 데이터에 대한 성능은 좋지만 샘플에서의 일반화 성능이 나빠짐\n",
    "- 훈련 데이터 과소 적합(underfitting): 고편향(high-bias) 문제\n",
    "    - 모형이 너무 단순한 것\n",
    "- trade-off 관계\n",
    "    - 저편향과 저분산을 동시에 지향하지만, 이 둘은 상충관계임\n",
    "    "
   ]
  },
  {
   "cell_type": "markdown",
   "id": "82ff0850",
   "metadata": {},
   "source": [
    "## 지도학습의 전형적 단계\n",
    "1. 데이터 읽기(적재)\n",
    "2. 데이터 전처리 및 준비: 데이터 특성 추출, 데이터 분할 등\n",
    "3. 훈련용 데이터로 다수의 모델 훈련시키기(모형의 모수 추정)\n",
    "    - 가능성 있는 몇 개의 모형 선정\n",
    "4. 검증 데이터를 사용하여 모델 튜닝(하이퍼파라미터 추정)\n",
    "5. 테스트 데이터로 베스트 모델 평가\n",
    "6. 모델 디플로이(deploy): 의사결정에 모델 활용"
   ]
  },
  {
   "cell_type": "markdown",
   "id": "00bd507b",
   "metadata": {},
   "source": [
    "## 사이킷런 API 사용 단계(복습)\n",
    "- API 사용 단계\n",
    "    1. 필요한 사이킷런 추정기 클래스를 임포트\n",
    "    2. 모델 클래스를 인스턴스화(모델의 하이퍼파라미터(초모수 지정)\n",
    "    3. 데이터를 특징 행렬(X)과 타겟(y)으로 배치\n",
    "    4. 모델 인스턴스의 fit() 메서드로 모델을 학습(fitting, training, learning)\n",
    "    5. score() 메서드를 사용하여 모형의 성능(정확도) 평가\n",
    "    "
   ]
  },
  {
   "cell_type": "markdown",
   "id": "3e42fc92",
   "metadata": {},
   "source": [
    "# 분류"
   ]
  },
  {
   "cell_type": "markdown",
   "id": "43ecf793",
   "metadata": {},
   "source": [
    "## 분류의 종류\n",
    "- 이진(binary) 분류 vs 다진(multi-class) 분류\n",
    "- 이진 분류의 클래스 레이블\n",
    "    - 긍정 클래스: 상대적으로 더 유의미한 범주(ex. 악성종양, 스팸메일), 보통 1로 표시\n",
    "    - 부정 클래스: 보통 0 혹은 -1로 표시\n"
   ]
  },
  {
   "cell_type": "markdown",
   "id": "25aaf6fe",
   "metadata": {},
   "source": [
    "## 대표적 분류 알고리즘\n",
    "- 로지스틱 회귀\n",
    "- SVM\n",
    "- 결정트리\n",
    "- K-최근접 이웃: 게으른 분류기"
   ]
  },
  {
   "cell_type": "markdown",
   "id": "e9d5b253",
   "metadata": {},
   "source": [
    "## 분류의 성능평가 측도\n",
    "- 이진 분류 정오분류표(confusion matrix)\n",
    "![그림](https://miro.medium.com/max/625/1*fxiTNIgOyvAombPJx5KGeA.png)"
   ]
  },
  {
   "cell_type": "markdown",
   "id": "84948ff6",
   "metadata": {},
   "source": [
    "- 정분류율(정확도, accuracy) vs 오분류율(error)\n",
    "    - accuracy = $\\frac{TP + TN}{TP+FN+FP+TN}$\n",
    "        - +를 +로 맞추고, -를 -로 맞춘 것\n",
    "    - error = 1 - accuracy\n",
    "- 정밀도(precision)\n",
    "    - 결과의 질(quality)를 측정\n",
    "    - precision = $\\frac{TP}{TP+FP}$ = $\\frac{실제 양성}{양성이라고 판정나온 사람}$\n",
    "- 재현율(recall)\n",
    "    - 결과의 완벽성(completeness) 측도\n",
    "    - recall = $\\frac{TP}{TP+FN}$ = $\\frac{실제 양성}{맞춘 값}$\n",
    "- F-측도(F-measure)\n",
    "    - 정밀도와 재현율은 서로 trade-off 관계\n",
    "    - 두 측도를 통합(정밀도와 재현율의 조화평균)\n",
    "        - F-measure = $2 \\frac{precision * recall}{precision + recall}$  "
   ]
  },
  {
   "cell_type": "code",
   "execution_count": null,
   "id": "0ab035e8",
   "metadata": {},
   "outputs": [],
   "source": []
  }
 ],
 "metadata": {
  "kernelspec": {
   "display_name": "Python 3",
   "language": "python",
   "name": "python3"
  },
  "language_info": {
   "codemirror_mode": {
    "name": "ipython",
    "version": 3
   },
   "file_extension": ".py",
   "mimetype": "text/x-python",
   "name": "python",
   "nbconvert_exporter": "python",
   "pygments_lexer": "ipython3",
   "version": "3.8.8"
  },
  "toc": {
   "base_numbering": 1,
   "nav_menu": {},
   "number_sections": true,
   "sideBar": true,
   "skip_h1_title": false,
   "title_cell": "Table of Contents",
   "title_sidebar": "Contents",
   "toc_cell": false,
   "toc_position": {},
   "toc_section_display": true,
   "toc_window_display": false
  }
 },
 "nbformat": 4,
 "nbformat_minor": 5
}
